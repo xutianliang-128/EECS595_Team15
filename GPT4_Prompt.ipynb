{
  "cells": [
    {
      "cell_type": "code",
      "execution_count": null,
      "id": "50e81a6f-6349-4a04-8f6c-53b2bfaa2a87",
      "metadata": {
        "colab": {
          "base_uri": "https://localhost:8080/",
          "height": 241,
          "referenced_widgets": [
            "ac52dd7ed97e4c4181c6e3f83d6f2536",
            "4e2155022f404e27812b2355e6fd3c10",
            "46ed15ee79e142f78777e26a37201ca4",
            "48b6f4abf2964e74a3b96129a5477bd7",
            "647c08d26cf0463299294119c9ff77b9",
            "4acdf0f8900b4071b7ed0bd41a885e82",
            "c920d8a5f99c4e7ca3ef6012779d0405",
            "41931b1f345345479607ddfe5da4797e",
            "29bf5075bcfb4b809b6cda7a5c360289",
            "cd9f1285efe5499ab5c0c68354434fda",
            "21ef62f5f31c4af883d7b4a871feef37",
            "9ea59ae49a324ae0b0df6725766e938b",
            "c4909a65a5a4406694347eb079af2087",
            "29c0c0217f134e18942f3b77314dd835",
            "2491bab3bb3649d28ba7589033399aa4",
            "a11bfda00bc54044b79a173ea2c01a07",
            "86437c8770e64168b108f28b9bc55192",
            "59e679ba412b4bdcb4172f4e326d1fcf",
            "464b113fdbc4443d839b883c3157a781",
            "783949ab623e4b498e899a66e8d13665",
            "948804d880f54e3bbb8b8eacbf1088a2",
            "a8d94e433ab24c6588bbbe58caa7c942",
            "314acc9431c041e8bf413b046f0423f0",
            "c80f615b0c694d798283cb569730b3c4",
            "b6cd3f58b2304a279625b14f964298af",
            "ffee1d9bd2ea4363a911bf78176446f5",
            "19a225b7d2ad4898afd7376df44d4849",
            "f96fbb24b27b42609e05837629a6ddf4",
            "1d174a44678542b89a38d9ed7d97618e",
            "25294fb9ae08468582cc416a404f5b1f",
            "bb37773a8f1c4d69a89842d55018b5bf",
            "9611bd52827f4b6787d43750c2f04075",
            "7e8f5a02e5e54066965f4d6fb3db6f48",
            "3da0cc54ca8848b68c198fbaa360049e",
            "0428e43e07d74a268600ea4e4df8f0f2",
            "f0579c6b030b40c98b9180b2e7f389ea",
            "56b0da9b177e4aef86a25a4f4179b92e",
            "2ff9f3ebfb924c43ac188ec7ccbd3707",
            "6841782b128248329d80d94cc8bee015",
            "9b8c8e8c65fb44489bf170648c4a8e06",
            "abf75f87617c44d988d0a5500cef9dd5",
            "c9087216dab845a297dd36d69b7ad2d7",
            "e840c87a0a524ef29be25caa380fa631",
            "ada8295e5c8642ed929a66f6b67ea2d0",
            "86b87b8d7dfe44db9d3b1d7bd7727305",
            "379e6b6a8b594341a3085d54f5ca0764",
            "177ed3a0ff5948bf830acf5e17e9666e",
            "53dadb82e41542c6bc87b0a5b51e4f79",
            "bce201888d9740949ba622567ea27bdf",
            "92c9d714adfd4f78abacc7c31287e88b",
            "bad5d1d9cd6945e7bd89615ca956b79e",
            "ce11fa0785bb4781a0945e668bdb1537",
            "3bfcf9cb39d44f55bcd44b1ff8bbe070",
            "70aff55740b241789a3cdf594a9dc6aa",
            "93b32ea7b0c44a4ba9c7bac89401c55d",
            "f02b7e99b59b4699834fc0f1b4f37784",
            "1d24a63a187149a5a01d23b188595acd",
            "edcd5f405a5441bd8ede1b206e47eeb5",
            "75e984eb1c9c440eb7c26eb0890a09a0",
            "55585a314a4c410a8ceb221469972714",
            "66d73cf247f942739c63e9390eef9d92",
            "7806b322401c4e7daeb04b98e1dfb3f4",
            "19a501d0a3d34b9e97b5dde0c9a02bb1",
            "57ada157cc6f4106a4255246f59695e0",
            "97a13977325843b19a296b55da444b4d",
            "43bfd616c2ae4d15a05a39931725f406",
            "22372841611744b6bf7b51e1ad4dbd15",
            "15860851ce7847d98adf640e65b820dc",
            "89fe71de107f4e4f96eabbfbf949592a",
            "7c46f21ced9343229052087b822ef5ea",
            "62ab00a815d64430bf6b979bd812006a",
            "e1f66f7c0c9144a4bb9ff038525a23e7",
            "51537ea7dc4148459b48e50666fc21b2",
            "ce35882bcd5647f6a73327c48f350481",
            "c1a0622ca1004357b8ab9fa42fc96bf3",
            "cb0f197975da4fc5a061320cf48a1f49",
            "c804d6864c8445e39cb1b1bb30e4edc6"
          ]
        },
        "id": "50e81a6f-6349-4a04-8f6c-53b2bfaa2a87",
        "outputId": "5beeb933-2774-4a5b-d10a-eabc643d2e4c"
      },
      "outputs": [
        {
          "data": {
            "application/vnd.jupyter.widget-view+json": {
              "model_id": "ac52dd7ed97e4c4181c6e3f83d6f2536",
              "version_major": 2,
              "version_minor": 0
            },
            "text/plain": [
              "Downloading builder script:   0%|          | 0.00/5.07k [00:00<?, ?B/s]"
            ]
          },
          "metadata": {},
          "output_type": "display_data"
        },
        {
          "data": {
            "application/vnd.jupyter.widget-view+json": {
              "model_id": "9ea59ae49a324ae0b0df6725766e938b",
              "version_major": 2,
              "version_minor": 0
            },
            "text/plain": [
              "Downloading readme:   0%|          | 0.00/5.78k [00:00<?, ?B/s]"
            ]
          },
          "metadata": {},
          "output_type": "display_data"
        },
        {
          "data": {
            "application/vnd.jupyter.widget-view+json": {
              "model_id": "314acc9431c041e8bf413b046f0423f0",
              "version_major": 2,
              "version_minor": 0
            },
            "text/plain": [
              "Downloading data files:   0%|          | 0/2 [00:00<?, ?it/s]"
            ]
          },
          "metadata": {},
          "output_type": "display_data"
        },
        {
          "data": {
            "application/vnd.jupyter.widget-view+json": {
              "model_id": "3da0cc54ca8848b68c198fbaa360049e",
              "version_major": 2,
              "version_minor": 0
            },
            "text/plain": [
              "Downloading data:   0%|          | 0.00/195k [00:00<?, ?B/s]"
            ]
          },
          "metadata": {},
          "output_type": "display_data"
        },
        {
          "data": {
            "application/vnd.jupyter.widget-view+json": {
              "model_id": "86b87b8d7dfe44db9d3b1d7bd7727305",
              "version_major": 2,
              "version_minor": 0
            },
            "text/plain": [
              "Downloading data:   0%|          | 0.00/408M [00:00<?, ?B/s]"
            ]
          },
          "metadata": {},
          "output_type": "display_data"
        },
        {
          "data": {
            "application/vnd.jupyter.widget-view+json": {
              "model_id": "f02b7e99b59b4699834fc0f1b4f37784",
              "version_major": 2,
              "version_minor": 0
            },
            "text/plain": [
              "Extracting data files:   0%|          | 0/2 [00:00<?, ?it/s]"
            ]
          },
          "metadata": {},
          "output_type": "display_data"
        },
        {
          "data": {
            "application/vnd.jupyter.widget-view+json": {
              "model_id": "22372841611744b6bf7b51e1ad4dbd15",
              "version_major": 2,
              "version_minor": 0
            },
            "text/plain": [
              "Generating ActionEffect split: 0 examples [00:00, ? examples/s]"
            ]
          },
          "metadata": {},
          "output_type": "display_data"
        }
      ],
      "source": [
        "from datasets import load_dataset\n",
        "dataset = load_dataset(\"sled-umich/Action-Effect\")"
      ]
    },
    {
      "cell_type": "code",
      "execution_count": null,
      "id": "q_pi5TyriVkb",
      "metadata": {
        "colab": {
          "base_uri": "https://localhost:8080/"
        },
        "id": "q_pi5TyriVkb",
        "outputId": "e7a29e78-b66c-4ead-e287-d9f8a76f5a36"
      },
      "outputs": [
        {
          "name": "stdout",
          "output_type": "stream",
          "text": [
            "Collecting datasets\n",
            "  Downloading datasets-2.15.0-py3-none-any.whl (521 kB)\n",
            "\u001b[?25l     \u001b[90m━━━━━━━━━━━━━━━━━━━━━━━━━━━━━━━━━━━━━━━━\u001b[0m \u001b[32m0.0/521.2 kB\u001b[0m \u001b[31m?\u001b[0m eta \u001b[36m-:--:--\u001b[0m\r\u001b[2K     \u001b[91m━━━━━━━━━\u001b[0m\u001b[90m╺\u001b[0m\u001b[90m━━━━━━━━━━━━━━━━━━━━━━━━━━━━━━\u001b[0m \u001b[32m122.9/521.2 kB\u001b[0m \u001b[31m3.6 MB/s\u001b[0m eta \u001b[36m0:00:01\u001b[0m\r\u001b[2K     \u001b[90m━━━━━━━━━━━━━━━━━━━━━━━━━━━━━━━━━━━━━━━━\u001b[0m \u001b[32m521.2/521.2 kB\u001b[0m \u001b[31m8.7 MB/s\u001b[0m eta \u001b[36m0:00:00\u001b[0m\n",
            "\u001b[?25hRequirement already satisfied: numpy>=1.17 in /usr/local/lib/python3.10/dist-packages (from datasets) (1.23.5)\n",
            "Requirement already satisfied: pyarrow>=8.0.0 in /usr/local/lib/python3.10/dist-packages (from datasets) (9.0.0)\n",
            "Collecting pyarrow-hotfix (from datasets)\n",
            "  Downloading pyarrow_hotfix-0.6-py3-none-any.whl (7.9 kB)\n",
            "Collecting dill<0.3.8,>=0.3.0 (from datasets)\n",
            "  Downloading dill-0.3.7-py3-none-any.whl (115 kB)\n",
            "\u001b[2K     \u001b[90m━━━━━━━━━━━━━━━━━━━━━━━━━━━━━━━━━━━━━━━━\u001b[0m \u001b[32m115.3/115.3 kB\u001b[0m \u001b[31m16.7 MB/s\u001b[0m eta \u001b[36m0:00:00\u001b[0m\n",
            "\u001b[?25hRequirement already satisfied: pandas in /usr/local/lib/python3.10/dist-packages (from datasets) (1.5.3)\n",
            "Requirement already satisfied: requests>=2.19.0 in /usr/local/lib/python3.10/dist-packages (from datasets) (2.31.0)\n",
            "Requirement already satisfied: tqdm>=4.62.1 in /usr/local/lib/python3.10/dist-packages (from datasets) (4.66.1)\n",
            "Requirement already satisfied: xxhash in /usr/local/lib/python3.10/dist-packages (from datasets) (3.4.1)\n",
            "Collecting multiprocess (from datasets)\n",
            "  Downloading multiprocess-0.70.15-py310-none-any.whl (134 kB)\n",
            "\u001b[2K     \u001b[90m━━━━━━━━━━━━━━━━━━━━━━━━━━━━━━━━━━━━━━━━\u001b[0m \u001b[32m134.8/134.8 kB\u001b[0m \u001b[31m20.1 MB/s\u001b[0m eta \u001b[36m0:00:00\u001b[0m\n",
            "\u001b[?25hRequirement already satisfied: fsspec[http]<=2023.10.0,>=2023.1.0 in /usr/local/lib/python3.10/dist-packages (from datasets) (2023.6.0)\n",
            "Requirement already satisfied: aiohttp in /usr/local/lib/python3.10/dist-packages (from datasets) (3.8.6)\n",
            "Requirement already satisfied: huggingface-hub>=0.18.0 in /usr/local/lib/python3.10/dist-packages (from datasets) (0.19.4)\n",
            "Requirement already satisfied: packaging in /usr/local/lib/python3.10/dist-packages (from datasets) (23.2)\n",
            "Requirement already satisfied: pyyaml>=5.1 in /usr/local/lib/python3.10/dist-packages (from datasets) (6.0.1)\n",
            "Requirement already satisfied: attrs>=17.3.0 in /usr/local/lib/python3.10/dist-packages (from aiohttp->datasets) (23.1.0)\n",
            "Requirement already satisfied: charset-normalizer<4.0,>=2.0 in /usr/local/lib/python3.10/dist-packages (from aiohttp->datasets) (3.3.2)\n",
            "Requirement already satisfied: multidict<7.0,>=4.5 in /usr/local/lib/python3.10/dist-packages (from aiohttp->datasets) (6.0.4)\n",
            "Requirement already satisfied: async-timeout<5.0,>=4.0.0a3 in /usr/local/lib/python3.10/dist-packages (from aiohttp->datasets) (4.0.3)\n",
            "Requirement already satisfied: yarl<2.0,>=1.0 in /usr/local/lib/python3.10/dist-packages (from aiohttp->datasets) (1.9.2)\n",
            "Requirement already satisfied: frozenlist>=1.1.1 in /usr/local/lib/python3.10/dist-packages (from aiohttp->datasets) (1.4.0)\n",
            "Requirement already satisfied: aiosignal>=1.1.2 in /usr/local/lib/python3.10/dist-packages (from aiohttp->datasets) (1.3.1)\n",
            "Requirement already satisfied: filelock in /usr/local/lib/python3.10/dist-packages (from huggingface-hub>=0.18.0->datasets) (3.13.1)\n",
            "Requirement already satisfied: typing-extensions>=3.7.4.3 in /usr/local/lib/python3.10/dist-packages (from huggingface-hub>=0.18.0->datasets) (4.5.0)\n",
            "Requirement already satisfied: idna<4,>=2.5 in /usr/local/lib/python3.10/dist-packages (from requests>=2.19.0->datasets) (3.4)\n",
            "Requirement already satisfied: urllib3<3,>=1.21.1 in /usr/local/lib/python3.10/dist-packages (from requests>=2.19.0->datasets) (2.0.7)\n",
            "Requirement already satisfied: certifi>=2017.4.17 in /usr/local/lib/python3.10/dist-packages (from requests>=2.19.0->datasets) (2023.7.22)\n",
            "Requirement already satisfied: python-dateutil>=2.8.1 in /usr/local/lib/python3.10/dist-packages (from pandas->datasets) (2.8.2)\n",
            "Requirement already satisfied: pytz>=2020.1 in /usr/local/lib/python3.10/dist-packages (from pandas->datasets) (2023.3.post1)\n",
            "Requirement already satisfied: six>=1.5 in /usr/local/lib/python3.10/dist-packages (from python-dateutil>=2.8.1->pandas->datasets) (1.16.0)\n",
            "Installing collected packages: pyarrow-hotfix, dill, multiprocess, datasets\n",
            "Successfully installed datasets-2.15.0 dill-0.3.7 multiprocess-0.70.15 pyarrow-hotfix-0.6\n"
          ]
        }
      ],
      "source": [
        "pip install datasets"
      ]
    },
    {
      "cell_type": "code",
      "execution_count": null,
      "id": "17076ed9-e3eb-4d56-8118-0ce1e245e266",
      "metadata": {
        "id": "17076ed9-e3eb-4d56-8118-0ce1e245e266"
      },
      "outputs": [],
      "source": [
        "import random\n",
        "import base64\n",
        "import requests\n",
        "from PIL import Image\n",
        "from io import BytesIO\n",
        "import re\n",
        "import numpy as np\n",
        "import torch\n",
        "import os\n",
        "import json"
      ]
    },
    {
      "cell_type": "code",
      "execution_count": null,
      "id": "15e6bc7f-cf98-4c5a-9c36-fe4381260163",
      "metadata": {
        "id": "15e6bc7f-cf98-4c5a-9c36-fe4381260163"
      },
      "outputs": [],
      "source": [
        "def seed_everything(seed_value):\n",
        "    random.seed(seed_value)\n",
        "    np.random.seed(seed_value)\n",
        "    torch.manual_seed(seed_value)\n",
        "    os.environ['PYTHONHASHSEED'] = str(seed_value)\n",
        "\n",
        "    if torch.cuda.is_available():\n",
        "        torch.cuda.manual_seed(seed_value)\n",
        "        torch.cuda.manual_seed_all(seed_value)\n",
        "        torch.backends.cudnn.deterministic = True\n",
        "        torch.backends.cudnn.benchmark = True\n",
        "\n",
        "seed_everything(595)"
      ]
    },
    {
      "cell_type": "code",
      "execution_count": null,
      "id": "c53ad8ac-8b54-477e-922d-58f5071e51ef",
      "metadata": {
        "id": "c53ad8ac-8b54-477e-922d-58f5071e51ef"
      },
      "outputs": [],
      "source": [
        "positive_images = dataset['ActionEffect']['positive_image_list']\n",
        "verb_noun = dataset['ActionEffect']['verb noun']\n",
        "all_images = []\n",
        "\n",
        "for i in range(len(positive_images)):\n",
        "    label = verb_noun[i]\n",
        "    for image in positive_images[i]:\n",
        "        all_images.append((label, image))\n",
        "\n",
        "all_images = random.sample(all_images, 20)"
      ]
    },
    {
      "cell_type": "code",
      "execution_count": null,
      "id": "4e0cc409-96e3-4b09-aad9-d802141e409a",
      "metadata": {
        "id": "4e0cc409-96e3-4b09-aad9-d802141e409a",
        "tags": []
      },
      "outputs": [],
      "source": [
        "### One Shot Prompt\n",
        "def get_openai_responses_few_shots(api_key, initial_image_files, image_files):\n",
        "\n",
        "    initial_image_data_list = []\n",
        "\n",
        "    for image_file in initial_image_files:\n",
        "        buffer = BytesIO()\n",
        "        image_file.save(buffer, format=\"JPEG\")\n",
        "        image_data = buffer.getvalue()\n",
        "        base64_image = base64.b64encode(image_data).decode('utf-8')\n",
        "        initial_image_data_list.append({\n",
        "            \"type\": \"image_url\",\n",
        "            \"image_url\": {\n",
        "                \"url\": f\"data:image/jpeg;base64,{base64_image}\"\n",
        "            }\n",
        "        })\n",
        "\n",
        "    image_data_list = []\n",
        "\n",
        "    for image_file in image_files:\n",
        "        buffer = BytesIO()\n",
        "        image_file.save(buffer, format=\"JPEG\")\n",
        "        image_data = buffer.getvalue()\n",
        "        base64_image = base64.b64encode(image_data).decode('utf-8')\n",
        "        image_data_list.append({\n",
        "            \"type\": \"image_url\",\n",
        "            \"image_url\": {\n",
        "                \"url\": f\"data:image/jpeg;base64,{base64_image}\"\n",
        "            }\n",
        "        })\n",
        "\n",
        "    all_image_data_list = initial_image_data_list + image_data_list\n",
        "\n",
        "    headers = {\n",
        "        \"Content-Type\": \"application/json\",\n",
        "        \"Authorization\": f\"Bearer {api_key}\"\n",
        "    }\n",
        "\n",
        "    # Prepare the payload for the request with multiple images\n",
        "    payload = {\n",
        "        \"model\": \"gpt-4-vision-preview\",  # Update this model name as per the latest API\n",
        "        \"messages\": [\n",
        "            {\n",
        "                \"role\": \"user\",\n",
        "                \"content\": [\n",
        "                    {\n",
        "                        \"type\": \"text\",\n",
        "                        \"text\":  \"\"\" We are conducting an exercise to test the ability of an AI model to predict verb-noun pairs that describe the physical actions depicted in a series of images.\\\n",
        "                         We will upload a total of 11 images. \\\n",
        "                         The first image is training example and the answer is :\\\n",
        "                          [Shows an image of pitching a baseball] -> Correct Answer: 'pitch baseball'\\\n",
        "                        Your tasks should satisfy the following 3 conditions\":\n",
        "                        1.For the next 10 images, the task is to identify verb-noun pairs that best describe the actions taking place in each image. \\\n",
        "                        2.The model should generate 20 possible verb-noun pairs from the given list for each of the next 10 images, resulting in a total of 200 pairs.\\\n",
        "                        3.10 possible verb-noun pairs for each image shoule be different. \\\n",
        "                        Each pair should be formatted like 'arrange chairs', and separated by a comma and without including line breaks and in the below format:\\\n",
        "                         Image 1: bind hair, twist hair, label box, arrange flowers, arrange chairs, tie shoe, trim hair, carry bag, break glass, shave hair\\\n",
        "                         Image 2: like Image 1\n",
        "                         ...\n",
        "                         Image 10: like Image 1\n",
        "                        4.The possible answers for the verb noun pairs are in this list: ['arrange chairs,arrange flowers,bake potato,beat eggs,\\\n",
        "                        bend knee,bend tree,bind hair,bite apple,block door,block window,boil egg,boil potato,break bowl,break cup,break door,break egg,break glass,\\\n",
        "                        break window,burn book,burn paper,burn tree,burn wood,burst balloon,burst door,carry bag,carry book,carry umbrella,chop carrot,chop meat,\\\n",
        "                        chop onion,chop tree,chop wood,close book,close cabinet,close door,close drawer,close window,coil rope,cook egg,cook meat,cook onion,\\\n",
        "                        cook potato,crack bottle,crack egg,crack glass,crack window,crash car,crop hair,cut apple,cut meat,cut onion,cut potato,cut tree,cut wood,\\\n",
        "                        fasten door,fasten window,fold paper,fry egg,fry meat,fry potato,grate carrot,grate potato,grind meat,hang bag,hang shirt,ignite paper,\\\n",
        "                        ignite wood,insert key,kick door,kick football,knot rope,label bottle,label box,lock cabinet,lock door,lock drawer,lock window,mash potato,\\\n",
        "                        mix eggs,open bottle,open box,open cabinet,open door,open drawer,open umbrella,open window,park car,peel apple,peel banana,peel carrot,\\\n",
        "                        peel orange,peel potato,pile books,pile boxes,pile wood,pitch baseball,ride bicycle,rip paper,roll paper,roll umbrella,saw tree,saw wood,\\\n",
        "                        scratch car,scratch knee,shave hair,shut door,shut window,skin knee,slice apple,slice meat,slice onion,slice potato,smash door,smash window,\\\n",
        "                        soak shirt,soak hair,spill coffee,split tree,split wood,squeeze orange,squeeze bottle,stain paper,stain shirt,stir coffee,stir soup,\\\n",
        "                        strip tree,tear book,tear shirt,tear paper,throw apple,throw baseball,throw football,throw frisbee,tie shoe,trim hair,trim tree,twist hair,\\\n",
        "                        twist rope,wrap book,wrap box']\n",
        "                         \"\"\"\n",
        "\n",
        "                    },\n",
        "                    *all_image_data_list\n",
        "                ]\n",
        "            }\n",
        "        ],\n",
        "        \"max_tokens\": 1000  #1000 is the best so far\n",
        "    }\n",
        "\n",
        "    # Send the request\n",
        "    response = requests.post(\"https://api.openai.com/v1/chat/completions\", headers=headers, json=payload).json()\n",
        "    return response\n",
        "\n"
      ]
    },
    {
      "cell_type": "markdown",
      "id": "O5U0W5qjwLGL",
      "metadata": {
        "id": "O5U0W5qjwLGL"
      },
      "source": [
        "### Experiments with 50 samples firstly"
      ]
    },
    {
      "cell_type": "code",
      "execution_count": null,
      "id": "kvBk-d6jwYQh",
      "metadata": {
        "id": "kvBk-d6jwYQh"
      },
      "outputs": [],
      "source": [
        "positive_images = dataset['ActionEffect']['positive_image_list']\n",
        "verb_noun = dataset['ActionEffect']['verb noun']\n",
        "all_images = []\n",
        "for i in range(len(positive_images)):\n",
        "    label = verb_noun[i]\n",
        "    for image in positive_images[i]:\n",
        "        all_images.append((label, image))\n",
        "\n",
        "all_images = random.sample(all_images,60)\n",
        "images_50 = []\n",
        "for item in all_images[1:51]:\n",
        "    images_50.append(item[1])\n",
        "\n",
        "images_50_label = []\n",
        "for item in all_images[1:51]:\n",
        "    images_50_label.append(item[0])"
      ]
    },
    {
      "cell_type": "code",
      "execution_count": null,
      "id": "trV0_n4kwrAP",
      "metadata": {
        "colab": {
          "base_uri": "https://localhost:8080/"
        },
        "id": "trV0_n4kwrAP",
        "outputId": "f950c4d1-9e4d-4e94-b742-f6732d75015d"
      },
      "outputs": [
        {
          "data": {
            "text/plain": [
              "1"
            ]
          },
          "execution_count": 11,
          "metadata": {},
          "output_type": "execute_result"
        }
      ],
      "source": [
        "# Convert to RGB\n",
        "from PIL import Image\n",
        "images_rgb = []\n",
        "count_notrgb = 0\n",
        "for image in images_50:\n",
        "    if image.mode != 'RGB':\n",
        "        image_rgb = image.convert('RGB')\n",
        "        images_rgb.append(image_rgb)\n",
        "        count_notrgb += 1\n",
        "    else:\n",
        "        images_rgb.append(image)\n",
        "count_notrgb"
      ]
    },
    {
      "cell_type": "code",
      "execution_count": null,
      "id": "QTXNriZjy11x",
      "metadata": {
        "colab": {
          "base_uri": "https://localhost:8080/"
        },
        "id": "QTXNriZjy11x",
        "outputId": "fa347e4b-4df4-4639-a324-4e3c7457141c"
      },
      "outputs": [
        {
          "data": {
            "text/plain": [
              "50"
            ]
          },
          "execution_count": 12,
          "metadata": {},
          "output_type": "execute_result"
        }
      ],
      "source": [
        "len(images_rgb)"
      ]
    },
    {
      "cell_type": "code",
      "execution_count": null,
      "id": "uPWmtYxfxqco",
      "metadata": {
        "colab": {
          "base_uri": "https://localhost:8080/"
        },
        "id": "uPWmtYxfxqco",
        "outputId": "226c5467-6814-453d-82ce-9945978875b2"
      },
      "outputs": [
        {
          "name": "stdout",
          "output_type": "stream",
          "text": [
            "{'id': 'chatcmpl-8PYia29Ozemxbr3JHPpSi1PO4pI31', 'object': 'chat.completion', 'created': 1701102348, 'model': 'gpt-4-1106-vision-preview', 'usage': {'prompt_tokens': 5603, 'completion_tokens': 650, 'total_tokens': 6253}, 'choices': [{'message': {'role': 'assistant', 'content': 'Image 1: bind hair, twist hair, label box, arrange flowers, arrange chairs, tie shoe, trim hair, carry bag, break glass, shave hair, roll paper, open umbrella, lock door, grate potato, fry potato, fold paper, close window, chop wood, boil potato, bake potato\\n\\nImage 2: close cabinet, lock cabinet, open cabinet, fasten door, lock door, open door, shut door, close door, lock drawer, open drawer, close drawer, shut window, close window, lock window, open window, fasten window, block door, block window, label bottle, pile boxes\\n\\nImage 3: ignite paper, burn paper, burn wood, ignite wood, throw frisbee, roll paper, twist rope, spill coffee, stain shirt, tie shoe, light fire, tear paper, break glass, crack bottle, open bottle, peel banana, mix eggs, bend tree, arrange chairs, arrange flowers\\n\\nImage 4: fry meat, cook meat, chop meat, grind meat, cut meat, slice meat, bake potato, boil egg, cook potato, mix eggs, fry egg, fry potato, peel carrot, chop onion, slice onion, cut onion, chop carrot, grate carrot, mash potato, peel orange\\n\\nImage 5: coil rope, twist rope, knot rope, tie shoe, bind hair, twist hair, roll umbrella, throw frisbee, throw football, throw apple, open umbrella, close drawer, lock window, fold paper, ride bicycle, cut tree, saw wood, hang shirt, carry bag, label bottle\\n\\nImage 6: cut meat, chop meat, slice meat, trim tree, cut wood, saw wood, peel potato, peel carrot, slice potato, chop carrot, grate potato, grate carrot, mix eggs, boil egg, cook egg, fry egg, cook onion, slice onion, chop onion, cut onion\\n\\nImage 7: carry bag, hang bag, open drawer, close door, tie shoe, label box, wrap box, arrange flowers, fasten window, shut door, lock drawer, lock cabinet, pile books, bind hair, tie shoe, roll paper, shred paper, stir soup, lock door, block door\\n\\nImage 8: soak hair, soak shirt, wash hair, cut apple, tie shoe, twist hair, bind hair, label bottle, shut door, close window, trim hair, roll umbrella, arrange flowers, fold paper, lock window, open umbrella, shut window, peel orange, slice apple, drill hole\\n\\nImage 9: bite apple, peel apple, cut apple, slice apple, throw apple, peel potato, chop wood, bend tree, rip paper, toss frisbee, label bottle, open bottle, fasten door, fry potato, cook meat, saw wood, crack egg, mix eggs, bend knee, shut window\\n\\nImage 10: bite apple, peel apple, cut apple, slice apple, throw apple, mash potato, chop meat, roll paper, rip paper, arrange flowers, label bottle, open bottle, fasten door, shut window, cook meat, saw wood, crack egg, mix eggs, open umbrella, tie shoe'}, 'finish_details': {'type': 'stop', 'stop': '<|fim_suffix|>'}, 'index': 0}]}\n",
            "{'id': 'chatcmpl-8PYj57BHasKaE2DgBFsHhnBE6026P', 'object': 'chat.completion', 'created': 1701102379, 'model': 'gpt-4-1106-vision-preview', 'usage': {'prompt_tokens': 6113, 'completion_tokens': 677, 'total_tokens': 6790}, 'choices': [{'message': {'role': 'assistant', 'content': 'Image 1: open umbrella, carry umbrella, hold umbrella, lift umbrella, display umbrella, handle umbrella, grip umbrella, present umbrella, use umbrella, extend umbrella, wave umbrella, brandish umbrella, clutch umbrella, wield umbrella, offer umbrella, raise umbrella, show umbrella, adjust umbrella, maneuver umbrella, position umbrella\\n\\nImage 2: fry egg, cook egg, heat egg, flip egg, prepare egg, make egg, sizzle egg, scorch egg, brown egg, serve egg, plate egg, finish egg, season egg, garnish egg, crack egg, break egg, whip egg, style egg, form egg, shape egg\\n\\nImage 3: grate potato, shred potato, cut potato, peel potato, slice potato, chop potato, prepare potato, mince potato, divide potato, strip potato, julienne potato, carve potato, dice potato, mash potato, cube potato, separate potato, process potato, segment potato, skin potato, trim potato\\n\\nImage 4: bind hair, twist hair, arrange hair, hold hair, secure hair, clip hair, style hair, fix hair, set hair, fasten hair, tame hair, control hair, manage hair, pin hair, grip hair, organize hair, neaten hair, straighten hair, position hair, tie hair\\n\\nImage 5: chop potato, cut potato, dice potato, cube potato, slice potato, peel potato, trim potato, section potato, portion potato, prepare potato, mince potato, split potato, carve potato, shape potato, skin potato, hash potato, divide potato, butcher potato, sever potato, breakdown potato\\n\\nImage 6: soak shirt, dip shirt, wet shirt, submerge shirt, saturate shirt, drench shirt, immerse shirt, bath shirt, wash shirt, plunge shirt, moisten shirt, steep shirt, sink shirt, dunk shirt, swim shirt, rinse shirt, paddle shirt, squelch shirt, splash shirt, wade shirt\\n\\nImage 7: fry egg, cook egg, sizzle egg, heat egg, brown egg, flip egg, scramble egg, simmer egg, sauté egg, toast egg, skillet egg, warm egg, poach egg, prepare egg, serve egg, crust egg, blacken egg, grill egg, char egg, sear egg\\n\\nImage 8: strip tree, peel tree, shred tree, tear tree, remove tree, clear tree, skin tree, bark tree, uncover tree, dismantle tree, flake tree, rip tree, undress tree, husk tree, unpeel tree, defoliate tree, pare tree, excoriate tree, shed tree, divest tree\\n\\nImage 9: close window, shut window, lock window, secure window, fasten window, seal window, block window, latch window, screen window, slide window, insulate window, cover window, barricade window, bolt window, fix window, clamp window, shroud window, shade window, guard window, protect window\\n\\nImage 10: arrange flowers, organize flowers, align flowers, assemble flowers, gather flowers, display flowers, compose flowers, place flowers, set flowers, sort flowers, group flowers, bundle flowers, present flowers, cluster flowers, rank flowers, array flowers, dispose flowers, exhibit flowers, layout flowers, position flowers'}, 'finish_details': {'type': 'stop', 'stop': '<|fim_suffix|>'}, 'index': 0}]}\n",
            "{'id': 'chatcmpl-8PYjM0x0v5mkmJpgSxTwAY5Go7WPd', 'object': 'chat.completion', 'created': 1701102396, 'model': 'gpt-4-1106-vision-preview', 'usage': {'prompt_tokens': 5943, 'completion_tokens': 646, 'total_tokens': 6589}, 'choices': [{'message': {'role': 'assistant', 'content': 'Image 1: crack egg, open bottle, spill coffee, break egg, grate potato, peel banana, crack bottle, peel orange, label bottle, roll paper, tie shoe, bind hair, bend knee, carry bag, boil egg, burn paper, arrange chairs, twist rope, chop carrot, mash potato\\n\\nImage 2: soak hair, open window, break bowl, spill coffee, arrange flowers, twist hair, bend knee, roll umbrella, burst balloon, stain shirt, break cup, twist rope, mix eggs, strip tree, pile wood, fry egg, bake potato, carry book, rip paper, fry meat\\n\\nImage 3: pile books, arrange chairs, open book, bind hair, fold paper, roll paper, tear book, pile boxes, pile wood, label box, close book, cook egg, tear paper, bend knee, ride bicycle, label bottle, bind hair, wrap book, close window, throw frisbee\\n\\nImage 4: close window, open window, lock window, fasten window, arrange flowers, shut window, clean window, open door, lock door, close door, twist rope, bind hair, tie shoe, label bottle, block window, peel orange, close cabinet, roll umbrella, carry umbrella, shut door\\n\\nImage 5: fry potato, peel potato, grate potato, chop potato, mash potato, boil potato, arrange chairs, cook potato, slice potato, cut potato, bake potato, open bottle, stir soup, pile wood, fasten door, lock cabinet, throw apple, open window, squeeze bottle, carry bag\\n\\nImage 6: fry egg, cook egg, break egg, crack egg, peel banana, slice potato, mix eggs, beat eggs, soak shirt, roll paper, cook meat, throw baseball, cut meat, arrange flowers, close drawer, cook onion, ride bicycle, tear paper, arrange chairs, open bottle\\n\\nImage 7: peel orange, peel banana, peel apple, peel carrot, peel potato, slice orange, squeeze orange, arrange flowers, pile books, open window, roll paper, bind hair, grate carrot, cut potato, twist rope, bend knee, pile wood, open box, shut door, label bottle\\n\\nImage 8: cut meat, chop meat, slice meat, cook meat, grind meat, mash potato, arrange flowers, pile books, roll paper, tie shoe, fry meat, carry bag, chop carrot, bend knee, label box, tear paper, wrap box, peel potato, shut door, mix eggs\\n\\nImage 9: open umbrella, carry umbrella, close umbrella, roll umbrella, twist rope, bind hair, throw frisbee, pile books, block door, shut window, shut door, fold paper, carry bag, label box, bend knee, cut potato, close door, label bottle, ride bicycle, arrange chairs\\n\\nImage 10: chop tree, chop wood, saw tree, cut wood, cut tree, split wood, split tree, peel banana, pile wood, carry bag, burn tree, carry book, burn wood, pile books, fasten door, roll paper, label bottle, tie shoe, stack wood, arrange chairs'}, 'finish_details': {'type': 'stop', 'stop': '<|fim_suffix|>'}, 'index': 0}]}\n",
            "{'id': 'chatcmpl-8PYjfTK7DRzi2Z3Buw0nGHfWxLuLc', 'object': 'chat.completion', 'created': 1701102415, 'model': 'gpt-4-1106-vision-preview', 'usage': {'prompt_tokens': 6623, 'completion_tokens': 641, 'total_tokens': 7264}, 'choices': [{'message': {'role': 'assistant', 'content': 'Image 1: chop carrot, slice carrot, peel carrot, grate carrot, cut carrot, mash potato, slice potato, cut potato, grate potato, chop potato, label bottle, label box, tear paper, arrange flowers, arrange chairs, carry bag, bind hair, twist hair, tie shoe, trim hair\\n\\nImage 2: arrange chairs, ride bicycle, carry bag, open umbrella, wear helmet, listen music, park car, ride bike, carry book, lock door, wear headphones, pedal bike, roll paper, ride bicycle, carry umbrella, bind hair, open door, lock drawer, label box, fold paper\\n\\nImage 3: pile books, arrange chairs, bind hair, carry bag, label box, fold paper, label bottle, carry book, arrange flowers, open drawer, open door, pile wood, pile boxes, twist rope, tie shoe, trim hair, open cabinet, shut door, lock window, close book\\n\\nImage 4: label bottle, open bottle, open box, arrange flowers, arrange chairs, carry bag, bind hair, fold paper, pile books, tie shoe, twist hair, shut door, lock cabinet, lock drawer, close door, shut window, lock door, tear paper, roll paper, label box\\n\\nImage 5: boil egg, boil potato, cook potato, cook meat, cook egg, cook onion, peel carrot, peel potato, mash potato, grate potato, cut potato, cut meat, slice potato, slice meat, chop meat, chop carrot, chop potato, chop onion, stir soup, mix eggs\\n\\nImage 6: rip paper, tear paper, tear book, arrange flowers, arrange chairs, bind hair, label box, tie shoe, twist hair, trim hair, label bottle, cut paper, roll paper, fold paper, carry bag, pile books, pile wood, carry umbrella, stir coffee, carry book\\n\\nImage 7: open door, close door, block door, fasten door, shut door, lock door, twist rope, bind hair, tie shoe, arrange flowers, carry bag, label box, arrange chairs, pile books, shut window, close drawer, roll paper, fold paper, label bottle, arrange flowers\\n\\nImage 8: chop wood, cut wood, chop tree, saw wood, saw tree, slice potato, slice meat, slice apple, slice onion, chop meat, chop potato, carry bag, carry umbrella, bind hair, pile wood, pile books, rip paper, roll paper, fold paper, label bottle\\n\\nImage 9: burn wood, ignite wood, burn paper, burn book, close door, close window, fasten door, boil egg, boil potato, shut door, arrange chairs, arrange flowers, tie shoe, twist hair, trim hair, label box, label bottle, fold paper, rip paper, carry bag\\n\\nImage 10: open drawer, close drawer, arrange chairs, arrange flowers, label box, pile books, pile wood, pile boxes, fold paper, roll paper, label bottle, carry bag, bind hair, tear paper, tie shoe, twist hair, trim hair, open door, close cabinet, lock drawer'}, 'finish_details': {'type': 'stop', 'stop': '<|fim_suffix|>'}, 'index': 0}]}\n",
            "{'id': 'chatcmpl-8PYk0vqaI9Ychxx9mM9vIvdlDGFH5', 'object': 'chat.completion', 'created': 1701102436, 'model': 'gpt-4-1106-vision-preview', 'usage': {'prompt_tokens': 6623, 'completion_tokens': 646, 'total_tokens': 7269}, 'choices': [{'message': {'role': 'assistant', 'content': 'Image 1: ride bicycle, bend knee, park car, carry bag, close drawer, open window, throw frisbee, roll paper, peel banana, peel orange, squeeze bottle, stir soup, lock drawer, pile books, fold paper, roll umbrella, lock cabinet, label bottle, fasten door, tie shoe\\n\\nImage 2: chop onion, cut onion, slice onion, dice onion, arrange flowers, peel banana, peel apple, wrap box, roll paper, mix eggs, grate carrot, mash potato, fry potato, cut apple, peel orange, lock door, open bottle, close book, label box, break egg\\n\\nImage 3: break glass, crack window, smash window, break window, open window, close window, throw baseball, shut window, block window, stain shirt, fold paper, rip paper, arrange chairs, label bottle, park car, carry bag, peel banana, tie shoe, ignite paper, stain paper\\n\\nImage 4: break bowl, smash door, break cup, arrange flowers, fold paper, peel carrot, roll paper, label bottle, throw apple, cut potato, bind hair, break egg, crack bottle, carry umbrella, squeeze orange, lock drawer, park car, fasten window, tie shoe, staple paper\\n\\nImage 5: grate carrot, peel carrot, chop carrot, slice potato, wrap box, fold paper, park car, ride bicycle, throw football, fry meat, peel banana, shut door, lock cabinet, label bottle, break egg, stir coffee, roll umbrella, open drawer, dice onion, bind hair\\n\\nImage 6: open box, close drawer, label box, arrange flowers, park car, lock door, fold paper, throw frisbee, roll umbrella, tie shoe, arrange chairs, carry umbrella, open door, shut window, label bottle, close cabinet, break glass, pile books, lock cabinet, ride bicycle\\n\\nImage 7: burn wood, ignite wood, pile wood, open window, break glass, tie shoe, label bottle, close door, shut window, break window, arrange chairs, fold paper, park car, carry umbrella, twist rope, roll paper, wrap box, ride bicycle, open door, cut wood\\n\\nImage 8: boil potato, cook potato, mash potato, fry potato, grate potato, arrange flowers, break egg, label box, roll paper, tie shoe, wrap book, shut door, lock drawer, park car, carry umbrella, peel banana, roll umbrella, slice apple, pile wood, bind hair\\n\\nImage 9: chop carrot, peel carrot, slice onion, cook onion, dice onion, arrange chairs, park car, fold paper, break egg, bind hair, roll paper, lock door, grate potato, squeeze orange, throw baseball, shut window, fry meat, cut meat, label bottle, open drawer\\n\\nImage 10: peel potato, grate carrot, slice onion, chop carrot, boil egg, fold paper, tie shoe, stain shirt, ride bicycle, park car, arrange flowers, lock door, label box, carry bag, pile wood, fasten window, break bowl, open window, mash potato, break egg'}, 'finish_details': {'type': 'stop', 'stop': '<|fim_suffix|>'}, 'index': 0}]}\n"
          ]
        }
      ],
      "source": [
        "responses = []\n",
        "api_key = \"YOUR_OPENAI_KEY\"  # Replace with your actual API key\n",
        "\n",
        "for i in range(0, len(images_rgb), 10):\n",
        "    images_10 = images_rgb[i:i+10]\n",
        "    response_verb_noun = get_openai_responses_few_shots(api_key, initial_images, images_10)\n",
        "\n",
        "    # Inspect the response\n",
        "    print(response_verb_noun)\n",
        "\n",
        "    try:\n",
        "        content = response_verb_noun['choices'][0]['message']['content']\n",
        "        # matches = re.findall(r\"\\n\\d+\\.\\s*([a-zA-Z]+\\s[a-zA-Z]+)[,\\n]\", content)\n",
        "        # processed_data = [matches[i:i + 10] for i in range(0, len(matches), 10)]\n",
        "        # for item in processed_data:\n",
        "        responses.append(content)\n",
        "    except KeyError:\n",
        "        print(\"KeyError encountered. Check the response structure.\")\n"
      ]
    },
    {
      "cell_type": "code",
      "execution_count": null,
      "id": "OXpKCF1Nj9Ad",
      "metadata": {
        "colab": {
          "base_uri": "https://localhost:8080/"
        },
        "id": "OXpKCF1Nj9Ad",
        "outputId": "6b418104-7c82-401c-a3c6-8ee3ed90928d"
      },
      "outputs": [
        {
          "data": {
            "text/plain": [
              "['chop carrot',\n",
              " 'ride bicycle',\n",
              " 'pile books',\n",
              " 'label bottle',\n",
              " 'boil potato',\n",
              " 'tear paper',\n",
              " 'close door',\n",
              " 'saw wood',\n",
              " 'burn wood',\n",
              " 'open cabinet',\n",
              " 'ride bicycle']"
            ]
          },
          "execution_count": 31,
          "metadata": {},
          "output_type": "execute_result"
        }
      ],
      "source": [
        "images_50_label[30:41]"
      ]
    },
    {
      "cell_type": "code",
      "execution_count": null,
      "id": "SCyf_Tg82uCJ",
      "metadata": {
        "colab": {
          "base_uri": "https://localhost:8080/"
        },
        "id": "SCyf_Tg82uCJ",
        "outputId": "a2f8762c-6f62-4daf-f0cd-c681e3f97f8f"
      },
      "outputs": [
        {
          "name": "stdout",
          "output_type": "stream",
          "text": [
            "bind hair, twist hair, label box, arrange flowers, arrange chairs, tie shoe, trim hair, carry bag, break glass, shave hair, roll paper, open umbrella, lock door, grate potato, fry potato, fold paper, close window, chop wood, boil potato, bake potato\n",
            "open umbrella, carry umbrella, hold umbrella, lift umbrella, display umbrella, handle umbrella, grip umbrella, present umbrella, use umbrella, extend umbrella, wave umbrella, brandish umbrella, clutch umbrella, wield umbrella, offer umbrella, raise umbrella, show umbrella, adjust umbrella, maneuver umbrella, position umbrella\n",
            "crack egg, open bottle, spill coffee, break egg, grate potato, peel banana, crack bottle, peel orange, label bottle, roll paper, tie shoe, bind hair, bend knee, carry bag, boil egg, burn paper, arrange chairs, twist rope, chop carrot, mash potato\n",
            "chop carrot, slice carrot, peel carrot, grate carrot, cut carrot, mash potato, slice potato, cut potato, grate potato, chop potato, label bottle, label box, tear paper, arrange flowers, arrange chairs, carry bag, bind hair, twist hair, tie shoe, trim hair\n",
            "ride bicycle, bend knee, park car, carry bag, close drawer, open window, throw frisbee, roll paper, peel banana, peel orange, squeeze bottle, stir soup, lock drawer, pile books, fold paper, roll umbrella, lock cabinet, label bottle, fasten door, tie shoe\n"
          ]
        },
        {
          "data": {
            "text/plain": [
              "50"
            ]
          },
          "execution_count": 51,
          "metadata": {},
          "output_type": "execute_result"
        }
      ],
      "source": [
        "# Some data proecessing after running GPT4\n",
        "final_result = []\n",
        "for item in responses:\n",
        "   matches1 = re.findall(r\"Image \\d+: ([\\w\\s,]+?)(?=\\n)\", item)\n",
        "   if \"Image 10:\" in item:\n",
        "    matches2 = re.findall(r\"Image 10: ([\\w\\s,]+)\", item)\n",
        "   elif \"Image 11:\" in item:\n",
        "    matches2 = re.findall(r\"Image 11: ([\\w\\s,]+)\", item)\n",
        "   else:\n",
        "    matches2 = []\n",
        "   matches = matches1 + matches2\n",
        "   print(matches[0])\n",
        "   matches_flatten = []\n",
        "   for pairs in matches:\n",
        "    temp = pairs.split(', ')\n",
        "    matches_flatten.append(temp)\n",
        "   for data in matches_flatten:\n",
        "    final_result.append(data)\n",
        "len(final_result)"
      ]
    },
    {
      "cell_type": "code",
      "execution_count": null,
      "id": "DEeAAhRzyn-j",
      "metadata": {
        "colab": {
          "base_uri": "https://localhost:8080/"
        },
        "id": "DEeAAhRzyn-j",
        "outputId": "e94337db-baa2-448c-cbc7-92b0b3c9b7e9"
      },
      "outputs": [
        {
          "name": "stdout",
          "output_type": "stream",
          "text": [
            "Accuracy: 94.00%\n"
          ]
        }
      ],
      "source": [
        "# Accuracy of 50 samples\n",
        "images_50_label = []\n",
        "for item in all_images[1:51]:\n",
        "    images_50_label.append(item[0])\n",
        "correct_count = 0\n",
        "for index, answer in enumerate(images_50_label):\n",
        "    if answer in final_result[index]:\n",
        "        correct_count += 1\n",
        "accuracy = correct_count / len(images_50_label)\n",
        "print(f'Accuracy: {accuracy * 100:.2f}%')"
      ]
    },
    {
      "cell_type": "code",
      "execution_count": null,
      "id": "pLHRX-S0ERM1",
      "metadata": {
        "colab": {
          "base_uri": "https://localhost:8080/"
        },
        "id": "pLHRX-S0ERM1",
        "outputId": "5892da48-5609-4d8c-9c78-3394672fbd50"
      },
      "outputs": [
        {
          "data": {
            "text/plain": [
              "20"
            ]
          },
          "execution_count": 62,
          "metadata": {},
          "output_type": "execute_result"
        }
      ],
      "source": [
        "len(final_result[0])"
      ]
    },
    {
      "cell_type": "code",
      "execution_count": null,
      "id": "TOMbd2Cdu-qA",
      "metadata": {
        "colab": {
          "base_uri": "https://localhost:8080/"
        },
        "id": "TOMbd2Cdu-qA",
        "outputId": "679d5be9-588f-4b63-ac2e-3560d974c50f"
      },
      "outputs": [
        {
          "data": {
            "text/plain": [
              "50"
            ]
          },
          "execution_count": 64,
          "metadata": {},
          "output_type": "execute_result"
        }
      ],
      "source": [
        "len(final_result)"
      ]
    },
    {
      "cell_type": "markdown",
      "id": "X9GEtnV1JAt9",
      "metadata": {
        "id": "X9GEtnV1JAt9"
      },
      "source": [
        "#### Experiment of 500 samples secondly"
      ]
    },
    {
      "cell_type": "code",
      "execution_count": null,
      "id": "nOQyQ9ZDJEL1",
      "metadata": {
        "id": "nOQyQ9ZDJEL1"
      },
      "outputs": [],
      "source": [
        "positive_images = dataset['ActionEffect']['positive_image_list']\n",
        "verb_noun = dataset['ActionEffect']['verb noun']\n",
        "all_images = []\n",
        "for i in range(len(positive_images)):\n",
        "    label = verb_noun[i]\n",
        "    for image in positive_images[i]:\n",
        "        all_images.append((label, image))\n",
        "random.seed(595)\n",
        "# Sample 500 pictures from 2048 pictures\n",
        "all_images = random.sample(all_images,501)\n",
        "images_500 = []\n",
        "for item in all_images[1:501]:\n",
        "    images_500.append(item[1])\n",
        "# Answers from the 500 samples\n",
        "images_500_label = []\n",
        "for item in all_images[1:501]:\n",
        "    images_500_label.append(item[0])\n",
        "\n",
        "few_images = all_images[:1]\n",
        "initial_images = []\n",
        "for item in few_images[:1]:\n",
        "    initial_images.append(item[1])"
      ]
    },
    {
      "cell_type": "code",
      "execution_count": null,
      "id": "VkYo9phNJYWI",
      "metadata": {
        "colab": {
          "base_uri": "https://localhost:8080/"
        },
        "id": "VkYo9phNJYWI",
        "outputId": "af2d2260-10b6-4b7a-c030-de8d424de2bb"
      },
      "outputs": [
        {
          "data": {
            "text/plain": [
              "11"
            ]
          },
          "execution_count": 11,
          "metadata": {},
          "output_type": "execute_result"
        }
      ],
      "source": [
        "# Convert all pictures to RGB format\n",
        "from PIL import Image\n",
        "images_rgb_500 = []\n",
        "count_notrgb = 0\n",
        "for image in images_500:\n",
        "    if image.mode != 'RGB':\n",
        "        image_rgb = image.convert('RGB')\n",
        "        images_rgb_500.append(image_rgb)\n",
        "        count_notrgb += 1\n",
        "    else:\n",
        "        images_rgb_500.append(image)\n",
        "count_notrgb"
      ]
    },
    {
      "cell_type": "code",
      "execution_count": null,
      "id": "X7u7gBCcM21l",
      "metadata": {
        "id": "X7u7gBCcM21l"
      },
      "outputs": [],
      "source": [
        "# Divide 500 picturs into 10 chunks\n",
        "splitted_lists = {}\n",
        "for i in range(10):\n",
        "    start_index = i * 50\n",
        "    end_index = start_index + 50\n",
        "    sublist = images_rgb_500[start_index:end_index]\n",
        "    list_name = f\"list_{i+1}\"\n",
        "    splitted_lists[list_name] = sublist"
      ]
    },
    {
      "cell_type": "code",
      "execution_count": null,
      "id": "kURdCSm3JuaP",
      "metadata": {
        "id": "kURdCSm3JuaP"
      },
      "outputs": [],
      "source": [
        "# Run Chatgpt4\n",
        "def run_model(image_list):\n",
        "  responses500 = []\n",
        "  # Replace with your actual API key\n",
        "  api_key = \"YOUR_OPENAI_KEY\"\n",
        "\n",
        "  for i in range(0, len(image_list), 10):\n",
        "      images_10 = image_list[i:i+10]\n",
        "      response_verb_noun = get_openai_responses_few_shots(api_key, initial_images, images_10)\n",
        "\n",
        "      # Inspect the response\n",
        "      print(response_verb_noun)\n",
        "\n",
        "      try:\n",
        "          content = response_verb_noun['choices'][0]['message']['content']\n",
        "          responses500.append(content)\n",
        "      except KeyError:\n",
        "          print(\"KeyError encountered. Check the response structure.\")\n",
        "  return responses500"
      ]
    },
    {
      "cell_type": "code",
      "execution_count": null,
      "id": "WlquL9nKOI7m",
      "metadata": {
        "colab": {
          "base_uri": "https://localhost:8080/"
        },
        "id": "WlquL9nKOI7m",
        "outputId": "7d121b36-c3e5-4204-c233-c8176db39554"
      },
      "outputs": [
        {
          "name": "stdout",
          "output_type": "stream",
          "text": [
            "{'id': 'chatcmpl-8PfXdYJ270MpUDlAmiVWT2vb7bYZ1', 'object': 'chat.completion', 'created': 1701128577, 'model': 'gpt-4-1106-vision-preview', 'usage': {'prompt_tokens': 7793, 'completion_tokens': 712, 'total_tokens': 8505}, 'choices': [{'message': {'role': 'assistant', 'content': 'Image 1: crash car, park car, scratch car, open door, close door, lock door, fasten door, kick door, smash door, throw football, burst door, roll paper, fold paper, rip paper, tear paper, stain shirt, soak shirt, hang shirt, peel orange, throw frisbee\\n\\nImage 2: crash car, park car, scratch car, open door, close door, lock door, fasten door, kick door, smash door, throw football, burst door, roll paper, fold paper, rip paper, tear paper, stain shirt, soak shirt, hang shirt, peel orange, throw frisbee\\n\\nImage 3: open window, close window, break window, smash window, fasten window, lock window, block window, peel orange, throw frisbee, stain shirt, soak shirt, hang shirt, rip paper, fold paper, roll paper, throw football, shut window, burst door, crack window, throw apple\\n\\nImage 4: kick football, throw football, park car, peel orange, throw frisbee, roll paper, crash car, bend knee, scratch car, lock door, roll umbrella, open umbrella, throw baseball, fold paper, tear paper, scratch knee, throw apple, shut door, fasten door, break glass\\n\\nImage 5: tear paper, rip paper, fold paper, roll paper, throw frisbee, throw football, kick door, park car, crash car, scratch car, shut door, lock door, stain shirt, soak shirt, hang shirt, throw apple, open door, break door, bend knee, scratch knee\\n\\nImage 6: fasten door, lock door, open door, close door, kick door, smash door, block door, crash car, park car, scratch car, throw football, roll paper, throw frisbee, peel orange, roll umbrella, bend knee, scratch knee, burst door, arrange chairs, arrange flowers\\n\\nImage 7: arrange flowers, peel orange, throw frisbee, throw football, hang shirt, soak shirt, stain shirt, rip paper, fold paper, roll paper, lock door, shut door, open door, close door, crash car, park car, peel banana, peel carrot, bite apple, kick football\\n\\nImage 8: coil rope, twist rope, bind hair, knot rope, park car, crash car, scratch car, lock door, shut door, close door, throw apple, peel orange, throw frisbee, roll paper, rip paper, fold paper, throw football, kick door, hang shirt, soak shirt\\n\\nImage 9: chop tree, cut tree, split wood, split tree, saw tree, saw wood, park car, crash car, scratch car, roll paper, throw football, throw frisbee, peel orange, bind hair, twist rope, lock door, fasten door, break glass, slice potato, chop wood\\n\\nImage 10: crash car, park car, scratch car, smash door, bust door, throw football, roll paper, fold paper, rip paper, kick door, burst door, throw frisbee, peel orange, stain shirt, hang shirt, soak shirt, lock door, shut window, open door, smash window\\n\\nNote: I have used the list provided to generate these verb-noun pairs, and since some images depict objects rather than actions, I have included pairs that could describe potential or contextual actions related to the objects shown in each image.'}, 'finish_details': {'type': 'stop', 'stop': '<|fim_suffix|>'}, 'index': 0}]}\n",
            "{'id': 'chatcmpl-8PfY4s5lziKQS82YN2prkiPj7GSRt', 'object': 'chat.completion', 'created': 1701128604, 'model': 'gpt-4-1106-vision-preview', 'usage': {'prompt_tokens': 6773, 'completion_tokens': 738, 'total_tokens': 7511}, 'choices': [{'message': {'role': 'assistant', 'content': 'Based on the list provided and the guidelines to generate 20 possible verb-noun pairs for each image, here are my predictions for the actions depicted in each image:\\n\\nImage 1: pitch baseball, throw baseball, bend knee, carry glove, wear cap, kick dirt, wear uniform, grasp ball, aim baseball, stretch arm, rotate wrist, balance body, wear socks, step mound, focus gaze, squint eyes, exert force, launch ball, follow through, wear jersey\\n\\nImage 2: chop wood, pile wood, stack wood, split wood, saw wood, arrange wood, collect wood, organize wood, dry wood, cut wood, gather wood, store wood, retrieve wood, sort wood, align wood, preserve wood, prepare wood, measure wood, display wood, burn wood\\n\\nImage 3: arrange wood, pile wood, organize wood, collect wood, shape wood, create circle, modify shape, construct ring, form shape, design pattern, stack bricks, stack wood, form curve, arrange stones, landscape design, create design, ornament ground, arrange pattern, position stones, decorate ground\\n\\nImage 4: break egg, crack egg, spill yolk, open egg, burst eggshell, drop egg, leak egg, smash egg, split egg, ruin egg, shatter shell, scatter egg, ruin yolk, expose yolk, drip yolk, ooze egg, spoil egg, waste egg, rupture egg, penetrate shell\\n\\nImage 5: crack wall, break wall, damage wall, break window, tear wall, rupture surface, destroy wall, expose bricks, split facade, dilapidate building, weaken structure, fracture wall, breach barrier, penetrate wall, devastate property, crumble plaster, reveal frame, jeopardize structure, shatter glass, compromise wall\\n\\nImage 6: skin knee, scratch knee, injure leg, wound skin, bruise knee, bleed wound, hurt knee, scrape knee, lacerate skin, damage knee, inflict pain, suffer injury, tear flesh, mar knee, affect joint, open cut, expose flesh, stain skin, afflict knee, puncture skin\\n\\nImage 7: chop wood, split wood, saw wood, pile wood, prepare wood, kindling wood, gather wood, arrange wood, stack wood, sever wood, cut wood, shred wood, cleave wood, accumulate wood, snap wood, fracture wood, organize wood, break wood, process wood, sort wood\\n\\nImage 8: ride bicycle, pedal bike, cycle path, steer bicycle, enjoy cycling, commute bicycle, travel route, maneuver bicycle, navigate path, propel bicycle, mount bike, pursue recreation, balance bicycle, exercise cycling, harness bicycle, journey cycle, mobilize bicycle, operate bike, practice cycling, tour bike\\n\\nImage 9: ride bicycle, pedal bicycle, cycle route, travel road, navigate course, balance bike, maneuver cycle, speed bicycle, commute bike, tour bicycle, transport self, bicycle motion, mount cycle, control bicycle, pursue journey, accelerate bike, shift gears, adjust seat, grip handlebars, lean forward\\n\\nImage 10: close cabinet, open cabinet, arrange cabinet, organize cabinet, clean cabinet, fill cabinet, use cabinet, lock cabinet, examine cabinet, inspect cabinet, empty cabinet, structure cabinet, install cabinet, secure cabinet, adjust cabinet, shut door, equip cabinet, maintain cabinet, position cabinet, sort cabinet\\n\\nPlease note that for images without any discernible action of a person interacting with objects, I have interpreted actions that may relate to the state of the objects or potential actions one might take with them, where appropriate.'}, 'finish_details': {'type': 'stop', 'stop': '<|fim_suffix|>'}, 'index': 0}]}\n",
            "{'id': 'chatcmpl-8PfYOPUjl8F75ksgQpUO3CGCUFaLi', 'object': 'chat.completion', 'created': 1701128624, 'model': 'gpt-4-1106-vision-preview', 'usage': {'prompt_tokens': 6093, 'completion_tokens': 412, 'total_tokens': 6505}, 'choices': [{'message': {'role': 'assistant', 'content': \"Since the provided list of verb-noun pairs includes different actions that can't directly correspond to what is shown in these images, I will make my best attempt to choose actions that could hypothetically be associated with the objects or scenarios in the images.\\n\\nImage 2: bind hair, twist hair, crop hair, shave hair, trim hair, tie shoe, fasten door, peel banana, close drawer, cut wood\\n\\nImage 3: lock cabinet, lock door, fasten door, close cabinet, close door, close window, insert key, label bottle, pile books, shut window\\n\\nImage 4: block door, block window, shut door, shut window, fasten window, open window, close window, lock window, label bottle, scratch car\\n\\nImage 5: rip paper, tear book, tear paper, roll paper, cut onion, open drawer, fold paper, label bottle, arrange flowers, carry book\\n\\nImage 6: burn book, burn paper, burn wood, ignite paper, ignite wood, burst balloon, open bottle, open drawer, crack bottle, spill coffee\\n\\nImage 7: boil egg, boil potato, peel banana, peel egg, bake potato, fry egg, slice egg, cook egg, chop onion, smash door\\n\\nImage 8: park car, crash car, carry bag, scratch car, open door, close door, block door, lock door, tie shoe, bend knee\\n\\nImage 9: crop hair, arrange flowers, peel banana, tie shoe, roll paper, stain shirt, label bottle, chop wood, carry bag, lock cabinet\\n\\nImage 10: hang shirt, soak shirt, stain shirt, pile books, pile wood, rip paper, twist rope, bend knee, carry umbrella, dry shirt\\n\\nImage 11: arrange chairs, pile shirts, hang shirt, fold paper, label box, carry book, tie shoe, twist hair, shut door, open drawer\\n\\nPlease replace the images with new ones for the remaining tasks or clarify if the exercise requires additional input.\"}, 'finish_details': {'type': 'stop', 'stop': '<|fim_suffix|>'}, 'index': 0}]}\n",
            "{'id': 'chatcmpl-8PfYgPT1BiMGB8mQmDGqSdHRme41e', 'object': 'chat.completion', 'created': 1701128642, 'model': 'gpt-4-1106-vision-preview', 'usage': {'prompt_tokens': 6433, 'completion_tokens': 655, 'total_tokens': 7088}, 'choices': [{'message': {'role': 'assistant', 'content': 'Image 1: pile boxes, label box, open box, wrap box, carry bag, arrange chairs, stack boxes, close box, tie shoe, fasten window, block door, chop wood, bake potato, bend knee, bind hair, bite apple, twist hair, close book, boil egg, cut potato\\n\\nImage 2: pile books, label bottle, open book, wrap book, carry book, arrange flowers, stack books, close book, tie shoe, fasten door, block window, chop onion, bake potato, bend tree, bind hair, bite apple, twist rope, close cabinet, boil potato, cut meat\\n\\nImage 3: fasten door, block door, close door, lock door, open door, smash door, tie shoe, arrange chairs, pitch baseball, pile wood, label box, throw baseball, carry bag, chop meat, bend knee, burst balloon, break glass, close cabinet, cook meat, fold paper\\n\\nImage 4: carry umbrella, open umbrella, arrange chairs, roll umbrella, label box, close drawer, pile books, tie shoe, squeeze bottle, open drawer, close door, fasten window, burn book, hang bag, soak shirt, pitch baseball, throw football, carry bag, bend tree, block window\\n\\nImage 5: ride bicycle, park car, twist rope, lock window, pile wood, mash potato, label box, chop tree, carry bag, fasten door, close cabinet, bend knee, arrange flowers, burn wood, cut wood, saw wood, tear paper, open door, throw frisbee, roll paper\\n\\nImage 6: chop onion, slice onion, cook onion, cut onion, arrange chairs, peel apple, label box, wrap box, carry bag, roll paper, pile boxes, fasten door, lock drawer, bend knee, burst balloon, throw baseball, close book, grind meat, fold paper, stain paper\\n\\nImage 7: crack egg, cook egg, mash potato, fry egg, peel banana, label bottle, wrap box, roll paper, carry bag, tie shoe, pile wood, fasten door, lock drawer, bend knee, burst door, throw apple, close cabinet, grind meat, fold paper, stain shirt\\n\\nImage 8: chop onion, slice onion, cook onion, cut onion, peel apple, label bottle, wrap box, carry bag, roll paper, pile books, fasten window, lock door, bend tree, burst balloon, throw frisbee, close window, grind meat, fold paper, stain shirt, throw baseball\\n\\nImage 9: peel carrot, grate carrot, chop carrot, slice potato, wrap box, label bottle, roll paper, carry bag, tie shoe, pile wood, fasten door, lock drawer, bend knee, burst balloon, throw apple, close book, grind meat, fold paper, stain paper, throw frisbee\\n\\nImage 10: open window, close window, block window, fasten window, lock window, shut window, twist rope, pile boxes, carry bag, tie shoe, arrange flowers, bend knee, label bottle, roll paper, chop wood, bake potato, peel banana, fold paper, break glass, stain shirt'}, 'finish_details': {'type': 'stop', 'stop': '<|fim_suffix|>'}, 'index': 0}]}\n",
            "{'id': 'chatcmpl-8PfYz1do9A2kO0LcJOprxk9KLu2lJ', 'object': 'chat.completion', 'created': 1701128661, 'model': 'gpt-4-1106-vision-preview', 'usage': {'prompt_tokens': 7283, 'completion_tokens': 702, 'total_tokens': 7985}, 'choices': [{'message': {'role': 'assistant', 'content': \"Image 1: saw wood, cut wood, chop wood, split wood, slice apple, chop tree, chop carrot, chop meat, chop onion, slice meat, slice onion, slice potato, cut apple, peel carrot, grate carrot, grate potato, cut potato, cut onion, cut tree, cut meat\\n\\nImage 2: break glass, crack glass, smash window, smash door, break door, break window, crack window, crack bottle, open bottle, shut window, shut door, break bowl, break cup, close door, close window, fasten window, fasten door, open door, open window, twist rope\\n\\nImage 3: carry book, close book, open book, wrap book, tear book, label bottle, hang bag, open bottle, park car, fasten door, fasten window, fold paper, lock door, lock window, arrange chairs, arrange flowers, burn book, burn paper, carry bag, carry umbrella\\n\\nImage 4: open umbrella, close umbrella, carry umbrella, roll umbrella, break glass, break window, open window, close window, peel banana, peel potato, fry egg, fry potato, fry meat, cook egg, cook meat, cook potato, tie shoe, label box, arrange flowers, arrange chairs\\n\\nImage 5: open drawer, close drawer, open cabinet, close cabinet, open door, close door, shut door, lock door, lock drawer, label box, pile books, pile wood, carry bag, peel orange, peel banana, slice apple, chop wood, stir soup, stir coffee, fold paper\\n\\nImage 6: break window, crack glass, break glass, smash window, smash door, crack window, lock door, lock window, open door, close door, shut door, shut window, tear shirt, throw football, throw frisbee, break door, bind hair, tie shoe, open umbrella, carry umbrella\\n\\nImage 7: twist hair, bind hair, tie shoe, braid hair, arrange flowers, pile books, peel banana, chop wood, chop meat, slice meat, trim hair, crop hair, roll paper, tear paper, shut door, lock door, lock drawer, fasten window, saw wood, open window\\n\\nImage 8: open cabinet, close cabinet, lock cabinet, close door, open door, arrange chairs, arrange flowers, label bottle, bind hair, twist hair, shut window, lock window, lock door, shut door, tie shoe, fold paper, rip paper, roll paper, place pot, peel orange\\n\\nImage 9: peel carrot, grate carrot, chop carrot, slice potato, peel orange, peel potato, slice apple, chop meat, chop wood, cut apple, mash potato, fry potato, cook potato, cut potato, arrange chairs, arrange flowers, open drawer, close drawer, wrap box, label box\\n\\nImage 10: tear paper, fold paper, rip paper, roll paper, stain paper, arrange chairs, arrange flowers, tie shoe, peel banana, burn paper, label box, shut window, shut door, bind hair, twist hair, open door, close door, open window, close window, label bottle\\n\\nPlease note these responses are based on the visible content of the images and the list provided. The verb-noun pairs might not necessarily reflect actual actions being performed in the moment captured in each image but are inferred from the context and the list of possible pairs you've given.\"}, 'finish_details': {'type': 'stop', 'stop': '<|fim_suffix|>'}, 'index': 0}]}\n"
          ]
        }
      ],
      "source": [
        "result_list1 = run_model(splitted_lists['list_1'])"
      ]
    },
    {
      "cell_type": "code",
      "execution_count": null,
      "id": "fB4vAAiTEUaA",
      "metadata": {
        "id": "fB4vAAiTEUaA"
      },
      "outputs": [],
      "source": [
        "import json\n",
        "with open('result_list1.json', 'w') as file:\n",
        "    json.dump(result_list1, file)"
      ]
    },
    {
      "cell_type": "code",
      "execution_count": null,
      "id": "pvUb0Eo8Okw4",
      "metadata": {
        "colab": {
          "base_uri": "https://localhost:8080/"
        },
        "id": "pvUb0Eo8Okw4",
        "outputId": "ddf0029a-6a1c-4a23-c11a-053a9bfa04ea"
      },
      "outputs": [
        {
          "name": "stdout",
          "output_type": "stream",
          "text": [
            "{'id': 'chatcmpl-8PfdyMBtpkdruenxjoRqhxQGMZKIg', 'object': 'chat.completion', 'created': 1701128970, 'model': 'gpt-4-1106-vision-preview', 'usage': {'prompt_tokens': 6773, 'completion_tokens': 646, 'total_tokens': 7419}, 'choices': [{'message': {'role': 'assistant', 'content': 'Image 1: coil rope, tie shoe, bind hair, twist rope, fasten window, lock cabinet, wrap box, arrange flowers, arrange chairs, chop wood, label box, carry bag, park car, pitch baseball, ride bicycle, throw frisbee, open umbrella, peel orange, hang shirt, saw tree\\n\\nImage 2: peel apple, slice apple, cut apple, arrange flowers, tie shoe, open bottle, label box, bend knee, bake potato, cook potato, mash potato, grate carrot, peel banana, peel carrot, chop onion, slice onion, cut onion, twist hair, ride bicycle, open door\\n\\nImage 3: cook soup, stir soup, mix eggs, peel carrot, peel potato, mash potato, cook potato, cook meat, chop onion, chop carrot, grate carrot, grate potato, slice meat, slice onion, slice potato, cut meat, cut onion, cut potato, open drawer, close drawer\\n\\nImage 4: burn wood, ignite wood, chop wood, saw wood, split wood, pile wood, chop tree, split tree, open door, close door, fasten window, lock cabinet, park car, peel banana, cook egg, fry egg, boil egg, crack egg, bind hair, tie shoe\\n\\nImage 5: grate carrot, peel carrot, cut carrot, slice carrot, chop carrot, arrange flowers, tie shoe, mash potato, carry bag, boil potato, bake potato, park car, pitch baseball, ride bicycle, open door, close door, lock cabinet, cut apple, slice onion, chop onion\\n\\nImage 6: beat eggs, mix eggs, cook egg, fry egg, boil egg, whip eggs, chop onion, chop carrot, peel potato, peel carrot, grate potato, grate carrot, open door, close door, bake potato, arrange flowers, tie shoe, label bottle, lock cabinet, carry bag\\n\\nImage 7: open window, close window, shut window, clean window, look outside, open door, close door, arrange flowers, ride bicycle, park car, peel banana, peel apple, peel carrot, cook meat, chop wood, saw wood, tie shoe, mash potato, bake potato, cut apple\\n\\nImage 8: chop onion, dice onion, slice onion, cut onion, peel onion, grate carrot, slice meat, slice apple, peel carrot, peel apple, cook meat, cook onion, arrange flowers, tie shoe, lock cabinet, fasten window, open door, close door, park car, roll umbrella\\n\\nImage 9: mix eggs, beat eggs, stir eggs, cook egg, fry egg, open drawer, close drawer, lock cabinet, fasten window, park car, chop tree, chop wood, ride bicycle, tie shoe, peel apple, peel banana, peel orange, grate carrot, peel potato, bake potato\\n\\nImage 10: chop meat, slice meat, cut meat, cook meat, fry meat, boil egg, mix eggs, beat eggs, fasten door, close door, lock drawer, arrange flowers, tie shoe, peel orange, open door, park car, ride bicycle, pitch baseball, grate potato, slice onion'}, 'finish_details': {'type': 'stop', 'stop': '<|fim_suffix|>'}, 'index': 0}]}\n",
            "{'id': 'chatcmpl-8PfeHanGs44lLbJ7TBkZzEDySscJB', 'object': 'chat.completion', 'created': 1701128989, 'model': 'gpt-4-1106-vision-preview', 'usage': {'prompt_tokens': 8303, 'completion_tokens': 639, 'total_tokens': 8942}, 'choices': [{'message': {'role': 'assistant', 'content': 'Image 1: fry meat, fry potato, cook meat, cook potato, boil potato, mix eggs, beat eggs, fry egg, cook egg, mash potato, chop meat, chop onion, chop carrot, chop potato, chop wood, slice meat, slice onion, slice apple, slice potato, grate potato\\n\\nImage 2: open window, close window, break window, lock window, clean window, crack window, smash window, open door, close door, shut window, bind hair, twist hair, cut wood, cut tree, slice apple, roll paper, ride bicycle, block window, block door, break glass\\n\\nImage 3: slice onion, chop onion, cut onion, peel onion, arrange chairs, arrange flowers, bind hair, spread paper, roll paper, open cabinet, close drawer, fold paper, label bottle, lock drawer, open drawer, open box, label box, trim hair, twist hair, break egg\\n\\nImage 4: break glass, smash window, crack window, break window, break bowl, break door, open door, close door, lock door, smash door, throw apple, throw football, close cabinet, shut window, block door, break cup, break egg, break bowl, bend knee, tie shoe\\n\\nImage 5: crack egg, break egg, beat eggs, mix eggs, peel banana, peel apple, slice apple, slice meat, chop meat, fry egg, fry potato, fry meat, grate carrot, grate potato, cook egg, cook potato, cook meat, boil egg, chop onion, chop carrot\\n\\nImage 6: crack window, break glass, smash window, break window, break door, smash door, break bowl, break cup, open window, close window, crack glass, break egg, fry egg, fry meat, fry potato, open door, close door, lock door, peel apple, chop tree\\n\\nImage 7: grate carrot, grate potato, peel carrot, slice carrot, chop carrot, chop meat, chop onion, chop wood, chop tree, slice apple, slice meat, slice onion, slice potato, boil potato, fry potato, cook potato, mash potato, beat eggs, mix eggs, twist rope\\n\\nImage 8: cook meat, chop meat, cut meat, slice meat, cook egg, cook potato, fry egg, fry potato, fry meat, boil egg, mix eggs, beat eggs, peel banana, peel apple, slice apple, slice onion, chop wood, chop onion, chop tree, knot rope\\n\\nImage 9: soak shirt, soak hair, clean shirt, wash shirt, open bottle, close book, open box, peel banana, peel apple, arrange flowers, break egg, tie shoe, bend knee, boil egg, boil potato, fry egg, fry meat, fry potato, grate potato, grate carrot\\n\\nImage 10: tear paper, open bottle, rip paper, open box, wrap book, wrap box, close drawer, fold paper, label bottle, label box, arrange flowers, peel banana, peel apple, cut onion, cut potato, cut meat, slice onion, slice potato, slice meat, slice apple'}, 'finish_details': {'type': 'stop', 'stop': '<|fim_suffix|>'}, 'index': 0}]}\n",
            "{'id': 'chatcmpl-8PfedkBPzJNWGj1JfpKkl3nC60g20', 'object': 'chat.completion', 'created': 1701129011, 'model': 'gpt-4-1106-vision-preview', 'usage': {'prompt_tokens': 6263, 'completion_tokens': 342, 'total_tokens': 6605}, 'choices': [{'message': {'role': 'assistant', 'content': 'Image 1: fry meat, cook meat, bake potato, mash potato, grate potato, chop meat, season meat, slice meat, flip meat, grind meat\\n\\nImage 2: ride bicycle, park bicycle, pedal bicycle, steer bicycle, balance bicycle, adjust helmet, fasten helmet, wear helmet, control bicycle, push bicycle\\n\\nImage 3: grate potato, mash potato, peel potato, slice potato, chop potato, arrange potato, dry potato, season potato, mix potato, prepare potato\\n\\nImage 4: tear paper, cut paper, fold paper, arrange paper, pile paper, sort paper, shred paper, grip paper, scatter paper, layer paper\\n\\nImage 5: saw tree, chop tree, cut wood, pile wood, split wood, strip tree, fell tree, clear tree, measure wood, haul wood\\n\\nImage 6: peel carrot, chop carrot, slice carrot, grate carrot, arrange carrot, pile carrot, dry carrot, season carrot, shred carrot, trim carrot\\n\\nImage 7: coil rope, arrange rope, pile rope, cut rope, measure rope, wrap rope, sort rope, stack rope, roll rope, tie rope\\n\\nImage 8: crack glass, break window, shatter glass, smash glass, splinter glass, burst glass, hit glass, damage glass, fracture glass, explode glass\\n\\nImage 9: slice onion, chop onion, arrange onion, layer onion, season onion, dry onion, sort onion, dice onion, separate onion, display onion\\n\\nImage 10: break wood, split wood, arrange wood, pile wood, layer wood, cut wood, dry wood, sort wood, stack wood, measure wood'}, 'finish_details': {'type': 'stop', 'stop': '<|fim_suffix|>'}, 'index': 0}]}\n",
            "{'id': 'chatcmpl-8Pfeqt3fuZyem9tQQkfK5ybnhSZIz', 'object': 'chat.completion', 'created': 1701129024, 'model': 'gpt-4-1106-vision-preview', 'usage': {'prompt_tokens': 6093, 'completion_tokens': 694, 'total_tokens': 6787}, 'choices': [{'message': {'role': 'assistant', 'content': \"Image 1: chop onion, slice onion, pile onions, cut onion, peel onion, arrange chairs, bind hair, chop wood, label box, arrange flowers, break glass, shut door, saw wood, carry bag, bend knee, cook meat, fold paper, open drawer, roll umbrella, tie shoe\\n\\nImage 2: chop onion, cut onion, slice onion, pile onions, arrange flowers, bind hair, chop carrot, cook potato, grate carrot, fry meat, roll paper, fold paper, label bottle, tie shoe, bake potato, saw wood, carry bag, bend tree, twist rope, open cabinet\\n\\nImage 3: beat eggs, mix eggs, stir soup, open drawer, twist hair, cook onion, cook potato, cook meat, arrange chairs, bind hair, label bottle, carry umbrella, chop meat, fold paper, grate potato, park car, peel banana, slice apple, spill coffee, whip cream\\n\\nImage 4: break door, smash door, break glass, break bowl, open door, open cabinet, block door, lock door, close door, shut door, carry box, label box, arrange chairs, bend knee, peel banana, cut meat, fry potato, knot rope, peel orange, ride bicycle\\n\\nImage 5: bend tree, trim tree, chop tree, saw tree, peel banana, pile wood, park car, ride bicycle, bind hair, break glass, push door, open window, wrap box, slice apple, block door, boil egg, chop carrot, hang bag, ignite wood, roll umbrella\\n\\nImage 6: break window, crack glass, smash window, peel banana, ride bicycle, open box, lock door, fold paper, twist rope, arrange flowers, cut meat, cut potato, open door, break egg, trim hair, cook meat, grate carrot, kick door, label bottle, tear shirt\\n\\nImage 7: throw baseball, pitch baseball, break glass, crack bottle, peel banana, burst balloon, saw wood, chop onion, wrap box, tie shoe, bend knee, bind hair, boil egg, ignite paper, label box, open drawer, roll paper, twist hair, break bowl, fasten door\\n\\nImage 8: break bowl, crack bottle, smash door, open bottle, break egg, break glass, cook meat, boil potato, peel apple, cut onion, arrange chairs, throw football, burst door, carry umbrella, fry egg, hang shirt, label bottle, mop floor, open drawer, saw tree\\n\\nImage 9: cook meat, fry meat, bake potato, slice meat, peel banana, grade beef, chop meat, roll paper, grind meat, label bottle, stir coffee, open drawer, ride bicycle, shut window, twist rope, close door, hang bag, park car, pitch baseball, soak shirt\\n\\nImage 10: tear paper, throw paper, spill coffee, burst balloon, peel banana, break glass, ride bicycle, open umbrella, fold paper, roll paper, cut onion, chop wood, trim hair, cook egg, crack window, label box, peel carrot, shut door, bend knee, lock drawer\\n\\nPlease note that I've added verb-noun pairs according to the contents of the images, even if the actions aren't directly observable, to meet the unique verb-noun pair requirement across all images. Some pairs are inferred based on the context of the images shown.\"}, 'finish_details': {'type': 'stop', 'stop': '<|fim_suffix|>'}, 'index': 0}]}\n",
            "{'id': 'chatcmpl-8Pff8va9DT1Qe4IIXEXUWX765Uq9e', 'object': 'chat.completion', 'created': 1701129042, 'model': 'gpt-4-1106-vision-preview', 'usage': {'prompt_tokens': 5923, 'completion_tokens': 732, 'total_tokens': 6655}, 'choices': [{'message': {'role': 'assistant', 'content': 'Based on the images presented, here are the verb-noun pairs that best describe the actions or relevant objects in each image:\\n\\nImage 2: arrange chairs, fold paper, peel banana, peel carrot, peel orange, peel potato, pile books, pile boxes, pile wood, twist rope, cut wood, chop wood, saw wood, burn wood, stack chairs, store chairs, organize chairs, place chairs, position chairs, set chairs\\n\\nImage 3: pile wood, chop wood, cut wood, burn wood, stack wood, arrange chairs, arrange flowers, close drawer, close cabinet, close door, saw wood, organize wood, collect wood, sort wood, store wood, stockpile wood, gather wood, assemble wood, align wood, place wood\\n\\nImage 4: arrange chairs, close drawer, organize chairs, pile books, pile wood, close cabinet, close door, close window, fold paper, label box, store utensils, sort utensils, tidy drawer, classify utensils, align utensils, arrange utensils, organize drawer, compartmentalize utensils, place utensils, set utensils\\n\\nImage 5: arrange chairs, tie shoe, bend knee, arrange flowers, close door, close drawer, fold paper, label box, pile books, stack chairs, fasten shoe, knot laces, secure shoe, fasten laces, lace shoe, adjust shoe, position feet, display shoes, set shoes, place shoes\\n\\nImage 6: chop carrot, arrange chairs, close door, fold paper, grate carrot, label box, peel carrot, pile boxes, pile wood, slice carrot, cut carrot, dice carrot, prepare carrot, shred carrot, peel potato, chop onion, slice potato, cut potato, peel apple, plate carrots\\n\\nImage 7: shave hair, trim hair, arrange flowers, cut hair, peel apple, peel banana, peel orange, soak hair, soak shirt, tie shoe, style hair, clean hair, groom hair, dry hair, comb hair, treat hair, manage hair, condition hair, smooth hair, brush hair\\n\\nImage 8: pile boxes, arrange chairs, label box, open box, wrap box, close cabinet, fold paper, open door, stack boxes, close drawer, pack boxes, store boxes, organize boxes, stack chairs, align boxes, place boxes, set boxes, box items, containerize items, seal boxes\\n\\nImage 9: park car, bend tree, chop tree, trim tree, slice potato, arrange chairs, arrange flowers, close door, close window, fold paper, landscape garden, trim hedges, maintain garden, prune bushes, arrange plants, cultivate garden, design garden, organize yard, tidy garden, mow lawn\\n\\nImage 10: break door, burst door, chop wood, kick door, open door, smash door, crash car, fasten door, lock door, saw wood, force entry, damage door, split wood, snap wood, destroy door, shatter door, crack door, dismantle door, unlock door, dislodge door\\n\\nImage 11: insert key, open door, twist rope, wrap book, lock door, close door, open drawer, open bottle, peel banana, fold paper, turn key, secure lock, engage lock, unlock door, operate lock, activate lock, fasten door, rotate key, prepare lock, insert object\\n\\nPlease note that not all verb-noun pairs may perfectly capture the contents of the images, but I have attempted to align them with the actions or objects that could be conceptually related to the scenes within the limitations provided.'}, 'finish_details': {'type': 'stop', 'stop': '<|fim_suffix|>'}, 'index': 0}]}\n"
          ]
        }
      ],
      "source": [
        "result_list2 = run_model(splitted_lists['list_2'])"
      ]
    },
    {
      "cell_type": "code",
      "execution_count": null,
      "id": "Dw6RM0yAMPCC",
      "metadata": {
        "id": "Dw6RM0yAMPCC"
      },
      "outputs": [],
      "source": [
        "with open('result_list2.json', 'w') as file:\n",
        "    json.dump(result_list2, file)"
      ]
    },
    {
      "cell_type": "code",
      "execution_count": null,
      "id": "85JAO4yFOk4e",
      "metadata": {
        "colab": {
          "base_uri": "https://localhost:8080/"
        },
        "id": "85JAO4yFOk4e",
        "outputId": "2bda4624-9ef5-422d-9280-07482730de48"
      },
      "outputs": [
        {
          "name": "stdout",
          "output_type": "stream",
          "text": [
            "{'id': 'chatcmpl-8PhmouMnAXSJHbv17FCB8EULf3RgX', 'object': 'chat.completion', 'created': 1701137206, 'model': 'gpt-4-1106-vision-preview', 'usage': {'prompt_tokens': 5243, 'completion_tokens': 793, 'total_tokens': 6036}, 'choices': [{'message': {'role': 'assistant', 'content': 'Based on the images provided and the list of possible verb-noun pairs, here are the best matches for each image following the exercise\\'s requirements:\\n\\nImage 1: pitch baseball, throw baseball, twist rope, bend knee, coil rope, crack bottle, fasten window, kick football, ride bicycle, saw wood, arrange flowers, break window, burst balloon, carry bag, chop tree, fold paper, ignite paper, peel banana, rip paper, stain shirt\\n\\nImage 2: stain shirt, spill coffee, burst door, smash door, break bowl, break glass, break cup, burn book, burn paper, tear paper, carry bag, carry book, coil rope, crop hair, fold paper, fry meat, grate potato, mash potato, open cabinet, ride bicycle\\n\\nImage 3: pitch baseball, throw baseball, bend knee, ride bicycle, kick football, twist rope, saw wood, chop tree, break window, burst balloon, arrange flowers, carry bag, crack bottle, close window, fold paper, ignite paper, peel banana, tear paper, soak shirt, fry meat\\n\\nImage 4: arrange chairs, block door, close cabinet, open door, shut door, shut window, stack chairs, pile books, fasten window, pile boxes, carry bag, open cabinet, pitch baseball, bind hair, close drawer, lock cabinet, chop wood, cut potato, saw tree, twist rope\\n\\nImage 5: close cabinet, lock cabinet, open door, open drawer, shut door, arrange flowers, close drawer, fasten door, label box, pile books, peel banana, lock drawer, pitch baseball, block door, carry book, fasten window, break bowl, chop wood, cut tree, saw wood\\n\\nImage 6: arrange wood, chop wood, pile wood, saw wood, split wood, carry wood, burn wood, chop tree, cut wood, stack wood, ignite wood, open window, close door, pitch baseball, bind hair, peel potato, block door, fasten door, label box, lock cabinet\\n\\nImage 7: close drawer, open cabinet, arrange flowers, arrange plates, close cabinet, lock drawer, open drawer, pile books, shut window, stack plates, fasten window, label box, carry bag, pitch baseball, chop meat, fold paper, bind hair, cut potato, tear paper, slice meat\\n\\nImage 8: soak shirt, wash clothes, squeeze bottle, twist rope, soak hair, arrange flowers, spill coffee, peel banana, rip paper, stir soup, throw frisbee, burst balloon, carry umbrella, chop meat, cut apple, fold paper, open umbrella, pitch baseball, tie shoe, wring shirt\\n\\nImage 9: bake potato, cook meat, arrange flowers, chop meat, cook egg, fry meat, grate carrot, mash potato, open bottle, peel carrot, block door, pitch baseball, peel banana, break egg, chop onion, cut apple, fold paper, ride bicycle, saw tree, slice meat\\n\\nImage 10: chop tree, cut tree, saw tree, split wood, clear land, fell trees, strip tree, chop wood, pile wood, carry wood, stack wood, burn wood, burst door, block window, carry bag, peel banana, pitch baseball, ride bicycle, throw frisbee, twist rope\\n\\nImage 11: chop onion, slice onion, arrange flowers, cut onion, peel onion, dice onion, grind meat, mash potato, mix eggs, peel potato, stir soup, pitch baseball, bake potato, bend tree, burst balloon, close book, fold paper, kick door, peel carrot, pile books\\n\\nPlease note that some actions have been creatively interpreted or repurposed to fit the potential actions associated with the objects in the images since particular actions such as \"stain shirt\" or \"peel banana\" do not directly match the images provided.'}, 'finish_details': {'type': 'stop', 'stop': '<|fim_suffix|>'}, 'index': 0}]}\n",
            "{'id': 'chatcmpl-8Phn81T0YKdy1te6X0oe0zse4nBE4', 'object': 'chat.completion', 'created': 1701137226, 'model': 'gpt-4-1106-vision-preview', 'usage': {'prompt_tokens': 4733, 'completion_tokens': 655, 'total_tokens': 5388}, 'choices': [{'message': {'role': 'assistant', 'content': 'Image 1: throw baseball, catch baseball, wear hat, bend knee, wear socks, tuck shirt, grip ball, spin ball, stride forward, lift arm, pull arm, tuck glove, watch baseball, lean forward, balance body, wear jersey, sport uniform, flex muscle, stand mound, focus target\\n\\nImage 2: open window, arrange flowers, close window, clean window, lean out, look outside, air room, decorate ledge, adjust frame, place pot, enjoy view, reflect glass, secure window, exhibit flowers, ventilate room, polish pane, support window, view street, expose interior, display flowers\\n\\nImage 3: chop carrot, cut carrot, split carrot, use knife, slice carrot, peel carrot, prepare food, sharpen knife, handle knife, split vegetable, carve carrot, dice carrot, segment carrot, lay carrot, hold knife, press knife, use cutting board, make incision, arrange carrot, cut vegetable\\n\\nImage 4: pile carrots, arrange carrots, peel carrots, wash carrots, select carrots, group carrots, gather carrots, store carrots, sort carrots, display carrots, stack vegetables, harvest carrots, bulk carrots, organize carrots, show carrots, dry carrots, clean carrots, bundle carrots, market carrots, supply carrots\\n\\nImage 5: split egg, cook egg, slice egg, boil egg, cut egg, serve egg, prepare egg, peel egg, garnish egg, arrange egg, section egg, plate egg, display egg, chill egg, half egg, shell egg, present egg, divide egg, portion egg, bisect egg\\n\\nImage 6: open cabinet, close cabinet, hang plates, arrange dishes, install cabinet, mount shelf, store dishes, organize kitchen, clean cabinet, reflect mirror, place items, design kitchen, maintain cabinet, adjust shelf, assemble cabinet, anchor shelf, support cabinet, polish surface, contain utensils, outfit kitchen\\n\\nImage 7: open door, close door, enter house, exit house, decorate entrance, maintain plants, light lantern, clean door, secure door, view interior, welcome guests, leave home, step threshold, install door, air house, frame view, display plants, place mat, unlock door, landscape entryway\\n\\nImage 8: boil potato, peel potato, cut potato, mash potato, cook potato, cool potato, steam potato, quarter potato, dice potato, serve potato, prepare meal, soften potato, soak potato, hot potato, cube potato, garnish potato, toss potato, season potato, prepare dish, handle potato\\n\\nImage 9: pile wood, chop wood, stack wood, cut wood, saw wood, sort wood, arrange wood, collect wood, split wood, dry wood, gather firewood, prepare wood, harvest logs, organize lumber, cure timber, season wood, stack logs, clean logs, select wood, bundle wood\\n\\nImage 10: soak shirt, wet shirt, cool off, swim pool, relax water, chill poolside, enjoy summer, refresh body, drench clothes, lounge pool, get wet, drip water, splash water, leisure swim, dampen fabric, wear t-shirt, drain water, dive pool, float water, submerge body'}, 'finish_details': {'type': 'stop', 'stop': '<|fim_suffix|>'}, 'index': 0}]}\n",
            "{'id': 'chatcmpl-8PhnSsmcvFgOsLaOr9kRKPmPWhO3C', 'object': 'chat.completion', 'created': 1701137246, 'model': 'gpt-4-1106-vision-preview', 'usage': {'prompt_tokens': 7283, 'completion_tokens': 645, 'total_tokens': 7928}, 'choices': [{'message': {'role': 'assistant', 'content': 'Image 1: ride bicycle, carry bag, carry umbrella, twist rope, lock drawer, open drawer, pile boxes, shut door, arrange flowers, arrange chairs, bind hair, bite apple, close door, fasten window, fold paper, hang bag, kick door, open cabinet, park car, tie shoe\\n\\nImage 2: close door, shut door, open door, fasten door, lock door, block door, smash door, twist rope, arrange chairs, shut window, label bottle, bind hair, carry umbrella, hang shirt, kick football, peel banana, arrange flowers, roll paper, tie shoe, open window\\n\\nImage 3: insert key, lock drawer, close drawer, open drawer, lock door, open door, fasten door, twist rope, open cabinet, lock cabinet, close cabinet, peel potato, tie shoe, roll paper, hang bag, carry umbrella, block door, label box, arrange chairs, break glass\\n\\nImage 4: fry egg, cook egg, boil egg, crack egg, break egg, mash potato, beat eggs, mix eggs, peel potato, chop onion, twist rope, fold paper, label bottle, arrange flowers, open door, close door, slice meat, fry potato, chop meat, tie shoe\\n\\nImage 5: cook onion, chop onion, fry meat, chop meat, grill meat, stir soup, mash potato, slice onion, open door, open drawer, roll paper, tie shoe, label bottle, fold paper, arrange flowers, close door, shut window, carry bag, fry egg, slice potato\\n\\nImage 6: cook onion, chop onion, fry meat, chop meat, grill meat, stir soup, mash potato, slice onion, open door, open drawer, roll paper, tie shoe, label bottle, fold paper, arrange flowers, close door, shut window, carry bag, fry egg, slice potato\\n\\nImage 7: break cup, break bowl, smash door, break glass, crack bottle, spill coffee, throw frisbee, carry bag, arrange chairs, peel orange, bind hair, fry egg, cook potato, peel potato, mash potato, open bottle, close drawer, fold paper, open door, close window\\n\\nImage 8: hang bag, carry bag, arrange chairs, fold paper, twist rope, roll paper, label box, tie shoe, open door, shut door, block door, fasten window, close drawer, kick door, ride bicycle, chop meat, open drawer, lock door, mash potato, pile books\\n\\nImage 9: chop meat, cook meat, fry meat, grill meat, cut meat, slice meat, mash potato, peel potato, cut potato, cook potato, peel apple, chop wood, beat eggs, open door, close window, fold paper, arrange flowers, bind hair, label bottle, carry bag\\n\\nImage 10: peel potato, boil potato, mash potato, cook potato, cut potato, slice potato, grate potato, fry potato, chop wood, tie shoe, roll paper, open drawer, carry bag, ride bicycle, chop onion, arrange chairs, close window, shut door, hang bag, label box'}, 'finish_details': {'type': 'stop', 'stop': '<|fim_suffix|>'}, 'index': 0}]}\n",
            "{'id': 'chatcmpl-8PhnmuAGAbRSlyXusPw6Bgr177DK1', 'object': 'chat.completion', 'created': 1701137266, 'model': 'gpt-4-1106-vision-preview', 'usage': {'prompt_tokens': 5923, 'completion_tokens': 716, 'total_tokens': 6639}, 'choices': [{'message': {'role': 'assistant', 'content': 'Image 1: pitch baseball, throw baseball, twist rope, coil rope, bend knee, roll paper, shut door, shut window, bind hair, tie shoe, ride bicycle, kick football, lock door, carry bag, squeeze bottle, cut apple, peel carrot, mash potato, fry egg, chop meat\\n\\nImage 2: peel carrot, slice potato, chop carrot, grate carrot, peel potato, cut potato, slice carrot, peel orange, peel apple, peel banana, chop onion, chop meat, chop wood, slice meat, slice apple, mash potato, peel potato, grate potato, boil potato, bake potato\\n\\nImage 3: cover bowl, wrap box, label box, open drawer, shut drawer, close drawer, lock drawer, arrange flowers, block door, block window, close door, tie shoe, close book, peel banana, mash potato, arrange chairs, pile boxes, roll umbrella, roll paper, fold paper\\n\\nImage 4: twist rope, coil rope, knot rope, bind hair, tie shoe, shut door, close drawer, carry bag, wrap box, label bottle, shut window, lock window, open bottle, open box, throw frisbee, pitch baseball, saw wood, chop wood, cut wood, pile wood\\n\\nImage 5: peel apple, slice apple, cut apple, chop apple, mash potato, cut potato, slice potato, grate potato, arrange flowers, arrange chairs, open box, close drawer, shut window, lock door, bind hair, twist hair, cover bowl, open bottle, peel banana, peel orange\\n\\nImage 6: soak shirt, soak hair, wash clothes, fill sink, twist rope, cover bowl, arrange flowers, close window, close door, shut door, fold paper, roll paper, lock door, open door, carry bag, carry book, open umbrella, open drawer, wash hands, drain water\\n\\nImage 7: open door, close door, shut door, arrange chairs, arrange flowers, view landscape, open window, shut window, lock door, block door, throw frisbee, throw baseball, catch baseball, ride bicycle, carry umbrella, carry bag, carry book, bind hair, tie shoe, walk barefoot\\n\\nImage 8: block door, shut door, break door, close door, smash door, fasten door, fasten window, open door, shut window, close window, pile wood, pile books, tie shoe, bind hair, wrap box, throw frisbee, throw football, throw baseball, pitch baseball, break glass\\n\\nImage 9: pile books, arrange chairs, close book, open book, shut window, lock door, carry book, label bottle, wrap book, bind hair, fold paper, roll paper, tie shoe, throw frisbee, throw baseball, open drawer, shut door, close door, open box, open drawer\\n\\nImage 10: bind hair, twist hair, arrange chairs, tie shoe, close window, shut door, lock door, fold paper, label bottle, coil rope, open bottle, close drawer, throw frisbee, throw baseball, peel apple, slice apple, cut apple, arrange flowers, open door, close book\\n\\nImage 11: bite apple, cut apple, slice apple, peel apple, chop apple, eat apple, hold apple, throw apple, open bottle, break bowl, lock door, shut window, open drawer, fold paper, write book, shut door, tie shoe, roll paper, carry bag, twist rope'}, 'finish_details': {'type': 'stop', 'stop': '<|fim_suffix|>'}, 'index': 0}]}\n",
            "{'id': 'chatcmpl-8Pho5tHlyJ6DDwx6IHjqwuLeVPa3W', 'object': 'chat.completion', 'created': 1701137285, 'model': 'gpt-4-1106-vision-preview', 'usage': {'prompt_tokens': 7113, 'completion_tokens': 708, 'total_tokens': 7821}, 'choices': [{'message': {'role': 'assistant', 'content': 'Image 1: pitch baseball, throw baseball, bend knee, carry bag, twist rope, label box, bind hair, close door, break glass, open door, park car, ride bicycle, roll paper, stir coffee, tie shoe, burn wood, chop wood, cut tree, arrange chairs, shut window\\n\\nImage 2: ignite paper, ignite wood, burn tree, burn book, burn wood, carry bag, carry book, arrange chairs, arrange flowers, close drawer, close window, cut tree, fold paper, kick door, label bottle, mash potato, peel banana, roll umbrella, shut door, throw football\\n\\nImage 3: cut potato, chop carrot, chop wood, slice potato, peel potato, chop meat, cook potato, fry potato, mash potato, grate potato, boil egg, boil potato, bind hair, burst balloon, carry bag, close cabinet, arrange chairs, pile wood, saw wood, stir soup\\n\\nImage 4: crack glass, break glass, smash window, throw baseball, arrange flowers, bind hair, carry bag, chop wood, close drawer, fold paper, ignite wood, label bottle, open door, peel banana, pitch baseball, roll paper, saw tree, stir coffee, tie shoe, twist rope\\n\\nImage 5: stir coffee, stir soup, mix eggs, carry umbrella, arrange flowers, bind hair, boil egg, chop onion, close book, crack egg, fold paper, grate carrot, hang shirt, kick door, lock cabinet, mash potato, open window, pile books, slice meat, twist hair\\n\\nImage 6: pile wood, chop tree, chop wood, saw wood, carry bag, close door, fasten window, fold paper, label bottle, lock drawer, peel potato, pitch baseball, ride bicycle, squeeze bottle, stack boxes, throw apple, tie shoe, twist rope, wrap box, break glass\\n\\nImage 7: fry egg, cook egg, boil egg, crack egg, beat eggs, carry bag, carry book, chop meat, chop onion, close cabinet, ignite paper, label box, mash potato, mix eggs, open bottle, peel apple, pitch baseball, shut door, slice meat, twist hair\\n\\nImage 8: open box, close drawer, label box, wrap box, lock door, fasten window, fold paper, pile boxes, throw frisbee, bind hair, carry bag, chop wood, fry potato, ignite wood, mash potato, pitch baseball, roll paper, saw wood, shut window, twist rope\\n\\nImage 9: label bottle, open bottle, close drawer, arrange flowers, bind hair, break window, carry umbrella, chop onion, close cabinet, fold paper, ignite paper, mash potato, open box, pile books, ride bicycle, shut door, slice apple, throw football, cut wood, tear paper\\n\\nImage 10: trim hair, crop hair, arrange chairs, arrange flowers, bind hair, burst balloon, carry bag, carry book, chop onion, close book, fasten door, lock window, peel apple, roll paper, saw tree, skin knee, squeeze orange, stain shirt, twist hair, wrap book\\n\\nImage 11: arrange flowers, bind hair, carry bag, close window, fold paper, ignite paper, label bottle, open umbrella, peel banana, shut door, saw wood, tie shoe, twist rope, boil egg, cook meat, fry potato, grate carrot, mash potato, slice apple, throw baseball'}, 'finish_details': {'type': 'stop', 'stop': '<|fim_suffix|>'}, 'index': 0}]}\n"
          ]
        }
      ],
      "source": [
        "result_list3 = run_model(splitted_lists['list_3'])"
      ]
    },
    {
      "cell_type": "code",
      "execution_count": null,
      "id": "VVUMTjSjrcij",
      "metadata": {
        "colab": {
          "base_uri": "https://localhost:8080/"
        },
        "id": "VVUMTjSjrcij",
        "outputId": "e8271d3a-3f30-4229-ee2c-7f700a4dfba2"
      },
      "outputs": [
        {
          "name": "stdout",
          "output_type": "stream",
          "text": [
            "Image 1: pitch baseball, throw baseball, bend knee, carry bag, twist rope, label box, bind hair, close door, break glass, open door, park car, ride bicycle, roll paper, stir coffee, tie shoe, burn wood, chop wood, cut tree, arrange chairs, shut window\n",
            "\n",
            "Image 2: ignite paper, ignite wood, burn tree, burn book, burn wood, carry bag, carry book, arrange chairs, arrange flowers, close drawer, close window, cut tree, fold paper, kick door, label bottle, mash potato, peel banana, roll umbrella, shut door, throw football\n",
            "\n",
            "Image 3: cut potato, chop carrot, chop wood, slice potato, peel potato, chop meat, cook potato, fry potato, mash potato, grate potato, boil egg, boil potato, bind hair, burst balloon, carry bag, close cabinet, arrange chairs, pile wood, saw wood, stir soup\n",
            "\n",
            "Image 4: crack glass, break glass, smash window, throw baseball, arrange flowers, bind hair, carry bag, chop wood, close drawer, fold paper, ignite wood, label bottle, open door, peel banana, pitch baseball, roll paper, saw tree, stir coffee, tie shoe, twist rope\n",
            "\n",
            "Image 5: stir coffee, stir soup, mix eggs, carry umbrella, arrange flowers, bind hair, boil egg, chop onion, close book, crack egg, fold paper, grate carrot, hang shirt, kick door, lock cabinet, mash potato, open window, pile books, slice meat, twist hair\n",
            "\n",
            "Image 6: pile wood, chop tree, chop wood, saw wood, carry bag, close door, fasten window, fold paper, label bottle, lock drawer, peel potato, pitch baseball, ride bicycle, squeeze bottle, stack boxes, throw apple, tie shoe, twist rope, wrap box, break glass\n",
            "\n",
            "Image 7: fry egg, cook egg, boil egg, crack egg, beat eggs, carry bag, carry book, chop meat, chop onion, close cabinet, ignite paper, label box, mash potato, mix eggs, open bottle, peel apple, pitch baseball, shut door, slice meat, twist hair\n",
            "\n",
            "Image 8: open box, close drawer, label box, wrap box, lock door, fasten window, fold paper, pile boxes, throw frisbee, bind hair, carry bag, chop wood, fry potato, ignite wood, mash potato, pitch baseball, roll paper, saw wood, shut window, twist rope\n",
            "\n",
            "Image 9: label bottle, open bottle, close drawer, arrange flowers, bind hair, break window, carry umbrella, chop onion, close cabinet, fold paper, ignite paper, mash potato, open box, pile books, ride bicycle, shut door, slice apple, throw football, cut wood, tear paper\n",
            "\n",
            "Image 10: trim hair, crop hair, arrange chairs, arrange flowers, bind hair, burst balloon, carry bag, carry book, chop onion, close book, fasten door, lock window, peel apple, roll paper, saw tree, skin knee, squeeze orange, stain shirt, twist hair, wrap book\n",
            "\n",
            "Image 11: arrange flowers, bind hair, carry bag, close window, fold paper, ignite paper, label bottle, open umbrella, peel banana, shut door, saw wood, tie shoe, twist rope, boil egg, cook meat, fry potato, grate carrot, mash potato, slice apple, throw baseball\n"
          ]
        }
      ],
      "source": [
        "print(result_list3[4])"
      ]
    },
    {
      "cell_type": "code",
      "execution_count": null,
      "id": "aDqNUpPGNJKr",
      "metadata": {
        "id": "aDqNUpPGNJKr"
      },
      "outputs": [],
      "source": [
        "with open('result_list3.json', 'w') as file:\n",
        "    json.dump(result_list3, file)"
      ]
    },
    {
      "cell_type": "code",
      "execution_count": null,
      "id": "-pm3lc3aOlAL",
      "metadata": {
        "colab": {
          "base_uri": "https://localhost:8080/"
        },
        "id": "-pm3lc3aOlAL",
        "outputId": "6eb0b5e4-b7eb-4ebf-9744-b70b677f0996"
      },
      "outputs": [
        {
          "name": "stdout",
          "output_type": "stream",
          "text": [
            "{'id': 'chatcmpl-8PfnfNG11nZAvekwmdlo9cQ1f8daw', 'object': 'chat.completion', 'created': 1701129571, 'model': 'gpt-4-1106-vision-preview', 'usage': {'prompt_tokens': 5243, 'completion_tokens': 649, 'total_tokens': 5892}, 'choices': [{'message': {'role': 'assistant', 'content': 'Image 1: rip paper, tear paper, roll paper, label box, open box, wrap box, block door, throw frisbee, stain paper, bind hair, twist hair, pitch baseball, chop wood, ride bicycle, throw apple, twist rope, wrap book, burst balloon, arrange chairs, arrange flowers\\n\\nImage 2: chop onion, cut onion, slice onion, cook onion, peel onion, grate carrot, throw apple, label bottle, arrange flowers, bend knee, pitch baseball, ride bicycle, chop wood, twist hair, bind hair, pile books, squeeze bottle, block window, boil potato, bake potato\\n\\nImage 3: cook meat, fry meat, chop onion, chop carrot, stir soup, stir coffee, cut meat, slice potato, chop meat, peel carrot, mix eggs, grate carrot, throw frisbee, pitch baseball, bind hair, soak shirt, twist hair, open drawer, roll paper, boil egg\\n\\nImage 4: label box, open box, wrap box, arrange chairs, arrange flowers, pitch baseball, chop wood, ride bicycle, twist hair, bind hair, fold paper, boil egg, cook meat, cut apple, block window, carry umbrella, open bottle, throw apple, stir coffee, fry egg\\n\\nImage 5: bind hair, twist hair, open window, open door, slice apple, label bottle, carry umbrella, roll umbrella, park car, throw frisbee, stain paper, open drawer, tear shirt, pitch baseball, mash potato, cut onion, arrange chairs, close cabinet, coil rope, burst balloon\\n\\nImage 6: slice onion, cut onion, chop onion, arrange flowers, fold paper, label bottle, pitch baseball, twist hair, bind hair, throw baseball, wrap box, roll paper, peel banana, break bowl, close drawer, close cabinet, roll umbrella, chop meat, cook egg, grate potato\\n\\nImage 7: mash potato, boil potato, stir soup, stir coffee, fry potato, pitch baseball, arrange chairs, cut potato, slice potato, chop potato, bind hair, twist hair, grate potato, cook potato, label bottle, carry bag, chop onion, wrap box, fold paper, boil egg\\n\\nImage 8: rip paper, tear paper, open box, label box, close window, close door, throw frisbee, pitch baseball, bind hair, twist hair, arrange flowers, roll paper, cut wood, chop wood, roll umbrella, boil egg, peel banana, cook meat, peel carrot, burst balloon\\n\\nImage 9: peel banana, throw frisbee, mash potato, roll umbrella, open drawer, open window, peel apple, roll paper, tear shirt, label bottle, cut wood, pitch baseball, bind hair, stir soup, arrange flowers, twist hair, chop onion, fry egg, peel orange, ride bicycle\\n\\nImage 10: hang shirt, stain shirt, open door, close window, fold paper, carry bag, wrap book, roll paper, boil egg, pitch baseball, bind hair, twist hair, peel banana, cut apple, open bottle, open box, slice meat, label box, throw football, fry egg'}, 'finish_details': {'type': 'stop', 'stop': '<|fim_suffix|>'}, 'index': 0}]}\n",
            "{'id': 'chatcmpl-8PfnzzL4Z4AZuw4JUckl60ecKYH9X', 'object': 'chat.completion', 'created': 1701129591, 'model': 'gpt-4-1106-vision-preview', 'usage': {'prompt_tokens': 5243, 'completion_tokens': 723, 'total_tokens': 5966}, 'choices': [{'message': {'role': 'assistant', 'content': 'Image 1: break glass, throw baseball, pitch baseball, crack glass, smash window, crack window, break window, burst door, smash door, break door, bend tree, burst balloon, break bowl, break cup, close window, open window, burn wood, saw wood, roll paper, scratch car\\n\\nImage 2: break glass, smash window, crack glass, break window, crack window, throw baseball, burst door, smash door, break door, bend tree, burst balloon, break bowl, break cup, close window, open window, burn wood, saw wood, roll paper, scratch car, throw frisbee\\n\\nImage 3: chop meat, chop wood, cook meat, chop tree, slice meat, cut meat, grind meat, fry meat, cut wood, saw wood, grate carrot, grate potato, cut potato, slice potato, chop carrot, chop onion, slice onion, fry potato, boil potato, cook potato\\n\\nImage 4: burn wood, burn tree, burn paper, ignite wood, ignite paper, boil egg, cook meat, cook egg, break bowl, burn book, close cabinet, chop wood, rip paper, throw frisbee, park car, chop tree, peel apple, peel banana, break glass, close door\\n\\nImage 5: close drawer, open drawer, close cabinet, open cabinet, lock drawer, lock cabinet, cut wood, saw wood, burst door, fasten door, shut door, throw frisbee, chop wood, break glass, peel banana, park car, chop meat, throw apple, mix eggs, fry egg\\n\\nImage 6: tie shoe, twist rope, coil rope, knot rope, throw frisbee, bind hair, burn paper, burst balloon, bend knee, bind hair, block window, break bowl, break glass, fold paper, hang bag, carry umbrella, ignite paper, carry bag, label box, carry book\\n\\nImage 7: arrange flowers, bind hair, arrange chairs, carry bag, bind hair, trim hair, twist hair, shave hair, soak hair, soak shirt, stain shirt, wrap box, tear shirt, label bottle, fasten window, ignite paper, throw frisbee, peel orange, shut door, tear paper\\n\\nImage 8: chop meat, slice meat, cook meat, cut meat, fry meat, grind meat, peel potato, boil potato, fry potato, cut wood, peel apple, peel banana, peel orange, peel carrot, soak shirt, soak hair, label bottle, throw frisbee, tear paper, bend knee\\n\\nImage 9: break glass, smash window, crack glass, break window, crack window, break bowl, break cup, burst balloon, burst door, smash door, bend tree, rip paper, carry book, bind hair, throw frisbee, tie shoe, throw apple, peel orange, cut wood, saw wood\\n\\nImage 10: beat eggs, mix eggs, stir soup, stir coffee, boil egg, cook egg, fry egg, cook potato, peel potato, peel banana, rip paper, roll paper, squeeze orange, peel orange, peel carrot, crack egg, spill coffee, slice potato, mash potato, chop onion\\n\\nImage 11: lock door, lock drawer, lock cabinet, lock window, fasten door, fasten window, close door, close drawer, close cabinet, close window, burst door, throw frisbee, peel orange, peel banana, peel potato, peel apple, throw apple, throw baseball, spill coffee, tie shoe'}, 'finish_details': {'type': 'stop', 'stop': '<|fim_suffix|>'}, 'index': 0}]}\n",
            "{'id': 'chatcmpl-8PfoJyEzP6NBUHySGRq8EWU906Hj0', 'object': 'chat.completion', 'created': 1701129611, 'model': 'gpt-4-1106-vision-preview', 'usage': {'prompt_tokens': 7113, 'completion_tokens': 373, 'total_tokens': 7486}, 'choices': [{'message': {'role': 'assistant', 'content': 'Image 1: bend knee, skin knee, scratch knee, twist hair, bind hair, break glass, cut wood, open umbrella, pitch baseball, ride bicycle\\nImage 2: skin knee, scratch knee, bend knee, bind hair, twist rope, tear paper, carry bag, roll paper, bind hair, shut door\\nImage 3: arrange shirts, hang shirt, close cabinet, close drawer, close door, close window, label box, fold paper, park car, hang bag\\nImage 4: crack egg, break egg, boil egg, roll paper, fry egg, peel potato, peel apple, peel orange, peel banana, mash potato\\nImage 5: arrange flowers, peel orange, peel apple, open bottle, mix eggs, fold paper, arrange chairs, open drawer, hang shirt, carry umbrella\\nImage 6: open umbrella, close umbrella, carry umbrella, twist rope, label bottle, carry bag, roll umbrella, arrange flowers, tie shoe, open door\\nImage 7: slice potato, cut potato, peel potato, boil potato, fry potato, bake potato, grate potato, mash potato, chop potato, arrange chairs\\nImage 8: open umbrella, carry umbrella, arrange flowers, pitch baseball, open drawer, twist rope, bind hair, carry bag, peel apple, lock door\\nImage 9: park car, open door, open hood, close door, close hood, lock door, park car, break glass, break window, scratch car\\nImage 10: slice meat, chop meat, grind meat, arrange chairs, boil egg, mix eggs, peel banana, peel carrot, twist rope, stir soup\\nImage 11: lock door, close door, open door, twist rope, bind hair, bend knee, pitch baseball, fold paper, close window, label box'}, 'finish_details': {'type': 'stop', 'stop': '<|fim_suffix|>'}, 'index': 0}]}\n",
            "{'id': 'chatcmpl-8PfoXuY9bDMET25yRO1BUiGiCtb9E', 'object': 'chat.completion', 'created': 1701129625, 'model': 'gpt-4-1106-vision-preview', 'usage': {'prompt_tokens': 5753, 'completion_tokens': 645, 'total_tokens': 6398}, 'choices': [{'message': {'role': 'assistant', 'content': 'Image 1: chop onion, slice onion, peel onion, peel carrot, pile books, pile boxes, pile wood, cut apple, cut meat, cut potato, boil egg, boil potato, cook egg, cook meat, cook potato, fry egg, fry meat, fry potato, grate carrot, grate potato\\n\\nImage 2: break glass, crack bottle, crack glass, break window, crack window, throw baseball, throw apple, throw football, smash door, smash window, break bowl, break cup, break door, break egg, spill coffee, rip paper, tear book, tear shirt, tear paper, burst balloon\\n\\nImage 3: close cabinet, close door, close drawer, hang shirt, open cabinet, open door, lock cabinet, lock door, shut door, shut window, fasten door, fasten window, open drawer, close window, open bottle, open box, open umbrella, peel banana, peel orange, label bottle\\n\\nImage 4: ignite paper, ignite wood, burn book, burn paper, burn wood, fry potato, fry egg, fry meat, bake potato, cook egg, cook meat, cook potato, boil egg, chop carrot, chop meat, split wood, split tree, chop wood, chop tree, chop onion\\n\\nImage 5: pile wood, chop wood, saw wood, cut tree, cut wood, chop tree, arrange chairs, arrange flowers, throw football, park car, carry bag, carry book, carry umbrella, pile books, pile boxes, burn wood, ignite wood, fry potato, bake potato, break glass\\n\\nImage 6: arrange flowers, pile books, pile boxes, pile wood, arrange chairs, open drawer, shut door, peel banana, peel carrot, peel orange, peel potato, boil egg, stir soup, stir coffee, roll paper, fold paper, label box, label bottle, hang bag, hang shirt\\n\\nImage 7: fry potato, bake potato, peel banana, peel carrot, peel orange, peel potato, cut apple, cut meat, cut potato, boil egg, grate carrot, grate potato, mash potato, roll paper, fold paper, rip paper, tear book, tear paper, tear shirt, slice potato\\n\\nImage 8: burn wood, ignite wood, burn paper, burn book, burn tree, chop wood, chop tree, saw wood, split wood, split tree, park car, open umbrella, peel banana, peel carrot, peel apple, peel orange, throw football, throw apple, throw baseball, pile wood\\n\\nImage 9: block door, block window, close door, close window, lock door, lock window, shut door, shut window, fasten door, fasten window, pile wood, pile books, pile boxes, open door, open cabinet, open box, open drawer, fold paper, roll paper, peel banana\\n\\nImage 10: tear paper, rip paper, roll paper, fold paper, open box, wrap box, label box, label bottle, open bottle, wrap book, open drawer, lock drawer, close drawer, fasten door, fasten window, open door, shut door, shut window, knot rope, twist rope'}, 'finish_details': {'type': 'stop', 'stop': '<|fim_suffix|>'}, 'index': 0}]}\n",
            "{'id': 'chatcmpl-8PforXwlDUa0U4JD2ThrXp3dIXZHx', 'object': 'chat.completion', 'created': 1701129645, 'model': 'gpt-4-1106-vision-preview', 'usage': {'prompt_tokens': 6603, 'completion_tokens': 671, 'total_tokens': 7274}, 'choices': [{'message': {'role': 'assistant', 'content': 'Image 1: open window, clean window, close window, lock window, unlock window, break window, crack window, smash window, block window, shutter window, unblock window, unshutter window, repair window, inspect window, examine window, measure window, seal window, tape window, tint window, frost window\\n\\nImage 2: arrange chairs, park cart, store cart, align cart, organize cart, position cart, stack cart, line up cart, gather cart, collect cart, secure cart, fasten cart, lock cart, place cart, insert cart, support cart, nest cart, consolidate cart, group cart, deploy cart\\n\\nImage 3: roll paper, unroll paper, age paper, preserve paper, curl paper, wrap paper, unravel paper, scroll paper, secure paper, bind paper, flatten paper, smooth paper, twist paper, restore paper, compress paper, crease paper, recycle paper, tatter paper, weather paper, handle paper\\n\\nImage 4: pile wood, stack wood, chop wood, saw wood, split wood, sort wood, organize wood, arrange wood, gather wood, collect wood, store wood, season wood, cut wood, trim wood, log wood, assemble wood, hoard wood, classify wood, dry wood, cure wood\\n\\nImage 5: carry bag, hang bag, sling bag, pack bag, shoulder bag, adjust bag, secure bag, fasten bag, grip bag, hoist bag, tote bag, transport bag, balance bag, wear bag, support bag, lug bag, retrieve bag, hold bag, lift bag, maneuver bag\\n\\nImage 6: cook meat, serve meat, cut meat, slice meat, grill meat, fry meat, flip meat, season meat, plate meat, garnish meat, carve meat, taste meat, present meat, prepare meat, marinate meat, baste meat, roast meat, sauté meat, mince meat, chew meat\\n\\nImage 7: block door, seal door, plaster door, brick up door, construct door, reinforce door, patch door, repair door, close door, lock door, restore door, fill door, build door, cement door, overlay door, secure door, insulate door, shut door, install door, close up door\\n\\nImage 8: beat eggs, mix eggs, whisk eggs, stir eggs, froth eggs, fluff eggs, blend eggs, combine eggs, scramble eggs, prepare eggs, fold eggs, incorporate eggs, whip eggs, aerate eggs, emulsify eggs, agitate eggs, churn eggs, shake eggs, whip up eggs, batter eggs\\n\\nImage 9: close cabinet, open cabinet, lock cabinet, unlock cabinet, arrange cabinet, clean cabinet, organize cabinet, inspect cabinet, adjust cabinet, search cabinet, secure cabinet, fasten cabinet, fill cabinet, empty cabinet, install cabinet, paint cabinet, restore cabinet, shut cabinet, stock cabinet, sort cabinet\\n\\nImage 10: chop onion, slice onion, dice onion, mince onion, cut onion, julienne onion, peel onion, shred onion, trim onion, separate onion, carve onion, segment onion, cleave onion, quarter onion, chop up onion, divide onion, cube onion, slit onion, partition onion, dissect onion'}, 'finish_details': {'type': 'stop', 'stop': '<|fim_suffix|>'}, 'index': 0}]}\n"
          ]
        }
      ],
      "source": [
        "result_list4 = run_model(splitted_lists['list_4'])"
      ]
    },
    {
      "cell_type": "code",
      "execution_count": null,
      "id": "CXlg9VHXOerc",
      "metadata": {
        "id": "CXlg9VHXOerc"
      },
      "outputs": [],
      "source": [
        "with open('result_list4.json', 'w') as file:\n",
        "    json.dump(result_list4, file)"
      ]
    },
    {
      "cell_type": "code",
      "execution_count": null,
      "id": "nYC12Wj6OlHH",
      "metadata": {
        "colab": {
          "base_uri": "https://localhost:8080/"
        },
        "id": "nYC12Wj6OlHH",
        "outputId": "baa9b4ae-e1c7-447e-c72b-24e578d9f861"
      },
      "outputs": [
        {
          "name": "stdout",
          "output_type": "stream",
          "text": [
            "{'id': 'chatcmpl-8PiTHTQgifUiUSZ9v4OWAtaaCWl3c', 'object': 'chat.completion', 'created': 1701139839, 'model': 'gpt-4-1106-vision-preview', 'usage': {'prompt_tokens': 7283, 'completion_tokens': 710, 'total_tokens': 7993}, 'choices': [{'message': {'role': 'assistant', 'content': 'Image 1: pitch baseball, throw baseball, bend knee, twist rope, coil rope, lock cabinet, peel banana, squeeze bottle, roll paper, fold paper, tear book, ignite wood, bind hair, knot rope, chop carrot, cut apple, hang shirt, fry meat, ride bicycle, arrange chairs\\n\\nImage 2: bite apple, peel apple, slice apple, cut apple, throw apple, arrange flowers, bind hair, chop carrot, break glass, burst balloon, mash potato, fry potato, bake potato, boil potato, grate carrot, stain shirt, roll paper, fold paper, label box, carry bag\\n\\nImage 3: twist hair, bind hair, arrange flowers, tie shoe, label box, open bottle, peel banana, fasten door, shut door, bind hair, coil rope, hang bag, tear paper, fry meat, boil egg, mash potato, slice apple, arrange chairs, break glass, roll umbrella\\n\\nImage 4: bake potato, cook potato, fry potato, mash potato, chop onion, boil potato, grate potato, cut potato, slice potato, arrange chairs, dice potato, peel potato, arrange flowers, stir soup, bind hair, chop meat, peel orange, stir coffee, throw frisbee, ride bicycle\\n\\nImage 5: open bottle, pour water, break glass, crack bottle, spill coffee, fill glass, close bottle, squeeze bottle, bind hair, shut door, arrange flowers, label bottle, close cabinet, coil rope, chop wood, break bowl, fry egg, roll paper, mash potato, arrange chairs\\n\\nImage 6: open drawer, close drawer, lock drawer, arrange chairs, close cabinet, park car, label bottle, chop carrot, tie shoe, label box, shut window, bind hair, throw frisbee, fry egg, chop meat, boil egg, hang shirt, stack boxes, close book, open door\\n\\nImage 7: cut tree, chop tree, saw tree, chop wood, split wood, slice potato, cut wood, break window, close window, arrange chairs, open window, pile wood, smash door, twist rope, peel carrot, throw football, ride bicycle, burn wood, shut door, lock door\\n\\nImage 8: rip paper, tear paper, fold paper, spill coffee, label bottle, park car, open bottle, throw football, peel banana, arrange flowers, cut apple, peel apple, chop meat, tie shoe, bind hair, stain shirt, fry egg, shut window, close book, open door\\n\\nImage 9: peel orange, squeeze orange, arrange chairs, throw apple, open window, close window, fry meat, slice orange, shut door, chop meat, mix eggs, boil egg, chop onion, roll umbrella, roll paper, carry umbrella, label box, fry potato, peel apple, ignite paper\\n\\nImage 10: pile boxes, label box, arrange chairs, stack boxes, carry bag, close door, lock door, shut window, open door, twist rope, roll paper, fold paper, park car, throw frisbee, carry book, arrange flowers, tie shoe, open cabinet, close drawer, bind hair\\n\\nImage 11: arrange flowers, close window, shut window, block window, open window, break window, twist rope, pile wood, chop meat, tie shoe, open door, label bottle, peel orange, break glass, burst balloon, slice apple, pile books, lock window, boil egg, spill coffee'}, 'finish_details': {'type': 'stop', 'stop': '<|fim_suffix|>'}, 'index': 0}]}\n",
            "{'id': 'chatcmpl-8PiTa10nInLPeyEiT26X1xOKV2WxC', 'object': 'chat.completion', 'created': 1701139858, 'model': 'gpt-4-1106-vision-preview', 'usage': {'prompt_tokens': 5583, 'completion_tokens': 647, 'total_tokens': 6230}, 'choices': [{'message': {'role': 'assistant', 'content': 'Image 2: break door, fasten door, open door, shut door, kick door, crack bottle, break glass, bend knee, bind hair, block door, break bowl, break cup, burn book, break window, carry bag, chop tree, close door, coil rope, crack window, break egg\\n\\nImage 3: break tree, saw tree, chop wood, split wood, bend tree, block window, cut tree, cut wood, split tree, burn tree, burst balloon, carry bag, close window, fold paper, hang bag, label bottle, mash potato, open window, pile wood, rip paper\\n\\nImage 4: break door, burst door, shut door, open door, smash door, fasten door, kick door, lock door, crack window, break glass, bend knee, carry bag, chop wood, close door, cut wood, fold paper, hang shirt, label box, peel banana, pile boxes\\n\\nImage 5: arrange chairs, pile wood, bend knee, break glass, break window, chop wood, coil rope, fold paper, label box, lock door, open window, roll paper, saw wood, split wood, stain paper, stir soup, throw apple, twist rope, wrap book, wrap box\\n\\nImage 6: stir coffee, spill coffee, break egg, crack egg, break cup, burn book, fry egg, fry meat, fry potato, mix eggs, peel orange, open bottle, open door, pour coffee, serve coffee, shut door, squeeze bottle, stain shirt, stir soup, throw frisbee\\n\\nImage 7: tear paper, rip paper, arrange flowers, arrange chairs, burst balloon, carry book, cut apple, fold paper, label bottle, peel banana, roll paper, shut window, spill coffee, twist hair, wrap book, shut door, stain paper, stain shirt, squeeze orange, tear shirt\\n\\nImage 8: close cabinet, close drawer, open cabinet, open drawer, shut door, shut window, arrange chairs, hang bag, label box, lock cabinet, lock door, lock drawer, open door, open window, peel potato, pile boxes, pile wood, wrap book, wrap box, tear paper\\n\\nImage 9: pile boxes, arrange chairs, close drawer, carry bag, carry book, fasten window, lock door, label box, open box, pile books, peel banana, peel potato, shut door, shut window, stack boxes, wrap box, tie shoe, bend knee, break bowl, break glass\\n\\nImage 10: boil egg, cook egg, slice onion, slice potato, carry bag, chop onion, fry egg, grate carrot, grate potato, peel apple, peel orange, peel potato, shut door, shut window, stir coffee, stir soup, throw baseball, throw football, mash potato, open umbrella\\n\\nImage 11: throw football, pitch baseball, throw apple, throw frisbee, burst balloon, carry umbrella, kick football, open umbrella, roll umbrella, fasten window, break egg, crack egg, cut apple, fold paper, rip paper, shut door, tie shoe, bend knee, bind hair, twist hair'}, 'finish_details': {'type': 'stop', 'stop': '<|fim_suffix|>'}, 'index': 0}]}\n",
            "{'id': 'chatcmpl-8PiTvqjYOdsWYMKLyIYCifg5aOsHr', 'object': 'chat.completion', 'created': 1701139879, 'model': 'gpt-4-1106-vision-preview', 'usage': {'prompt_tokens': 4563, 'completion_tokens': 413, 'total_tokens': 4976}, 'choices': [{'message': {'role': 'assistant', 'content': 'Based on the images provided, here are the verb-noun pairs that best describe the actions that could be associated with each image:\\n\\nImage 1 (training example): pitch baseball\\n\\nImage 2: close window, open window, lock window, block window, shut window, break window, crack window, fasten window, arrange chairs, stain shirt\\n\\nImage 3: crop hair, trim hair, shave hair, bind hair, twist hair, tear shirt, scratch knee, soak shirt, soak hair, arrange chairs\\n\\nImage 4: chop onion, cut onion, slice onion, cook onion, mash potato, peel carrot, grate carrot, stir soup, fry potato, arrange chairs\\n\\nImage 5: coil rope, knot rope, twist rope, tie shoe, arrange chairs, carry bag, bind hair, label bottle, fold paper, carry umbrella\\n\\nImage 6: insert key, lock door, open door, close door, unlock door, turn key, arrange chairs, label bottle, shut door, fasten door\\n\\nImage 7: crack glass, break glass, smash door, burst balloon, shut window, break window, break door, break cup, break bowl, arrange chairs\\n\\nImage 8: open cabinet, close cabinet, lock cabinet, fasten door, break window, shut door, arrange chairs, pile wood, park car, twist rope\\n\\nImage 9: pile boxes, arrange flowers, wrap box, label box, open box, close book, arrange chairs, break bowl, burn book, bind hair\\n\\nImage 10: twist hair, bind hair, trim hair, arrange flowers, arrange chairs, tie shoe, soak hair, shave hair, label bottle, carry bag\\n\\nImage 11: arrange chairs, label bottle, fold paper, pile wood, bind hair, twist hair, wrap book, toss frisbee, shut window, lock drawer\\n\\nThese pairs are based on the likely actions or the descriptions that one might attribute to the objects or scenes within the images, even if no action is directly depicted.'}, 'finish_details': {'type': 'stop', 'stop': '<|fim_suffix|>'}, 'index': 0}]}\n",
            "{'id': 'chatcmpl-8PiU9MylEjuflnV5pwlOVe0XOINT8', 'object': 'chat.completion', 'created': 1701139893, 'model': 'gpt-4-1106-vision-preview', 'usage': {'prompt_tokens': 5073, 'completion_tokens': 725, 'total_tokens': 5798}, 'choices': [{'message': {'role': 'assistant', 'content': 'Image 1: scratch car, scratch knee, stain shirt, stain paper, rip paper, peel banana, peel potato, peel apple, peel orange, peel carrot, mash potato, open umbrella, carry umbrella, throw frisbee, throw football, throw apple, throw baseball, fasten door, fasten window, fold paper\\n\\nImage 2: scratch car, rip paper, peel orange, peel apple, peel potato, peel carrot, peel banana, stain shirt, stain paper, scratch knee, fasten window, fasten door, fold paper, throw frisbee, throw baseball, throw apple, throw football, open umbrella, carry umbrella, mash potato\\n\\nImage 3: fasten door, fasten window, lock drawer, lock door, lock cabinet, close drawer, close door, close cabinet, block door, block window, throw football, throw apple, throw frisbee, throw baseball, rip paper, fold paper, stain paper, stain shirt, peel banana, peel potato\\n\\nImage 4: arrange books, pile books, close book, open book, wrap book, tear book, stain shirt, stain paper, fold paper, fasten door, throw frisbee, throw football, throw apple, throw baseball, peel potato, peel orange, peel apple, peel banana, peel carrot, fasten window\\n\\nImage 5: open window, close window, lock window, fasten window, block window, smash window, break window, crack window, wash window, throw baseball, throw frisbee, throw apple, throw football, rip paper, fold paper, stain paper, stain shirt, peel potato, peel banana, peel apple\\n\\nImage 6: open umbrella, carry umbrella, fold umbrella, roll umbrella, throw frisbee, throw football, throw apple, throw baseball, stain shirt, stain paper, stain shirt, rip paper, scratch car, scratch knee, peel banana, peel potato, peel apple, peel carrot, mash potato, fasten door\\n\\nImage 7: soak shirt, soak hair, bend knee, peel potato, peel banana, peel apple, peel orange, peel carrot, stain paper, stain shirt, fold paper, throw frisbee, throw baseball, throw apple, throw football, rip paper, scratch knee, scratch car, mash potato, fasten window\\n\\nImage 8: pile wood, chop wood, saw wood, split wood, cut wood, arrange flowers, arrange chairs, throw frisbee, throw baseball, throw apple, throw football, rip paper, fold paper, stain shirt, stain paper, scratch car, scratch knee, peel banana, peel potato, peel apple\\n\\nImage 9: peel bark, strip tree, split wood, chop wood, saw wood, cut wood, peel potato, peel banana, peel apple, peel orange, peel carrot, stain shirt, stain paper, rip paper, fold paper, throw frisbee, throw football, throw apple, throw baseball, soak shirt\\n\\nImage 10: close book, open book, wrap book, tear book, fold paper, pile books, rip paper, stain shirt, stain paper, arrange flowers, throw apple, throw baseball, throw frisbee, throw football, scratch knee, scratch car, peel orange, peel banana, peel potato, fasten door\\n\\nPlease note that some of the verb-noun pairs had to be used creatively to fit the limited context of the images. The images may not depict all the verbs in a traditional sense, but the pairs were chosen from the provided list to closely represent potential associated actions.'}, 'finish_details': {'type': 'stop', 'stop': '<|fim_suffix|>'}, 'index': 0}]}\n",
            "{'id': 'chatcmpl-8PiURhnbMjzrxPUw6U6gDV0U4sOJP', 'object': 'chat.completion', 'created': 1701139911, 'model': 'gpt-4-1106-vision-preview', 'usage': {'prompt_tokens': 4563, 'completion_tokens': 701, 'total_tokens': 5264}, 'choices': [{'message': {'role': 'assistant', 'content': 'Image 1: pitch baseball, throw baseball, twist rope, bend knee, burst door, bind hair, roll paper, chop meat, carry umbrella, lock cabinet, smash window, open door, tie shoe, arrange flowers, rip paper, kick door, cut meat, shut door, spill coffee, catch baseball\\n\\nImage 2: chop meat, cut meat, slice meat, arrange chairs, trim hair, label bottle, open box, peel potato, shut window, carry bag, cook meat, break egg, mash potato, fasten door, pile books, bend knee, lock cabinet, burn wood, break glass, twist hair\\n\\nImage 3: fasten door, lock door, block door, shut door, close door, chain door, lock cabinet, bind hair, close cabinet, lock drawer, fasten window, block window, twist rope, coil rope, knot rope, tie shoe, roll paper, bend knee, trim hair, pile boxes\\n\\nImage 4: wrap box, open box, peel banana, fold paper, label box, close drawer, arrange chairs, lock drawer, bind hair, trim hair, slice apple, cut potato, tear paper, pile books, shut window, close book, bake potato, pile wood, tie shoe, carry bag\\n\\nImage 5: trim hair, bind hair, twist hair, slice apple, shut door, wrap box, open box, label bottle, arrange flowers, carry bag, shut window, boil egg, peel banana, tie shoe, crack egg, roll paper, lock window, bend knee, grate carrot, chop onion\\n\\nImage 6: spill coffee, break cup, shut window, spill coffee, tear paper, soak shirt, throw apple, open bottle, close drawer, burst balloon, arrange flowers, break glass, crack bottle, pile books, fry potato, stain shirt, burn paper, twist rope, rip paper, peel banana\\n\\nImage 7: soak shirt, carry bag, fold paper, arrange flowers, pile books, wrap box, open box, mash potato, fry egg, spill coffee, carry umbrella, tie shoe, label bottle, peel banana, open drawer, close window, bake potato, lock drawer, close cabinet, lock door\\n\\nImage 8: break glass, smash window, crack glass, break bowl, arrange flowers, twist hair, spill coffee, throw apple, peel banana, bind hair, label bottle, fold paper, stain shirt, rip paper, peel orange, trim hair, fry potato, slice apple, shut window, lock drawer\\n\\nImage 9: arrange flowers, open window, arrange chairs, pour water, fold paper, bind hair, tie shoe, hang bag, label box, close drawer, shut door, fry meat, chop onion, cook potato, stain shirt, roll paper, mash potato, boil egg, lock cabinet, twist rope\\n\\nImage 10: arrange chairs, burn tree, twist rope, burn wood, peel banana, close window, bind hair, tie shoe, twist hair, burn paper, spill coffee, label bottle, throw apple, peel carrot, peel potato, fry meat, break glass, break egg, mash potato, tear paper\\n\\nNote: The verb-noun pairs provided may not directly relate to the actions depicted in each image, as the images do not necessarily show actions or the list does not contain appropriate verbs for those specific actions. The pairs have been chosen based on the list provided and the content of the images.'}, 'finish_details': {'type': 'stop', 'stop': '<|fim_suffix|>'}, 'index': 0}]}\n"
          ]
        }
      ],
      "source": [
        "result_list5 = run_model(splitted_lists['list_5'])"
      ]
    },
    {
      "cell_type": "code",
      "execution_count": null,
      "id": "Qbuzawh90gPv",
      "metadata": {
        "colab": {
          "base_uri": "https://localhost:8080/"
        },
        "id": "Qbuzawh90gPv",
        "outputId": "f49fdf4b-ed02-4381-c33c-7f1162c7f3fc"
      },
      "outputs": [
        {
          "name": "stdout",
          "output_type": "stream",
          "text": [
            "Image 1: pitch baseball, throw baseball, twist rope, bend knee, burst door, bind hair, roll paper, chop meat, carry umbrella, lock cabinet, smash window, open door, tie shoe, arrange flowers, rip paper, kick door, cut meat, shut door, spill coffee, catch baseball\n",
            "\n",
            "Image 2: chop meat, cut meat, slice meat, arrange chairs, trim hair, label bottle, open box, peel potato, shut window, carry bag, cook meat, break egg, mash potato, fasten door, pile books, bend knee, lock cabinet, burn wood, break glass, twist hair\n",
            "\n",
            "Image 3: fasten door, lock door, block door, shut door, close door, chain door, lock cabinet, bind hair, close cabinet, lock drawer, fasten window, block window, twist rope, coil rope, knot rope, tie shoe, roll paper, bend knee, trim hair, pile boxes\n",
            "\n",
            "Image 4: wrap box, open box, peel banana, fold paper, label box, close drawer, arrange chairs, lock drawer, bind hair, trim hair, slice apple, cut potato, tear paper, pile books, shut window, close book, bake potato, pile wood, tie shoe, carry bag\n",
            "\n",
            "Image 5: trim hair, bind hair, twist hair, slice apple, shut door, wrap box, open box, label bottle, arrange flowers, carry bag, shut window, boil egg, peel banana, tie shoe, crack egg, roll paper, lock window, bend knee, grate carrot, chop onion\n",
            "\n",
            "Image 6: spill coffee, break cup, shut window, spill coffee, tear paper, soak shirt, throw apple, open bottle, close drawer, burst balloon, arrange flowers, break glass, crack bottle, pile books, fry potato, stain shirt, burn paper, twist rope, rip paper, peel banana\n",
            "\n",
            "Image 7: soak shirt, carry bag, fold paper, arrange flowers, pile books, wrap box, open box, mash potato, fry egg, spill coffee, carry umbrella, tie shoe, label bottle, peel banana, open drawer, close window, bake potato, lock drawer, close cabinet, lock door\n",
            "\n",
            "Image 8: break glass, smash window, crack glass, break bowl, arrange flowers, twist hair, spill coffee, throw apple, peel banana, bind hair, label bottle, fold paper, stain shirt, rip paper, peel orange, trim hair, fry potato, slice apple, shut window, lock drawer\n",
            "\n",
            "Image 9: arrange flowers, open window, arrange chairs, pour water, fold paper, bind hair, tie shoe, hang bag, label box, close drawer, shut door, fry meat, chop onion, cook potato, stain shirt, roll paper, mash potato, boil egg, lock cabinet, twist rope\n",
            "\n",
            "Image 10: arrange chairs, burn tree, twist rope, burn wood, peel banana, close window, bind hair, tie shoe, twist hair, burn paper, spill coffee, label bottle, throw apple, peel carrot, peel potato, fry meat, break glass, break egg, mash potato, tear paper\n",
            "\n",
            "Note: The verb-noun pairs provided may not directly relate to the actions depicted in each image, as the images do not necessarily show actions or the list does not contain appropriate verbs for those specific actions. The pairs have been chosen based on the list provided and the content of the images.\n"
          ]
        }
      ],
      "source": [
        "print(result_list5[4])"
      ]
    },
    {
      "cell_type": "code",
      "execution_count": null,
      "id": "WNtWcFDTQR5-",
      "metadata": {
        "id": "WNtWcFDTQR5-"
      },
      "outputs": [],
      "source": [
        "with open('result_list5.json', 'w') as file:\n",
        "    json.dump(result_list5, file)"
      ]
    },
    {
      "cell_type": "code",
      "execution_count": null,
      "id": "3O2uwUTjOlOH",
      "metadata": {
        "colab": {
          "base_uri": "https://localhost:8080/"
        },
        "id": "3O2uwUTjOlOH",
        "outputId": "18f18987-ad3f-4677-867f-a71e08b82a09"
      },
      "outputs": [
        {
          "name": "stdout",
          "output_type": "stream",
          "text": [
            "{'id': 'chatcmpl-8PgKxqVF1CdpxWVKCTpYjccIch18A', 'object': 'chat.completion', 'created': 1701131635, 'model': 'gpt-4-1106-vision-preview', 'usage': {'prompt_tokens': 6263, 'completion_tokens': 648, 'total_tokens': 6911}, 'choices': [{'message': {'role': 'assistant', 'content': 'Image 1: lock window, close window, fasten window, open window, shut window, block window, smash window, crack window, break window, arrange flowers, tie shoe, bake potato, bend knee, bite apple, boil egg, chop carrot, close book, fold paper, fry egg, grate carrot\\n\\nImage 2: open box, label box, wrap box, arrange chairs, bind hair, bend tree, break glass, carry umbrella, chop meat, close drawer, coil rope, cook potato, crack bottle, crash car, cut apple, fasten door, fold paper, hang shirt, ignite paper, kick door\\n\\nImage 3: coil rope, pile boxes, tie shoe, label bottle, open drawer, break bowl, cut potato, fry meat, grate potato, hang bag, lock cabinet, mash potato, park car, peel banana, rip paper, saw wood, shut door, squeeze orange, stain shirt, trim hair\\n\\nImage 4: close door, open door, block door, shut door, fasten door, lock door, smash door, twist rope, bend knee, break cup, carry bag, chop wood, close book, cook onion, grind meat, hang shirt, ignite wood, kick football, peel orange, roll paper\\n\\nImage 5: hang bag, carry bag, open door, shut window, lock drawer, bind hair, bake potato, bend tree, bite apple, boil potato, break door, burn book, chop meat, close cabinet, cook egg, crack glass, cut onion, fasten window, fry potato, grate carrot\\n\\nImage 6: fasten door, lock door, block door, shut door, twist rope, arrange chairs, bend knee, boil egg, break bowl, carry book, chop tree, cook meat, crack window, fold paper, ignite wood, kick football, open bottle, peel apple, skin knee, throw apple\\n\\nImage 7: pile books, arrange flowers, bind hair, boil potato, break cup, carry umbrella, chop carrot, close drawer, fry egg, hang shirt, kick door, lock cabinet, open window, park car, peel banana, rip paper, saw tree, shut window, squeeze bottle, twist hair\\n\\nImage 8: open umbrella, carry umbrella, roll umbrella, close umbrella, block window, bind hair, bake potato, break bowl, chop onion, fasten door, grate potato, hang bag, kick football, lock drawer, mash potato, park car, peel carrot, throw frisbee, tie shoe, wrap book\\n\\nImage 9: boil egg, cook egg, crack egg, fry egg, break egg, peel potato, chop meat, close door, fold paper, grate carrot, hang shirt, kick door, lock window, open bottle, pile wood, rip paper, saw wood, shut window, squeeze orange, twist rope\\n\\nImage 10: wrap box, label box, open box, arrange chairs, bend knee, bite apple, break glass, carry bag, chop tree, close book, cook onion, fasten window, fry potato, hang shirt, ignite paper, kick football, mash potato, peel banana, saw wood, trim hair'}, 'finish_details': {'type': 'stop', 'stop': '<|fim_suffix|>'}, 'index': 0}]}\n",
            "{'id': 'chatcmpl-8PgLGrp38Stf6ePybzHdHyJh96gpG', 'object': 'chat.completion', 'created': 1701131654, 'model': 'gpt-4-1106-vision-preview', 'usage': {'prompt_tokens': 8473, 'completion_tokens': 643, 'total_tokens': 9116}, 'choices': [{'message': {'role': 'assistant', 'content': 'Image 1: open umbrella, carry umbrella, twist rope, fold paper, peel banana, peel orange, peel apple, carry bag, carry book, coil rope, arrange flowers, arrange chairs, close drawer, close door, close window, close cabinet, close book, fry meat, fry potato, fry egg\\n\\nImage 2: slice onion, cut onion, chop onion, peel onion, arrange chairs, arrange flowers, bind hair, label bottle, tie shoe, carry bag, cook onion, mash potato, grate carrot, grate potato, cut meat, close drawer, close cabinet, chop meat, bake potato, boil egg\\n\\nImage 3: pile wood, pile books, chop wood, chop tree, arrange flowers, arrange chairs, saw wood, saw tree, carry bag, stack wood, bind hair, chop carrot, chop onion, bend tree, slice potato, slice onion, cut tree, split wood, split tree, strip tree\\n\\nImage 4: carry bag, open drawer, lock drawer, close drawer, label bottle, label box, arrange chairs, arrange flowers, tie shoe, open cabinet, close cabinet, lock cabinet, roll paper, fold paper, shut window, shut door, lock door, open door, carry book, carry umbrella\\n\\nImage 5: break door, smash door, burst door, open door, close door, lock door, block door, kick door, shut door, fasten door, carry bag, arrange chairs, arrange flowers, bind hair, twist hair, throw frisbee, throw apple, throw football, break glass, tie shoe\\n\\nImage 6: stain paper, tear paper, rip paper, open drawer, close drawer, fold paper, roll paper, soak shirt, carry bag, carry book, arrange flowers, arrange chairs, break glass, break window, close window, close book, label bottle, label box, ignite paper, soak hair\\n\\nImage 7: pile books, cut wood, saw wood, chop wood, carry bag, arrange chairs, arrange flowers, pile wood, bind hair, label box, open drawer, close drawer, tear paper, roll paper, saw tree, slice potato, slice onion, carry book, carry umbrella, fold paper\\n\\nImage 8: soak shirt, tear shirt, stain shirt, carry bag, open door, close door, arrange flowers, arrange chairs, bind hair, fold paper, roll paper, carry book, carry umbrella, open drawer, close drawer, lock door, shut window, label bottle, label box, peel banana\\n\\nImage 9: throw apple, catch apple, bite apple, peel apple, slice apple, arrange chairs, arrange flowers, carry bag, bind hair, label bottle, open drawer, close drawer, carry book, tie shoe, carry umbrella, roll paper, fold paper, cook egg, fry egg, peel orange\\n\\nImage 10: block window, close window, fasten window, open window, shut window, arrange chairs, arrange flowers, bind hair, carry bag, label box, carry umbrella, open door, shut door, close door, lock door, tear paper, pile wood, pile books, roll paper, tie shoe'}, 'finish_details': {'type': 'stop', 'stop': '<|fim_suffix|>'}, 'index': 0}]}\n",
            "{'id': 'chatcmpl-8PgLZIuxeTYePn3H68Ed5fqoBSVCZ', 'object': 'chat.completion', 'created': 1701131673, 'model': 'gpt-4-1106-vision-preview', 'usage': {'prompt_tokens': 6263, 'completion_tokens': 653, 'total_tokens': 6916}, 'choices': [{'message': {'role': 'assistant', 'content': 'Image 2: slice apple, peel apple, cut apple, arrange chairs, place apple, stack apple, chop apple, segment apple, display apple, prepare apple, present apple, organize apple, sort apple, divide apple, separate apple, core apple, align apple, distribute apple, provide apple, serve apple\\n\\nImage 3: chop potato, cut potato, dice potato, peel potato, grate potato, pile potato, cube potato, slice potato, prepare potato, place potato, arrange potato, stack potato, display potato, sort potato, portion potato, serve potato, present potato, organize potato, distribute potato, separate potato\\n\\nImage 4: carry bottle, open bottle, hold bottle, arrange chairs, label bottle, grip bottle, present bottle, display bottle, offer bottle, chill bottle, store bottle, place bottle, transport bottle, share bottle, manage bottle, secure bottle, provide bottle, handle bottle, position bottle, furnish bottle\\n\\nImage 5: stir coffee, arrange chairs, mix eggs, pour coffee, whip coffee, swirl coffee, blend coffee, move coffee, create coffee, generate coffee, produce coffee, cause coffee, prepare coffee, design coffee, develop coffee, build coffee, make coffee, compose coffee, construct coffee, form coffee\\n\\nImage 6: throw apple, catch apple, juggle apple, toss apple, hold apple, balance apple, play apple, arrange chairs, present apple, pass apple, retrieve apple, lift apple, entertain apple, aim apple, target apple, suspend apple, loose apple, float apple, manipulate apple, handle apple\\n\\nImage 7: throw football, catch football, pass football, kick football, launch football, toss football, send football, propel football, fling football, hurl football, arrange chairs, play football, aim football, shoot football, project football, flight football, guide football, direct football, pitch football, transmit football\\n\\nImage 8: pile wood, stack wood, chop wood, arrange wood, organize wood, store wood, collect wood, gather wood, assemble wood, sort wood, place wood, position wood, load wood, distribute wood, align wood, hoard wood, accumulate wood, amass wood, array wood, order wood\\n\\nImage 9: open umbrella, close umbrella, carry umbrella, hold umbrella, lift umbrella, handle umbrella, grip umbrella, manage umbrella, control umbrella, operate umbrella, unfurl umbrella, lock umbrella, fasten umbrella, release umbrella, adjust umbrella, arrange chairs, secure umbrella, utilize umbrella, employ umbrella, deploy umbrella\\n\\nImage 10: open door, open cabinet, open drawer, arrange chairs, close door, close cabinet, close drawer, check door, inspect door, explore door, examine door, review door, study door, investigate door, survey door, observe door, assess door, evaluate door, appraise door, look door\\n\\nImage 11: break glass, crack glass, shatter glass, smash glass, arrange chairs, hit glass, burst glass, bust glass, fracture glass, splinter glass, destroy glass, ruin glass, wreck glass, demolish glass, ravage glass, wreck glass, obliterate glass, annihilate glass, devastate glass, damage glass'}, 'finish_details': {'type': 'stop', 'stop': '<|fim_suffix|>'}, 'index': 0}]}\n",
            "{'id': 'chatcmpl-8PgLq4pcdARBFNvBP2SgTdrPAJT7D', 'object': 'chat.completion', 'created': 1701131690, 'model': 'gpt-4-1106-vision-preview', 'usage': {'prompt_tokens': 6263, 'completion_tokens': 448, 'total_tokens': 6711}, 'choices': [{'message': {'role': 'assistant', 'content': \"Based on the provided images and your instructions, I will now identify 10 different verb-noun pairs for each image from the given list. Since I can't see actions taking place but only static images, I will infer likely actions based on the content of each image.\\n\\nImage 1: close cabinet, lock door, open cabinet, fasten door, open drawer, lock drawer, shut door, arrange chairs, label box, tie shoe\\nImage 2: hang bag, label box, open box, pile books, arrange chairs, tie shoe, throw frisbee, arrange flowers, fold paper, chop wood\\nImage 3: burst balloon, break glass, throw football, burst door, throw baseball, smash door, crack glass, break bowl, skin knee, throw apple\\nImage 4: arrange flowers, hold flowers, throw frisbee, carry bag, tie shoe, arrange chairs, open umbrella, label box, peel orange, wrap book\\nImage 5: bake potato, boil potato, chop potato, grate potato, mash potato, cook potato, peel potato, slice potato, fry potato, arrange chairs\\nImage 6: skin knee, scratch knee, bend knee, stain shirt, spill coffee, throw football, tie shoe, burst door, tear shirt, chop meat\\nImage 7: throw football, carry bag, park car, ride bicycle, throw frisbee, throw baseball, knot rope, roll paper, tie shoe, arrange chairs\\nImage 8: chop meat, cut meat, slice meat, grind meat, fry meat, carry bag, throw football, arrange chairs, tie shoe, arrange flowers\\nImage 9: carry umbrella, open umbrella, roll umbrella, arrange chairs, label box, throw frisbee, fold paper, park car, carry bag, tie shoe\\nImage 10: open drawer, close drawer, lock drawer, lock cabinet, open cabinet, fasten window, fasten door, label bottle, arrange flowers, pile books\\n\\nPlease note that I've used the given list to supply actions that could reasonably be associated with the objects and scenarios presented in the images, despite the fact that the images themselves do not always depict an action in progress.\"}, 'finish_details': {'type': 'stop', 'stop': '<|fim_suffix|>'}, 'index': 0}]}\n",
            "{'id': 'chatcmpl-8PgM6ieIinHXt7J6Zt1A88Fc09KKB', 'object': 'chat.completion', 'created': 1701131706, 'model': 'gpt-4-1106-vision-preview', 'usage': {'prompt_tokens': 5073, 'completion_tokens': 644, 'total_tokens': 5717}, 'choices': [{'message': {'role': 'assistant', 'content': 'Image 1: break glass, crack bottle, spill coffee, throw apple, smash door, burst balloon, rip paper, crack window, break bowl, roll paper, break window, smash window, crack glass, throw baseball, break cup, tear paper, throw frisbee, break door, tear book, break egg\\n\\nImage 2: chop carrot, chop onion, slice carrot, grate carrot, peel carrot, cut carrot, chop meat, peel onion, slice onion, cut onion, chop wood, slice apple, peel apple, cut apple, slice potato, peel potato, cut potato, mash potato, chop tree, saw wood\\n\\nImage 3: chop onion, chop carrot, grate carrot, peel carrot, slice carrot, cut carrot, chop meat, slice onion, peel onion, cut onion, slice apple, peel apple, cut apple, chop wood, peel potato, slice potato, cut potato, chop tree, saw wood, mash potato\\n\\nImage 4: arrange chairs, label bottle, open cabinet, carry bag, park car, close drawer, open drawer, close door, shut door, lock drawer, open door, fasten door, carry book, pile books, lock door, open bottle, open box, wrap box, carry umbrella, arrange flowers\\n\\nImage 5: twist hair, label box, arrange flowers, bind hair, trim hair, tie shoe, shave hair, wrap book, break glass, carry bag, burst balloon, crack glass, shut door, tear shirt, break window, stain shirt, soak shirt, soak hair, lock drawer, open door\\n\\nImage 6: fry egg, cook egg, boil egg, break egg, slice meat, fry meat, cook meat, cut meat, beat eggs, close door, park car, cook potato, mix eggs, saw wood, slice potato, chop onion, chop carrot, peel apple, arrange chairs, open window\\n\\nImage 7: bend tree, chop tree, trim tree, burn tree, split tree, break window, saw tree, strip tree, kick door, twist rope, bend knee, wrap book, tie shoe, coil rope, twist hair, blend knee, close window, cut tree, arrange flowers, shut door\\n\\nImage 8: open umbrella, carry umbrella, roll umbrella, close door, fasten door, shut window, lock door, block door, break door, arrange flowers, break glass, pile wood, tie shoe, arrange chairs, bend knee, shut door, park car, carry bag, peel orange, twist rope\\n\\nImage 9: boil egg, crack egg, break bottle, open bottle, close book, pour milk, open drawer, close drawer, lock door, fasten window, throw baseball, break glass, arrange flowers, fry egg, slice meat, twist hair, trim hair, carry bag, carry book, twist rope\\n\\nImage 10: peel orange, arrange flowers, open umbrella, carry bag, break glass, crack bottle, burst balloon, spill coffee, squeeze orange, throw apple, twist rope, coil rope, label bottle, open bottle, tie shoe, fold paper, tear paper, cut apple, slice apple, open door'}, 'finish_details': {'type': 'stop', 'stop': '<|fim_suffix|>'}, 'index': 0}]}\n"
          ]
        }
      ],
      "source": [
        "result_list6 = run_model(splitted_lists['list_6'])"
      ]
    },
    {
      "cell_type": "code",
      "execution_count": null,
      "id": "DW1rf2D-QlIO",
      "metadata": {
        "id": "DW1rf2D-QlIO"
      },
      "outputs": [],
      "source": [
        "with open('result_list6.json', 'w') as file:\n",
        "    json.dump(result_list6, file)"
      ]
    },
    {
      "cell_type": "code",
      "execution_count": null,
      "id": "2Ya19UAgOsnJ",
      "metadata": {
        "colab": {
          "base_uri": "https://localhost:8080/"
        },
        "id": "2Ya19UAgOsnJ",
        "outputId": "ea7c98fa-cbb4-4c8e-97e9-2b17d2401883"
      },
      "outputs": [
        {
          "name": "stdout",
          "output_type": "stream",
          "text": [
            "{'id': 'chatcmpl-8Pg82bvlq2oxGxoWGbLTNG13jn4fk', 'object': 'chat.completion', 'created': 1701130834, 'model': 'gpt-4-1106-vision-preview', 'usage': {'prompt_tokens': 5923, 'completion_tokens': 717, 'total_tokens': 6640}, 'choices': [{'message': {'role': 'assistant', 'content': \"Image 1: pitch baseball, throw baseball, carry bag, wear cap, bend knee, tie shoe, wear glove, tuck shirt, bend arm, hold ball, grip ball, lift arm, wear uniform, stand mound, balance body, twist body, wear socks, clench teeth, squint eyes, aim ball\\n\\nImage 2: fry egg, cook egg, flip egg, serve egg, heat egg, season egg, crack egg, melt butter, use pan, prepare breakfast, spoil egg, plate egg, brown egg, overcook egg, make breakfast, garnish egg, center yolk, poach egg, oil pan, simmer egg\\n\\nImage 3: carry bag, hold sunglasses, wear watch, wear ring, flex muscles, wear bracelet, grip handle, show fashion, match accessories, wear stripes, dress stylishly, accessorize outfit, model handbag, pose wall, exhibit style, display purse, clutch bag, present handbag, stand wall, lean wall\\n\\nImage 4: slice apple, cut apple, prepare apple, layer apple, present apple, arrange apple, segment apple, display apple, peel apple, detach stem, core apple, serve apple, chop apple, disassemble apple, dry apple, plate apple, style apple, stack apple, show apple, expose seeds\\n\\nImage 5: chop meat, dice meat, prepare meat, cube meat, season meat, handle meat, marinate meat, cut meat, trim fat, display meat, cube meat, slice meat, tenderize meat, separate meat, butcher meat, weigh meat, portion meat, refrigerate meat, defrost meat, sort meat\\n\\nImage 6: carry apples, walk sidewalk, wear sandals, tie laces, hold fruit, shop groceries, wear denim, step pavement, display apples, walk street, carry produce, grip bag, model footwear, use sidewalk, transport apples, balance groceries, navigate curb, bundle apples, secure laces, sport shoes\\n\\nImage 7: open bottle, label bottle, display wine, store wine, sell wine, present wine, inspect label, seal bottle, market wine, reflect light, preserve wine, exhibit label, age wine, showcase wine, stock wine, promote wine, examine wine, position bottle, tilt bottle, orient bottle\\n\\nImage 8: ride bicycle, wear helmet, pedal bike, steer bicycle, wear shorts, cycle parking lot, navigate space, balance bicycle, use handlebars, wear sneakers, pedal cycle, sport cycling, exercise outdoors, enjoy biking, accelerate bike, control bicycle, maneuver bike, brake bicycle, sit bicycle, wear camo\\n\\nImage 9: close drawer, open drawer, stack drawers, organize storage, use cabinet, contain items, assemble furniture, design organizer, paint drawer, integrate shelves, sort belongings, tidy drawer, furnish room, label drawer, secure drawer, pull handle, arrange compartment, install drawer, align drawer, build furniture\\n\\nImage 10: boil egg, slice egg, peel egg, serve egg, cut egg, plate egg, season egg, arrange egg, present egg, display egg, split egg, segment egg, show yolk, present protein, chill egg, prepare snack, hard cook egg, separate egg, garnish egg, halve egg\\n\\nFor the last image (considered Image 11), the correct verb-noun pair would be 'scratch car', but as you have only provided 10 slots and instructed not to go beyond that, I'll refrain from giving a separate description for that image.\"}, 'finish_details': {'type': 'stop', 'stop': '<|fim_suffix|>'}, 'index': 0}]}\n",
            "{'id': 'chatcmpl-8Pg8RJ9r5ih5dNntY0pA5Do518E14', 'object': 'chat.completion', 'created': 1701130859, 'model': 'gpt-4-1106-vision-preview', 'usage': {'prompt_tokens': 8643, 'completion_tokens': 341, 'total_tokens': 8984}, 'choices': [{'message': {'role': 'assistant', 'content': 'Image 1: bake potato, peel potato, boil potato, cut potato, mash potato, grate potato, slice potato, cook potato, carry potato, pile potatoes\\n\\nImage 2: pile wood, burn wood, chop wood, saw wood, stack wood, arrange chairs, arrange flowers, carry bag, open door, close door\\n\\nImage 3: boil potato, bake potato, peel potato, cut potato, mash potato, grate potato, slice potato, chop potato, carry potato, pile potatoes\\n\\nImage 4: open door, close door, lock door, fasten door, block door, shut door, smash door, arrange chairs, arrange flowers, pile books\\n\\nImage 5: open cabinet, close cabinet, lock cabinet, arrange chairs, arrange flowers, carry bag, carry book, tie shoe, bind hair, chop carrot\\n\\nImage 6: close window, open window, fasten window, lock window, block window, break window, arrange flowers, arrange chairs, carry bag, hang shirt\\n\\nImage 7: arrange chairs, pile books, open book, close book, wrap book, tear book, burn book, label bottle, carry book, roll paper\\n\\nImage 8: cut meat, cook meat, chop meat, grind meat, fry meat, slice meat, carry meat, arrange flowers, peel carrot, chop carrot\\n\\nImage 9: peel banana, carry banana, pile bananas, arrange chairs, arrange flowers, slice banana, cut banana, bake potato, mix eggs, carry bag\\n\\nImage 10: fry egg, boil egg, cook egg, beat eggs, crack egg, mix eggs, peel orange, cut potato, mash potato, slice potato'}, 'finish_details': {'type': 'stop', 'stop': '<|fim_suffix|>'}, 'index': 0}]}\n",
            "{'id': 'chatcmpl-8Pg8eyqPVQlvZMeL0lXtnOXaT5jvV', 'object': 'chat.completion', 'created': 1701130872, 'model': 'gpt-4-1106-vision-preview', 'usage': {'prompt_tokens': 6093, 'completion_tokens': 344, 'total_tokens': 6437}, 'choices': [{'message': {'role': 'assistant', 'content': 'Image 1: close door, fasten door, shut door, block door, smash door, kick door, open door, lock door, scratch door, label door\\n\\nImage 2: break egg, crack egg, boil egg, fry egg, beat eggs, mix eggs, peel egg, cook egg, burst egg, spill egg\\n\\nImage 3: block window, close window, smash window, lock window, break window, fasten window, shut window, open window, crack window, stain window\\n\\nImage 4: close drawer, lock drawer, open drawer, label box, carry bag, arrange chairs, pile boxes, wrap box, pitch baseball, ride bicycle\\n\\nImage 5: pile wood, chop tree, saw tree, chop wood, saw wood, carry bag, arrange chairs, peel potato, burn tree, burn wood\\n\\nImage 6: cut meat, slice meat, chop meat, cook meat, fry meat, grind meat, bake potato, carry bag, twist rope, fold paper\\n\\nImage 7: cut potato, chop carrot, chop potato, peel potato, boil potato, fry potato, mash potato, grate potato, bake potato, slice potato\\n\\nImage 8: throw football, carry football, twist rope, knot rope, ride bicycle, burst balloon, roll paper, wrap book, fold paper, throw frisbee\\n\\nImage 9: chop onion, cut onion, slice onion, cook onion, peel onion, dice onion, grate carrot, cut meat, peel apple, boil egg\\n\\nImage 10: open door, close door, lock door, fasten door, shut door, block door, scratch door, smash door, label door, kick door'}, 'finish_details': {'type': 'stop', 'stop': '<|fim_suffix|>'}, 'index': 0}]}\n",
            "{'id': 'chatcmpl-8Pg8pp18F6gJm1jjYpI7sA3XMFFYa', 'object': 'chat.completion', 'created': 1701130883, 'model': 'gpt-4-1106-vision-preview', 'usage': {'prompt_tokens': 6773, 'completion_tokens': 660, 'total_tokens': 7433}, 'choices': [{'message': {'role': 'assistant', 'content': 'Image 2: fry onion, stir onion, cook onion, chop onion, peel onion, sauté onion, heat onion, mix onion, brown onion, caramelize onion, sprinkle onion, season onion, flip onion, spread onion, soften onion, slice onion, dice onion, mince onion, hold spatula, turn onion\\n\\nImage 3: close drawer, open drawer, arrange books, pile books, organize drawer, sort items, pull drawer, push drawer, lock drawer, close cabinet, unlock drawer, lock cabinet, store items, fasten drawer, label box, stack boxes, label bottle, arrange items, place items, fill drawer\\n\\nImage 4: chop onion, dice onion, slice onion, cut onion, peel onion, sharpen knife, mince onion, prep food, chop garlic, use fan, set cutting board, slice food, prepare ingredients, cut food, clean kitchen, slice vegetable, dice vegetable, chop vegetable, prepare food, mince vegetable\\n\\nImage 5: roll paper, fold paper, wrap book, organize files, store documents, sort papers, stack paper, archive documents, bind paper, pile paper, order files, arrange files, spiral paper, collect papers, curl paper, group paper, layer papers, secure paper, compile papers, roll documents\\n\\nImage 6: boil egg, crack egg, peel egg, cook egg, slice egg, cut egg, halve egg, prepare egg, display egg, arrange egg, dissect egg, compare egg, examine egg, split egg, peel egg, break egg, season egg, serve egg, plate egg, garnish egg\\n\\nImage 7: label bottle, read label, examine bottle, hold bottle, inspect label, check label, observe bottle, display bottle, rotate bottle, focus bottle, grip bottle, study label, analyze information, view label, reveal label, note contents, showcase label, magnify label, check nutrition, show label\\n\\nImage 8: break cup, spill coffee, drop cup, shatter cup, crack cup, smash cup, split cup, clean mess, wipe spill, throw cup, scatter pieces, examine breakage, pick up pieces, clear debris, gather fragments, sweep up, spill liquid, stain surface, chip cup, crackle cup\\n\\nImage 9: open box, arrange box, flip box, display box, fold box, rotate box, store box, package box, pack box, move box, prepare box, flatten box, lift box, assemble box, setup box, create box, expand box, construct box, elevate box, showcase box\\n\\nImage 10: slice meat, chop meat, cut meat, arrange meat, display meat, serve meat, marinate meat, shred meat, prep meat, cook meat, season meat, portion meat, trim meat, fillet meat, rest meat, weigh meat, tenderize meat, handle meat, grill meat, plate meat\\n\\nImage 11: carry umbrella, open umbrella, walk beach, shade child, protect skin, cover head, shield sun, hold umbrella, stroll shore, accompany child, guard child, escort child, walk sand, follow child, supervise child, lead child, watch child, shade from sun, carry child, cross sand'}, 'finish_details': {'type': 'stop', 'stop': '<|fim_suffix|>'}, 'index': 0}]}\n",
            "{'id': 'chatcmpl-8Pg97FQL1TOVN046KCUhg8g2S86y3', 'object': 'chat.completion', 'created': 1701130901, 'model': 'gpt-4-1106-vision-preview', 'usage': {'prompt_tokens': 5923, 'completion_tokens': 321, 'total_tokens': 6244}, 'choices': [{'message': {'role': 'assistant', 'content': 'Image 1: pitch baseball\\nImage 2: cook meat, fry meat, chop meat, grill meat, slice meat, smoke meat, burn wood, burn meat, spice meat, marinate meat\\nImage 3: cut apple, slice apple, chop apple, peel apple, bite apple, core apple, dice apple, quarter apple, eat apple, serve apple\\nImage 4: open door, paint door, install door, fasten door, close door, unlock door, shut door, hang door, clean door, varnish door\\nImage 5: crack glass, smash glass, break glass, shatter glass, cut glass, replace glass, recycle glass, clean glass, tint glass, frost glass\\nImage 6: clean window, open window, close window, paint window, fasten window, wash window, shut window, lock window, fix window, tint window\\nImage 7: block window, open window, clean window, close window, imagine window, landscape window, design window, frame window, decorate window, install window\\nImage 8: boil egg, peel egg, cook egg, fry egg, crack egg, slice egg, eat egg, serve egg, refrigerate egg, season egg\\nImage 9: roll paper, curl paper, wrap paper, flatten paper, fold paper, cut paper, recycle paper, bend paper, weigh paper, crease paper\\nImage 10: fry egg, cook egg, flip egg, serve egg, season egg, poach egg, boil egg, scramble egg, plate egg, garnish egg'}, 'finish_details': {'type': 'stop', 'stop': '<|fim_suffix|>'}, 'index': 0}]}\n"
          ]
        }
      ],
      "source": [
        "result_list7 = run_model(splitted_lists['list_7'])"
      ]
    },
    {
      "cell_type": "code",
      "execution_count": null,
      "id": "15F1oezkTJgE",
      "metadata": {
        "id": "15F1oezkTJgE"
      },
      "outputs": [],
      "source": [
        "with open('result_list7.json', 'w') as file:\n",
        "    json.dump(result_list7, file)"
      ]
    },
    {
      "cell_type": "code",
      "execution_count": null,
      "id": "DaSPHgQBOswe",
      "metadata": {
        "colab": {
          "base_uri": "https://localhost:8080/"
        },
        "id": "DaSPHgQBOswe",
        "outputId": "5a4ca069-f4b0-494e-8d84-e6943693a4b0"
      },
      "outputs": [
        {
          "name": "stdout",
          "output_type": "stream",
          "text": [
            "{'id': 'chatcmpl-8PgD8k5kJmWbxb4QQTokVo0m3oSXh', 'object': 'chat.completion', 'created': 1701131150, 'model': 'gpt-4-1106-vision-preview', 'usage': {'prompt_tokens': 6603, 'completion_tokens': 642, 'total_tokens': 7245}, 'choices': [{'message': {'role': 'assistant', 'content': 'Image 1: arrange chairs, pile chairs, open drawer, close drawer, arrange flowers, open door, close door, lock drawer, fasten door, shut window, pile boxes, fold paper, park car, crack window, arrange chairs, tie shoe, break bowl, bind hair, bake potato, peel apple\\n\\nImage 2: spill coffee, pour coffee, break cup, stain shirt, soak shirt, open drawer, close drawer, peel banana, bend knee, break glass, spill coffee, open bottle, break bowl, sprinkle coffee, twist rope, pile books, peel carrot, twist hair, shut window, park car\\n\\nImage 3: slice apple, peel apple, cut apple, arrange flowers, twist rope, knot rope, label bottle, open drawer, bind hair, break egg, slice onion, chop carrot, close drawer, close door, peel banana, cook onion, fry potato, pour coffee, tie shoe, bake potato\\n\\nImage 4: break egg, crack egg, fry egg, boil egg, break bowl, spill coffee, mix eggs, pour coffee, cook egg, open door, break window, stain shirt, break egg, open bottle, cook meat, slice onion, peel carrot, shut window, bend knee, peel orange\\n\\nImage 5: bind hair, twist hair, arrange hair, curl hair, trim hair, roll umbrella, close cabinet, open umbrella, close door, break bowl, close drawer, lock drawer, fold paper, label box, skin knee, brush hair, open window, roll paper, crack glass, shave hair\\n\\nImage 6: crack bottle, break glass, open bottle, break cup, spill coffee, crack window, break bowl, twist hair, peel banana, close door, crack bottle, block door, snap twig, bust balloon, park car, open drawer, break glass, scratch knee, fry egg, bind hair\\n\\nImage 7: pile wood, chop wood, saw wood, arrange chairs, stack wood, close door, park car, split wood, pile books, open door, pile boxes, lock window, open window, trim tree, peel potato, cook meat, break glass, close book, chop meat, shut window\\n\\nImage 8: arrange flowers, peel potato, cut potato, mash potato, cook potato, season salad, toss salad, arrange chairs, open door, spice salad, arrange flowers, chop meat, stir soup, fry meat, pile wood, spread cheese, break egg, grate potato, pour coffee, bind hair\\n\\nImage 9: open door, close door, lock door, fasten window, fasten door, shut door, block door, open cabinet, close cabinet, lock cabinet, open drawer, close drawer, shut window, park car, block window, break glass, split wood, bend knee, fold paper, roll paper\\n\\nImage 10: scratch car, park car, crash car, bend knee, twist rope, close door, open window, break glass, scratch knee, tie shoe, scratch car, pile wood, shut window, crack window, peel banana, roll umbrella, close book, stack books, open door, block door'}, 'finish_details': {'type': 'stop', 'stop': '<|fim_suffix|>'}, 'index': 0}]}\n",
            "{'id': 'chatcmpl-8PgDUgVUWfqAJphGG6zFy2zkwm50v', 'object': 'chat.completion', 'created': 1701131172, 'model': 'gpt-4-1106-vision-preview', 'usage': {'prompt_tokens': 6093, 'completion_tokens': 660, 'total_tokens': 6753}, 'choices': [{'message': {'role': 'assistant', 'content': 'I will provide verb-noun pairs based on the images provided:\\n\\nImage 1: stir soup, boil potato, cook meat, cook egg, mash potato, mix eggs, cook onion, stir coffee, whip cream, peel potato, slice onion, slice meat, fry potato, fry egg, fry meat, chop onion, chop carrot, chop meat, grate potato, grate carrot\\n\\nImage 2: cut apple, slice apple, peel apple, chop apple, throw apple, bite apple, pile apples, arrange apples, mash apple, cook apple, squeeze apple, bake apple, peel banana, slice banana, peel orange, squeeze orange, wrap apple, cut potato, mix eggs, cut onion\\n\\nImage 3: coil rope, knot rope, twist rope, bind hair, wrap box, tie shoe, roll umbrella, cut wood, hang shirt, arrange flowers, bind hair, twist hair, trim hair, fasten door, pile wood, saw wood, chop wood, park car, twist hair, open umbrella\\n\\nImage 4: mix eggs, chop meat, grind meat, mash potato, beat eggs, mix eggs, break egg, chop onion, peel orange, slice onion, peel apple, peel potato, fry meat, fry egg, chop wood, cut onion, cut potato, chop carrot, roll paper, knead dough\\n\\nImage 5: coil rope, twist rope, arrange chairs, bind hair, close door, fold paper, knot rope, tie shoe, close cabinet, carry bag, carry book, wrap box, wrap book, roll umbrella, park car, pile wood, ride bicycle, chop wood, squeeze bottle, carry umbrella\\n\\nImage 6: rip paper, tear book, tear paper, throw frisbee, break glass, slice apple, slice meat, slice onion, slice potato, break egg, break door, break bowl, burst balloon, burst door, break window, spill coffee, stir coffee, stir soup, unfold paper, cut paper\\n\\nImage 7: crack glass, break glass, smash door, break door, lock door, close door, open door, fasten door, break window, smash window, lock window, shut door, fasten window, close window, burst door, twist rope, tie shoe, throw frisbee, scratch car, cut tree\\n\\nImage 8: arrange flowers, arrange chairs, open cabinet, close cabinet, close door, lock cabinet, open door, shut window, roll umbrella, cut wood, close drawer, lock drawer, carry bag, close window, open bottle, lock window, twist rope, coil rope, chop wood, hang shirt\\n\\nImage 9: rip paper, tear paper, roll paper, cut paper, open book, fold paper, beat eggs, arrange chairs, label box, wrap book, stain shirt, stain paper, scratch car, carry book, carry bag, slice apple, spill coffee, hang bag, mash potato, peel banana\\n\\nImage 10: kick football, throw football, arrange chairs, close drawer, roll umbrella, park car, ride bicycle, carry bag, peel banana, arrange flowers, open bottle, tie shoe, break window, crack glass, lock cabinet, peel apple, roll paper, carry book, close door, twist rope'}, 'finish_details': {'type': 'stop', 'stop': '<|fim_suffix|>'}, 'index': 0}]}\n",
            "{'id': 'chatcmpl-8PgDm4dr8oaDgEOd37B0gPuOhJPZA', 'object': 'chat.completion', 'created': 1701131190, 'model': 'gpt-4-1106-vision-preview', 'usage': {'prompt_tokens': 5583, 'completion_tokens': 710, 'total_tokens': 6293}, 'choices': [{'message': {'role': 'assistant', 'content': 'Image 1: bind hair, twist hair, arrange chairs, tie shoe, carry bag, label box, open umbrella, close drawer, cook meat, fry potato, hang shirt, peel banana, lock door, chop meat, break bowl, roll paper, pitch baseball, bake potato, peel apple, shut window\\n\\nImage 2: soak hair, arrange flowers, bind hair, twist hair, carry umbrella, shut door, slice apple, fold paper, open bottle, label bottle, chop onion, roll umbrella, tie shoe, open drawer, lock window, hang bag, mash potato, stir soup, rip paper, ride bicycle\\n\\nImage 3: soak shirt, burst balloon, twist hair, bind hair, open window, label box, close drawer, stir coffee, fry egg, roll paper, pile wood, splash water, arrange flowers, throw frisbee, park car, kick door, peel orange, mix eggs, bend knee, carry bag\\n\\nImage 4: rip paper, roll paper, tear book, tear paper, open box, label box, wrap book, carry book, pile books, fold paper, tie shoe, pour coffee, close book, lock drawer, bind hair, spark wood, kick football, lock door, close drawer, shut door\\n\\nImage 5: pour water, spill coffee, fry egg, cook egg, soak shirt, stir soup, carry bag, open bottle, roll umbrella, bind hair, splash water, open umbrella, throw apple, twist hair, tie shoe, twist rope, hang bag, stir coffee, label bottle, park car\\n\\nImage 6: close door, close cabinet, open door, lock door, open cabinet, hide inside, fasten door, shut door, block door, smash door, carry bag, arrange chairs, park car, fold paper, tie shoe, label box, carry umbrella, label bottle, arrange flowers, close drawer\\n\\nImage 7: pile wood, chop wood, saw wood, split wood, carry wood, stack wood, burn wood, arrange wood, label box, open box, close door, twist rope, bind hair, fasten door, peel carrot, roll paper, bake potato, ride bicycle, lock cabinet, shut window\\n\\nImage 8: fry egg, cook egg, crack egg, peel egg, beat eggs, boil egg, mash potato, peel potato, stir soup, fry potato, mix eggs, grate potato, cook potato, roll paper, label box, close door, open cabinet, pour coffee, smash window, arrange flowers\\n\\nImage 9: saw tree, cut tree, chop tree, split tree, chop wood, pile wood, trim tree, close door, lock door, burn wood, arrange wood, twist rope, stack wood, fasten window, shut window, tie shoe, carry bag, peel banana, mix eggs, fry meat\\n\\nImage 10: open bottle, close drawer, pour water, carry bag, label bottle, break glass, smash door, crack bottle, break bottle, arrange chairs, open cabinet, tie shoe, roll paper, open door, fasten window, crack glass, shut door, spill coffee, pile boxes, fry egg\\n\\nImage 11: open door, close door, smash door, kick door, break door, lock door, fasten door, burst door, shut door, block door, break glass, crack window, arrange chairs, tie shoe, roll paper, carry bag, peel banana, splash water, label box, fry egg'}, 'finish_details': {'type': 'stop', 'stop': '<|fim_suffix|>'}, 'index': 0}]}\n",
            "{'id': 'chatcmpl-8PgE4JM0hAljPxAIxMCTqmxF8DQEF', 'object': 'chat.completion', 'created': 1701131208, 'model': 'gpt-4-1106-vision-preview', 'usage': {'prompt_tokens': 6093, 'completion_tokens': 344, 'total_tokens': 6437}, 'choices': [{'message': {'role': 'assistant', 'content': 'Image 1: close door, lock door, open door, fasten door, smash door, shut door, block door, kick door, shut window, lock drawer\\n\\nImage 2: crush bottle, crack bottle, squeeze bottle, recycle bottle, open bottle, close bottle, label bottle, throw apple, arrange flowers, carry bag\\n\\nImage 3: peel orange, slice orange, eat orange, throw apple, squeeze orange, arrange flowers, open door, stain shirt, stir soup, boil egg\\n\\nImage 4: arrange flowers, arrange chairs, trim tree, trim hair, pile wood, pile boxes, open umbrella, throw frisbee, roll paper, fold paper\\n\\nImage 5: pile wood, arrange chairs, stack wood, close drawer, chop wood, saw wood, peel banana, peel orange, throw football, park car\\n\\nImage 6: slice apple, cut apple, peel apple, eat apple, throw apple, close door, break glass, break egg, arrange flowers, chop wood\\n\\nImage 7: saw tree, chop wood, split wood, cut tree, break window, arrange chairs, cut wood, arrange flowers, park car, open box\\n\\nImage 8: bend tree, trim tree, chop tree, climb tree, arrange flowers, arrange chairs, shut window, stretch rope, twist rope, knot rope\\n\\nImage 9: chop meat, cook meat, fry meat, slice meat, grind meat, cut meat, stir soup, throw football, break egg, tie shoe\\n\\nImage 10: tie shoe, fasten door, put on shoe, arrange chairs, break glass, throw baseball, ride bicycle, hang bag, close book, peel banana'}, 'finish_details': {'type': 'stop', 'stop': '<|fim_suffix|>'}, 'index': 0}]}\n",
            "{'id': 'chatcmpl-8PgEIl8yggSiPETQl5u0hRhYhdYyc', 'object': 'chat.completion', 'created': 1701131222, 'model': 'gpt-4-1106-vision-preview', 'usage': {'prompt_tokens': 5243, 'completion_tokens': 639, 'total_tokens': 5882}, 'choices': [{'message': {'role': 'assistant', 'content': 'Image 2: open box, wrap box, label box, arrange chairs, tie shoe, chop meat, fold paper, park car, ride bicycle, peel banana, open door, close window, burn paper, saw wood, mash potato, cook meat, grate potato, lock drawer, carry umbrella, hang bag\\n\\nImage 3: chop meat, cut meat, cook meat, slice meat, grind meat, fry meat, arrange chairs, peel potato, chop wood, mash potato, label box, grate carrot, fold paper, close book, trim hair, carry bag, break glass, open bottle, shut door, twist rope\\n\\nImage 4: roll paper, close drawer, lock drawer, open box, label bottle, arrange flowers, bind hair, break window, carry bag, cut wood, fold paper, ignite wood, twist hair, carry umbrella, open door, park car, peel banana, saw tree, shave hair, trim tree\\n\\nImage 5: close book, arrange chairs, open box, wrap book, label bottle, lock drawer, peel banana, peel potato, carry umbrella, tie shoe, fold paper, twist hair, burn wood, chop meat, cut meat, arrange flowers, park car, hang bag, chop wood, roll paper\\n\\nImage 6: strip tree, chop tree, cut tree, saw tree, break glass, bend knee, arrange flowers, roll paper, peel banana, fry egg, close window, lock door, carry bag, cut meat, fry meat, trim hair, label bottle, twist rope, bind hair, hang shirt\\n\\nImage 7: ride bicycle, park car, peel banana, peel potato, mash potato, chop meat, carry bag, open bottle, arrange flowers, lock door, trim hair, wrap box, arrange chairs, fold paper, label box, roll paper, throw football, bend knee, tie shoe, carry book\\n\\nImage 8: pile wood, chop wood, saw wood, cut wood, chop tree, split wood, park car, carry bag, fold paper, peel banana, burn wood, arrange chairs, label box, trim hair, ride bicycle, lock cabinet, shut window, squeeze bottle, peel apple, grate carrot\\n\\nImage 9: chop onion, cut onion, grate carrot, dice onion, cook onion, slice onion, peel potato, mash potato, arrange chairs, peel banana, boil potato, open box, carry bag, fold paper, wrap box, label bottle, carry umbrella, shut door, twist rope, bind hair\\n\\nImage 10: open bottle, label bottle, arrange flowers, close drawer, close door, carry umbrella, wrap box, peel orange, tie shoe, fold paper, chop wood, saw tree, burn wood, pile books, trim hair, shut window, pack car, park car, break glass, peel banana\\n\\nImage 11: arrange flowers, label bottle, tie shoe, peel banana, fold paper, carry bag, peel apple, wrap book, mash potato, ride bicycle, chop meat, cook egg, open door, shut window, roll paper, lock drawer, chop wood, saw wood, label box, carry book'}, 'finish_details': {'type': 'stop', 'stop': '<|fim_suffix|>'}, 'index': 0}]}\n"
          ]
        }
      ],
      "source": [
        "result_list8 = run_model(splitted_lists['list_8'])"
      ]
    },
    {
      "cell_type": "code",
      "execution_count": null,
      "id": "1yh8bUBuUXCN",
      "metadata": {
        "id": "1yh8bUBuUXCN"
      },
      "outputs": [],
      "source": [
        "with open('result_list8.json', 'w') as file:\n",
        "    json.dump(result_list8, file)"
      ]
    },
    {
      "cell_type": "code",
      "execution_count": null,
      "id": "ROCzZYlVL33i",
      "metadata": {
        "colab": {
          "base_uri": "https://localhost:8080/"
        },
        "id": "ROCzZYlVL33i",
        "outputId": "a94433f6-a5ae-473e-fa73-d0c8f83e3053"
      },
      "outputs": [
        {
          "name": "stdout",
          "output_type": "stream",
          "text": [
            "{'id': 'chatcmpl-8PgNFMuDKYxVXWE4S37Lu6c2oMuXk', 'object': 'chat.completion', 'created': 1701131777, 'model': 'gpt-4-1106-vision-preview', 'usage': {'prompt_tokens': 6773, 'completion_tokens': 715, 'total_tokens': 7488}, 'choices': [{'message': {'role': 'assistant', 'content': 'Image 1: pitch baseball\\nImage 2: crack glass, break glass, smash window, crack window, break window, throw baseball, throw frisbee, throw apple, throw football, crash car, break bowl, break door, break cup, break egg, smash door, peel banana, peel carrot, peel orange, peel potato, peel apple\\nImage 3: mash potato, boil potato, cook potato, bake potato, fry potato, grate potato, peel potato, cut potato, chop potato, slice potato, break egg, crack egg, beat eggs, mix eggs, fry egg, cook egg, peel banana, cut meat, chop meat, cook meat\\nImage 4: wrap book, pile books, open box, label box, arrange flowers, bind hair, tear book, open bottle, close book, open door, close cabinet, close drawer, close window, lock cabinet, lock drawer, lock window, lock door, peel carrot, peel apple, peel orange\\nImage 5: boil egg, break egg, crack egg, cook egg, peel banana, peel apple, peel potato, peel carrot, peel orange, fry egg, mash potato, bake potato, stir coffee, stir soup, tear shirt, tear book, tear paper, twist rope, roll paper, roll umbrella\\nImage 6: burn wood, ignite wood, burn tree, burn book, burn paper, chop tree, chop wood, saw tree, cut tree, slice potato, open window, close window, shut window, lock window, fasten window, block window, break window, crack window, peel potato, mash potato\\nImage 7: chop wood, saw wood, cut tree, chop tree, break bowl, break door, break egg, break glass, break window, cut wood, split wood, split tree, strip tree, burn wood, burn tree, pile wood, ignite wood, crack window, crack glass, crack bottle\\nImage 8: crack egg, break egg, peel apple, peel banana, peel potato, peel orange, peel carrot, chop onion, slice onion, grate carrot, open bottle, break bowl, break cup, roll paper, roll umbrella, tie shoe, chop meat, slice meat, fry meat, bake potato\\nImage 9: bake potato, boil potato, fry potato, peel potato, chop potato, slice potato, mash potato, grate potato, cook potato, cut potato, tear paper, fold paper, rip paper, bind hair, arrange flowers, arrange chairs, block door, block window, crack egg, break egg\\nImage 10: lock window, open window, close window, fasten window, shut window, block window, break window, crack window, twist rope, coil rope, pile books, pile wood, peel apple, peel banana, peel carrot, peel orange, peel potato, scratch knee, skin knee, scratch car\\nImage 11: coil rope, knot rope, roll umbrella, roll paper, wrap box, twist rope, bind hair, arrange flowers, label bottle, label box, open drawer, close drawer, lock drawer, open cabinet, close cabinet, lock cabinet, break glass, crack glass, block door, block window\\n\\nPlease note that the verb-noun combinations provided for each image are derived from the list provided and are chosen based on generic actions that could relate to the presented images. The images themselves may not depict the exact action (like boiling or frying), but rather the items associated with those actions (e.g., eggs or potatoes).'}, 'finish_details': {'type': 'stop', 'stop': '<|fim_suffix|>'}, 'index': 0}]}\n",
            "{'id': 'chatcmpl-8PgNYsYNK7Bbnd4oDu8YQFrLZlY7Z', 'object': 'chat.completion', 'created': 1701131796, 'model': 'gpt-4-1106-vision-preview', 'usage': {'prompt_tokens': 5583, 'completion_tokens': 651, 'total_tokens': 6234}, 'choices': [{'message': {'role': 'assistant', 'content': 'Sure, based on the images provided:\\n\\nImage 1: crack egg, break egg, spill coffee, mash potato, peel potato, grate carrot, fry egg, boil potato, chop onion, slice potato, bake potato, cook egg, mix eggs, beat eggs, stir soup, cut potato, fry potato, pour coffee, spill milk, smash egg\\n\\nImage 2: knot rope, coil rope, tie shoe, wrap box, bind hair, twist rope, close cabinet, close door, fold paper, hang shirt, twist hair, arrange flowers, arrange chairs, roll paper, label bottle, fasten window, lock drawer, open drawer, open box, tie knot\\n\\nImage 3: arrange flowers, open bottle, pour water, fill vase, water flowers, cut stems, trim branches, clean vase, arrange chairs, close window, place vase, adjust flowers, remove leaves, mix soil, polish vase, arrange bouquet, tie ribbon, select flowers, smell flowers, open window\\n\\nImage 4: chop onion, cut onion, peel onion, slice onion, trim onion, arrange chairs, arrange flowers, prepare food, mince onion, dice onion, fry onion, cook onion, split onion, crush onion, mash potato, boil potato, separate onion, dry onion, season onion, grate carrot\\n\\nImage 5: open box, arrange chairs, close box, label box, pack box, tape box, fill box, move box, carry box, stack boxes, seal box, unpack box, flatten box, arrange flowers, sort items, wrap box, tighten straps, lift box, empty box, organize box\\n\\nImage 6: pitch baseball, throw baseball, catch baseball, field ball, release ball, grip ball, hurl ball, toss ball, play baseball, swing arm, aim ball, jump high, dodge ball, wear cap, wear uniform, practice pitching, adjust glove, tie shoe, sprint forward, bend knee\\n\\nImage 7: open box, close box, arrange chairs, label box, pack box, fill box, close drawer, lock box, stack boxes, tape box, unwrap box, carry box, flatten box, organize box, seal box, move box, unpack box, arrange flowers, lift box, bind box\\n\\nImage 8: catch baseball, field ball, throw ball, grip ball, release ball, wear glove, play baseball, adjust glove, snag ball, use mitt, fasten glove, crouch down, protect face, wear gear, concentrate, anticipate throw, duck down, ready stance, prepare catch, block ball\\n\\nImage 9: coil rope, arrange chairs, wrap box, knot rope, tighten coil, roll rope, stack rope, organize rope, twist rope, secure rope, tie knot, place rope, lay rope, loop rope, hang rope, prepare rope, arrange flowers, label bottle, bind hair, tie shoe\\n\\nImage 10: close door, open door, shut door, lock door, fasten door, block door, arrange chairs, arrange flowers, leave room, enter room, darken room, secure door, peek door, adjust door, clean door, watch door, guard door, bolt door, listen door, paint door'}, 'finish_details': {'type': 'stop', 'stop': '<|fim_suffix|>'}, 'index': 0}]}\n",
            "{'id': 'chatcmpl-8PgNsCBfyJ1kMeoW70Oke8zIL1Jt6', 'object': 'chat.completion', 'created': 1701131816, 'model': 'gpt-4-1106-vision-preview', 'usage': {'prompt_tokens': 6603, 'completion_tokens': 379, 'total_tokens': 6982}, 'choices': [{'message': {'role': 'assistant', 'content': 'Image 1: peel potato, chop potato, slice potato, mash potato, grate potato, boil potato, fry potato, bake potato, cut potato, cook potato\\n\\nImage 2: lock cabinet, close drawer, fasten window, lock drawer, shut door, close cabinet, open drawer, close door, fasten door, lock door\\n\\nImage 3: crack glass, break glass, smash window, throw football, crash car, scratch car, break window, crack window, smash door, break door\\n\\nImage 4: squeeze bottle, twist rope, bind hair, coil rope, tie shoe, knot rope, wrap box, roll paper, twist hair, fasten window\\n\\nImage 5: throw football, kick football, throw frisbee, throw apple, peel orange, roll umbrella, open umbrella, peel banana, peel apple, peel carrot\\n\\nImage 6: chop potato, cut potato, slice potato, dice potato, peel potato, mash potato, boil potato, cook potato, fry potato, grate potato\\n\\nImage 7: burn paper, burn wood, ignite paper, ignite wood, burn book, light wood, shred paper, tear paper, burn tree, rip paper\\n\\nImage 8: bite apple, peel apple, cut apple, slice apple, throw apple, chop apple, peel orange, peel banana, peel potato, peel carrot\\n\\nImage 9: close door, close cabinet, close drawer, shut door, lock cabinet, shut window, fasten door, lock drawer, lock door, close window\\n\\nImage 10: chop onion, slice onion, dice onion, cut onion, peel onion, cook onion, fry onion, grate carrot, chop carrot, chop meat\\n\\nPlease note that the provided verb-noun pairs are potential descriptions for each of the images, assuming a related action depicted by or associated with the content of the image.'}, 'finish_details': {'type': 'stop', 'stop': '<|fim_suffix|>'}, 'index': 0}]}\n",
            "{'id': 'chatcmpl-8PgO8Wfp1DaOGgjYTQEK691r8vdnm', 'object': 'chat.completion', 'created': 1701131832, 'model': 'gpt-4-1106-vision-preview', 'usage': {'prompt_tokens': 6603, 'completion_tokens': 812, 'total_tokens': 7415}, 'choices': [{'message': {'role': 'assistant', 'content': \"Based on the images provided and adhering to the instructions, here are 20 verb-noun pairs for each image that best describe the actions or content, chosen from the provided list:\\n\\nImage 1: pitch baseball, throw baseball, carry bag, open bottle, roll paper, bend knee, break glass, tie shoe, bind hair, label bottle, lock door, rip paper, fold paper, peel orange, arrange chairs, shut door, stain shirt, burn wood, burst balloon, arrange flowers\\n\\nImage 2: cook onion, fry potato, boil potato, chop onion, stir soup, mash potato, peel carrot, grate carrot, slice onion, cook meat, cook egg, fry meat, peel potato, cut onion, chop carrot, soak shirt, ignite wood, open window, arrange flowers, spill coffee\\n\\nImage 3: twist hair, bind hair, arrange flowers, cut potato, coil rope, slice onion, tie shoe, open bottle, trim hair, label box, close book, braid hair, fasten window, arrange chairs, burn wood, break glass, stir coffee, close door, fold paper, hang shirt\\n\\nImage 4: chop meat, cut meat, slice meat, grind meat, marinate meat, cook meat, fry meat, boil potato, cook potato, fry potato, open drawer, arrange chairs, close cabinet, saw wood, saw tree, cut wood, cut tree, shut door, tie shoe, twist rope\\n\\nImage 5: fasten door, close door, lock door, block door, shut door, close cabinet, lock drawer, open door, open window, close window, break door, smash door, twist rope, carry bag, hang bag, label bottle, lock cabinet, paint door, throw frisbee, break bowl\\n\\nImage 6: burn wood, burn book, burn paper, burn tree, arrange chairs, arrange flowers, close window, open window, close door, light fire, fire gun, throw football, melt ice, illuminate scene, launch rocket, split wood, spill coffee, saw tree, strike bell, start engine\\n\\nImage 7: wrap box, tie bow, decorate present, label box, stack books, close door, cut ribbon, open box, arrange flowers, shut drawer, open cabinet, place ornament, hang shirt, squeeze bottle, staple paper, fold paper, shake container, carry bag, wrap book, carry umbrella\\n\\nImage 8: bend knee, kneel down, sit kneel, arrange chairs, practice yoga, meditate posture, tie shoe, squat down, balance pose, stretch leg, open window, fasten door, block door, close door, lock door, carry bag, trim hair, arrange flowers, twist rope, coil rope\\n\\nImage 9: grate potato, slice potato, chop potato, peel potato, mash potato, cook potato, dry pasta, measure ingredient, stir pasta, boil potato, sprinkle seasoning, slice onion, chop carrot, cut meat, fry meat, arrange chairs, open drawer, tie shoe, spread sauce, mix eggs\\n\\nImage 10: slice onion, chop onion, peel onion, cut onion, dice vegetable, mince ingredient, fry onion, cook onion, stir onion, sauté vegetable, chop carrot, grate carrot, cut meat, cook meat, fry meat, throw frisbee, tie shoe, spread sauce, mix eggs, trim hair\\n\\nImage 11: open cabinet, close cabinet, arrange chairs, arrange flowers, clean furniture, polish wood, store books, open door, place vase, decorate shelf, shut window, fold paper, place ornament, hang shirt, stack boxes, lock cabinet, paint cabinet, tie bow, label box, tidy desk\\n\\nPlease note that in some cases, the given verb-noun pairs have been adapted or used metaphorically to best fit the content of the images, as exact actions such as 'bind hair' or 'chop meat' are not directly seen but can be inferred from the context.\"}, 'finish_details': {'type': 'stop', 'stop': '<|fim_suffix|>'}, 'index': 0}]}\n",
            "{'id': 'chatcmpl-8PgOYY3CwyR7GvhSVSXokjA2liW8a', 'object': 'chat.completion', 'created': 1701131858, 'model': 'gpt-4-1106-vision-preview', 'usage': {'prompt_tokens': 5753, 'completion_tokens': 386, 'total_tokens': 6139}, 'choices': [{'message': {'role': 'assistant', 'content': 'Image 1: pitch baseball, throw baseball, grasp baseball, hold baseball, wear baseball gloves, extend arm, balance body, focus gaze, bend knee, tuck leg\\n\\nImage 2: throw baseball, hurl baseball, spin baseball, release baseball, project baseball, aim baseball, toss baseball, spin football, launch baseball, catapult baseball\\n\\nImage 3: hang bag, dangle bag, suspend bag, display bag, secure bag, tie bag, fasten bag, attach bag, affix bag, clip bag\\n\\nImage 4: roast potato, cook potato, bake potato, brown potato, chop potato, serve potato, season potato, heat potato, fry potato, grill potato\\n\\nImage 5: grate potato, shred potato, use grater, prepare potato, peel potato, slice potato, rub potato, hold grater, scrape potato, mash potato\\n\\nImage 6: spill coffee, pour coffee, drop mug, lose coffee, soak sugar, create mess, abandon spoon, tilt mug, displace coffee, flood table\\n\\nImage 7: open umbrella, display umbrella, hang umbrella, unfold umbrella, show umbrella, extend umbrella, exhibit umbrella, present umbrella, suspend umbrella, prop umbrella\\n\\nImage 8: throw football, hurl football, launch football, project football, propel football, fling football, cast football, transmit football, lob football, dispatch football\\n\\nImage 9: cut meat, slice meat, prepare meat, trim meat, chop meat, portion meat, sever meat, dissect meat, handle meat, carve meat\\n\\nImage 10: pile books, stack books, arrange books, assemble books, organize books, compile books, accumulate books, collect books, gather books, amass books\\n\\nImage 11: scratch car, mark car, damage car, scour car, mar car, deface car, scrape car, gouge car, score car, etch car'}, 'finish_details': {'type': 'stop', 'stop': '<|fim_suffix|>'}, 'index': 0}]}\n"
          ]
        }
      ],
      "source": [
        "result_list9 = run_model(splitted_lists['list_9'])"
      ]
    },
    {
      "cell_type": "code",
      "execution_count": null,
      "id": "B1LMWlB9U8Up",
      "metadata": {
        "id": "B1LMWlB9U8Up"
      },
      "outputs": [],
      "source": [
        "with open('result_list9.json', 'w') as file:\n",
        "    json.dump(result_list9, file)"
      ]
    },
    {
      "cell_type": "code",
      "execution_count": null,
      "id": "5P8vluCgL4AZ",
      "metadata": {
        "colab": {
          "base_uri": "https://localhost:8080/"
        },
        "id": "5P8vluCgL4AZ",
        "outputId": "34049294-4156-4a46-ff28-529fb57c4065"
      },
      "outputs": [
        {
          "name": "stdout",
          "output_type": "stream",
          "text": [
            "{'id': 'chatcmpl-8PgUquBEXSD5QapdWZz95Zo9mcglu', 'object': 'chat.completion', 'created': 1701132248, 'model': 'gpt-4-1106-vision-preview', 'usage': {'prompt_tokens': 5753, 'completion_tokens': 647, 'total_tokens': 6400}, 'choices': [{'message': {'role': 'assistant', 'content': 'Image 1: open door, close door, lock door, fasten door, block door, shut door, kick door, smash door, burst door, twist rope, roll paper, label box, arrange flowers, arrange chairs, shut window, open window, lock window, fasten window, block window, break window\\n\\nImage 2: arrange flowers, bind hair, twist hair, peel carrot, peel orange, peel apple, peel banana, slice apple, slice potato, slice meat, slice onion, carry umbrella, open umbrella, shut door, open door, close door, fasten door, lock door, label bottle, label box\\n\\nImage 3: pile books, arrange flowers, close book, open book, label bottle, label box, bind hair, twist hair, shut door, open door, close door, lock door, fasten window, arrange chairs, carry bag, carry book, carry umbrella, tear book, wrap book, wrap box\\n\\nImage 4: pile boxes, label box, open box, wrap box, close door, open door, arrange chairs, arrange flowers, carry bag, bind hair, shut window, label bottle, close window, open window, lock door, fasten door, shut door, carry umbrella, carry book, pile wood\\n\\nImage 5: pile boxes, wrap box, arrange flowers, label box, close door, open door, arrange chairs, lock door, fasten door, bind hair, shut window, open window, label bottle, twist hair, carry umbrella, carry bag, carry book, pile books, pile wood, pack boxes\\n\\nImage 6: open door, close door, shut door, lock door, fasten door, block door, arrange flowers, arrange chairs, label box, label bottle, open window, close window, shut window, fasten window, block window, wrap box, twist hair, wrap book, carry bag, carry book\\n\\nImage 7: cook meat, chop meat, cut meat, slice meat, fry meat, stir soup, grate carrot, label bottle, label box, peel potato, peel onion, slice onion, slice potato, arrange flowers, mix eggs, crack egg, beat eggs, arrange chairs, open door, close door\\n\\nImage 8: beat eggs, mix eggs, stir soup, crack egg, cook egg, label bottle, label box, arrange flowers, arrange chairs, open door, close door, lock door, fasten door, wrap book, shut door, bind hair, twist hair, carry bag, peel potato, slice potato\\n\\nImage 9: bake potato, boil potato, cook potato, fry potato, cut potato, slice potato, peel potato, grate potato, mash potato, arrange chairs, arrange flowers, label box, label bottle, close door, open door, lock door, fasten door, wrap box, twist hair\\n\\nImage 10: stain paper, rip paper, tear paper, roll paper, label box, label bottle, bind hair, twist hair, arrange flowers, arrange chairs, peel potato, slice potato, open door, close door, open book, close book, carry bag, shut door, fasten window, wrap book'}, 'finish_details': {'type': 'stop', 'stop': '<|fim_suffix|>'}, 'index': 0}]}\n",
            "{'id': 'chatcmpl-8PgV6X8AmkH3mTA0Br2m12LfGIDmA', 'object': 'chat.completion', 'created': 1701132264, 'model': 'gpt-4-1106-vision-preview', 'usage': {'prompt_tokens': 5923, 'completion_tokens': 651, 'total_tokens': 6574}, 'choices': [{'message': {'role': 'assistant', 'content': 'Image 1: twist rope, coil rope, bind hair, knot rope, roll paper, label box, fold paper, wrap box, arrange flowers, arrange chairs, carry bag, peel banana, slice apple, slice meat, slice onion, slice potato, tear paper, roll umbrella, tie shoe, trim hair\\n\\nImage 2: bind hair, roll paper, twist hair, wrap box, label box, fold paper, coil rope, knot rope, peel apple, slice apple, slice meat, slice onion, slice potato, tear paper, roll umbrella, tie shoe, arrange flowers, arrange chairs, carry bag, trim hair\\n\\nImage 3: slice apple, peel apple, cut apple, open bottle, peel banana, peel carrot, peel orange, peel potato, bite apple, throw apple, wrap book, bend knee, tear book, break bowl, break egg, break glass, split wood, chop wood, roll paper, spill coffee\\n\\nImage 4: close door, break door, smash door, break window, fasten door, kick door, lock door, open door, shut door, carry bag, block door, block window, close window, lock window, shut window, peel banana, bend knee, bind hair, twist hair, throw football\\n\\nImage 5: fry egg, crack egg, stir soup, beat eggs, cook egg, mix eggs, boil egg, peel banana, peel apple, peel potato, peel orange, peel carrot, chop meat, chop onion, roll paper, throw apple, slice apple, cut potato, mash potato, grate potato\\n\\nImage 6: hang bag, hang shirt, soak shirt, throw frisbee, carry bag, throw apple, slice apple, open door, close door, label bottle, wrap box, roll paper, tear paper, fold paper, peel banana, bend knee, cut meat, fry meat, cook meat, roll umbrella\\n\\nImage 7: twist hair, bind hair, soak hair, trim hair, shave hair, arrange flowers, carry bag, throw frisbee, roll paper, label box, wrap book, peel banana, tear book, beat eggs, fry egg, fry meat, cut meat, mash potato, chop meat, chop onion\\n\\nImage 8: fry potato, cut potato, chop potato, boil potato, bake potato, peel potato, slice potato, grate potato, mash potato, carry bag, wrap book, hang bag, open bottle, beat eggs, fry egg, carry umbrella, park car, throw frisbee, throw apple, bend knee\\n\\nImage 9: open window, close window, throw frisbee, carry umbrella, open umbrella, park car, label bottle, carry bag, lock window, shut window, bind hair, twist hair, roll paper, peel banana, peel apple, tear book, fasten window, throw apple, pile wood, fold paper\\n\\nImage 10: peel potato, mash potato, boil potato, chop potato, grate potato, fry potato, slice potato, bake potato, cut potato, hang shirt, fold paper, carry bag, throw frisbee, bind hair, twist hair, tear paper, roll paper, pile books, wrap book, label box'}, 'finish_details': {'type': 'stop', 'stop': '<|fim_suffix|>'}, 'index': 0}]}\n",
            "{'id': 'chatcmpl-8PgVOX1Qu8U2VRcGibwKdHt5GDz6m', 'object': 'chat.completion', 'created': 1701132282, 'model': 'gpt-4-1106-vision-preview', 'usage': {'prompt_tokens': 4563, 'completion_tokens': 694, 'total_tokens': 5257}, 'choices': [{'message': {'role': 'assistant', 'content': \"Certainly! I'll provide verb-noun pairs that describe the actions or relevant items depicted in the images, adhering to the provided list. Please note, as per the guidelines, none of the people in the images will be identified.\\n\\nImage 1: shave hair, arrange chairs, twist hair, trim hair, label box, tie shoe, bind hair, arrange flowers, break glass, carry bag, bend knee, bend tree, bite apple, block door, block window, boil egg, boil potato, break bowl, break cup, break door\\n\\nImage 2: burn wood, ignite wood, burst door, burn book, burn paper, burn tree, close book, close cabinet, cook egg, cook meat, cook onion, cook potato, crack bottle, crack egg, chop carrot, chop meat, chop onion, chop tree, chop wood, close door\\n\\nImage 3: peel apple, slice apple, cut apple, throw apple, bite apple, chop apple, mash potato, grate carrot, fry egg, fry meat, fry potato, grate potato, hang bag, hang shirt, mix eggs, open bottle, open box, pile books, pile boxes, pile wood\\n\\nImage 4: label box, open box, close drawer, fasten door, fasten window, lock cabinet, lock door, lock drawer, lock window, open cabinet, open door, open drawer, open window, park car, roll paper, roll umbrella, saw tree, saw wood, scratch car, scratch knee\\n\\nImage 5: grate potato, cut potato, chop potato, slice potato, cook potato, fry potato, mash potato, peel potato, boil potato, bake potato, arrange chairs, break egg, burn book, carry bag, chop meat, close window, grind meat, label bottle, park car, rip paper\\n\\nImage 6: stain shirt, spill coffee, tear shirt, open umbrella, carry umbrella, smash door, scratch car, throw frisbee, tie shoe, peel banana, roll umbrella, squeeze bottle, squeeze orange, stir coffee, stir soup, burst balloon, chop onion, fold paper, lock cabinet, mash potato\\n\\nImage 7: coil rope, knot rope, twist rope, bind hair, throw football, throw apple, throw baseball, slice onion, slice meat, saw wood, roll paper, rip paper, ride bicycle, pitch baseball, pile wood, peel carrot, open box, mix eggs, mash potato, lock window\\n\\nImage 8: fold paper, tear paper, roll paper, rip paper, stain paper, label bottle, burn book, carry book, close book, peel orange, open bottle, hang shirt, fry egg, fasten window, fasten door, cook meat, chop wood, chop tree, bite apple, bind hair\\n\\nImage 9: cut apple, peel apple, slice apple, bite apple, throw apple, chop apple, open bottle, peel banana, slice meat, cut potato, spill coffee, roll paper, fry meat, fry potato, cook potato, boil egg, arrange flowers, burst balloon, carry book, carry bag\\n\\nImage 10: spill coffee, stir coffee, stain shirt, splash coffee, stir soup, boil egg, cook meat, cut meat, fry egg, fry meat, throw frisbee, throw football, tear paper, chop wood, chop tree, peel orange, peel banana, peel potato, mash potato, squeeze orange\"}, 'finish_details': {'type': 'stop', 'stop': '<|fim_suffix|>'}, 'index': 0}]}\n",
            "{'id': 'chatcmpl-8PgVg0jX0pFriYviGXbjUZTEgV0LJ', 'object': 'chat.completion', 'created': 1701132300, 'model': 'gpt-4-1106-vision-preview', 'usage': {'prompt_tokens': 4563, 'completion_tokens': 709, 'total_tokens': 5272}, 'choices': [{'message': {'role': 'assistant', 'content': 'Image 1: pitch baseball, throw baseball, bind hair, bend knee, twist hair, carry bag, trim hair, break glass, shave hair, tie shoe, ignite paper, ignite wood, chop carrot, chop meat, squeeze orange, fold paper, label bottle, open bottle, peel banana, park car\\n\\nImage 2: cook onion, stir soup, fry potato, boil egg, mash potato, grate carrot, chop onion, cook egg, cook meat, cook potato, bake potato, fry egg, fry meat, boil potato, mix eggs, beat eggs, chop carrot, chop meat, cut onion, peel potato\\n\\nImage 3: arrange flowers, bind hair, twist hair, shut door, open drawer, open bottle, cut apple, slice potato, label bottle, close window, carry umbrella, peel banana, tie shoe, open box, wrap box, squeeze bottle, fasten door, shut window, peel orange, stain shirt\\n\\nImage 4: tear paper, rip paper, roll paper, cut potato, label box, arrange chairs, fold paper, tie shoe, bind hair, break window, park car, mop floor, fry potato, chop onion, cook meat, peel banana, peel carrot, open bottle, close book, lay paper\\n\\nImage 5: open cabinet, close cabinet, lock cabinet, arrange chairs, label bottle, bind hair, carry bag, open door, shut door, lock door, park car, mop floor, cut wood, wrap book, carry book, peel orange, squeeze bottle, label box, close drawer, burst balloon\\n\\nImage 6: beat eggs, mix eggs, whip cream, stir soup, cut potato, bake potato, cook egg, peel apple, slice potato, grate carrot, chop meat, chop wood, open bottle, lock door, fasten window, fry meat, fry potato, mash potato, open door, bind hair\\n\\nImage 7: close door, open door, shut door, lock door, paint door, block door, fasten door, smash door, carry bag, tie shoe, arrange chairs, bind hair, twist hair, label box, park car, mop floor, cut wood, fry meat, chop onion, peel banana\\n\\nImage 8: close drawer, open drawer, shut drawer, lock drawer, arrange chairs, close cabinet, open cabinet, lock cabinet, carry bag, label bottle, tie shoe, bind hair, twist hair, open door, shut door, fasten door, park car, mop floor, peel banana, slice meat\\n\\nImage 9: scratch knee, skin knee, bind hair, twist hair, arrange chairs, carry bag, label bottle, tie shoe, close door, shut window, close drawer, lock drawer, fasten window, open drawer, park car, mop floor, cut wood, slice meat, chop onion, peel banana\\n\\nImage 10: chop wood, saw tree, split wood, cut tree, park car, pile wood, carry bag, carry book, tie shoe, bind hair, open door, arrange chairs, close window, shut window, lock door, carry umbrella, twist hair, label box, pile books, mop floor\\n\\nImage 11: bend tree, trim tree, arrange chairs, bind hair, trim hair, twist hair, tie shoe, carry bag, pile wood, chop tree, cut tree, label bottle, open door, shut door, fasten window, park car, mop floor, arrange flowers, shut window, close door'}, 'finish_details': {'type': 'stop', 'stop': '<|fim_suffix|>'}, 'index': 0}]}\n",
            "{'id': 'chatcmpl-8PgW0ungpYF6QoZAA2uMvAbVWxk5n', 'object': 'chat.completion', 'created': 1701132320, 'model': 'gpt-4-1106-vision-preview', 'usage': {'prompt_tokens': 6943, 'completion_tokens': 386, 'total_tokens': 7329}, 'choices': [{'message': {'role': 'assistant', 'content': 'Based on your instructions, here are the verb-noun pairs that best describe the actions or situations related to each of the images provided, using the given list and ensuring 10 different pairs for each image:\\n\\nImage 1: chop egg, slice egg, mash egg, grate egg, crack egg, peel egg, cut egg, split egg, break egg, boil egg\\n\\nImage 2: boil egg, break egg, crack egg, fry egg, peel egg, slice egg, cook egg, mash egg, beat eggs, spill coffee\\n\\nImage 3: throw frisbee, catch frisbee, bite apple, ride bicycle, kick football, open umbrella, carry umbrella, twist rope, roll umbrella, park car\\n\\nImage 4: close door, shut door, lock door, fasten door, block door, open door, smash door, burst door, kick door, twist rope\\n\\nImage 5: strip tree, bend tree, split tree, chop tree, cut tree, saw tree, break window, peel carrot, burn tree, peel orange\\n\\nImage 6: peel carrot, grate carrot, slice carrot, chop carrot, cut carrot, mash potato, peel potato, cook meat, fry meat, boil egg\\n\\nImage 7: break glass, crack bottle, smash window, crack glass, break window, crack window, scratch car, crack egg, break door, block window\\n\\nImage 8: chop meat, grind meat, cut meat, cook meat, fry meat, slice meat, boil egg, mash potato, peel banana, bake potato\\n\\nImage 9: arrange chairs, pile books, close drawer, open umbrella, block door, tie shoe, label box, carry bag, arrange flowers, open door\\n\\nImage 10: insert key, lock door, open door, fasten door, close door, unlock door, shut door, park car, carry bag, open drawer'}, 'finish_details': {'type': 'stop', 'stop': '<|fim_suffix|>'}, 'index': 0}]}\n"
          ]
        }
      ],
      "source": [
        "result_list10 = run_model(splitted_lists['list_10'])"
      ]
    },
    {
      "cell_type": "code",
      "execution_count": 112,
      "id": "lJWClIA4VIfr",
      "metadata": {
        "id": "lJWClIA4VIfr"
      },
      "outputs": [],
      "source": [
        "with open('result_list10.json', 'w') as file:\n",
        "    json.dump(result_list10, file)"
      ]
    },
    {
      "cell_type": "code",
      "execution_count": 203,
      "id": "QGl75yq8ZEbJ",
      "metadata": {
        "id": "QGl75yq8ZEbJ"
      },
      "outputs": [],
      "source": [
        "result_list_oneshot_1to4 = result_list1 + result_list2 + result_list3 + result_list4\n",
        "result_list_oneshot_5to8 = result_list5 + result_list6 + result_list7 + result_list8\n",
        "result_list_oneshot_9to10 = result_list9 + result_list10"
      ]
    },
    {
      "cell_type": "code",
      "execution_count": 221,
      "id": "9d3uYbEnbaOr",
      "metadata": {
        "colab": {
          "base_uri": "https://localhost:8080/"
        },
        "id": "9d3uYbEnbaOr",
        "outputId": "2771a2f6-ebe9-410d-e6f4-78abea2f38d6"
      },
      "outputs": [
        {
          "name": "stdout",
          "output_type": "stream",
          "text": [
            "10\n",
            "10\n",
            "10\n",
            "10\n",
            "10\n",
            "10\n",
            "10\n",
            "10\n",
            "10\n",
            "10\n"
          ]
        },
        {
          "data": {
            "text/plain": [
              "100"
            ]
          },
          "execution_count": 221,
          "metadata": {},
          "output_type": "execute_result"
        }
      ],
      "source": [
        "# Data Processing of the result\n",
        "# final_result_oneshot_1to4 = []\n",
        "final_result_oneshot_9to10 = []\n",
        "for item in result_list_oneshot_9to10:\n",
        "   if \"Image 1:\" in item and \"Image 11:\" in item:\n",
        "    item = re.sub(r\"Image 1:.*?Image 2:\", \"Image 2:\", item, flags=re.DOTALL)\n",
        "    if re.search(r\"Image 11: (?:\\w+ \\w+, )*(?:\\w+ \\w+)\\n\", item):\n",
        "      matches = re.findall(r\"Image \\d+: ([\\w\\s,]+?)(?=\\n)\", item)\n",
        "    else:\n",
        "      matches1 = re.findall(r\"Image \\d+: ([\\w\\s,]+?)(?=\\n)\", item)\n",
        "      matches2 = re.findall(r\"Image 11: ([\\w\\s,]+)\", item)\n",
        "      matches = matches1 + matches2\n",
        "    print(len(matches))\n",
        "   else:\n",
        "    if re.search(r\"Image 10: (?:\\w+ \\w+, )*(?:\\w+ \\w+)\\n\\n\", item):\n",
        "      matches = re.findall(r\"Image \\d+: ([\\w\\s,]+?)(?=\\n)\", item)\n",
        "    else:\n",
        "      matches1 = re.findall(r\"Image \\d+: ([\\w\\s,]+?)(?=\\n)\", item)\n",
        "      if \"Image 10:\" in item:\n",
        "        matches2 = re.findall(r\"Image 10: ([\\w\\s,]+)\", item)\n",
        "      elif \"Image 11:\" in item:\n",
        "        matches2 = re.findall(r\"Image 11: ([\\w\\s,]+)\", item)\n",
        "      else:\n",
        "        matches2 = []\n",
        "      matches = matches1 + matches2\n",
        "    print(len(matches))\n",
        "   matches_flatten = []\n",
        "   for pairs in matches:\n",
        "    temp = pairs.split(', ')\n",
        "    matches_flatten.append(temp)\n",
        "   for data in matches_flatten:\n",
        "    # final_result_oneshot_1to4.append(data)\n",
        "    final_result_oneshot_9to10.append(data)\n",
        "# len(final_result_oneshot_1to4)\n",
        "len(final_result_oneshot_9to10)"
      ]
    },
    {
      "cell_type": "code",
      "execution_count": 206,
      "id": "eT-AFO8mtD_2",
      "metadata": {
        "colab": {
          "base_uri": "https://localhost:8080/"
        },
        "id": "eT-AFO8mtD_2",
        "outputId": "a3c6791a-98d2-4bf1-9046-31573a6cc522"
      },
      "outputs": [
        {
          "name": "stdout",
          "output_type": "stream",
          "text": [
            "10\n",
            "10\n",
            "10\n",
            "10\n",
            "10\n",
            "10\n",
            "10\n",
            "10\n",
            "10\n",
            "10\n",
            "10\n",
            "10\n",
            "10\n",
            "10\n",
            "10\n",
            "10\n",
            "10\n",
            "10\n",
            "10\n",
            "10\n"
          ]
        },
        {
          "data": {
            "text/plain": [
              "200"
            ]
          },
          "execution_count": 206,
          "metadata": {},
          "output_type": "execute_result"
        }
      ],
      "source": [
        "final_result_oneshot_5to8 = []\n",
        "for item in result_list_oneshot_5to8:\n",
        "    matches = []\n",
        "    # Check for Image 1 to Image 10\n",
        "    if \"Image 1:\" in item:\n",
        "        matches += re.findall(r\"Image [1-9]: ([\\w\\s,]+?)(?=\\n|$)\", item)\n",
        "        if \"Image 10:\" in item:\n",
        "            matches += re.findall(r\"Image 10: ([\\w\\s,]+?)(?=\\n|$)\", item)\n",
        "    # If Image 1 is not present, check for Image 2 to Image 11\n",
        "    else:\n",
        "        matches += re.findall(r\"Image [2-9]: ([\\w\\s,]+?)(?=\\n|$)\", item)\n",
        "        if \"Image 10:\" in item:\n",
        "            matches += re.findall(r\"Image 10: ([\\w\\s,]+?)(?=\\n|$)\", item)\n",
        "        if \"Image 11:\" in item:\n",
        "            matches += re.findall(r\"Image 11: ([\\w\\s,]+)(?=\\n|$)\", item)\n",
        "\n",
        "    # Print the number of matches found\n",
        "    print(len(matches))\n",
        "    #print(matches)\n",
        "    # Flatten the list of matches\n",
        "    matches_flatten = [pairs.split(', ') for pairs in matches]\n",
        "\n",
        "    # Extend the final result with the flattened matches\n",
        "    final_result_oneshot_5to8.extend(matches)\n",
        "\n",
        "group_size = 10\n",
        "\n",
        "# Initialize an empty list to store the groups\n",
        "groups = []\n",
        "\n",
        "# Create 5 groups each containing 10 lists\n",
        "for i in range(0, len(final_result_oneshot_5to8), group_size):\n",
        "    group = final_result_oneshot_5to8[i:i + group_size]\n",
        "    groups.append(group)\n",
        "\n",
        "# Apply the condition to each group\n",
        "for group in groups:\n",
        "    first_list = group[0]\n",
        "    first_prediction = first_list.split(', ')[0]  # Split the string and get the first prediction\n",
        "    if first_prediction in [\"pitch baseball\", \"throw baseball\"]:\n",
        "        # Remove the first list and replicate the last list in the group\n",
        "        group.pop(0)\n",
        "        group.append(group[-1])\n",
        "\n",
        "# Check the groups after modification\n",
        "modified_result_oneshot_5to8 = [item for group in groups for item in group]\n",
        "len(modified_result_oneshot_5to8)"
      ]
    },
    {
      "cell_type": "code",
      "execution_count": 224,
      "id": "e05Trq2AZY8d",
      "metadata": {
        "colab": {
          "base_uri": "https://localhost:8080/"
        },
        "id": "e05Trq2AZY8d",
        "outputId": "fd7c24b3-111e-4601-a8be-5bec93a9560e"
      },
      "outputs": [
        {
          "name": "stdout",
          "output_type": "stream",
          "text": [
            "Accuracy: 80.20%\n"
          ]
        }
      ],
      "source": [
        "# Accuracy Top 20\n",
        "final_result_one_shot = final_result_oneshot_1to4 + modified_result_oneshot_5to8 + final_result_oneshot_9to10\n",
        "# final_result_one_shot = final_result_oneshot_1to4\n",
        "correct_count = 0\n",
        "\n",
        "for index, answer in enumerate(images_500_label):\n",
        "    if answer in final_result_one_shot[index]:\n",
        "        correct_count += 1\n",
        "accuracy = correct_count / len(images_500_label)\n",
        "print(f'Accuracy: {accuracy * 100:.2f}%')"
      ]
    },
    {
      "cell_type": "code",
      "execution_count": 229,
      "id": "agzDSkn9abT5",
      "metadata": {
        "colab": {
          "base_uri": "https://localhost:8080/"
        },
        "id": "agzDSkn9abT5",
        "outputId": "cf457c29-9136-4f62-8fa8-4c7d8ae2fcce"
      },
      "outputs": [
        {
          "name": "stdout",
          "output_type": "stream",
          "text": [
            "Accuracy: 44.40%\n"
          ]
        }
      ],
      "source": [
        "# Accuracy Top 5\n",
        "final_result_one_shot_top5 = [sublist[:5] for sublist in final_result_one_shot]\n",
        "correct_count = 0\n",
        "for index, answer in enumerate(images_500_label):\n",
        "    if answer in final_result_one_shot_top5[index]:\n",
        "        correct_count += 1\n",
        "accuracy = correct_count / len(images_500_label)\n",
        "print(f'Accuracy: {accuracy * 100:.2f}%')"
      ]
    },
    {
      "cell_type": "code",
      "execution_count": 226,
      "id": "gWG4n6Tt8aCd",
      "metadata": {
        "colab": {
          "base_uri": "https://localhost:8080/"
        },
        "id": "gWG4n6Tt8aCd",
        "outputId": "9c1d865a-c0bb-4e4d-d88a-502c833d17c5"
      },
      "outputs": [
        {
          "name": "stdout",
          "output_type": "stream",
          "text": [
            "Accuracy: 28.00%\n"
          ]
        }
      ],
      "source": [
        "# Accuracy Top 1\n",
        "final_result_one_shot_top1 = [sublist[:1] for sublist in final_result_one_shot]\n",
        "correct_count = 0\n",
        "for index, answer in enumerate(images_500_label):\n",
        "    if answer in final_result_one_shot_top1[index]:\n",
        "        correct_count += 1\n",
        "accuracy = correct_count / len(images_500_label)\n",
        "print(f'Accuracy: {accuracy * 100:.2f}%')"
      ]
    },
    {
      "cell_type": "markdown",
      "id": "ZXFTZkLqBCrW",
      "metadata": {
        "id": "ZXFTZkLqBCrW"
      },
      "source": [
        "### Zero shot"
      ]
    },
    {
      "cell_type": "code",
      "execution_count": 181,
      "id": "EDudjVR69Cmk",
      "metadata": {
        "id": "EDudjVR69Cmk"
      },
      "outputs": [],
      "source": [
        "def get_openai_responses_zero_shots(api_key, image_files):\n",
        "\n",
        "    image_data_list = []\n",
        "\n",
        "    for image_file in image_files:\n",
        "        buffer = BytesIO()\n",
        "        image_file.save(buffer, format=\"JPEG\")\n",
        "        image_data = buffer.getvalue()\n",
        "        base64_image = base64.b64encode(image_data).decode('utf-8')\n",
        "        image_data_list.append({\n",
        "            \"type\": \"image_url\",\n",
        "            \"image_url\": {\n",
        "                \"url\": f\"data:image/jpeg;base64,{base64_image}\"\n",
        "            }\n",
        "        })\n",
        "\n",
        "\n",
        "    headers = {\n",
        "        \"Content-Type\": \"application/json\",\n",
        "        \"Authorization\": f\"Bearer {api_key}\"\n",
        "    }\n",
        "\n",
        "    # Prepare the payload for the request with multiple images\n",
        "    payload = {\n",
        "        \"model\": \"gpt-4-vision-preview\",  # Update this model name as per the latest API\n",
        "        \"messages\": [\n",
        "            {\n",
        "                \"role\": \"user\",\n",
        "                \"content\": [\n",
        "                    {\n",
        "                        \"type\": \"text\",\n",
        "                        \"text\":  \"\"\" We are conducting an exercise to test the ability of an AI model to predict verb-noun pairs that describe the physical actions depicted in a series of images.\\\n",
        "                         We will upload a total of 10 images. \\\n",
        "                        Your tasks should satisfy the following 4 conditions\":\n",
        "                        1.For the 10 images, the task is to identify verb-noun pairs from given list that best describe the actions taking place in each image. \\\n",
        "                        2.The model should generate 20 possible verb-noun pairs from the given list for each image, resulting in a total of 200 pairs.\\\n",
        "                        3.10 possible verb-noun pairs for each image should be different. \\\n",
        "                        Each pair should be formatted like 'arrange chairs', and separated by a comma and without including line breaks and in the below format,\n",
        "                        and the result must be like this format:\n",
        "                         Image 1: bind hair, twist hair, label box, arrange flowers, arrange chairs, tie shoe, trim hair, carry bag, break glass, shave hair, \\\n",
        "                               bind hair, twist hair, label box, arrange flowers, arrange chairs, tie shoe, trim hair, carry bag, break glass, shave hair\\\n",
        "                         Image 2: like Image 1\n",
        "                         ...\n",
        "                         Image 10: like Image 1\n",
        "                        4.The possible answers for the verb noun pairs are in this list: ['arrange chairs,arrange flowers,bake potato,beat eggs,\\\n",
        "                        bend knee,bend tree,bind hair,bite apple,block door,block window,boil egg,boil potato,break bowl,break cup,break door,break egg,break glass,\\\n",
        "                        break window,burn book,burn paper,burn tree,burn wood,burst balloon,burst door,carry bag,carry book,carry umbrella,chop carrot,chop meat,\\\n",
        "                        chop onion,chop tree,chop wood,close book,close cabinet,close door,close drawer,close window,coil rope,cook egg,cook meat,cook onion,\\\n",
        "                        cook potato,crack bottle,crack egg,crack glass,crack window,crash car,crop hair,cut apple,cut meat,cut onion,cut potato,cut tree,cut wood,\\\n",
        "                        fasten door,fasten window,fold paper,fry egg,fry meat,fry potato,grate carrot,grate potato,grind meat,hang bag,hang shirt,ignite paper,\\\n",
        "                        ignite wood,insert key,kick door,kick football,knot rope,label bottle,label box,lock cabinet,lock door,lock drawer,lock window,mash potato,\\\n",
        "                        mix eggs,open bottle,open box,open cabinet,open door,open drawer,open umbrella,open window,park car,peel apple,peel banana,peel carrot,\\\n",
        "                        peel orange,peel potato,pile books,pile boxes,pile wood,pitch baseball,ride bicycle,rip paper,roll paper,roll umbrella,saw tree,saw wood,\\\n",
        "                        scratch car,scratch knee,shave hair,shut door,shut window,skin knee,slice apple,slice meat,slice onion,slice potato,smash door,smash window,\\\n",
        "                        soak shirt,soak hair,spill coffee,split tree,split wood,squeeze orange,squeeze bottle,stain paper,stain shirt,stir coffee,stir soup,\\\n",
        "                        strip tree,tear book,tear shirt,tear paper,throw apple,throw baseball,throw football,throw frisbee,tie shoe,trim hair,trim tree,twist hair,\\\n",
        "                        twist rope,wrap book,wrap box']\n",
        "                         \"\"\"\n",
        "\n",
        "                    },\n",
        "                    *image_data_list\n",
        "                ]\n",
        "            }\n",
        "        ],\n",
        "        \"max_tokens\": 1000  #1000 is the best so far\n",
        "    }\n",
        "\n",
        "    # Send the request\n",
        "    response = requests.post(\"https://api.openai.com/v1/chat/completions\", headers=headers, json=payload).json()\n",
        "    return response\n",
        "\n"
      ]
    },
    {
      "cell_type": "code",
      "execution_count": 182,
      "id": "in_gSbdkBg6S",
      "metadata": {
        "id": "in_gSbdkBg6S"
      },
      "outputs": [],
      "source": [
        "# Run Chatgpt4\n",
        "def run_model_zero_shot(image_list):\n",
        "  responses500 = []\n",
        "  # Replace with your actual API key\n",
        "  api_key = \"YOUR_OPENAI_KEY\"\n",
        "\n",
        "  for i in range(0, len(image_list), 10):\n",
        "      images_10 = image_list[i:i+10]\n",
        "      response_verb_noun = get_openai_responses_zero_shots(api_key, images_10)\n",
        "\n",
        "      # Inspect the response\n",
        "      print(response_verb_noun)\n",
        "\n",
        "      try:\n",
        "          content = response_verb_noun['choices'][0]['message']['content']\n",
        "          responses500.append(content)\n",
        "      except KeyError:\n",
        "          print(\"KeyError encountered. Check the response structure.\")\n",
        "  return responses500"
      ]
    },
    {
      "cell_type": "code",
      "execution_count": null,
      "id": "c3BRruVNB5Bb",
      "metadata": {
        "colab": {
          "base_uri": "https://localhost:8080/"
        },
        "id": "c3BRruVNB5Bb",
        "outputId": "f77e6bfe-e1f3-4b66-c02f-651eef815413"
      },
      "outputs": [
        {
          "name": "stdout",
          "output_type": "stream",
          "text": [
            "{'id': 'chatcmpl-8Pwe2jH8zaW7SWWw8SM7INGAYo6Fd', 'object': 'chat.completion', 'created': 1701194322, 'model': 'gpt-4-1106-vision-preview', 'usage': {'prompt_tokens': 7363, 'completion_tokens': 685, 'total_tokens': 8048}, 'choices': [{'message': {'role': 'assistant', 'content': 'Image 1: crash car, park car, scratch car, open door, close door, shut door, fasten door, lock door, open window, close window, crash car, park car, scratch car, open door, close door, shut door, fasten door, lock door, open window, close window\\n\\nImage 2: open window, close window, break window, smash window, fasten window, lock window, arrange chairs, arrange flowers, park car, open door, open window, close window, break window, smash window, fasten window, lock window, arrange chairs, arrange flowers, park car, open door\\n\\nImage 3: kick football, throw football, park car, ride bicycle, pitch baseball, peel banana, peel carrot, boil potato, bake potato, cut tree, kick football, throw football, park car, ride bicycle, pitch baseball, peel banana, peel carrot, boil potato, bake potato, cut tree\\n\\nImage 4: tear paper, rip paper, peel orange, cut apple, slice apple, close book, wrap book, label box, open drawer, open door, tear paper, rip paper, peel orange, cut apple, slice apple, close book, wrap book, label box, open drawer, open door\\n\\nImage 5: close door, shut door, fasten door, lock door, open door, block door, smash door, hang shirt, bend knee, peel banana, close door, shut door, fasten door, lock door, open door, block door, smash door, hang shirt, bend knee, peel banana\\n\\nImage 6: arrange flowers, open window, boil egg, close drawer, mix eggs, label bottle, open bottle, fry egg, shut door, shut window, arrange flowers, open window, boil egg, close drawer, mix eggs, label bottle, open bottle, fry egg, shut door, shut window\\n\\nImage 7: coil rope, twist rope, knot rope, hang bag, carry bag, bind hair, saw wood, cut wood, chop wood, wrap box, coil rope, twist rope, knot rope, hang bag, carry bag, bind hair, saw wood, cut wood, chop wood, wrap box\\n\\nImage 8: chop tree, saw tree, cut tree, split wood, slice potato, peel potato, mash potato, chop wood, saw wood, split tree, chop tree, saw tree, cut tree, split wood, slice potato, peel potato, mash potato, chop wood, saw wood, split tree\\n\\nImage 9: smash door, break door, burst door, open door, lock door, close door, shut door, block door, kick door, tie shoe, smash door, break door, burst door, open door, lock door, close door, shut door, block door, kick door, tie shoe\\n\\nImage 10: hang shirt, soak shirt, stain shirt, tear shirt, arrange chairs, arrange flowers, label box, tie shoe, close drawer, open drawer, hang shirt, soak shirt, stain shirt, tear shirt, arrange chairs, arrange flowers, label box, tie shoe, close drawer, open drawer\\n\\nPlease note that some verb-noun pairs are repeated as the requested task requires 20 pairs for each image, but the available actions evident in each image are finite and specific to the context presented.'}, 'finish_details': {'type': 'stop', 'stop': '<|fim_suffix|>'}, 'index': 0}]}\n",
            "{'id': 'chatcmpl-8PweLTBvGrFeBObwdh4bg3Tyrk70Q', 'object': 'chat.completion', 'created': 1701194341, 'model': 'gpt-4-1106-vision-preview', 'usage': {'prompt_tokens': 6343, 'completion_tokens': 646, 'total_tokens': 6989}, 'choices': [{'message': {'role': 'assistant', 'content': 'Image 1: pile wood, chop wood, saw wood, stack wood, split wood, arrange chairs, carry bag, chop tree, burn wood, break glass, saw wood, split wood, cut wood, chop meat, cut tree, pile books, pile boxes, throw football, open drawer, shut window\\n\\nImage 2: arrange chairs, pile wood, carry bag, arrange flowers, chop wood, split wood, stack wood, chop tree, burn wood, close door, pile wood, arrange chairs, throw baseball, bind hair, label box, tie shoe, ride bicycle, shut window, break glass, roll paper\\n\\nImage 3: break egg, crack egg, boil egg, fry egg, beat eggs, break glass, break bowl, break cup, spill coffee, mash potato, break egg, crack egg, mix eggs, throw apple, stir soup, peel banana, bend knee, carry umbrella, open bottle, skin knee\\n\\nImage 4: break window, crack window, smash window, break glass, break door, burst door, block door, close window, shut window, open window, break window, crack glass, smash door, pile wood, close door, lock door, twist rope, roll paper, bend tree, trim tree\\n\\nImage 5: skin knee, scratch knee, bend knee, tear shirt, stain shirt, burst balloon, bleed, wrap box, spill coffee, carry bag, skin knee, stain shirt, rip paper, burst door, scratch car, close door, roll umbrella, hang shirt, tear paper, burn paper\\n\\nImage 6: chop wood, saw wood, split wood, pile wood, chop tree, carry bag, arrange chairs, throw baseball, ride bicycle, break glass, chop wood, saw wood, split wood, stack wood, carry umbrella, tie shoe, fold paper, bend knee, open drawer, label box\\n\\nImage 7: ride bicycle, carry bag, bend knee, throw frisbee, arrange flowers, park car, carry umbrella, open door, twist rope, pile wood, ride bicycle, bend knee, throw baseball, open bottle, fasten window, close door, hang shirt, close drawer, open drawer, lock door\\n\\nImage 8: ride bicycle, carry bag, open drawer, close door, park car, throw frisbee, arrange flowers, carry umbrella, pile wood, bend knee, ride bicycle, carry bag, throw baseball, hang shirt, open window, knot rope, twist hair, lock door, arrange chairs, stir coffee\\n\\nImage 9: close cabinet, open cabinet, arrange chairs, peel banana, pile boxes, label bottle, insert key, wrap book, carry bag, lock cabinet, close cabinet, open drawer, shut window, open door, pile books, tie shoe, fold paper, carry book, arrange flowers, fasten door\\n\\nImage 10: lock door, insert key, lock cabinet, lock window, lock drawer, close door, shut door, fasten window, fasten door, block door, lock door, insert key, close cabinet, hang bag, wrap box, bind hair, label box, throw baseball, bend knee, shut window'}, 'finish_details': {'type': 'stop', 'stop': '<|fim_suffix|>'}, 'index': 0}]}\n",
            "{'id': 'chatcmpl-8PwecPdydDLHw6EN4ggzr2ca3EfPf', 'object': 'chat.completion', 'created': 1701194358, 'model': 'gpt-4-1106-vision-preview', 'usage': {'prompt_tokens': 5663, 'completion_tokens': 651, 'total_tokens': 6314}, 'choices': [{'message': {'role': 'assistant', 'content': 'Image 1: trim hair, crop hair, shave hair, bind hair, twist hair, label bottle, close drawer, open bottle, peel banana, open box, trim hair, crop hair, shave hair, bind hair, twist hair, label bottle, close drawer, open bottle, peel banana, open box\\n\\nImage 2: lock door, fasten door, insert key, close door, close cabinet, shut door, open door, open cabinet, lock drawer, lock window, lock door, fasten door, insert key, close door, close cabinet, shut door, open door, open cabinet, lock drawer, lock window\\n\\nImage 3: close window, shut window, fasten window, open window, block window, open cabinet, close cabinet, insert key, lock window, lock cabinet, close window, shut window, fasten window, open window, block window, open cabinet, close cabinet, insert key, lock window, lock cabinet\\n\\nImage 4: tear book, rip paper, tear paper, tear shirt, spill coffee, burn book, open box, label box, throw frisbee, squeeze bottle, tear book, rip paper, tear paper, tear shirt, spill coffee, burn book, open box, label box, throw frisbee, squeeze bottle\\n\\nImage 5: burn paper, burn book, ignite paper, ignite wood, open drawer, spill coffee, tear book, tear paper, throw apple, light fire, burn paper, burn book, ignite paper, ignite wood, open drawer, spill coffee, tear book, tear paper, throw apple, light fire\\n\\nImage 6: boil egg, cook egg, peel banana, cut potato, slice potato, fry egg, mash potato, grate carrot, chop meat, fry potato, boil egg, cook egg, peel banana, cut potato, slice potato, fry egg, mash potato, grate carrot, chop meat, fry potato\\n\\nImage 7: park car, crash car, open door, close door, fasten seatbelt, drive car, unlock car, shut door, lock door, insert key, park car, crash car, open door, close door, fasten seatbelt, drive car, unlock car, shut door, lock door, insert key\\n\\nImage 8: crop hair, trim hair, shave hair, dye hair, style hair, comb hair, wash hair, dry hair, cut apple, break glass, crop hair, trim hair, shave hair, dye hair, style hair, comb hair, wash hair, dry hair, cut apple, break glass\\n\\nImage 9: hang shirt, dry shirt, soak shirt, stain shirt, wash shirt, iron shirt, fold shirt, stretch shirt, pull shirt, wear shirt, hang shirt, dry shirt, soak shirt, stain shirt, wash shirt, iron shirt, fold shirt, stretch shirt, pull shirt, wear shirt\\n\\nImage 10: arrange shirts, hang shirts, pile shirts, fold shirts, sort shirts, label box, open box, pack box, wrap box, close box, arrange shirts, hang shirts, pile shirts, fold shirts, sort shirts, label box, open box, pack box, wrap box, close box'}, 'finish_details': {'type': 'stop', 'stop': '<|fim_suffix|>'}, 'index': 0}]}\n",
            "{'id': 'chatcmpl-8Pwet8Zb9GBRhJZD7EG8DFvY0SOSW', 'object': 'chat.completion', 'created': 1701194375, 'model': 'gpt-4-1106-vision-preview', 'usage': {'prompt_tokens': 6003, 'completion_tokens': 646, 'total_tokens': 6649}, 'choices': [{'message': {'role': 'assistant', 'content': 'Image 1: pile boxes, label box, carry bag, open box, close drawer, tie shoe, arrange chairs, arrange flowers, twist rope, bind hair, break glass, burn wood, chop wood, fold paper, kick door, lock cabinet, roll paper, shut window, throw frisbee, wrap box\\nImage 2: pile books, open book, close book, label bottle, carry book, arrange flowers, bend knee, block window, tie shoe, bind hair, break bowl, cook egg, fold paper, ignite paper, lock drawer, mash potato, pitch baseball, saw wood, squeeze bottle, trim hair\\nImage 3: fasten door, close door, lock door, open door, block door, shut door, twist rope, break glass, carry bag, tie shoe, arrange chairs, bake potato, burst balloon, chop onion, fry meat, kick door, rip paper, saw tree, throw football, wrap book\\nImage 4: carry umbrella, open umbrella, soak shirt, bind hair, break glass, close drawer, fry potato, kick football, lock cabinet, mix eggs, carry bag, carry book, cut onion, fold paper, hang shirt, label box, peel banana, roll umbrella, squeeze orange, tie shoe\\nImage 5: ride bicycle, carry bag, open door, park car, pile boxes, race bike, saw wood, shut window, squeeze bottle, tie shoe, arrange chairs, break bowl, chop carrot, cook meat, fasten window, fold paper, hang shirt, ignite wood, lock drawer, twist hair\\nImage 6: chop onion, dice onion, peel onion, slice onion, cook onion, fry potato, grate carrot, label bottle, mash potato, open bottle, break egg, carry bag, close door, ignite paper, kick door, roll paper, saw wood, shut drawer, stir soup, trim hair\\nImage 7: break egg, crack egg, cook egg, fry egg, beat eggs, boil egg, chop meat, close door, grate potato, label box, arrange flowers, bind hair, carry bag, fasten door, hang bag, kick football, mash potato, peel apple, saw tree, tear paper\\nImage 8: chop onion, slice onion, slice potato, chop carrot, peel onion, cook meat, dice onion, grate carrot, mash potato, open drawer, arrange chairs, break glass, carry bag, fold paper, kick door, lock cabinet, peel banana, ride bicycle, soak shirt, stir coffee\\nImage 9: peel carrot, grate carrot, chop carrot, slice potato, boil potato, fry potato, lock drawer, pile wood, roll umbrella, saw wood, bind hair, break glass, carry umbrella, close window, fasten window, kick football, pitch baseball, shut door, throw apple, twist hair\\nImage 10: open cabinet, label bottle, lock drawer, fasten door, block door, close door, arrange flowers, hang bag, pile books, twist rope, arrange chairs, break cup, chop meat, fold paper, ignite paper, lock cabinet, mash potato, peel orange, saw tree, tie shoe'}, 'finish_details': {'type': 'stop', 'stop': '<|fim_suffix|>'}, 'index': 0}]}\n",
            "{'id': 'chatcmpl-8PwfCM7Kpa3eR5up7Tp09vaKinvBf', 'object': 'chat.completion', 'created': 1701194394, 'model': 'gpt-4-1106-vision-preview', 'usage': {'prompt_tokens': 6853, 'completion_tokens': 639, 'total_tokens': 7492}, 'choices': [{'message': {'role': 'assistant', 'content': 'Image 1: saw wood, saw wood, saw wood, saw wood, saw wood, saw wood, saw wood, saw wood, saw wood, saw wood, cut wood, cut wood, cut wood, cut wood, cut wood, cut wood, cut wood, cut wood, cut wood, cut wood\\nImage 2: break glass, break glass, break glass, break glass, break glass, break glass, break glass, break glass, break glass, break glass, crack glass, crack glass, crack glass, crack glass, crack glass, crack glass, crack glass, crack glass, crack glass, crack glass\\nImage 3: carry book, carry book, carry book, carry book, carry book, carry book, carry book, carry book, carry book, carry book, hold book, hold book, hold book, hold book, hold book, hold book, hold book, hold book, hold book, hold book\\nImage 4: open umbrella, open umbrella, open umbrella, open umbrella, open umbrella, open umbrella, open umbrella, open umbrella, open umbrella, open umbrella, fold umbrella, fold umbrella, fold umbrella, fold umbrella, fold umbrella, fold umbrella, fold umbrella, fold umbrella, fold umbrella, fold umbrella\\nImage 5: open drawer, open drawer, open drawer, open drawer, open drawer, open drawer, open drawer, open drawer, open drawer, open drawer, close drawer, close drawer, close drawer, close drawer, close drawer, close drawer, close drawer, close drawer, close drawer, close drawer\\nImage 6: break window, break window, break window, break window, break window, break window, break window, break window, break window, break window, smash window, smash window, smash window, smash window, smash window, smash window, smash window, smash window, smash window, smash window\\nImage 7: bind hair, bind hair, bind hair, bind hair, bind hair, bind hair, bind hair, bind hair, bind hair, bind hair, twist hair, twist hair, twist hair, twist hair, twist hair, twist hair, twist hair, twist hair, twist hair, twist hair\\nImage 8: close cabinet, close cabinet, close cabinet, close cabinet, close cabinet, close cabinet, close cabinet, close cabinet, close cabinet, close cabinet, open cabinet, open cabinet, open cabinet, open cabinet, open cabinet, open cabinet, open cabinet, open cabinet, open cabinet, open cabinet\\nImage 9: peel carrot, peel carrot, peel carrot, peel carrot, peel carrot, peel carrot, peel carrot, peel carrot, peel carrot, peel carrot, chop carrot, chop carrot, chop carrot, chop carrot, chop carrot, chop carrot, chop carrot, chop carrot, chop carrot, chop carrot\\nImage 10: tear paper, tear paper, tear paper, tear paper, tear paper, tear paper, tear paper, tear paper, tear paper, tear paper, rip paper, rip paper, rip paper, rip paper, rip paper, rip paper, rip paper, rip paper, rip paper, rip paper'}, 'finish_details': {'type': 'stop', 'stop': '<|fim_suffix|>'}, 'index': 0}]}\n"
          ]
        }
      ],
      "source": [
        "result_zeroshot_list1 = run_model_zero_shot(splitted_lists['list_1'])"
      ]
    },
    {
      "cell_type": "code",
      "execution_count": null,
      "id": "NZyE0JHTDXhu",
      "metadata": {
        "id": "NZyE0JHTDXhu"
      },
      "outputs": [],
      "source": [
        "with open('result_zeroshot_list1.json', 'w') as file:\n",
        "    json.dump(result_zeroshot_list1, file)"
      ]
    },
    {
      "cell_type": "code",
      "execution_count": null,
      "id": "PlFuHd2pEZka",
      "metadata": {
        "colab": {
          "base_uri": "https://localhost:8080/"
        },
        "id": "PlFuHd2pEZka",
        "outputId": "51b33165-f8c3-4d5e-a56a-8981b2a2644a"
      },
      "outputs": [
        {
          "name": "stdout",
          "output_type": "stream",
          "text": [
            "{'id': 'chatcmpl-8Pwg1ANVGfMNuvQqwJxdEGoPxWRRw', 'object': 'chat.completion', 'created': 1701194445, 'model': 'gpt-4-1106-vision-preview', 'usage': {'prompt_tokens': 6343, 'completion_tokens': 645, 'total_tokens': 6988}, 'choices': [{'message': {'role': 'assistant', 'content': 'Image 1: coil rope, tie shoe, wrap box, twist rope, close cabinet, fasten window, lock cabinet, bind hair, twist hair, pile boxes, coil rope, tie shoe, wrap box, twist rope, close cabinet, fasten window, lock cabinet, bind hair, twist hair, pile boxes\\nImage 2: peel apple, slice apple, cut apple, chop apple, bite apple, arrange flowers, tear paper, label bottle, open bottle, throw apple, peel apple, slice apple, cut apple, chop apple, bite apple, arrange flowers, tear paper, label bottle, open bottle, throw apple\\nImage 3: stir soup, cook meat, cook potato, mash potato, chop meat, slice meat, fry meat, boil potato, mix eggs, beat eggs, stir soup, cook meat, cook potato, mash potato, chop meat, slice meat, fry meat, boil potato, mix eggs, beat eggs\\nImage 4: burn wood, ignite wood, open drawer, close drawer, fasten door, shut window, light fire, heat soup, stir coffee, crack egg, burn wood, ignite wood, open drawer, close drawer, fasten door, shut window, light fire, heat soup, stir coffee, crack egg\\nImage 5: grate carrot, chop carrot, slice carrot, peel carrot, arrange flowers, cut potato, mash potato, chop onion, chop tree, cut wood, grate carrot, chop carrot, slice carrot, peel carrot, arrange flowers, cut potato, mash potato, chop onion, chop tree, cut wood\\nImage 6: beat eggs, mix eggs, stir soup, stir coffee, break egg, crack egg, open box, close drawer, arrange chairs, cook egg, beat eggs, mix eggs, stir soup, stir coffee, break egg, crack egg, open box, close drawer, arrange chairs, cook egg\\nImage 7: open window, shut window, close window, lock window, clean window, break window, block window, fasten window, arrange chairs, hang shirt, open window, shut window, close window, lock window, clean window, break window, block window, fasten window, arrange chairs, hang shirt\\nImage 8: chop onion, slice onion, cut onion, peel onion, cook onion, grate carrot, mash potato, stir soup, mix eggs, chop meat, chop onion, slice onion, cut onion, peel onion, cook onion, grate carrot, mash potato, stir soup, mix eggs, chop meat\\nImage 9: mix eggs, beat eggs, stir coffee, stir soup, open drawer, close cabinet, lock drawer, fold paper, break egg, crack egg, mix eggs, beat eggs, stir coffee, stir soup, open drawer, close cabinet, lock drawer, fold paper, break egg, crack egg\\nImage 10: slice meat, chop meat, cut meat, cook meat, fry meat, peel potato, chop wood, saw wood, lock cabinet, burn wood, slice meat, chop meat, cut meat, cook meat, fry meat, peel potato, chop wood, saw wood, lock cabinet, burn wood'}, 'finish_details': {'type': 'stop', 'stop': '<|fim_suffix|>'}, 'index': 0}]}\n",
            "{'id': 'chatcmpl-8PwgK1pBLltyhAOtTASHDqlVcAKPU', 'object': 'chat.completion', 'created': 1701194464, 'model': 'gpt-4-1106-vision-preview', 'usage': {'prompt_tokens': 7873, 'completion_tokens': 647, 'total_tokens': 8520}, 'choices': [{'message': {'role': 'assistant', 'content': 'Image 1: fry potato, cook potato, boil potato, cook meat, fry meat, fry egg, cook egg, cook onion, chop onion, peel potato, fry potato, cook potato, boil potato, cook meat, fry meat, fry egg, cook egg, cook onion, chop onion, peel potato\\n\\nImage 2: open window, close window, open door, shut window, close door, open cabinet, close cabinet, open drawer, lock window, close drawer, open window, close window, open door, shut window, close door, open cabinet, close cabinet, open drawer, lock window, close drawer\\n\\nImage 3: slice onion, chop onion, peel onion, cut onion, cut potato, chop wood, chop carrot, peel apple, peel carrot, slice meat, slice onion, chop onion, peel onion, cut onion, cut potato, chop wood, chop carrot, peel apple, peel carrot, slice meat\\n\\nImage 4: break glass, smash door, crack window, crack glass, break window, fasten door, fasten window, break door, block door, break bowl, break glass, smash door, crack window, crack glass, break window, fasten door, fasten window, break door, block door, break bowl\\n\\nImage 5: crack egg, break egg, cook egg, fry egg, beat eggs, peel egg, boil egg, chop onion, slice onion, peel apple, crack egg, break egg, cook egg, fry egg, beat eggs, peel egg, boil egg, chop onion, slice onion, peel apple\\n\\nImage 6: break window, crack window, smash door, crack glass, break glass, break door, break bowl, break cup, burst balloon, burst door, break window, crack window, smash door, crack glass, break glass, break door, break bowl, break cup, burst balloon, burst door\\n\\nImage 7: grate carrot, peel carrot, chop carrot, slice onion, chop onion, chop meat, chop tree, cut apple, slice apple, peel banana, grate carrot, peel carrot, chop carrot, slice onion, chop onion, chop meat, chop tree, cut apple, slice apple, peel banana\\n\\nImage 8: cook meat, fry meat, chop meat, cut meat, slice meat, boil potato, peel potato, fry potato, cook potato, bake potato, cook meat, fry meat, chop meat, cut meat, slice meat, boil potato, peel potato, fry potato, cook potato, bake potato\\n\\nImage 9: soak shirt, soak hair, wash shirt, open bottle, pour coffee, stir coffee, spill coffee, throw frisbee, wash shirt, rinse shirt, soak shirt, soak hair, wash shirt, open bottle, pour coffee, stir coffee, spill coffee, throw frisbee, wash shirt, rinse shirt\\n\\nImage 10: tear paper, tear book, rip paper, open box, wrap box, wrap book, label box, open door, slice potato, burst door, tear paper, tear book, rip paper, open box, wrap box, wrap book, label box, open door, slice potato, burst door'}, 'finish_details': {'type': 'stop', 'stop': '<|fim_suffix|>'}, 'index': 0}]}\n",
            "{'id': 'chatcmpl-8PwgcbXemAzxHvHclbI5DQcYUzRmJ', 'object': 'chat.completion', 'created': 1701194482, 'model': 'gpt-4-1106-vision-preview', 'usage': {'prompt_tokens': 5833, 'completion_tokens': 643, 'total_tokens': 6476}, 'choices': [{'message': {'role': 'assistant', 'content': 'Image 1: cook meat, fry meat, slice meat, chop meat, mash potato, boil potato, fry potato, grate potato, peel potato, cut potato, cook meat, fry meat, slice meat, chop meat, mash potato, boil potato, fry potato, grate potato, peel potato, cut potato\\n\\nImage 2: ride bicycle, park car, open umbrella, roll umbrella, carry bag, tie shoe, wear helmet, open door, close door, fasten helmet, ride bicycle, park car, open umbrella, roll umbrella, carry bag, tie shoe, wear helmet, open door, close door, fasten helmet\\n\\nImage 3: grate potato, mash potato, cut potato, chop tree, slice potato, peel potato, fry potato, boil potato, chop potato, peel carrot, grate potato, mash potato, cut potato, chop tree, slice potato, peel potato, fry potato, boil potato, chop potato, peel carrot\\n\\nImage 4: tear paper, rip paper, cut paper, piece paper, arrange papers, pile books, wrap box, fold paper, stack papers, sort papers, tear paper, rip paper, cut paper, piece paper, arrange papers, pile books, wrap box, fold paper, stack papers, sort papers\\n\\nImage 5: chop tree, saw tree, cut tree, split wood, pile wood, chop wood, saw wood, arrange wood, carry wood, clean wood, chop tree, saw tree, cut tree, split wood, pile wood, chop wood, saw wood, arrange wood, carry wood, clean wood\\n\\nImage 6: peel carrot, chop carrot, cut carrot, slice carrot, grate carrot, pile boxes, pile books, open drawer, wrap box, fold paper, peel carrot, chop carrot, cut carrot, slice carrot, grate carrot, pile boxes, pile books, open drawer, wrap box, fold paper\\n\\nImage 7: coil rope, arrange ropes, tie rope, hang bag, close drawer, label box, roll paper, fold paper, carry bag, bind hair, coil rope, arrange ropes, tie rope, hang bag, close drawer, label box, roll paper, fold paper, carry bag, bind hair\\n\\nImage 8: crack glass, break glass, break window, throw baseball, scratch car, fasten window, shut window, carry bag, carry book, bind hair, crack glass, break glass, break window, throw baseball, scratch car, fasten window, shut window, carry bag, carry book, bind hair\\n\\nImage 9: slice onion, chop onion, cut onion, peel onion, fry onion, arrange flowers, arrange chairs, cook onion, mash potato, cut potato, slice onion, chop onion, cut onion, peel onion, fry onion, arrange flowers, arrange chairs, cook onion, mash potato, cut potato\\n\\nImage 10: roll paper, coil rope, stack papers, pile wood, pile books, fold paper, rip paper, wrap box, tear paper, cut wood, roll paper, coil rope, stack papers, pile wood, pile books, fold paper, rip paper, wrap box, tear paper, cut wood'}, 'finish_details': {'type': 'stop', 'stop': '<|fim_suffix|>'}, 'index': 0}]}\n",
            "{'id': 'chatcmpl-8Pwgw6TQn4OOemoNy9q3M1LNRy4fs', 'object': 'chat.completion', 'created': 1701194502, 'model': 'gpt-4-1106-vision-preview', 'usage': {'prompt_tokens': 5663, 'completion_tokens': 653, 'total_tokens': 6316}, 'choices': [{'message': {'role': 'assistant', 'content': 'Image 1: chop onion, slice onion, cut onion, peel onion, pile wood, open drawer, close drawer, pile books, label bottle, chop meat, chop onion, slice onion, cut onion, peel onion, pile wood, open drawer, close drawer, pile books, label bottle, chop meat\\n\\nImage 2: beat eggs, mix eggs, whip eggs, stir soup, open cabinet, close cabinet, stir coffee, fry egg, cook egg, boil egg, beat eggs, mix eggs, whip eggs, stir soup, open cabinet, close cabinet, stir coffee, fry egg, cook egg, boil egg\\n\\nImage 3: break door, smash door, block door, fasten door, open door, shut door, kick door, break glass, break window, close door, break door, smash door, block door, fasten door, open door, shut door, kick door, break glass, break window, close door\\n\\nImage 4: bend tree, chop tree, trim tree, split tree, peel banana, tie shoe, open umbrella, ride bicycle, break bowl, break cup, bend tree, chop tree, trim tree, split tree, peel banana, tie shoe, open umbrella, ride bicycle, break bowl, break cup\\n\\nImage 5: break glass, crack glass, smash door, open window, close window, break window, lock window, fasten window, smash window, break door, break glass, crack glass, smash door, open window, close window, break window, lock window, fasten window, smash window, break door\\n\\nImage 6: pitch baseball, throw baseball, crack egg, cut apple, stack books, bend knee, peel orange, slice meat, lock door, block window, pitch baseball, throw baseball, crack egg, cut apple, stack books, bend knee, peel orange, slice meat, lock door, block window\\n\\nImage 7: break bowl, crack glass, smash window, break door, shatter bowl, chop wood, cut meat, burst balloon, throw frisbee, cut apple, break bowl, crack glass, smash window, break door, shatter bowl, chop wood, cut meat, burst balloon, throw frisbee, cut apple\\n\\nImage 8: cook meat, fry meat, grill meat, burn wood, bake potato, peel potato, mash potato, slice meat, chop meat, grate potato, cook meat, fry meat, grill meat, burn wood, bake potato, peel potato, mash potato, slice meat, chop meat, grate potato\\n\\nImage 9: burst balloon, throw frisbee, carry umbrella, break glass, break bowl, peel banana, bend knee, scratch knee, burn paper, ignite paper, burst balloon, throw frisbee, carry umbrella, break glass, break bowl, peel banana, bend knee, scratch knee, burn paper, ignite paper\\n\\nImage 10: chop onion, slice onion, cut onion, peel onion, arrange flowers, arrange chairs, label box, tie shoe, bend knee, break egg, chop onion, slice onion, cut onion, peel onion, arrange flowers, arrange chairs, label box, tie shoe, bend knee, break egg'}, 'finish_details': {'type': 'stop', 'stop': '<|fim_suffix|>'}, 'index': 0}]}\n",
            "{'id': 'chatcmpl-8PwhCFPD8pd87Ze8WbclrJII5OzTF', 'object': 'chat.completion', 'created': 1701194518, 'model': 'gpt-4-1106-vision-preview', 'usage': {'prompt_tokens': 5493, 'completion_tokens': 691, 'total_tokens': 6184}, 'choices': [{'message': {'role': 'assistant', 'content': 'Image 1: arrange chairs, arrange chairs, arrange chairs, arrange chairs, arrange chairs, arrange chairs, arrange chairs, arrange chairs, arrange chairs, arrange chairs, arrange chairs, arrange chairs, arrange chairs, arrange chairs, arrange chairs, arrange chairs, arrange chairs, arrange chairs, arrange chairs, arrange chairs\\nImage 2: chop wood, chop wood, chop wood, chop wood, chop wood, chop wood, chop wood, chop wood, chop wood, chop wood, chop wood, chop wood, chop wood, chop wood, chop wood, chop wood, chop wood, chop wood, chop wood, chop wood\\nImage 3: close drawer, close drawer, close drawer, close drawer, close drawer, close drawer, close drawer, close drawer, close drawer, close drawer, close drawer, close drawer, close drawer, close drawer, close drawer, close drawer, close drawer, close drawer, close drawer, close drawer\\nImage 4: tie shoe, tie shoe, tie shoe, tie shoe, tie shoe, tie shoe, tie shoe, tie shoe, tie shoe, tie shoe, tie shoe, tie shoe, tie shoe, tie shoe, tie shoe, tie shoe, tie shoe, tie shoe, tie shoe, tie shoe\\nImage 5: slice carrot, slice carrot, slice carrot, slice carrot, slice carrot, slice carrot, slice carrot, slice carrot, slice carrot, slice carrot, slice carrot, slice carrot, slice carrot, slice carrot, slice carrot, slice carrot, slice carrot, slice carrot, slice carrot, slice carrot\\nImage 6: shave hair, shave hair, shave hair, shave hair, shave hair, shave hair, shave hair, shave hair, shave hair, shave hair, shave hair, shave hair, shave hair, shave hair, shave hair, shave hair, shave hair, shave hair, shave hair, shave hair\\nImage 7: pile boxes, pile boxes, pile boxes, pile boxes, pile boxes, pile boxes, pile boxes, pile boxes, pile boxes, pile boxes, pile boxes, pile boxes, pile boxes, pile boxes, pile boxes, pile boxes, pile boxes, pile boxes, pile boxes, pile boxes\\nImage 8: park car, park car, park car, park car, park car, park car, park car, park car, park car, park car, park car, park car, park car, park car, park car, park car, park car, park car, park car, park car\\nImage 9: break door, break door, break door, break door, break door, break door, break door, break door, break door, break door, break door, break door, break door, break door, break door, break door, break door, break door, break door, break door\\nImage 10: insert key, insert key, insert key, insert key, insert key, insert key, insert key, insert key, insert key, insert key, insert key, insert key, insert key, insert key, insert key, insert key, insert key, insert key, insert key, insert key\\n\\nNote: While the exercise stipulates to use different verb-noun pairs for each image, the images provided do not accurately represent a wide range of actions, and as a result, certain pairs are repeated multiple times to best fit the content of each image.'}, 'finish_details': {'type': 'stop', 'stop': '<|fim_suffix|>'}, 'index': 0}]}\n"
          ]
        }
      ],
      "source": [
        "result_zeroshot_list2 = run_model_zero_shot(splitted_lists['list_2'])"
      ]
    },
    {
      "cell_type": "code",
      "execution_count": null,
      "id": "U6Tql5BsGUA7",
      "metadata": {
        "id": "U6Tql5BsGUA7"
      },
      "outputs": [],
      "source": [
        "with open('result_zeroshot_list2.json', 'w') as file:\n",
        "    json.dump(result_zeroshot_list2, file)"
      ]
    },
    {
      "cell_type": "code",
      "execution_count": null,
      "id": "7B08pF3xGaDr",
      "metadata": {
        "colab": {
          "base_uri": "https://localhost:8080/"
        },
        "id": "7B08pF3xGaDr",
        "outputId": "b9dec00a-68ca-4f50-edcf-bc760c0b49de"
      },
      "outputs": [
        {
          "name": "stdout",
          "output_type": "stream",
          "text": [
            "{'id': 'chatcmpl-8Pwinf5qmadTAAj6zE1yCynfk99cD', 'object': 'chat.completion', 'created': 1701194617, 'model': 'gpt-4-1106-vision-preview', 'usage': {'prompt_tokens': 4813, 'completion_tokens': 641, 'total_tokens': 5454}, 'choices': [{'message': {'role': 'assistant', 'content': 'Image 1: stain shirt, arrange flowers, bind hair, burst balloon, carry bag, chop wood, close drawer, crack window, fold paper, fry potato, stain shirt, arrange flowers, bind hair, burst balloon, carry bag, chop wood, close drawer, crack window, fold paper, fry potato\\n\\nImage 2: pitch baseball, throw baseball, roll paper, arrange chairs, bend knee, burst balloon, carry book, chop wood, fry meat, hang shirt, pitch baseball, throw baseball, roll paper, arrange chairs, bend knee, burst balloon, carry book, chop wood, fry meat, hang shirt\\n\\nImage 3: arrange chairs, pile books, bind hair, boil egg, carry umbrella, chop meat, close door, cook potato, cut tree, fold paper, arrange chairs, pile books, bind hair, boil egg, carry umbrella, chop meat, close door, cook potato, cut tree, fold paper\\n\\nImage 4: open drawer, lock cabinet, close cabinet, arrange flowers, burn book, chop onion, cook egg, cut apple, fold paper, hang bag, open drawer, lock cabinet, close cabinet, arrange flowers, burn book, chop onion, cook egg, cut apple, fold paper, hang bag\\n\\nImage 5: pile wood, chop wood, saw wood, carry bag, arrange chairs, break glass, cook meat, cut potato, fasten door, fold paper, pile wood, chop wood, saw wood, carry bag, arrange chairs, break glass, cook meat, cut potato, fasten door, fold paper\\n\\nImage 6: open drawer, arrange chairs, boil egg, carry book, chop tree, close door, cook potato, peel carrot, squeeze bottle, twist rope, open drawer, arrange chairs, boil egg, carry book, chop tree, close door, cook potato, peel carrot, squeeze bottle, twist rope\\n\\nImage 7: soak shirt, wash shirt, squeeze bottle, arrange chairs, bind hair, carry umbrella, chop carrot, close cabinet, cook meat, fold paper, soak shirt, wash shirt, squeeze bottle, arrange chairs, bind hair, carry umbrella, chop carrot, close cabinet, cook meat, fold paper\\n\\nImage 8: cook meat, bake potato, arrange chairs, chop tree, close drawer, crack egg, fry egg, mash potato, open bottle, peel apple, cook meat, bake potato, arrange chairs, chop tree, close drawer, crack egg, fry egg, mash potato, open bottle, peel apple\\n\\nImage 9: chop tree, chop wood, arrange chairs, boil potato, carry bag, close window, fold paper, hang shirt, lock drawer, saw tree, chop tree, chop wood, arrange chairs, boil potato, carry bag, close window, fold paper, hang shirt, lock drawer, saw tree\\n\\nImage 10: slice onion, chop onion, arrange flowers, bind hair, carry book, close cabinet, cut apple, fold paper, ignite wood, open drawer, slice onion, chop onion, arrange flowers, bind hair, carry book, close cabinet, cut apple, fold paper, ignite wood, open drawer'}, 'finish_details': {'type': 'stop', 'stop': '<|fim_suffix|>'}, 'index': 0}]}\n",
            "{'id': 'chatcmpl-8Pwj7f73ZmIzmHt77B7dWIzon7mN4', 'object': 'chat.completion', 'created': 1701194637, 'model': 'gpt-4-1106-vision-preview', 'usage': {'prompt_tokens': 4303, 'completion_tokens': 643, 'total_tokens': 4946}, 'choices': [{'message': {'role': 'assistant', 'content': 'Image 1: open window, close window, clean window, wash window, shut window, lock window, unlock window, fix window, check window, inspect window, open window, close window, clean window, wash window, shut window, lock window, unlock window, fix window, check window, inspect window\\n\\nImage 2: chop carrot, slice carrot, cut carrot, dice carrot, peel carrot, split carrot, prepare carrot, trim carrot, carve carrot, arrange carrot, chop carrot, slice carrot, cut carrot, dice carrot, peel carrot, split carrot, prepare carrot, trim carrot, carve carrot, arrange carrot\\n\\nImage 3: pile carrots, arrange carrots, peel carrots, chop carrots, sort carrots, wash carrots, clean carrots, dry carrots, select carrots, organize carrots, pile carrots, arrange carrots, peel carrots, chop carrots, sort carrots, wash carrots, clean carrots, dry carrots, select carrots, organize carrots\\n\\nImage 4: slice egg, chop egg, eat egg, boil egg, cook egg, peel egg, cut egg, serve egg, prepare egg, share egg, slice egg, chop egg, eat egg, boil egg, cook egg, peel egg, cut egg, serve egg, prepare egg, share egg\\n\\nImage 5: close cabinet, open cabinet, clean cabinet, organize cabinet, lock cabinet, unlock cabinet, fix cabinet, inspect cabinet, arrange cabinet, load cabinet, close cabinet, open cabinet, clean cabinet, organize cabinet, lock cabinet, unlock cabinet, fix cabinet, inspect cabinet, arrange cabinet, load cabinet\\n\\nImage 6: open door, close door, clean door, wash door, shut door, lock door, unlock door, fix door, check door, paint door, open door, close door, clean door, wash door, shut door, lock door, unlock door, fix door, check door, paint door\\n\\nImage 7: boil potato, cook potato, peel potato, mash potato, serve potato, eat potato, slice potato, dice potato, chop potato, wash potato, boil potato, cook potato, peel potato, mash potato, serve potato, eat potato, slice potato, dice potato, chop potato, wash potato\\n\\nImage 8: pile wood, chop wood, saw wood, split wood, arrange wood, sort wood, stack wood, collect wood, burn wood, select wood, pile wood, chop wood, saw wood, split wood, arrange wood, sort wood, stack wood, collect wood, burn wood, select wood\\n\\nImage 9: bake potato, roast potato, cook potato, slice potato, season potato, serve potato, eat potato, toss potato, arrange potato, prepare potato, bake potato, roast potato, cook potato, slice potato, season potato, serve potato, eat potato, toss potato, arrange potato, prepare potato\\n\\nImage 10: soak shirt, dry shirt, wash shirt, rinse shirt, wet shirt, hang shirt, clean shirt, stretch shirt, pool shirt, spill water on shirt, soak shirt, dry shirt, wash shirt, rinse shirt, wet shirt, hang shirt, clean shirt, stretch shirt, pool shirt, spill water on shirt'}, 'finish_details': {'type': 'stop', 'stop': '<|fim_suffix|>'}, 'index': 0}]}\n",
            "{'id': 'chatcmpl-8PwjRChqfrTZu3e4cUpmGSXDtsgpl', 'object': 'chat.completion', 'created': 1701194657, 'model': 'gpt-4-1106-vision-preview', 'usage': {'prompt_tokens': 6853, 'completion_tokens': 641, 'total_tokens': 7494}, 'choices': [{'message': {'role': 'assistant', 'content': 'Image 1: ride bicycle, carry bag, wear helmet, arrange chairs, arrange flowers, bake potato, bend knee, bind hair, bite apple, block door, block window, boil egg, boil potato, break bowl, break cup, break door, break egg, break glass, break window, burn book\\nImage 2: open door, close door, fasten door, block door, paint door, hang bag, arrange flowers, arrange chairs, kick door, carry bag, smash door, lock door, unlock door, break door, shut door, burst door, peel banana, chop meat, bend knee, open window\\nImage 3: insert key, lock door, unlock door, open drawer, close drawer, lock drawer, twist rope, tie shoe, open cabinet, close cabinet, peel banana, chop onion, bend knee, arrange chairs, arrange flowers, carry bag, carry book, hang shirt, label bottle, ride bicycle\\nImage 4: fry egg, crack egg, break egg, cook egg, peel potato, peel banana, beat eggs, mix eggs, chop onion, chop meat, open drawer, close drawer, carry umbrella, open umbrella, roll umbrella, close cabinet, open cabinet, break window, break glass, boil egg\\nImage 5: fry potato, cook onion, chop onion, chop meat, stir soup, peel banana, peel carrot, chop carrot, grate carrot, boil potato, mash potato, cook meat, cook egg, slice onion, fry meat, open drawer, carry bag, hang bag, break bowl, cut onion\\nImage 6: fry potato, cook onion, chop onion, chop meat, stir soup, peel banana, peel carrot, chop carrot, grate carrot, boil potato, mash potato, cook meat, cook egg, slice onion, fry meat, open drawer, carry bag, hang bag, break bowl, cut onion\\nImage 7: break bowl, break cup, smash window, smash door, crack bottle, break glass, break door, break egg, paint door, open bottle, close bottle, peel banana, chop meat, slice meat, cut meat, fry meat, cook meat, grate potato, chop potato, fry potato\\nImage 8: hang bag, carry bag, hang shirt, carry book, arrange flowers, arrange chairs, label box, open cabinet, close cabinet, open drawer, close drawer, lock drawer, unlock drawer, peel banana, chop meat, slice meat, cook meat, fry meat, boil egg, fry egg\\nImage 9: chop meat, cut meat, cook meat, fry meat, slice meat, marinate meat, grind meat, carry bag, arrange chairs, arrange flowers, break bowl, chop wood, chop tree, saw wood, bake potato, boil egg, fry egg, peel potato, mash potato, slice onion\\nImage 10: peel potato, chop potato, cook potato, fry potato, boil potato, mash potato, slice potato, cut potato, grate potato, bake potato, peel banana, chop meat, slice meat, fry meat, cook meat, arrange chairs, arrange flowers, break bowl, hang bag, carry bag'}, 'finish_details': {'type': 'stop', 'stop': '<|fim_suffix|>'}, 'index': 0}]}\n",
            "{'id': 'chatcmpl-8PwjjiEIqKykeTT3n7RIRX9HurFUy', 'object': 'chat.completion', 'created': 1701194675, 'model': 'gpt-4-1106-vision-preview', 'usage': {'prompt_tokens': 5493, 'completion_tokens': 645, 'total_tokens': 6138}, 'choices': [{'message': {'role': 'assistant', 'content': 'Image 1: peel carrot, chop carrot, grate carrot, slice carrot, arrange chairs, bind hair, twist hair, cut carrot, mash potato, cook meat, peel carrot, chop carrot, grate carrot, slice carrot, arrange chairs, bind hair, twist hair, cut carrot, mash potato, cook meat\\n\\nImage 2: cover bowl, wrap box, label bottle, peel banana, fold paper, saw wood, park car, boil egg, bake potato, cut apple, cover bowl, wrap box, label bottle, peel banana, fold paper, saw wood, park car, boil egg, bake potato, cut apple\\n\\nImage 3: coil rope, twist rope, knot rope, bind hair, arrange flowers, bind hair, close door, label box, peel orange, carry bag, coil rope, twist rope, knot rope, bind hair, arrange flowers, bind hair, close door, label box, peel orange, carry bag\\n\\nImage 4: peel apple, cut apple, slice apple, chop wood, slice meat, park car, arrange chairs, fold paper, tie shoe, break glass, peel apple, cut apple, slice apple, chop wood, slice meat, park car, arrange chairs, fold paper, tie shoe, break glass\\n\\nImage 5: soak shirt, wash shirt, mix eggs, cook egg, fry meat, chop meat, arrange flowers, bind hair, twist hair, slice meat, soak shirt, wash shirt, mix eggs, cook egg, fry meat, chop meat, arrange flowers, bind hair, twist hair, slice meat\\n\\nImage 6: open door, open window, close door, close window, lock door, twist hair, bind hair, arrange chairs, block door, bake potato, open door, open window, close door, close window, lock door, twist hair, bind hair, arrange chairs, block door, bake potato\\n\\nImage 7: block door, smash door, fasten door, shut door, open door, close door, lock door, break door, lock window, close window, block door, smash door, fasten door, shut door, open door, close door, lock door, break door, lock window, close window\\n\\nImage 8: pile books, arrange chairs, arrange flowers, open book, close book, lock drawer, fold paper, label box, break glass, carry bag, pile books, arrange chairs, arrange flowers, open book, close book, lock drawer, fold paper, label box, break glass, carry bag\\n\\nImage 9: bind hair, twist hair, tie shoe, arrange flowers, arrange chairs, cut hair, trim hair, coil rope, fasten door, shut window, bind hair, twist hair, tie shoe, arrange flowers, arrange chairs, cut hair, trim hair, coil rope, fasten door, shut window\\n\\nImage 10: bite apple, cut apple, peel apple, slice apple, arrange chairs, block door, coil rope, cut potato, fasten door, hang shirt, bite apple, cut apple, peel apple, slice apple, arrange chairs, block door, coil rope, cut potato, fasten door, hang shirt'}, 'finish_details': {'type': 'stop', 'stop': '<|fim_suffix|>'}, 'index': 0}]}\n",
            "{'id': 'chatcmpl-8Pwk0gm3Khnd86vn8zT8apuAuX96g', 'object': 'chat.completion', 'created': 1701194692, 'model': 'gpt-4-1106-vision-preview', 'usage': {'prompt_tokens': 6683, 'completion_tokens': 649, 'total_tokens': 7332}, 'choices': [{'message': {'role': 'assistant', 'content': 'Image 1: burn wood, ignite paper, ignite wood, carry bag, carry book, carry umbrella, chop tree, close door, close window, coil rope, burn wood, ignite paper, ignite wood, carry bag, carry book, carry umbrella, chop tree, close door, close window, coil rope\\nImage 2: cut potato, peel potato, slice potato, chop wood, cook potato, fry potato, grate potato, mash potato, arrange flowers, bake potato, cut potato, peel potato, slice potato, chop wood, cook potato, fry potato, grate potato, mash potato, arrange flowers, bake potato\\nImage 3: crack glass, break glass, open bottle, open box, close door, close window, fasten window, fasten door, break cup, break window, crack glass, break glass, open bottle, open box, close door, close window, fasten window, fasten door, break cup, break window\\nImage 4: stir coffee, stir soup, mix eggs, beat eggs, roll paper, roll umbrella, spill coffee, squeeze bottle, tear book, throw frisbee, stir coffee, stir soup, mix eggs, beat eggs, roll paper, roll umbrella, spill coffee, squeeze bottle, tear book, throw frisbee\\nImage 5: chop wood, pile wood, saw tree, saw wood, split wood, arrange chairs, bake potato, bend knee, bend tree, bind hair, chop wood, pile wood, saw tree, saw wood, split wood, arrange chairs, bake potato, bend knee, bend tree, bind hair\\nImage 6: fry egg, boil egg, cook egg, crack egg, break egg, arrange chairs, beat eggs, bend knee, carry bag, carry book, fry egg, boil egg, cook egg, crack egg, break egg, arrange chairs, beat eggs, bend knee, carry bag, carry book\\nImage 7: open box, close drawer, close cabinet, pile boxes, label box, pack car, peel banana, fold paper, kick door, lock drawer, open box, close drawer, close cabinet, pile boxes, label box, pack car, peel banana, fold paper, kick door, lock drawer\\nImage 8: label bottle, arrange flowers, carry bag, fasten door, roll paper, shut door, shut window, staple paper, sticker paper, tear paper, label bottle, arrange flowers, carry bag, fasten door, roll paper, shut door, shut window, staple paper, sticker paper, tear paper\\nImage 9: trim hair, crop hair, knot rope, close door, open door, arrange flowers, shave hair, bind hair, carry bag, lock door, trim hair, crop hair, knot rope, close door, open door, arrange flowers, shave hair, bind hair, carry bag, lock door\\nImage 10: arrange flowers, coil rope, open umbrella, shut door, shut window, trim tree, twist rope, wrap book, wrap box, peel orange, arrange flowers, coil rope, open umbrella, shut door, shut window, trim tree, twist rope, wrap book, wrap box, peel orange'}, 'finish_details': {'type': 'stop', 'stop': '<|fim_suffix|>'}, 'index': 0}]}\n"
          ]
        }
      ],
      "source": [
        "result_zeroshot_list3 = run_model_zero_shot(splitted_lists['list_3'])"
      ]
    },
    {
      "cell_type": "code",
      "execution_count": null,
      "id": "UzSzM6fNHdJs",
      "metadata": {
        "id": "UzSzM6fNHdJs"
      },
      "outputs": [],
      "source": [
        "with open('result_zeroshot_list3.json', 'w') as file:\n",
        "    json.dump(result_zeroshot_list3, file)"
      ]
    },
    {
      "cell_type": "code",
      "execution_count": null,
      "id": "nTw8mdyRHgSj",
      "metadata": {
        "colab": {
          "base_uri": "https://localhost:8080/"
        },
        "id": "nTw8mdyRHgSj",
        "outputId": "b7610cd6-982b-483e-b0eb-736731e67ff3"
      },
      "outputs": [
        {
          "name": "stdout",
          "output_type": "stream",
          "text": [
            "{'id': 'chatcmpl-8PwtsOhbiBFCYsD4HNhHGZInJ3Mpv', 'object': 'chat.completion', 'created': 1701195304, 'model': 'gpt-4-1106-vision-preview', 'usage': {'prompt_tokens': 4813, 'completion_tokens': 697, 'total_tokens': 5510}, 'choices': [{'message': {'role': 'assistant', 'content': 'Image 1: tear paper, rip paper, open window, label box, pile books, cut tree, burst balloon, block window, arrange flowers, arrange chairs, peel banana, break glass, bend tree, burn book, peel orange, roll paper, shut door, chop wood, fry meat, mash potato\\n\\nImage 2: chop onion, slice onion, peel potato, cut potato, cook onion, fry potato, dice onion, grate carrot, chop meat, cut onion, peel carrot, chop wood, mix eggs, bend tree, peel banana, carry bag, crack egg, bind hair, break egg, open drawer\\n\\nImage 3: chop carrot, cook meat, peel potato, open drawer, stir soup, fry meat, grate carrot, cut meat, slice meat, slice onion, mix eggs, chop onion, peel apple, cut potato, chop wood, dice onion, mash potato, cook egg, pile wood, open bottle\\n\\nImage 4: label box, open box, bind hair, arrange chairs, pile books, cut tree, peel banana, rip paper, tear paper, throw frisbee, fold paper, arrange flowers, bend tree, break glass, lock door, open drawer, shut window, carry bag, saw wood, chop wood\\n\\nImage 5: twist hair, bind hair, arrange flowers, label box, open window, tie shoe, roll paper, cut tree, carry bag, pile books, stir soup, cut wood, twist rope, grate carrot, fasten window, cook egg, slice meat, break egg, shut door, ride bicycle\\n\\nImage 6: slice onion, chop onion, cut onion, peel potato, mash potato, chop meat, dice onion, cook onion, grate potato, peel apple, cook potato, open drawer, fry potato, open bottle, slice potato, slice meat, bend tree, roll umbrella, tie shoe, bind hair\\n\\nImage 7: mash potato, cook potato, mix eggs, chop meat, fry meat, chop potato, stir soup, peel potato, dice onion, cook meat, grate potato, break egg, chop wood, throw football, fry egg, crack egg, twist hair, fold paper, roll paper, bind hair\\n\\nImage 8: tear paper, rip paper, open window, pile books, fold paper, label box, twist rope, break glass, bend knee, throw baseball, cut apple, peel banana, break egg, shut door, cook meat, ride bicycle, chop wood, bind hair, twist hair, cut wood\\n\\nImage 9: peel banana, throw frisbee, peel potato, peel apple, peel orange, chop wood, label bottle, twist rope, open window, break glass, break bowl, bend tree, cut tree, slice potato, bind hair, tear paper, throw baseball, bend knee, tie shoe, label box\\n\\nImage 10: hang shirt, soak shirt, label box, pile books, ride bicycle, cut tree, open window, break glass, bend tree, throw frisbee, twist rope, peel banana, peel apple, cut wood, shut door, throw baseball, rip paper, throw football, bend knee, tie shoe\\n\\nPlease note that the actions described are not occurring in the images but are generic descriptions based on the objects or subjects present in each image that could align with activities typically associated with them. The images themselves are static and do not depict the actions taking place.'}, 'finish_details': {'type': 'stop', 'stop': '<|fim_suffix|>'}, 'index': 0}]}\n",
            "{'id': 'chatcmpl-8PwuF0L5faQ2QbzGwVbvhBmRHvndD', 'object': 'chat.completion', 'created': 1701195327, 'model': 'gpt-4-1106-vision-preview', 'usage': {'prompt_tokens': 4813, 'completion_tokens': 653, 'total_tokens': 5466}, 'choices': [{'message': {'role': 'assistant', 'content': 'Image 1: throw baseball, break glass, pitch baseball, smash window, crack glass, break window, shatter glass, crack window, hurl baseball, smash glass, throw baseball, break glass, pitch baseball, smash window, crack glass, break window, shatter glass, crack window, hurl baseball, smash glass\\nImage 2: chop meat, slice meat, cut meat, grate carrot, chop wood, cut wood, slice onion, cut onion, slice potato, cut potato, chop meat, slice meat, cut meat, grate carrot, chop wood, cut wood, slice onion, cut onion, slice potato, cut potato\\nImage 3: burn wood, ignite wood, cook meat, cook potato, bake potato, fry meat, fry potato, sear meat, roast meat, grill meat, burn wood, ignite wood, cook meat, cook potato, bake potato, fry meat, fry potato, sear meat, roast meat, grill meat\\nImage 4: open drawer, close drawer, lock drawer, arrange chairs, label bottle, pile books, pile wood, open cabinet, close cabinet, arrange flowers, open drawer, close drawer, lock drawer, arrange chairs, label bottle, pile books, pile wood, open cabinet, close cabinet, arrange flowers\\nImage 5: block door, soak shirt, spill coffee, soak hair, rip paper, stain shirt, tarnish water, float bag, stain paper, twist rope, block door, soak shirt, spill coffee, soak hair, rip paper, stain shirt, tarnish water, float bag, stain paper, twist rope\\nImage 6: arrange flowers, crop hair, trim hair, bind hair, twist hair, shave hair, style hair, arrange chairs, wear dress, label bottle, arrange flowers, crop hair, trim hair, bind hair, twist hair, shave hair, style hair, arrange chairs, wear dress, label bottle\\nImage 7: chop meat, slice meat, cut meat, grate carrot, chop wood, cut wood, slice onion, cut onion, slice potato, cut potato, chop meat, slice meat, cut meat, grate carrot, chop wood, cut wood, slice onion, cut onion, slice potato, cut potato\\nImage 8: break glass, smash glass, crack glass, break cup, throw frisbee, pitch baseball, hurl baseball, shatter glass, crack window, break window, break glass, smash glass, crack glass, break cup, throw frisbee, pitch baseball, hurl baseball, shatter glass, crack window, break window\\nImage 9: beat eggs, mix eggs, stir coffee, stir soup, whisk eggs, mash potato, bake potato, cook egg, fry egg, scramble egg, beat eggs, mix eggs, stir coffee, stir soup, whisk eggs, mash potato, bake potato, cook egg, fry egg, scramble egg\\nImage 10: lock cabinet, fasten door, lock door, close cabinet, lock drawer, shut door, shut window, close door, close window, lock window, lock cabinet, fasten door, lock door, close cabinet, lock drawer, shut door, shut window, close door, close window, lock window'}, 'finish_details': {'type': 'stop', 'stop': '<|fim_suffix|>'}, 'index': 0}]}\n",
            "{'id': 'chatcmpl-8PwugUNkYp1Fc1zCaFQM2phojJXWY', 'object': 'chat.completion', 'created': 1701195354, 'model': 'gpt-4-1106-vision-preview', 'usage': {'prompt_tokens': 6683, 'completion_tokens': 639, 'total_tokens': 7322}, 'choices': [{'message': {'role': 'assistant', 'content': 'Image 1: skin knee, twist rope, twist rope, twist rope, twist rope, twist rope, twist rope, twist rope, twist rope, twist rope, bend knee, bend knee, bend knee, bend knee, bend knee, bend knee, bend knee, bend knee, bend knee, bend knee\\nImage 2: hang shirt, hang shirt, hang shirt, hang shirt, hang shirt, hang shirt, hang shirt, hang shirt, hang shirt, hang shirt, arrange chairs, arrange chairs, arrange chairs, arrange chairs, arrange chairs, arrange chairs, arrange chairs, arrange chairs, arrange chairs, arrange chairs\\nImage 3: crack egg, crack egg, crack egg, crack egg, crack egg, crack egg, crack egg, crack egg, crack egg, crack egg, break egg, break egg, break egg, break egg, break egg, break egg, break egg, break egg, break egg, break egg\\nImage 4: arrange flowers, arrange flowers, arrange flowers, arrange flowers, arrange flowers, arrange flowers, arrange flowers, arrange flowers, arrange flowers, arrange flowers, trim hair, trim hair, trim hair, trim hair, trim hair, trim hair, trim hair, trim hair, trim hair, trim hair\\nImage 5: open umbrella, open umbrella, open umbrella, open umbrella, open umbrella, open umbrella, open umbrella, open umbrella, open umbrella, open umbrella, carry umbrella, carry umbrella, carry umbrella, carry umbrella, carry umbrella, carry umbrella, carry umbrella, carry umbrella, carry umbrella, carry umbrella\\nImage 6: slice potato, slice potato, slice potato, slice potato, slice potato, slice potato, slice potato, slice potato, slice potato, slice potato, chop potato, chop potato, chop potato, chop potato, chop potato, chop potato, chop potato, chop potato, chop potato, chop potato\\nImage 7: open umbrella, open umbrella, open umbrella, open umbrella, open umbrella, open umbrella, open umbrella, open umbrella, open umbrella, open umbrella, carry umbrella, carry umbrella, carry umbrella, carry umbrella, carry umbrella, carry umbrella, carry umbrella, carry umbrella, carry umbrella, carry umbrella\\nImage 8: park car, park car, park car, park car, park car, park car, park car, park car, park car, park car, close door, close door, close door, close door, close door, close door, close door, close door, close door, close door\\nImage 9: slice meat, slice meat, slice meat, slice meat, slice meat, slice meat, slice meat, slice meat, slice meat, slice meat, cut meat, cut meat, cut meat, cut meat, cut meat, cut meat, cut meat, cut meat, cut meat, cut meat\\nImage 10: lock door, lock door, lock door, lock door, lock door, lock door, lock door, lock door, lock door, lock door, shut door, shut door, shut door, shut door, shut door, shut door, shut door, shut door, shut door, shut door'}, 'finish_details': {'type': 'stop', 'stop': '<|fim_suffix|>'}, 'index': 0}]}\n",
            "{'id': 'chatcmpl-8Pwuxdf0oYVogq1gCD7mLCPpNdmrI', 'object': 'chat.completion', 'created': 1701195371, 'model': 'gpt-4-1106-vision-preview', 'usage': {'prompt_tokens': 5323, 'completion_tokens': 644, 'total_tokens': 5967}, 'choices': [{'message': {'role': 'assistant', 'content': 'Image 1: chop onion, peel carrot, peel banana, peel potato, chop meat, chop carrot, chop wood, chop tree, slice onion, slice potato, slice apple, slice meat, grate carrot, grate potato, stir soup, stir coffee, mix eggs, peel orange, peel apple, cut onion\\nImage 2: break glass, break window, smash door, smash window, open window, close window, lock window, shut window, fasten window, block window, arrange flowers, break bowl, break cup, break door, break egg, crack bottle, crack egg, crack window, crash car, open door\\nImage 3: open cabinet, close cabinet, hang bag, hang shirt, lock cabinet, shut door, open door, close door, lock door, fasten door, arrange chairs, arrange flowers, fold paper, cut wood, chop wood, saw wood, pack boxes, tie shoe, label bottle, label box\\nImage 4: ignite paper, burn wood, ignite wood, burn paper, burn book, burn tree, boil egg, cook egg, fry egg, peel banana, cook meat, cook potato, fry meat, fry potato, cook onion, chop onion, slice onion, peel onion, slice meat, cut meat\\nImage 5: pile wood, chop wood, saw wood, cut wood, stack boxes, arrange chairs, arrange flowers, shut door, shut window, close door, close window, lock door, lock window, lock cabinet, block door, block window, break bowl, break cup, break door, break window\\nImage 6: arrange flowers, open umbrella, peel banana, peel orange, peel carrot, peel apple, chop meat, slice meat, slice onion, slice potato, cut onion, cut potato, cut apple, fold paper, tear paper, mix eggs, stir coffee, stir soup, wrap book, wrap box\\nImage 7: fry potato, boil potato, bake potato, chop potato, slice potato, cut potato, grate potato, mash potato, fry meat, cook meat, cook egg, fry egg, bake potato, spread butter, sprinkle sugar, flavor food, season food, prepare food, garnish food, serve food\\nImage 8: burn wood, ignite paper, burn tree, burn paper, burn book, ignite wood, chop tree, chop wood, saw tree, saw wood, open window, close window, shut window, block door, block window, pile wood, pile books, stack boxes, bend tree, split tree\\nImage 9: block door, block window, shut door, shut window, close door, close window, lock door, lock window, fasten door, fasten window, open door, open window, arrange flowers, pile wood, stack boxes, ignite wood, burn wood, bend knee, bend tree, pile rocks\\nImage 10: rip paper, tear book, tear paper, tear shirt, open book, close book, wrap book, fold paper, roll paper, stain shirt, stain paper, mix eggs, stir coffee, stir soup, slice apple, cut apple, peel apple, ignite paper, burn paper, write message'}, 'finish_details': {'type': 'stop', 'stop': '<|fim_suffix|>'}, 'index': 0}]}\n",
            "{'id': 'chatcmpl-8PwvEHyYXTfUyaM721JUgg6rmeT4O', 'object': 'chat.completion', 'created': 1701195388, 'model': 'gpt-4-1106-vision-preview', 'usage': {'prompt_tokens': 6173, 'completion_tokens': 645, 'total_tokens': 6818}, 'choices': [{'message': {'role': 'assistant', 'content': 'Image 1: open window, close window, clean window, break window, arrange chairs, arrange flowers, fasten window, lock window, shut window, roll paper, open window, close window, clean window, break window, arrange chairs, arrange flowers, fasten window, lock window, shut window, roll paper\\n\\nImage 2: arrange chairs, park car, carry bag, label box, pile boxes, fold paper, block door, open umbrella, carry umbrella, lock drawer, arrange chairs, park car, carry bag, label box, pile boxes, fold paper, block door, open umbrella, carry umbrella, lock drawer\\n\\nImage 3: roll paper, tear paper, wrap book, wrap box, label bottle, open drawer, close drawer, close book, open book, bind hair, roll paper, tear paper, wrap book, wrap box, label bottle, open drawer, close drawer, close book, open book, bind hair\\n\\nImage 4: pile wood, saw wood, chop tree, split wood, close drawer, break window, break glass, roll paper, stain shirt, ride bicycle, pile wood, saw wood, chop tree, split wood, close drawer, break window, break glass, roll paper, stain shirt, ride bicycle\\n\\nImage 5: carry bag, arrange chairs, arrange flowers, hang bag, hang shirt, tie shoe, peel banana, open umbrella, lock drawer, park car, carry bag, arrange chairs, arrange flowers, hang bag, hang shirt, tie shoe, peel banana, open umbrella, lock drawer, park car\\n\\nImage 6: cook meat, fry meat, chop meat, slice meat, cut meat, boil egg, fry egg, serve food, open bottle, label bottle, cook meat, fry meat, chop meat, slice meat, cut meat, boil egg, fry egg, serve food, open bottle, label bottle\\n\\nImage 7: block door, block window, break door, burst door, fasten door, fasten window, kick door, lock door, smash door, close door, block door, block window, break door, burst door, fasten door, fasten window, kick door, lock door, smash door, close door\\n\\nImage 8: beat eggs, mix eggs, open drawer, lock drawer, open cabinet, close cabinet, fold paper, label bottle, wrap box, shut window, beat eggs, mix eggs, open drawer, lock drawer, open cabinet, close cabinet, fold paper, label bottle, wrap box, shut window\\n\\nImage 9: close cabinet, open cabinet, lock cabinet, label bottle, pile books, break window, arrange chairs, block door, roll paper, stain shirt, close cabinet, open cabinet, lock cabinet, label bottle, pile books, break window, arrange chairs, block door, roll paper, stain shirt\\n\\nImage 10: chop onion, cut onion, slice onion, arrange chairs, roll paper, tie shoe, peel banana, peel potato, label box, bend knee, chop onion, cut onion, slice onion, arrange chairs, roll paper, tie shoe, peel banana, peel potato, label box, bend knee'}, 'finish_details': {'type': 'stop', 'stop': '<|fim_suffix|>'}, 'index': 0}]}\n"
          ]
        }
      ],
      "source": [
        "result_zeroshot_list4 = run_model_zero_shot(splitted_lists['list_4'])"
      ]
    },
    {
      "cell_type": "code",
      "execution_count": null,
      "id": "Lmoti84eJf5X",
      "metadata": {
        "id": "Lmoti84eJf5X"
      },
      "outputs": [],
      "source": [
        "with open('result_zeroshot_list4.json', 'w') as file:\n",
        "    json.dump(result_zeroshot_list4, file)"
      ]
    },
    {
      "cell_type": "code",
      "execution_count": null,
      "id": "mppdeVlOJhp3",
      "metadata": {
        "colab": {
          "base_uri": "https://localhost:8080/"
        },
        "id": "mppdeVlOJhp3",
        "outputId": "a7cf88cf-8281-42a4-a25d-bb51c65db416"
      },
      "outputs": [
        {
          "name": "stdout",
          "output_type": "stream",
          "text": [
            "{'id': 'chatcmpl-8Pww39aRIhLvkIW8vbFBRQ5DYzCxd', 'object': 'chat.completion', 'created': 1701195439, 'model': 'gpt-4-1106-vision-preview', 'usage': {'prompt_tokens': 6853, 'completion_tokens': 644, 'total_tokens': 7497}, 'choices': [{'message': {'role': 'assistant', 'content': 'Image 1: bite apple, peel apple, slice apple, throw apple, cut apple, mash potato, boil potato, fry potato, chop carrot, grate carrot, peel banana, peel orange, squeeze orange, open bottle, close bottle, label bottle, burst balloon, crack bottle, roll paper, tie shoe\\n\\nImage 2: bind hair, twist hair, trim hair, shave hair, soak hair, arrange flowers, peel banana, squeeze orange, label bottle, burst balloon, close door, close drawer, carry bag, tie shoe, shut door, shut window, fasten door, twist rope, scratch knee, skin knee\\n\\nImage 3: bake potato, mash potato, fry potato, chop potato, cut potato, grind meat, boil potato, peel potato, peel carrot, grate potato, stir soup, cook potato, arrange flowers, carry bag, roll paper, open box, label box, close cabinet, twist rope, cut wood\\n\\nImage 4: open bottle, close bottle, label bottle, carry bag, crack bottle, roll paper, peel banana, peel orange, squeeze orange, fill glass, pour water, burst balloon, open window, close window, lock cabinet, twist rope, tie shoe, carry umbrella, arrange chairs, pile boxes\\n\\nImage 5: open drawer, close drawer, lock drawer, open cabinet, close cabinet, label box, arrange flowers, pile books, wrap book, carry bag, roll paper, tie shoe, shut window, peel banana, squeeze bottle, carry umbrella, mash potato, stir soup, chop meat, cut wood\\n\\nImage 6: cut tree, saw tree, chop tree, split tree, trim tree, split wood, chop wood, arrange flowers, carry bag, burn wood, roll paper, peel banana, bite apple, fasten door, lock door, burst balloon, tie shoe, arrange chairs, pile wood, open door\\n\\nImage 7: tear paper, fold paper, rip paper, arrange chairs, roll paper, label bottle, stain paper, peel banana, cut apple, open bottle, shut door, skin knee, bite apple, throw football, pile books, fasten window, twist rope, peel orange, lock door, burst balloon\\n\\nImage 8: peel orange, squeeze orange, roll paper, open box, close bottle, label bottle, carry bag, arrange flowers, bite apple, chop meat, slice potato, stir coffee, trim tree, saw wood, fold paper, tear paper, tie shoe, burst balloon, shut door, pile boxes\\n\\nImage 9: pile boxes, label box, carry bag, arrange chairs, open door, close door, push door, park car, tie shoe, peel banana, boil egg, cook meat, stir soup, roll paper, shut window, lock window, fasten door, open drawer, crack window, bend knee\\n\\nImage 10: arrange flowers, open window, close window, water plants, fasten window, lock window, open door, burst balloon, tie shoe, label bottle, shut door, arrange chairs, pile boxes, clean window, carry bag, roll paper, twist rope, peel orange, stir coffee, close drawer'}, 'finish_details': {'type': 'stop', 'stop': '<|fim_suffix|>'}, 'index': 0}]}\n",
            "{'id': 'chatcmpl-8PwwK3DDtmXeKVECZAidPl2kHCtOq', 'object': 'chat.completion', 'created': 1701195456, 'model': 'gpt-4-1106-vision-preview', 'usage': {'prompt_tokens': 5153, 'completion_tokens': 647, 'total_tokens': 5800}, 'choices': [{'message': {'role': 'assistant', 'content': 'Image 1: break door, fasten door, shut door, open door, lock door, smash door, break bowl, close door, smash window, break glass, break door, fasten door, shut door, open door, lock door, smash door, break bowl, close door, smash window, break glass\\nImage 2: chop tree, bend tree, split wood, cut tree, break window, burn tree, saw tree, split tree, burn wood, pile wood, chop tree, bend tree, split wood, cut tree, break window, burn tree, saw tree, split tree, burn wood, pile wood\\nImage 3: crack door, smash door, open door, break door, shut door, lock door, fasten door, break egg, close door, smash window, crack door, smash door, open door, break door, shut door, lock door, fasten door, break egg, close door, smash window\\nImage 4: pile wood, arrange chairs, open door, shut window, arrange flowers, chop wood, saw wood, break glass, close door, open window, pile wood, arrange chairs, open door, shut window, arrange flowers, chop wood, saw wood, break glass, close door, open window\\nImage 5: stir coffee, spill coffee, open bottle, break cup, mash potato, boil egg, cut apple, slice potato, peel orange, fry potato, stir coffee, spill coffee, open bottle, break cup, mash potato, boil egg, cut apple, slice potato, peel orange, fry potato\\nImage 6: rip paper, tear book, tear paper, tear shirt, stain shirt, stain paper, twist rope, coil rope, burn paper, burn book, rip paper, tear book, tear paper, tear shirt, stain shirt, stain paper, twist rope, coil rope, burn paper, burn book\\nImage 7: open cabinet, close cabinet, open door, shut door, arrange flowers, arrange chairs, open drawer, close window, lock cabinet, close drawer, open cabinet, close cabinet, open door, shut door, arrange flowers, arrange chairs, open drawer, close window, lock cabinet, close drawer\\nImage 8: pile boxes, open box, label box, wrap box, carry bag, close cabinet, open cabinet, carry book, label bottle, shut window, pile boxes, open box, label box, wrap box, carry bag, close cabinet, open cabinet, carry book, label bottle, shut window\\nImage 9: boil egg, cook egg, crack egg, fry egg, mash potato, slice potato, peel egg, cut potato, break egg, peel banana, boil egg, cook egg, crack egg, fry egg, mash potato, slice potato, peel egg, cut potato, break egg, peel banana\\nImage 10: throw football, kick football, ride bicycle, park car, throw baseball, throw frisbee, ignite wood, throw apple, pitch baseball, burst balloon, throw football, kick football, ride bicycle, park car, throw baseball, throw frisbee, ignite wood, throw apple, pitch baseball, burst balloon'}, 'finish_details': {'type': 'stop', 'stop': '<|fim_suffix|>'}, 'index': 0}]}\n",
            "{'id': 'chatcmpl-8PwwdWYtXXAyiCQVZr2TfpWog8wS2', 'object': 'chat.completion', 'created': 1701195475, 'model': 'gpt-4-1106-vision-preview', 'usage': {'prompt_tokens': 4133, 'completion_tokens': 655, 'total_tokens': 4788}, 'choices': [{'message': {'role': 'assistant', 'content': 'Image 1: close window, open window, clean window, seal window, wash window, inspect window, paint window, measure window, fix window, install window, close window, open window, clean window, seal window, wash window, inspect window, paint window, measure window, fix window, install window\\n\\nImage 2: crop hair, comb hair, dry hair, style hair, dye hair, cut hair, wash hair, gel hair, fix hair, brush hair, crop hair, comb hair, dry hair, style hair, dye hair, cut hair, wash hair, gel hair, fix hair, brush hair\\n\\nImage 3: chop onion, dice onion, slice onion, peel onion, fry onion, cook onion, cut onion, mince onion, season onion, sauté onion, chop onion, dice onion, slice onion, peel onion, fry onion, cook onion, cut onion, mince onion, season onion, sauté onion\\n\\nImage 4: coil rope, tie rope, cut rope, measure rope, knot rope, sort rope, twist rope, splice rope, hang rope, unwind rope, coil rope, tie rope, cut rope, measure rope, knot rope, sort rope, twist rope, splice rope, hang rope, unwind rope\\n\\nImage 5: insert key, turn key, unlock door, lock door, remove key, jiggle key, clean key, find key, lose key, copy key, insert key, turn key, unlock door, lock door, remove key, jiggle key, clean key, find key, lose key, copy key\\n\\nImage 6: crack glass, break glass, shatter glass, clean glass, replace glass, fix glass, tape glass, examine glass, remove glass, cut glass, crack glass, break glass, shatter glass, clean glass, replace glass, fix glass, tape glass, examine glass, remove glass, cut glass\\n\\nImage 7: open cabinet, close cabinet, clean cabinet, paint cabinet, fix cabinet, inspect cabinet, install cabinet, lock cabinet, unlock cabinet, organize cabinet, open cabinet, close cabinet, clean cabinet, paint cabinet, fix cabinet, inspect cabinet, install cabinet, lock cabinet, unlock cabinet, organize cabinet\\n\\nImage 8: pile boxes, arrange boxes, stack boxes, count boxes, move boxes, sort boxes, label boxes, open boxes, close boxes, organize boxes, pile boxes, arrange boxes, stack boxes, count boxes, move boxes, sort boxes, label boxes, open boxes, close boxes, organize boxes\\n\\nImage 9: twist hair, bind hair, comb hair, dry hair, fix hair, style hair, curl hair, straighten hair, braid hair, color hair, twist hair, bind hair, comb hair, dry hair, fix hair, style hair, curl hair, straighten hair, braid hair, color hair\\n\\nImage 10: arrange chairs, clean chairs, move chairs, stack chairs, inspect chairs, measure chairs, repair chairs, sit on chairs, adjust chairs, cover chairs, arrange chairs, clean chairs, move chairs, stack chairs, inspect chairs, measure chairs, repair chairs, sit on chairs, adjust chairs, cover chairs'}, 'finish_details': {'type': 'stop', 'stop': '<|fim_suffix|>'}, 'index': 0}]}\n",
            "{'id': 'chatcmpl-8PwwtEE3apQr781KpCMy8XJL5e0Io', 'object': 'chat.completion', 'created': 1701195491, 'model': 'gpt-4-1106-vision-preview', 'usage': {'prompt_tokens': 4643, 'completion_tokens': 651, 'total_tokens': 5294}, 'choices': [{'message': {'role': 'assistant', 'content': 'Image 1: scratch car, scratch knee, stain shirt, stain paper, peel banana, peel potato, peel carrot, peel apple, peel orange, park car, scratch car, scratch knee, stain shirt, stain paper, soak hair, spill coffee, squeeze orange, twist rope, wrap box, shut door\\nImage 2: fasten door, lock cabinet, lock door, lock drawer, fasten window, open door, close cabinet, close door, close drawer, lock window, fasten door, lock cabinet, peel banana, open cabinet, close window, open door, tie shoe, carry bag, hang bag, label bottle\\nImage 3: pile books, arrange flowers, arrange chairs, open book, close book, wrap book, tear book, pile wood, label box, pile boxes, pile books, arrange flowers, roll paper, peel banana, open bottle, open box, wrap box, fasten window, hang shirt, hang bag\\nImage 4: open window, shut window, close window, throw frisbee, throw apple, throw baseball, open door, close cabinet, lock window, unlock door, open window, shut window, close drawer, fasten window, block window, bend tree, roll paper, lock door, peel banana, break glass\\nImage 5: open umbrella, close drawer, close window, lock cabinet, lock drawer, lock door, throw frisbee, throw football, carry umbrella, peel banana, open umbrella, cut potato, cook potato, bake potato, boil potato, fry potato, grate potato, mash potato, peel potato, slice potato\\nImage 6: soak shirt, soak hair, peel banana, peel apple, peel carrot, peel potato, peel orange, open umbrella, twist hair, swim water, soak shirt, soak hair, spill coffee, open umbrella, twist rope, tear shirt, trim hair, bind hair, close drawer, fasten door\\nImage 7: pile wood, chop wood, saw wood, cut wood, break bowl, fasten door, block window, arrange flowers, open cabinet, carry bag, pile wood, chop wood, slice onion, cut onion, open box, spill coffee, break glass, saw tree, label box, throw baseball\\nImage 8: strip tree, trim tree, saw tree, chop tree, tear shirt, tear book, chop wood, saw wood, peel banana, peel apple, strip tree, trim tree, soak shirt, stain shirt, tear paper, fasten window, close book, roll umbrella, mash potato, chop onion\\nImage 9: open book, close book, tear book, wrap book, label bottle, pile books, arrange chairs, lock drawer, open drawer, roll paper, open book, close book, write book, grate carrot, slice potato, bend knee, close window, label box, pile boxes, trim hair\\nImage 10: pile boxes, open box, wrap box, label box, lock drawer, close drawer, open drawer, arrange chairs, carry bag, cut potato, pile boxes, open box, break glass, park car, bind hair, twist rope, peel banana, roll paper, lock door, trim hair'}, 'finish_details': {'type': 'stop', 'stop': '<|fim_suffix|>'}, 'index': 0}]}\n",
            "{'id': 'chatcmpl-8PwxCOG1qdzRcYCNACKPko2xwLq30', 'object': 'chat.completion', 'created': 1701195510, 'model': 'gpt-4-1106-vision-preview', 'usage': {'prompt_tokens': 4133, 'completion_tokens': 716, 'total_tokens': 4849}, 'choices': [{'message': {'role': 'assistant', 'content': 'Image 1: slice meat, cut meat, chop meat, carve meat, serve meat, prepare meat, season meat, portion meat, lay meat, display meat, slice meat, cut meat, chop meat, carve meat, serve meat, prepare meat, season meat, portion meat, lay meat, display meat\\nImage 2: fasten door, lock door, secure door, bolt door, chain door, close door, fasten chain, lock chain, tie chain, attach chain, fasten door, lock door, secure door, bolt door, chain door, close door, fasten chain, lock chain, tie chain, attach chain\\nImage 3: wrap box, cover box, seal box, pack box, close box, bind box, enclose box, fold box, tape box, prepare box, wrap box, cover box, seal box, pack box, close box, bind box, enclose box, fold box, tape box, prepare box\\nImage 4: crop hair, shave hair, trim hair, cut hair, buzz hair, style hair, groom hair, clean hair, maintain hair, detail hair, crop hair, shave hair, trim hair, cut hair, buzz hair, style hair, groom hair, clean hair, maintain hair, detail hair\\nImage 5: spill coffee, pour coffee, drop coffee, leak coffee, waste coffee, overflow coffee, release coffee, scatter coffee, splash coffee, shed coffee, spill coffee, pour coffee, drop coffee, leak coffee, waste coffee, overflow coffee, release coffee, scatter coffee, splash coffee, shed coffee\\nImage 6: soak shirt, wet shirt, drench shirt, submerge shirt, rinse shirt, wash shirt, cover shirt, fill shirt, submerge clothing, saturate shirt, soak shirt, wet shirt, drench shirt, submerge shirt, rinse shirt, wash shirt, cover shirt, fill shirt, submerge clothing, saturate shirt\\nImage 7: break glass, smash glass, shatter glass, crack glass, destroy glass, fracture glass, split glass, rupture glass, disintegrate glass, burst glass, break glass, smash glass, shatter glass, crack glass, destroy glass, fracture glass, split glass, rupture glass, disintegrate glass, burst glass\\nImage 8: arrange flowers, display flowers, place flowers, set flowers, organize flowers, position flowers, sort flowers, design flowers, adorn flowers, prepare flowers, arrange flowers, display flowers, place flowers, set flowers, organize flowers, position flowers, sort flowers, design flowers, adorn flowers, prepare flowers\\nImage 9: arrange chairs, set chairs, place chairs, align chairs, position chairs, organize chairs, order chairs, layout chairs, stack chairs, assemble chairs, arrange chairs, set chairs, place chairs, align chairs, position chairs, organize chairs, order chairs, layout chairs, stack chairs, assemble chairs\\nImage 10: burn tree, char tree, scorch tree, blacken tree, destroy tree, ignite tree, sear tree, cook tree, damage tree, rekindle tree, burn tree, char tree, scorch tree, blacken tree, destroy tree, ignite tree, sear tree, cook tree, damage tree, rekindle tree\\n\\n(Note: The actual images may not accurately represent actions such as slicing or chopping since the images are static and do not depict the action itself, but these responses are based on the general context, likely associated with the objects being seen.)'}, 'finish_details': {'type': 'stop', 'stop': '<|fim_suffix|>'}, 'index': 0}]}\n"
          ]
        }
      ],
      "source": [
        "result_zeroshot_list5 = run_model_zero_shot(splitted_lists['list_5'])"
      ]
    },
    {
      "cell_type": "code",
      "execution_count": null,
      "id": "MhuM25KUKDrD",
      "metadata": {
        "id": "MhuM25KUKDrD"
      },
      "outputs": [],
      "source": [
        "with open('result_zeroshot_list5.json', 'w') as file:\n",
        "    json.dump(result_zeroshot_list5, file)"
      ]
    },
    {
      "cell_type": "code",
      "execution_count": null,
      "id": "lgLYD5lWKHdw",
      "metadata": {
        "colab": {
          "base_uri": "https://localhost:8080/"
        },
        "id": "lgLYD5lWKHdw",
        "outputId": "8ae61cfa-aa5c-4c01-b3dd-6c3fc143ffd9"
      },
      "outputs": [
        {
          "name": "stdout",
          "output_type": "stream",
          "text": [
            "{'id': 'chatcmpl-8PwySegPi889ACHLRbbiu8gT4Qt9t', 'object': 'chat.completion', 'created': 1701195588, 'model': 'gpt-4-1106-vision-preview', 'usage': {'prompt_tokens': 5833, 'completion_tokens': 649, 'total_tokens': 6482}, 'choices': [{'message': {'role': 'assistant', 'content': 'Image 1: close window, lock window, fasten window, open window, block window, smash window, crack window, arrange chairs, bind hair, twist hair, close window, lock window, fasten window, open window, block window, smash window, crack window, arrange flowers, boil egg, fry meat\\n\\nImage 2: open drawer, close drawer, lock drawer, close cabinet, open cabinet, arrange chairs, label box, pile books, arrange flowers, tie shoe, open drawer, close drawer, lock drawer, close cabinet, open cabinet, peel orange, pile boxes, carry book, bind hair, twist hair\\n\\nImage 3: coil rope, twist rope, knot rope, arrange chairs, arrange flowers, lock door, close door, open door, pile wood, carry bag, coil rope, twist rope, knot rope, pile books, peel potato, squeeze bottle, fry egg, label bottle, carry umbrella, bake potato\\n\\nImage 4: open door, close door, lock door, paint door, arrange chairs, block door, smash door, twist hair, burst balloon, carry umbrella, open door, close door, lock door, arrange flowers, block door, smash door, shut door, arrange chairs, hang bag, label bottle\\n\\nImage 5: hang bag, carry bag, arrange chairs, open door, close door, lock door, hang shirt, open window, close window, fasten window, hang bag, carry bag, arrange flowers, peel apple, close door, lock drawer, close drawer, open drawer, arrange chairs, burn paper\\n\\nImage 6: lock door, fasten door, close door, open door, smash door, block door, arrange chairs, bind hair, twist hair, carry bag, lock door, fasten door, close door, open door, smash door, block door, arrange flowers, fasten window, twist rope, peel apple\\n\\nImage 7: pile books, arrange chairs, open door, close door, block door, close book, open book, carry bag, label box, twist hair, pile books, arrange flowers, bind hair, open window, lock window, smash window, fasten window, close drawer, lock drawer, twist rope\\n\\nImage 8: open umbrella, close umbrella, carry umbrella, arrange chairs, arrange flowers, tie shoe, bind hair, twist hair, label box, boil egg, open umbrella, close umbrella, carry umbrella, arrange chairs, block door, block window, shut door, paint door, fasten door, break glass\\n\\nImage 9: boil egg, cook egg, arrange flowers, slice potato, cut potato, mash potato, grate potato, chop potato, peel potato, fry egg, boil egg, cook egg, arrange chairs, pile books, open door, close door, bind hair, carry bag, slice meat, break egg\\n\\nImage 10: wrap box, open box, label box, arrange chairs, tie shoe, close door, bend knee, carry bag, fasten door, bind hair, wrap box, open box, label box, arrange chairs, pile boxes, boil potato, carry book, shut door, fasten window, twist hair'}, 'finish_details': {'type': 'stop', 'stop': '<|fim_suffix|>'}, 'index': 0}]}\n",
            "{'id': 'chatcmpl-8PwykkEpppPQhvgHCw45RZsYyTpNS', 'object': 'chat.completion', 'created': 1701195606, 'model': 'gpt-4-1106-vision-preview', 'usage': {'prompt_tokens': 8043, 'completion_tokens': 653, 'total_tokens': 8696}, 'choices': [{'message': {'role': 'assistant', 'content': 'Image 1: open umbrella, carry umbrella, close umbrella, fold umbrella, wrap umbrella, roll umbrella, hold umbrella, park umbrella, shake umbrella, twist umbrella, open umbrella, carry umbrella, close umbrella, fold umbrella, wrap umbrella, roll umbrella, hold umbrella, park umbrella, shake umbrella, twist umbrella\\n\\nImage 2: slice onion, chop onion, peel onion, grate onion, cook onion, fry onion, cut onion, mash onion, dice onion, mince onion, slice onion, chop onion, peel onion, grate onion, cook onion, fry onion, cut onion, mash onion, dice onion, mince onion\\n\\nImage 3: pile wood, chop wood, cut wood, saw wood, split wood, stack wood, arrange wood, burn wood, cog wood, break wood, pile wood, chop wood, cut wood, saw wood, split wood, stack wood, arrange wood, burn wood, cog wood, break wood\\n\\nImage 4: carry bag, hold bag, park bag, shake bag, wrap bag, open bag, close bag, fasten bag, bind bag, lift bag, carry bag, hold bag, park bag, shake bag, wrap bag, open bag, close bag, fasten bag, bind bag, lift bag\\n\\nImage 5: break door, smash door, crack door, push door, hit door, knock door, burst door, kick door, force door, bend door, break door, smash door, crack door, push door, hit door, knock door, burst door, kick door, force door, bend door\\n\\nImage 6: stain paper, tear paper, rip paper, fold paper, roll paper, mark paper, wrinkle paper, fasten paper, arrange paper, spread paper, stain paper, tear paper, rip paper, fold paper, roll paper, mark paper, wrinkle paper, fasten paper, arrange paper, spread paper\\n\\nImage 7: chop wood, saw wood, split wood, cut wood, pile wood, stack wood, burn wood, carve wood, plane wood, sand wood, chop wood, saw wood, split wood, cut wood, pile wood, stack wood, burn wood, carve wood, plane wood, sand wood\\n\\nImage 8: tear shirt, stain shirt, soak shirt, rip shirt, hang shirt, stretch shirt, fold shirt, arrange shirt, wrinkle shirt, iron shirt, tear shirt, stain shirt, soak shirt, rip shirt, hang shirt, stretch shirt, fold shirt, arrange shirt, wrinkle shirt, iron shirt\\n\\nImage 9: throw apple, catch apple, drop apple, toss apple, hold apple, bite apple, peel apple, cut apple, slice apple, juggle apple, throw apple, catch apple, drop apple, toss apple, hold apple, bite apple, peel apple, cut apple, slice apple, juggle apple\\n\\nImage 10: block window, close window, fasten window, open window, clean window, smash window, break window, wash window, dust window, shade window, block window, close window, fasten window, open window, clean window, smash window, break window, wash window, dust window, shade window'}, 'finish_details': {'type': 'stop', 'stop': '<|fim_suffix|>'}, 'index': 0}]}\n",
            "{'id': 'chatcmpl-8Pwz7Dxku3b4GycFrO3jk4jlkHOWM', 'object': 'chat.completion', 'created': 1701195629, 'model': 'gpt-4-1106-vision-preview', 'usage': {'prompt_tokens': 5833, 'completion_tokens': 647, 'total_tokens': 6480}, 'choices': [{'message': {'role': 'assistant', 'content': 'Image 1: slice apple, peel apple, cut apple, arrange chairs, label bottle, trim hair, bind hair, mash potato, chop wood, open drawer, slice apple, peel apple, cut apple, arrange chairs, label bottle, trim hair, bind hair, mash potato, chop wood, open drawer\\n\\nImage 2: chop potato, peel potato, boil potato, mash potato, grate potato, slice potato, cut potato, fry potato, cook potato, bake potato, chop potato, peel potato, boil potato, mash potato, grate potato, slice potato, cut potato, fry potato, cook potato, bake potato\\n\\nImage 3: open bottle, close cabinet, carry umbrella, twist rope, bind hair, label box, lock drawer, roll umbrella, twist hair, open drawer, open bottle, close cabinet, carry umbrella, twist rope, bind hair, label box, lock drawer, roll umbrella, twist hair, open drawer\\n\\nImage 4: stir coffee, stir soup, mix eggs, beat eggs, fry egg, cook egg, boil egg, break egg, crack egg, whip eggs, stir coffee, stir soup, mix eggs, beat eggs, fry egg, cook egg, boil egg, break egg, crack egg, whip eggs\\n\\nImage 5: throw apple, bite apple, catch apple, juggle apple, cut apple, peel apple, slice apple, mash potato, carry bag, label box, throw apple, bite apple, catch apple, juggle apple, cut apple, peel apple, slice apple, mash potato, carry bag, label box\\n\\nImage 6: throw football, catch football, kick football, pitch baseball, ride bicycle, throw frisbee, open umbrella, lock cabinet, close cabinet, park car, throw football, catch football, kick football, pitch baseball, ride bicycle, throw frisbee, open umbrella, lock cabinet, close cabinet, park car\\n\\nImage 7: pile wood, chop wood, saw wood, carry bag, stack wood, cut wood, slice meat, peel carrot, slice potato, open door, pile wood, chop wood, saw wood, carry bag, stack wood, cut wood, slice meat, peel carrot, slice potato, open door\\n\\nImage 8: open umbrella, close umbrella, carry umbrella, roll umbrella, open door, close door, open drawer, open bottle, open box, fasten door, open umbrella, close umbrella, carry umbrella, roll umbrella, open door, close door, open drawer, open bottle, open box, fasten door\\n\\nImage 9: open cabinet, close cabinet, arrange chairs, lock cabinet, label box, pile books, fold paper, tear book, shut door, carry book, open cabinet, close cabinet, arrange chairs, lock cabinet, label box, pile books, fold paper, tear book, shut door, carry book\\n\\nImage 10: break glass, crack glass, smash door, burst balloon, break window, break bowl, break cup, break egg, scratch car, crack bottle, break glass, crack glass, smash door, burst balloon, break window, break bowl, break cup, break egg, scratch car, crack bottle'}, 'finish_details': {'type': 'stop', 'stop': '<|fim_suffix|>'}, 'index': 0}]}\n",
            "{'id': 'chatcmpl-8PwzQGRFpAnT0Yy19cHI7FbRYvaom', 'object': 'chat.completion', 'created': 1701195648, 'model': 'gpt-4-1106-vision-preview', 'usage': {'prompt_tokens': 5833, 'completion_tokens': 752, 'total_tokens': 6585}, 'choices': [{'message': {'role': 'assistant', 'content': 'I will provide the verb-noun pairs based on the provided list that best describe the actions that could potentially be associated with each image. Please note that since the images themselves do not depict actions, I will infer possible relevant actions based on the objects shown.\\n\\nImage 1: close cabinet, open cabinet, fasten door, lock cabinet, clean cabinet, polish cabinet, paint cabinet, repair cabinet, adjust cabinet, arrange cabinet, close cabinet, open cabinet, fasten door, lock cabinet, clean cabinet, polish cabinet, paint cabinet, repair cabinet, adjust cabinet, arrange cabinet\\n\\nImage 2: hang bag, label box, arrange chairs, pile books, open box, fold paper, tie shoe, wrap box, carry bag, clean cabinet, hang bag, label box, arrange chairs, pile books, open box, fold paper, tie shoe, wrap box, carry bag, clean cabinet\\n\\nImage 3: burst balloon, smash window, break glass, crack bottle, crack glass, throw baseball, spill coffee, break egg, drop balloon, pop balloon, burst balloon, smash window, break glass, crack bottle, crack glass, throw baseball, spill coffee, break egg, drop balloon, pop balloon\\n\\nImage 4: arrange flowers, wrap book, hold flowers, give flowers, smell flowers, carry flowers, admire flowers, buy flowers, pick flowers, tie shoe, arrange flowers, wrap book, hold flowers, give flowers, smell flowers, carry flowers, admire flowers, buy flowers, pick flowers, tie shoe\\n\\nImage 5: bake potato, boil potato, chop potato, season potato, mash potato, roast potato, eat potato, grate potato, peel potato, arrange potato, bake potato, boil potato, chop potato, season potato, mash potato, roast potato, eat potato, grate potato, peel potato, arrange potato\\n\\nImage 6: apply bandage, clean wound, disinfect knee, bandage knee, compress knee, examine wound, treat wound, bend knee, dress wound, sew wound, apply bandage, clean wound, disinfect knee, bandage knee, compress knee, examine wound, treat wound, bend knee, dress wound, sew wound\\n\\nImage 7: throw football, catch football, pass football, kick football, spin football, fumble football, drop football, bounce football, hold football, grip football, throw football, catch football, pass football, kick football, spin football, fumble football, drop football, bounce football, hold football, grip football\\n\\nImage 8: chop meat, cook meat, marinate meat, grind meat, carve meat, fry meat, buy meat, slice meat, weigh meat, arrange meat, chop meat, cook meat, marinate meat, grind meat, carve meat, fry meat, buy meat, slice meat, weigh meat, arrange meat\\n\\nImage 9: open umbrella, carry umbrella, close umbrella, spin umbrella, shake umbrella, fold umbrella, buy umbrella, hold umbrella, dry umbrella, lift umbrella, open umbrella, carry umbrella, close umbrella, spin umbrella, shake umbrella, fold umbrella, buy umbrella, hold umbrella, dry umbrella, lift umbrella\\n\\nImage 10: open cabinet, close cabinet, clean cabinet, search cabinet, organize cabinet, empty cabinet, repair cabinet, adjust cabinet, lock cabinet, polish cabinet, open cabinet, close cabinet, clean cabinet, search cabinet, organize cabinet, empty cabinet, repair cabinet, adjust cabinet, lock cabinet, polish cabinet\\n\\nPlease note that actions like \"repair cabinet\" or \"treat wound\" are inferred as potential actions related to the object or scenario depicted in the image, even though the actual action of repairing or treating is not visually represented in the provided image.'}, 'finish_details': {'type': 'stop', 'stop': '<|fim_suffix|>'}, 'index': 0}]}\n",
            "{'id': 'chatcmpl-8PwzqTXJ7D48JBd8dfnIgx2cK9Vce', 'object': 'chat.completion', 'created': 1701195674, 'model': 'gpt-4-1106-vision-preview', 'usage': {'prompt_tokens': 4643, 'completion_tokens': 642, 'total_tokens': 5285}, 'choices': [{'message': {'role': 'assistant', 'content': 'Image 1: break glass, crack bottle, break bottle, smash door, break window, crack glass, smash window, burst balloon, break bowl, break cup, burst door, spill coffee, crack egg, tear shirt, throw baseball, squeeze bottle, rip paper, burn book, burn paper, fry egg\\nImage 2: chop carrot, slice carrot, grate carrot, chop onion, slice onion, peel carrot, slice potato, chop wood, chop meat, chop tree, grate potato, mix eggs, chop apple, fry potato, stir soup, boil potato, peel potato, cook potato, mash potato, peel banana\\nImage 3: chop carrot, slice carrot, grate carrot, chop onion, slice onion, peel carrot, slice potato, chop wood, chop meat, chop tree, grate potato, mix eggs, chop apple, fry potato, stir soup, boil potato, peel potato, cook potato, mash potato, peel banana\\nImage 4: arrange chairs, carry bag, open drawer, close drawer, close cabinet, open cabinet, open door, shut door, close door, lock cabinet, lock drawer, lock door, twist rope, fold paper, hang bag, hang shirt, park car, shut window, open window, label bottle\\nImage 5: bind hair, twist hair, arrange flowers, tie shoe, trim hair, style hair, braid hair, comb hair, brush hair, label bottle, close drawer, wrap box, boil egg, open box, fry meat, cook meat, break egg, burst balloon, bend knee, bend tree\\nImage 6: fry egg, cook egg, fry meat, cook meat, boil egg, bake potato, fry potato, cook potato, peel orange, cut meat, cut potato, slice meat, slice potato, pour coffee, stir coffee, cut apple, slice apple, brew coffee, serve breakfast, eat breakfast\\nImage 7: bend tree, twist rope, burn tree, chop tree, split wood, cut tree, trim tree, break window, peel orange, burst door, slice meat, peel carrot, climb tree, saw tree, park car, hang shirt, open umbrella, shut door, twist hair, ignite wood\\nImage 8: open umbrella, close umbrella, roll umbrella, carry umbrella, block door, block window, peel banana, throw frisbee, ignite paper, burn wood, carry bag, throw baseball, twist hair, arrange flowers, throw football, ride bicycle, cut meat, chop wood, saw wood, bend knee\\nImage 9: pour milk, peel banana, peel orange, open bottle, boil egg, fry egg, bake potato, close door, open door, stir coffee, cut wood, cut meat, mash potato, slice meat, slice potato, chop tree, chop wood, ignite wood, burn wood, twist rope\\nImage 10: peel orange, arrange flowers, throw apple, burst balloon, skin knee, open box, wrap box, tear book, tear paper, squeeze orange, stir soup, mix eggs, slice apple, peel banana, peel carrot, label box, arrange chairs, cook egg, fold paper, wrap book'}, 'finish_details': {'type': 'stop', 'stop': '<|fim_suffix|>'}, 'index': 0}]}\n"
          ]
        }
      ],
      "source": [
        "result_zeroshot_list6 = run_model_zero_shot(splitted_lists['list_6'])"
      ]
    },
    {
      "cell_type": "code",
      "execution_count": null,
      "id": "ChW0nklELYeK",
      "metadata": {
        "id": "ChW0nklELYeK"
      },
      "outputs": [],
      "source": [
        "with open('result_zeroshot_list6.json', 'w') as file:\n",
        "    json.dump(result_zeroshot_list6, file)"
      ]
    },
    {
      "cell_type": "code",
      "execution_count": null,
      "id": "h6e2H8HGLcYw",
      "metadata": {
        "colab": {
          "base_uri": "https://localhost:8080/"
        },
        "id": "h6e2H8HGLcYw",
        "outputId": "712331a0-5206-4bf2-d266-aae7dd6c1625"
      },
      "outputs": [
        {
          "name": "stdout",
          "output_type": "stream",
          "text": [
            "{'id': 'chatcmpl-8Px41VNucLYUdgxPVeiblubbzKG4u', 'object': 'chat.completion', 'created': 1701195933, 'model': 'gpt-4-1106-vision-preview', 'usage': {'prompt_tokens': 5493, 'completion_tokens': 645, 'total_tokens': 6138}, 'choices': [{'message': {'role': 'assistant', 'content': 'Image 1: fry egg, cook egg, break egg, crack egg, peel apple, cut apple, open bottle, fry potato, bake potato, boil potato, fry egg, cook egg, break egg, crack egg, peel apple, cut apple, open bottle, fry potato, bake potato, boil potato\\n\\nImage 2: carry bag, hang bag, tie shoe, peel banana, peel carrot, peel orange, close drawer, lock drawer, open drawer, fold paper, carry bag, hang bag, tie shoe, peel banana, peel carrot, peel orange, close drawer, lock drawer, open drawer, fold paper\\n\\nImage 3: slice apple, cut apple, peel apple, bite apple, throw apple, arrange flowers, pile books, ignite paper, burn paper, tie shoe, slice apple, cut apple, peel apple, bite apple, throw apple, arrange flowers, pile books, ignite paper, burn paper, tie shoe\\n\\nImage 4: chop meat, cut meat, fry meat, cook meat, grind meat, peel potato, cut potato, slice potato, fry potato, boil egg, chop meat, cut meat, fry meat, cook meat, grind meat, peel potato, cut potato, slice potato, fry potato, boil egg\\n\\nImage 5: carry bag, tie shoe, peel apple, bite apple, throw apple, bite apple, hang bag, carry umbrella, open umbrella, peel banana, carry bag, tie shoe, peel apple, bite apple, throw apple, bite apple, hang bag, carry umbrella, open umbrella, peel banana\\n\\nImage 6: open bottle, label bottle, carry bag, park car, throw baseball, cut potato, cook meat, chop wood, saw wood, boil egg, open bottle, label bottle, carry bag, park car, throw baseball, cut potato, cook meat, chop wood, saw wood, boil egg\\n\\nImage 7: ride bicycle, fasten helmet, tie shoe, wear helmet, park car, peel banana, knit rope, carry book, arrange chairs, roll paper, ride bicycle, fasten helmet, tie shoe, wear helmet, park car, peel banana, knit rope, carry book, arrange chairs, roll paper\\n\\nImage 8: open drawer, close drawer, lock drawer, arrange chairs, pile boxes, pile books, shut door, fasten window, open window, close window, open drawer, close drawer, lock drawer, arrange chairs, pile boxes, pile books, shut door, fasten window, open window, close window\\n\\nImage 9: boil egg, cook egg, peel egg, slice potato, cut potato, mash potato, coil rope, fold paper, open bottle, mix eggs, boil egg, cook egg, peel egg, slice potato, cut potato, mash potato, coil rope, fold paper, open bottle, mix eggs\\n\\nImage 10: scratch car, park car, crash car, close door, fasten door, lock door, cut meat, chop meat, slice meat, open window, scratch car, park car, crash car, close door, fasten door, lock door, cut meat, chop meat, slice meat, open window'}, 'finish_details': {'type': 'stop', 'stop': '<|fim_suffix|>'}, 'index': 0}]}\n",
            "{'id': 'chatcmpl-8Px4KK3CJ0OOcCu1aM4H22tNMXwyw', 'object': 'chat.completion', 'created': 1701195952, 'model': 'gpt-4-1106-vision-preview', 'usage': {'prompt_tokens': 8213, 'completion_tokens': 641, 'total_tokens': 8854}, 'choices': [{'message': {'role': 'assistant', 'content': 'Image 1: mash potato, peel potato, bake potato, boil potato, chop potato, cut potato, grate potato, fry potato, slice potato, pile potatoes, mash potato, peel potato, bake potato, boil potato, chop potato, cut potato, grate potato, fry potato, slice potato, pile potatoes\\n\\nImage 2: pile wood, burn wood, chop wood, saw wood, split wood, arrange flowers, arrange chairs, bind hair, twist hair, carry bag, pile wood, burn wood, chop wood, saw wood, split wood, arrange flowers, arrange chairs, bind hair, twist hair, carry bag\\n\\nImage 3: peel potato, bake potato, boil potato, chop potato, cut potato, grate potato, fry potato, slice potato, pile potatoes, mix eggs, peel potato, bake potato, boil potato, chop potato, cut potato, grate potato, fry potato, slice potato, pile potatoes, mix eggs\\n\\nImage 4: open door, close door, shut door, lock door, block door, fasten door, smash door, kick door, park car, ignite paper, open door, close door, shut door, lock door, block door, fasten door, smash door, kick door, park car, ignite paper\\n\\nImage 5: close cabinet, close drawer, open cabinet, open drawer, lock cabinet, lock drawer, carry bag, carry book, peel banana, slice orange, close cabinet, close drawer, open cabinet, open drawer, lock cabinet, lock drawer, carry bag, carry book, peel banana, slice orange\\n\\nImage 6: open window, close window, shut window, lock window, block window, break window, crack window, clean window, arrange flowers, peel banana, open window, close window, shut window, lock window, block window, break window, crack window, clean window, arrange flowers, peel banana\\n\\nImage 7: open book, close book, wrap book, tear book, burn book, label bottle, pitch baseball, skin knee, chop meat, ride bicycle, open book, close book, wrap book, tear book, burn book, label bottle, pitch baseball, skin knee, chop meat, ride bicycle\\n\\nImage 8: chop meat, slice meat, fry meat, cook meat, grind meat, peel carrot, cut onion, mash potato, carry bag, wrap box, chop meat, slice meat, fry meat, cook meat, grind meat, peel carrot, cut onion, mash potato, carry bag, wrap box\\n\\nImage 9: peel banana, slice banana, mash banana, bake potato, slice apple, arrange flowers, pile books, tie shoe, peel carrot, bend knee, peel banana, slice banana, mash banana, bake potato, slice apple, arrange flowers, pile books, tie shoe, peel carrot, bend knee\\n\\nImage 10: fry egg, boil egg, crack egg, cook egg, beat eggs, mix eggs, peel apple, slice orange, chop onion, mash potato, fry egg, boil egg, crack egg, cook egg, beat eggs, mix eggs, peel apple, slice orange, chop onion, mash potato'}, 'finish_details': {'type': 'stop', 'stop': '<|fim_suffix|>'}, 'index': 0}]}\n",
            "{'id': 'chatcmpl-8Px4ggcM8THN7Kxz1msLv2LjCsMhl', 'object': 'chat.completion', 'created': 1701195974, 'model': 'gpt-4-1106-vision-preview', 'usage': {'prompt_tokens': 5663, 'completion_tokens': 651, 'total_tokens': 6314}, 'choices': [{'message': {'role': 'assistant', 'content': 'Image 1: close door, fasten door, lock door, open door, block door, smash door, burst door, shut door, kick door, hang bag, close door,fasten door,lock door,open door,block door,smash door,burst door,shut door,kick door,hang bag\\n\\nImage 2: boil egg, crack egg, break egg, fry egg, mix eggs, beat eggs, cook egg, peel egg, break egg, boil egg, crack egg, break egg, fry egg, mix eggs, beat eggs, cook egg, peel egg, break egg, boil egg, crack egg\\n\\nImage 3: block window, break window, close window, fasten window, lock window, open window, shut window, smash window, crack window, twist rope, block window, break window, close window, fasten window, lock window, open window, shut window, smash window, crack window, twist rope\\n\\nImage 4: label box, close drawer, lock drawer, open drawer, close cabinet, lock cabinet, open cabinet, open door, open box, lock door, label box, close drawer, lock drawer, open drawer, close cabinet, lock cabinet, open cabinet, open door, open box, lock door\\n\\nImage 5: chop wood, pile wood, burn wood, arrange chairs, carry bag, slice meat, light wood, throw frisbee, cut wood, saw wood, chop wood, pile wood, burn wood, arrange chairs, carry bag, slice meat, light wood, throw frisbee, cut wood, saw wood\\n\\nImage 6: slice meat, chop meat, cut meat, fry meat, cook meat, grind meat, throw baseball, peel potato, boil potato, bake potato, slice meat, chop meat, cut meat, fry meat, cook meat, grind meat, throw baseball, peel potato, boil potato, bake potato\\n\\nImage 7: cut potato, chop potato, boil potato, fry potato, mash potato, grate potato, peel potato, bake potato, cook potato, slice potato, cut potato, chop potato, boil potato, fry potato, mash potato, grate potato, peel potato, bake potato, cook potato, slice potato\\n\\nImage 8: throw football, pitch baseball, peel banana, cut tree, cut wood, park car, roll paper, pile boxes, pile books, open umbrella, throw football, pitch baseball, peel banana, cut tree, cut wood, park car, roll paper, pile boxes, pile books, open umbrella\\n\\nImage 9: chop onion, cut onion, fry onion, cook onion, peel onion, slice onion, grate carrot, cut meat, peel potato, tear paper, chop onion, cut onion, fry onion, cook onion, peel onion, slice onion, grate carrot, cut meat, peel potato, tear paper\\n\\nImage 10: open door, close door, lock door, shut door, burst door, kick door, fasten door, block door, smash door, hang shirt, open door, close door, lock door, shut door, burst door, kick door, fasten door, block door, smash door, hang shirt'}, 'finish_details': {'type': 'stop', 'stop': '<|fim_suffix|>'}, 'index': 0}]}\n",
            "{'id': 'chatcmpl-8Px52sVmglU2cGVQxqrXuFxWAtiPe', 'object': 'chat.completion', 'created': 1701195996, 'model': 'gpt-4-1106-vision-preview', 'usage': {'prompt_tokens': 6343, 'completion_tokens': 639, 'total_tokens': 6982}, 'choices': [{'message': {'role': 'assistant', 'content': 'Image 1: fry onion, chop onion, cook onion, stir soup, cook meat, cook potato, boil egg, fry potato, peel onion, fry egg, fry onion, chop onion, cook onion, stir soup, cook meat, cook potato, boil egg, fry potato, peel onion, fry egg\\nImage 2: open drawer, close drawer, lock drawer, open cabinet, close cabinet, lock cabinet, label box, open box, close book, open door, open drawer, close drawer, lock drawer, open cabinet, close cabinet, lock cabinet, label box, open box, close book, open door\\nImage 3: chop onion, peel onion, slice onion, cut onion, cut potato, slice potato, chop carrot, chop meat, peel carrot, cut apple, chop onion, peel onion, slice onion, cut onion, cut potato, slice potato, chop carrot, chop meat, peel carrot, cut apple\\nImage 4: roll paper, tear paper, wrap book, tear book, fold paper, rip paper, stain paper, label bottle, open bottle, open box, roll paper, tear paper, wrap book, tear book, fold paper, rip paper, stain paper, label bottle, open bottle, open box\\nImage 5: boil egg, cook egg, peel potato, cook potato, fry egg, fry potato, bake potato, cook meat, mash potato, boil potato, boil egg, cook egg, peel potato, cook potato, fry egg, fry potato, bake potato, cook meat, mash potato, boil potato\\nImage 6: label bottle, open bottle, twist rope, close drawer, roll paper, wrap box, squeeze bottle, carry bag, carry book, pile boxes, label bottle, open bottle, twist rope, close drawer, roll paper, wrap box, squeeze bottle, carry bag, carry book, pile boxes\\nImage 7: break cup, break bowl, spill coffee, smash door, crack bottle, break glass, break door, peel banana, slice potato, squeeze bottle, break cup, break bowl, spill coffee, smash door, crack bottle, break glass, break door, peel banana, slice potato, squeeze bottle\\nImage 8: open box, close drawer, pile boxes, label box, close book, arrange chairs, wrap box, pile books, pile wood, close door, open box, close drawer, pile boxes, label box, close book, arrange chairs, wrap box, pile books, pile wood, close door\\nImage 9: slice meat, chop meat, cut meat, grind meat, fry meat, chop wood, slice potato, chop tree, cut wood, saw wood, slice meat, chop meat, cut meat, grind meat, fry meat, chop wood, slice potato, chop tree, cut wood, saw wood\\nImage 10: carry umbrella, open umbrella, block sun, block door, carry bag, arrange chairs, ride bicycle, wear hat, close umbrella, park car, carry umbrella, open umbrella, block sun, block door, carry bag, arrange chairs, ride bicycle, wear hat, close umbrella, park car'}, 'finish_details': {'type': 'stop', 'stop': '<|fim_suffix|>'}, 'index': 0}]}\n",
            "{'id': 'chatcmpl-8Px5NAMY1Y6QIGt0rj0J5356uxsCE', 'object': 'chat.completion', 'created': 1701196017, 'model': 'gpt-4-1106-vision-preview', 'usage': {'prompt_tokens': 5493, 'completion_tokens': 647, 'total_tokens': 6140}, 'choices': [{'message': {'role': 'assistant', 'content': 'Image 1: cook meat, slice meat, chop meat, grind meat, fry meat, roast meat, bake potato, peel potato, mash potato, grate potato, cook meat, slice meat, chop meat, grind meat, fry meat, roast meat, bake potato, peel potato, mash potato, grate potato\\n\\nImage 2: cut apple, slice apple, chop wood, peel apple, bite apple, throw apple, cut apple, slice apple, chop wood, peel apple, bite apple, throw apple, cut apple, slice apple, chop wood, peel apple, bite apple, throw apple, cut apple, slice apple\\n\\nImage 3: open door, close door, fasten door, lock door, kick door, smash door, shut door, block door, burst door, open door, close door, fasten door, lock door, kick door, smash door, shut door, block door, burst door, open door, close door\\n\\nImage 4: crack glass, break glass, smash window, break window, crack window, open window, close window, fasten window, lock window, shut window, crack glass, break glass, smash window, break window, crack window, open window, close window, fasten window, lock window, shut window\\n\\nImage 5: open window, close window, fasten window, lock window, shut window, block window, clean window, smash window, break window, crack window, open window, close window, fasten window, lock window, shut window, block window, clean window, smash window, break window, crack window\\n\\nImage 6: open window, close window, clean window, fasten window, lock window, block window, break window, smash window, shut window, crack window, open window, close window, clean window, fasten window, lock window, block window, break window, smash window, shut window, crack window\\n\\nImage 7: boil egg, fry egg, crack egg, break egg, peel egg, beat eggs, mix eggs, stir coffee, bake potato, cook egg, boil egg, fry egg, crack egg, break egg, peel egg, beat eggs, mix eggs, stir coffee, bake potato, cook egg\\n\\nImage 8: roll paper, tear paper, rip paper, wrap box, open box, label box, stain paper, peel banana, wrap book, fold paper, roll paper, tear paper, rip paper, wrap box, open box, label box, stain paper, peel banana, wrap book, fold paper\\n\\nImage 9: fry egg, cook egg, crack egg, break egg, boil egg, peel egg, stir coffee, mix eggs, bake potato, fry potato, fry egg, cook egg, crack egg, break egg, boil egg, peel egg, stir coffee, mix eggs, bake potato, fry potato\\n\\nImage 10: stain paper, tear paper, rip paper, burn paper, burn book, wrap book, fold paper, burn wood, open book, close book, stain paper, tear paper, rip paper, burn paper, burn book, wrap book, fold paper, burn wood, open book, close book'}, 'finish_details': {'type': 'stop', 'stop': '<|fim_suffix|>'}, 'index': 0}]}\n"
          ]
        }
      ],
      "source": [
        "result_zeroshot_list7 = run_model_zero_shot(splitted_lists['list_7'])"
      ]
    },
    {
      "cell_type": "code",
      "execution_count": null,
      "id": "gw7iFr6jL9kh",
      "metadata": {
        "id": "gw7iFr6jL9kh"
      },
      "outputs": [],
      "source": [
        "with open('result_zeroshot_list7.json', 'w') as file:\n",
        "    json.dump(result_zeroshot_list7, file)"
      ]
    },
    {
      "cell_type": "code",
      "execution_count": null,
      "id": "7mgU-E5hMAAI",
      "metadata": {
        "colab": {
          "base_uri": "https://localhost:8080/"
        },
        "id": "7mgU-E5hMAAI",
        "outputId": "c556bcfc-903d-4b91-c853-919f9fafb67c"
      },
      "outputs": [
        {
          "name": "stdout",
          "output_type": "stream",
          "text": [
            "{'id': 'chatcmpl-8Px6STOComugKKtxdoENPiHlSQV0I', 'object': 'chat.completion', 'created': 1701196084, 'model': 'gpt-4-1106-vision-preview', 'usage': {'prompt_tokens': 6173, 'completion_tokens': 705, 'total_tokens': 6878}, 'choices': [{'message': {'role': 'assistant', 'content': \"Based on the instructions and the images provided, here are my verb-noun pair predictions for each image:\\n\\nImage 1: arrange chairs, arrange chairs, arrange chairs, arrange chairs, arrange chairs, arrange chairs, arrange chairs, arrange chairs, arrange chairs, arrange chairs, block door, block door, block door, block door, block door, block door, block door, block door, block door, block door\\nImage 2: spill coffee, spill coffee, spill coffee, spill coffee, spill coffee, spill coffee, spill coffee, spill coffee, spill coffee, spill coffee, break cup, break cup, break cup, break cup, break cup, break cup, break cup, break cup, break cup, break cup\\nImage 3: slice apple, slice apple, slice apple, slice apple, slice apple, slice apple, slice apple, slice apple, slice apple, slice apple, peel apple, peel apple, peel apple, peel apple, peel apple, peel apple, peel apple, peel apple, peel apple, peel apple\\nImage 4: crack egg, crack egg, crack egg, crack egg, crack egg, crack egg, crack egg, crack egg, crack egg, crack egg, break egg, break egg, break egg, break egg, break egg, break egg, break egg, break egg, break egg, break egg\\nImage 5: twist hair, twist hair, twist hair, twist hair, twist hair, twist hair, twist hair, twist hair, twist hair, twist hair, arrange flowers, arrange flowers, arrange flowers, arrange flowers, arrange flowers, arrange flowers, arrange flowers, arrange flowers, arrange flowers, arrange flowers\\nImage 6: break glass, break glass, break glass, break glass, break glass, break glass, break glass, break glass, break glass, break glass, burst balloon, burst balloon, burst balloon, burst balloon, burst balloon, burst balloon, burst balloon, burst balloon, burst balloon, burst balloon\\nImage 7: pile wood, pile wood, pile wood, pile wood, pile wood, pile wood, pile wood, pile wood, pile wood, pile wood, chop wood, chop wood, chop wood, chop wood, chop wood, chop wood, chop wood, chop wood, chop wood, chop wood\\nImage 8: cook meat, cook meat, cook meat, cook meat, cook meat, cook meat, cook meat, cook meat, cook meat, cook meat, arrange chairs, arrange chairs, arrange chairs, arrange chairs, arrange chairs, arrange chairs, arrange chairs, arrange chairs, arrange chairs, arrange chairs\\nImage 9: close cabinet, close cabinet, close cabinet, close cabinet, close cabinet, close cabinet, close cabinet, close cabinet, close cabinet, close cabinet, open cabinet, open cabinet, open cabinet, open cabinet, open cabinet, open cabinet, open cabinet, open cabinet, open cabinet, open cabinet\\nImage 10: scratch car, scratch car, scratch car, scratch car, scratch car, scratch car, scratch car, scratch car, scratch car, scratch car, park car, park car, park car, park car, park car, park car, park car, park car, park car, park car\\n\\nPlease note that some images don't depict actions directly related to the verb-noun pairs in the provided list, so I repeated pairs that could be imaginatively or conceptually associated with the action or object in the picture.\"}, 'finish_details': {'type': 'stop', 'stop': '<|fim_suffix|>'}, 'index': 0}]}\n",
            "{'id': 'chatcmpl-8Px6l7mEMd99Iz27EgLUYzePBNfrV', 'object': 'chat.completion', 'created': 1701196103, 'model': 'gpt-4-1106-vision-preview', 'usage': {'prompt_tokens': 5663, 'completion_tokens': 690, 'total_tokens': 6353}, 'choices': [{'message': {'role': 'assistant', 'content': 'Image 1: stir soup, cook onion, boil potato, fry potato, cook potato, cook meat, mash potato, stir coffee, cook egg, fry meat, cut potato, peel potato, chop onion, grate carrot, mix eggs, slice potato, fry egg, close drawer, open cabinet, chop meat\\n\\nImage 2: cut apple, chop meat, peel apple, slice apple, throw apple, bite apple, chop onion, peel banana, peel carrot, peel potato, chop wood, close drawer, open umbrella, arrange flowers, fry egg, stir coffee, break egg, break glass, cut potato, burn wood\\n\\nImage 3: coil rope, twist rope, bind hair, knot rope, tie shoe, fasten window, fasten door, bend knee, cut tree, saw wood, twist hair, lock cabinet, lock drawer, lock door, close cabinet, close book, open drawer, peel orange, wrap box, throw frisbee\\n\\nImage 4: mix eggs, beat eggs, chop meat, grind meat, cut meat, fry meat, slice meat, cook meat, bake potato, break egg, boil egg, arrange chairs, chop potato, chop wood, pile books, lock drawer, bind hair, arrange flowers, throw football, mash potato\\n\\nImage 5: coil rope, arrange chairs, tie shoe, knot rope, bend knee, twist rope, bind hair, open cabinet, carry bag, hang shirt, pile wood, chop wood, park car, fry egg, cook meat, close drawer, lock door, throw frisbee, saw wood, wrap box\\n\\nImage 6: rip paper, tear paper, tear book, open box, break window, break glass, break door, open door, close drawer, open cabinet, arrange flowers, fry egg, peel orange, slice potato, chop meat, mix eggs, peel apple, bake potato, fold paper, lock door\\n\\nImage 7: smash door, break glass, break door, kick door, open door, shut door, lock door, close door, fasten door, burst door, peel potato, break bowl, open window, lock drawer, cut meat, stir soup, throw baseball, cook egg, chop wood, beat eggs\\n\\nImage 8: arrange chairs, close cabinet, open drawer, close drawer, open cabinet, park car, open window, close window, hang shirt, pile books, arrange flowers, throw football, tie shoe, chop meat, fry meat, close book, boil egg, break glass, peel banana, chop wood\\n\\nImage 9: rip paper, tear paper, tear book, open box, break window, break glass, break door, open door, close drawer, open cabinet, arrange flowers, fry egg, peel orange, slice potato, chop meat, mix eggs, peel apple, bake potato, fold paper, lock door\\n\\nImage 10: kick football, throw frisbee, throw apple, throw baseball, arrange flowers, pile books, fold paper, park car, ride bicycle, pitch baseball, close book, close door, lock window, break window, boil egg, cook meat, fry potato, cut potato, chop tree, bind hair\\n\\nNote: Some images did not depict any action, so I have selected verb-noun pairs that could potentially relate to the object or its use in general scenarios, rather than actions specifically depicted in those images.'}, 'finish_details': {'type': 'stop', 'stop': '<|fim_suffix|>'}, 'index': 0}]}\n",
            "{'id': 'chatcmpl-8Px75ZyBy1YmbE3dDhfkAk2YnGsCd', 'object': 'chat.completion', 'created': 1701196123, 'model': 'gpt-4-1106-vision-preview', 'usage': {'prompt_tokens': 5153, 'completion_tokens': 645, 'total_tokens': 5798}, 'choices': [{'message': {'role': 'assistant', 'content': 'Image 1: bind hair, twist hair, arrange chairs, arrange flowers, carry bag, label bottle, label box, tie shoe, knot rope, twist rope, bind hair, twist hair, arrange chairs, arrange flowers, carry bag, label bottle, label box, tie shoe, knot rope, twist rope\\nImage 2: soak hair, arrange flowers, bind hair, twist hair, carry umbrella, open umbrella, roll umbrella, fold paper, soak shirt, stain shirt, soak hair, arrange flowers, bind hair, twist hair, carry umbrella, open umbrella, roll umbrella, fold paper, soak shirt, stain shirt\\nImage 3: tear paper, rip paper, open box, label box, fold paper, roll paper, wrap book, wrap box, peel banana, spill coffee, tear paper, rip paper, open box, label box, fold paper, roll paper, wrap book, wrap box, peel banana, spill coffee\\nImage 4: soak hair, soak shirt, squeeze bottle, throw frisbee, roll paper, spill coffee, soak hair, stir soup, stir coffee, squeeze orange, soak hair, soak shirt, squeeze bottle, throw frisbee, roll paper, spill coffee, soak hair, stir soup, stir coffee, squeeze orange\\nImage 5: close door, open door, lock door, shut door, fasten door, close drawer, open drawer, lock drawer, lock cabinet, block door, close door, open door, lock door, shut door, fasten door, close drawer, open drawer, lock drawer, lock cabinet, block door\\nImage 6: chop wood, pile wood, cut wood, split wood, burn wood, chop tree, split tree, saw wood, stack wood, arrange wood, chop wood, pile wood, cut wood, split wood, burn wood, chop tree, split tree, saw wood, stack wood, arrange wood\\nImage 7: fry egg, boil egg, cook egg, crack egg, break egg, mix eggs, peel potato, fry potato, bake potato, mash potato, fry egg, boil egg, cook egg, crack egg, break egg, mix eggs, peel potato, fry potato, bake potato, mash potato\\nImage 8: saw tree, chop tree, split tree, cut tree, strip tree, slice potato, cut wood, park car, tie shoe, bend knee, saw tree, chop tree, split tree, cut tree, strip tree, slice potato, cut wood, park car, tie shoe, bend knee\\nImage 9: open bottle, close door, crack bottle, crack glass, throw baseball, bind hair, open box, label bottle, stir soup, mix eggs, open bottle, close door, crack bottle, crack glass, throw baseball, bind hair, open box, label bottle, stir soup, mix eggs\\nImage 10: break door, kick door, open door, close door, lock door, block door, burst door, smash door, tear paper, rip paper, break door, kick door, open door, close door, lock door, block door, burst door, smash door, tear paper, rip paper'}, 'finish_details': {'type': 'stop', 'stop': '<|fim_suffix|>'}, 'index': 0}]}\n",
            "{'id': 'chatcmpl-8Px7ZWRocLijqj9iekOmuzSK3nzlF', 'object': 'chat.completion', 'created': 1701196153, 'model': 'gpt-4-1106-vision-preview', 'usage': {'prompt_tokens': 5663, 'completion_tokens': 649, 'total_tokens': 6312}, 'choices': [{'message': {'role': 'assistant', 'content': 'Image 1: open door, close door, lock door, unlock door, paint door, clean door, install door, knock door, push door, pull door, open door, close door, lock door, unlock door, paint door, clean door, install door, knock door, push door, pull door\\nImage 2: crush bottle, recycle bottle, open bottle, close bottle, twist bottle, squeeze bottle, discard bottle, pick bottle, drop bottle, hold bottle, crush bottle, recycle bottle, open bottle, close bottle, twist bottle, squeeze bottle, discard bottle, pick bottle, drop bottle, hold bottle\\nImage 3: peel orange, slice orange, eat orange, throw orange, roll orange, cut orange, discard orange, pick orange, hold orange, squeeze orange, peel orange, slice orange, eat orange, throw orange, roll orange, cut orange, discard orange, pick orange, hold orange, squeeze orange\\nImage 4: trim tree, plant tree, water tree, cut tree, arrange chairs, mow lawn, rake leaves, prune tree, landscape garden, harvest tree, trim tree, plant tree, water tree, cut tree, arrange chairs, mow lawn, rake leaves, prune tree, landscape garden, harvest tree\\nImage 5: stack bricks, build wall, measure bricks, count bricks, arrange bricks, clean bricks, lay bricks, move bricks, inspect bricks, dismantle bricks, stack bricks, build wall, measure bricks, count bricks, arrange bricks, clean bricks, lay bricks, move bricks, inspect bricks, dismantle bricks\\nImage 6: slice apple, eat apple, throw apple, cut apple, peel apple, hold apple, bite apple, drop apple, pick apple, chop apple, slice apple, eat apple, throw apple, cut apple, peel apple, hold apple, bite apple, drop apple, pick apple, chop apple\\nImage 7: cut tree, saw tree, fell tree, plant tree, chop tree, split tree, climb tree, trim tree, inspect tree, prune tree, cut tree, saw tree, fell tree, plant tree, chop tree, split tree, climb tree, trim tree, inspect tree, prune tree\\nImage 8: bend tree, grow tree, climb tree, trim tree, twist tree, plant tree, water tree, study tree, admire tree, cut tree, bend tree, grow tree, climb tree, trim tree, twist tree, plant tree, water tree, study tree, admire tree, cut tree\\nImage 9: chop meat, cook meat, season meat, freeze meat, defrost meat, marinate meat, grill meat, roast meat, fry meat, eat meat, chop meat, cook meat, season meat, freeze meat, defrost meat, marinate meat, grill meat, roast meat, fry meat, eat meat\\nImage 10: tie shoe, polish shoe, put on shoe, take off shoe, buy shoe, sell shoe, design shoe, manufacture shoe, wear shoe, repair shoe, tie shoe, polish shoe, put on shoe, take off shoe, buy shoe, sell shoe, design shoe, manufacture shoe, wear shoe, repair shoe'}, 'finish_details': {'type': 'stop', 'stop': '<|fim_suffix|>'}, 'index': 0}]}\n",
            "{'id': 'chatcmpl-8Px7tSCN9YEMROb9MGCu8B5JhzJ2Z', 'object': 'chat.completion', 'created': 1701196173, 'model': 'gpt-4-1106-vision-preview', 'usage': {'prompt_tokens': 4813, 'completion_tokens': 682, 'total_tokens': 5495}, 'choices': [{'message': {'role': 'assistant', 'content': \"For each image, I will provide 20 verb-noun pairs that are relevant to the content of the image while adhering to the constraints that none of the pairs repeat within the same image's list.\\n\\nImage 1: open bottle, open box, wrap book, wrap box, label bottle, label box, pile boxes, pile books, arrange chairs, arrange flowers, carry bag, tie shoe, close drawer, fold paper, rip paper, roll paper, tear book, tear paper, twist hair, twist rope\\n\\nImage 2: chop meat, cut meat, cook meat, fry meat, grind meat, slice meat, carry bag, tie shoe, arrange chairs, arrange flowers, chop onion, crack egg, peel potato, fry potato, mash potato, slice potato, open drawer, roll paper, rip paper, twist hair\\n\\nImage 3: roll paper, wrap book, open box, label box, open drawer, close drawer, pile boxes, pile books, fasten window, fold paper, arrange chairs, arrange flowers, tear paper, twist rope, close book, close cabinet, peel banana, peel carrot, roll umbrella, tie shoe\\n\\nImage 4: open book, pile books, carry book, shut window, close cabinet, close door, close drawer, label bottle, pile wood, rip paper, arrange chairs, wrap box, tie shoe, open cabinet, peel apple, carry bag, fold paper, label box, twist hair, twist rope\\n\\nImage 5: chop wood, cut wood, saw tree, split tree, split wood, chop carrot, chop onion, pile wood, chop tree, trim tree, strip tree, chop meat, tear paper, burn tree, burn wood, pile books, pile boxes, open drawer, roll paper, twist rope\\n\\nImage 6: ride bicycle, park car, peel banana, fold paper, close cabinet, open umbrella, ride bicycle, tie shoe, roll paper, wrap box, arrange chairs, arrange flowers, label bottle, label box, hang shirt, fasten door, mash potato, slice potato, carry umbrella, close book\\n\\nImage 7: pile wood, chop wood, cut wood, saw wood, carry bag, arrange chairs, arrange flowers, roll umbrella, tie shoe, burst balloon, close door, lock door, fold paper, label box, mash potato, peel potato, shut door, twist hair, open umbrella, pitch baseball\\n\\nImage 8: chop onion, cut onion, cook onion, fry onion, peel onion, slice onion, mash potato, chop meat, fry meat, cut potato, pile wood, carry bag, arrange flowers, tie shoe, roll paper, wrap box, label bottle, open drawer, close drawer, arrange chairs\\n\\nImage 9: open bottle, label bottle, pile wood, carry bag, twist rope, roll paper, wrap book, fold paper, pile boxes, arrange flowers, open box, pile books, rip paper, shut window, lock window, close cabinet, arrange chairs, tie shoe, burst balloon, open drawer\\n\\nImage 10: arrange flowers, pile boxes, pile books, close book, label bottle, wrap box, open box, fold paper, tear paper, roll paper, label box, peel orange, rip paper, shut window, open drawer, tear book, open bottle, pile wood, arrange chairs, tie shoe\"}, 'finish_details': {'type': 'stop', 'stop': '<|fim_suffix|>'}, 'index': 0}]}\n"
          ]
        }
      ],
      "source": [
        "result_zeroshot_list8 = run_model_zero_shot(splitted_lists['list_8'])"
      ]
    },
    {
      "cell_type": "code",
      "execution_count": null,
      "id": "kpPCWIJcNZn5",
      "metadata": {
        "id": "kpPCWIJcNZn5"
      },
      "outputs": [],
      "source": [
        "with open('result_zeroshot_list8.json', 'w') as file:\n",
        "    json.dump(result_zeroshot_list8, file)"
      ]
    },
    {
      "cell_type": "code",
      "execution_count": 120,
      "id": "BhqAr9RUNbcY",
      "metadata": {
        "colab": {
          "base_uri": "https://localhost:8080/"
        },
        "id": "BhqAr9RUNbcY",
        "outputId": "7db0b913-dc61-49c0-f2ee-e216432a2e8c"
      },
      "outputs": [
        {
          "name": "stdout",
          "output_type": "stream",
          "text": [
            "{'id': 'chatcmpl-8Py15SdffBPzhaHftWPcx74JK6ZlK', 'object': 'chat.completion', 'created': 1701199595, 'model': 'gpt-4-1106-vision-preview', 'usage': {'prompt_tokens': 6343, 'completion_tokens': 643, 'total_tokens': 6986}, 'choices': [{'message': {'role': 'assistant', 'content': 'Image 1: crack glass, break glass, smash window, crack window, break window, smash door, break door, smash door, crack window, break window, crack glass, break glass, smash window, crack window, break window, smash door, break door, smash door, crack window, break window\\nImage 2: whip cream, mash potato, beat eggs, stir soup, mix eggs, grate potato, stir coffee, mash potato, whip cream, stir soup, whip cream, mash potato, beat eggs, stir soup, mix eggs, grate potato, stir coffee, mash potato, whip cream, stir soup\\nImage 3: wrap book, open box, label box, pile books, arrange chairs, fold paper, pile boxes, open bottle, label bottle, wrap box, wrap book, open box, label box, pile books, arrange chairs, fold paper, pile boxes, open bottle, label bottle, wrap box\\nImage 4: boil egg, slice onion, cut potato, chop onion, chop meat, cut onion, slice potato, chop carrot, slice apple, fry egg, boil egg, slice onion, cut potato, chop onion, chop meat, cut onion, slice potato, chop carrot, slice apple, fry egg\\nImage 5: burn wood, ignite wood, burn tree, light fire, ignite paper, burn book, burn paper, light fire, ignite wood, burn wood, burn wood, ignite wood, burn tree, light fire, ignite paper, burn book, burn paper, light fire, ignite wood, burn wood\\nImage 6: chop wood, saw tree, chop tree, saw wood, cut wood, split wood, cut tree, slice potato, chop wood, saw tree, chop wood, saw tree, chop tree, saw wood, cut wood, split wood, cut tree, slice potato, chop wood, saw tree\\nImage 7: crack egg, break egg, break bowl, smash window, crack bottle, open bottle, break cup, crack glass, break door, smash door, crack egg, break egg, break bowl, smash window, crack bottle, open bottle, break cup, crack glass, break door, smash door\\nImage 8: bake potato, cook potato, fry potato, boil potato, chop potato, cut potato, grate potato, slice potato, mash potato, cook meat, bake potato, cook potato, fry potato, boil potato, chop potato, cut potato, grate potato, slice potato, mash potato, cook meat\\nImage 9: close window, lock window, fasten window, shut window, open window, lock door, close door, shut door, fasten door, open door, close window, lock window, fasten window, shut window, open window, lock door, close door, shut door, fasten door, open door\\nImage 10: coil rope, twist rope, knot rope, roll umbrella, wrap box, tie shoe, knot rope, twist rope, coil rope, roll paper, coil rope, twist rope, knot rope, roll umbrella, wrap box, tie shoe, knot rope, twist rope, coil rope, roll paper'}, 'finish_details': {'type': 'stop', 'stop': '<|fim_suffix|>'}, 'index': 0}]}\n",
            "{'id': 'chatcmpl-8Py1LgqBVkmxxiuyRhTbJMHXygesR', 'object': 'chat.completion', 'created': 1701199611, 'model': 'gpt-4-1106-vision-preview', 'usage': {'prompt_tokens': 5153, 'completion_tokens': 649, 'total_tokens': 5802}, 'choices': [{'message': {'role': 'assistant', 'content': 'Image 1: break egg, crack egg, spill coffee, tear paper, fry egg, boil egg, mash potato, peel potato, slice potato, cook egg, break glass, scratch knee, burst balloon, chop onion, chop meat, chop carrot, bend knee, carry bag, throw baseball, twist rope\\nImage 2: knot rope, twist rope, coil rope, tie shoe, bind hair, open window, close door, lock door, pitch baseball, roll paper, shut door, fasten window, label box, break glass, throw frisbee, peel banana, cut onion, open drawer, arrange flowers, trim hair\\nImage 3: arrange flowers, open window, throw frisbee, burst balloon, pour water, spill coffee, shut window, ride bicycle, kick door, coil rope, tear paper, fold paper, wrap box, break glass, fry potato, peel carrot, soak shirt, mash potato, slice meat, bend knee\\nImage 4: chop onion, peel carrot, tear paper, slice onion, bend knee, arrange chairs, break glass, open box, cut onion, cook onion, wrap book, shut window, twist hair, label bottle, mix eggs, pour water, shake bottle, squeeze orange, mash potato, scratch car\\nImage 5: label box, open box, peel banana, arrange flowers, close drawer, bend knee, break door, open drawer, throw football, tear book, pile boxes, spill coffee, fold paper, break egg, shut window, pitch baseball, fasten window, lock cabinet, trim tree, squeeze bottle\\nImage 6: pitch baseball, throw baseball, catch baseball, peel orange, cut potato, bend knee, park car, open umbrella, tear shirt, burst balloon, ride bicycle, throw frisbee, label bottle, arrange chairs, lock drawer, close drawer, fasten window, carry umbrella, stir coffee, spill coffee\\nImage 7: open box, pack box, arrange chairs, pile books, mash potato, open drawer, break egg, label bottle, spill coffee, twist hair, tie shoe, open door, fold paper, bend tree, block door, fry potato, ride bicycle, arrange flowers, pitch baseball, shut door\\nImage 8: catch baseball, pitch baseball, throw baseball, wear glove, peel banana, chop meat, open door, shut door, hang shirt, lock drawer, carry bag, bend knee, open window, tear paper, soak shirt, squeeze orange, burst balloon, trim hair, label bottle, roll paper\\nImage 9: coil rope, roll umbrella, twist rope, knot rope, open umbrella, close drawer, peel potato, throw football, break glass, crack bottle, close door, shut window, bend tree, cut wood, saw tree, pitch baseball, trim tree, fry meat, skin knee, mash potato\\nImage 10: open door, shut door, close door, block door, open window, close window, shut window, fasten window, pitch baseball, peel banana, trim hair, throw baseball, break glass, tear paper, shut drawer, lock door, bend knee, cut apple, fry egg, spill coffee'}, 'finish_details': {'type': 'stop', 'stop': '<|fim_suffix|>'}, 'index': 0}]}\n",
            "{'id': 'chatcmpl-8Py1e0R5nB7OWz8h4Y3bSOAJvmjLX', 'object': 'chat.completion', 'created': 1701199630, 'model': 'gpt-4-1106-vision-preview', 'usage': {'prompt_tokens': 6173, 'completion_tokens': 643, 'total_tokens': 6816}, 'choices': [{'message': {'role': 'assistant', 'content': 'Image 1: peel potato, boil potato, chop potato, mash potato, fry potato, slice potato, grate potato, cut potato, cook potato, bake potato, peel potato, boil potato, chop potato, mash potato, fry potato, slice potato, grate potato, cut potato, cook potato, bake potato\\n\\nImage 2: lock door, close door, lock cabinet, shut door, fasten door, lock drawer, close cabinet, fasten window, lock window, close drawer, lock door, close door, lock cabinet, shut door, fasten door, lock drawer, close cabinet, fasten window, lock window, close drawer\\n\\nImage 3: break glass, crack glass, smash window, break window, crack window, break door, smash door, break bowl, crack bottle, break cup, break glass, crack glass, smash window, break window, crack window, break door, smash door, break bowl, crack bottle, break cup\\n\\nImage 4: squeeze bottle, twist rope, coil rope, bend knee, bend tree, peel banana, peel orange, chop carrot, grate carrot, peel apple, squeeze bottle, twist rope, coil rope, bend knee, bend tree, peel banana, peel orange, chop carrot, grate carrot, peel apple\\n\\nImage 5: throw football, kick football, pitch baseball, ride bicycle, park car, crash car, scratch car, chop tree, cut tree, saw tree, throw football, kick football, pitch baseball, ride bicycle, park car, crash car, scratch car, chop tree, cut tree, saw tree\\n\\nImage 6: chop potato, slice potato, peel potato, mash potato, fry potato, boil potato, cut potato, grate potato, cook potato, bake potato, chop potato, slice potato, peel potato, mash potato, fry potato, boil potato, cut potato, grate potato, cook potato, bake potato\\n\\nImage 7: burn paper, burn book, ignite paper, burn wood, burn tree, open bottle, throw apple, cut meat, chop meat, grind meat, burn paper, burn book, ignite paper, burn wood, burn tree, open bottle, throw apple, cut meat, chop meat, grind meat\\n\\nImage 8: bite apple, peel apple, eat apple, cut apple, slice apple, throw apple, cut potato, fry egg, chop carrot, peel banana, bite apple, peel apple, eat apple, cut apple, slice apple, throw apple, cut potato, fry egg, chop carrot, peel banana\\n\\nImage 9: close door, lock door, shut window, close cabinet, lock cabinet, close drawer, shut door, open box, fold paper, close book, close door, lock door, shut window, close cabinet, lock cabinet, close drawer, shut door, open box, fold paper, close book\\n\\nImage 10: chop onion, slice onion, cut onion, cook onion, fry potato, boil egg, fry egg, peel carrot, mash potato, chop meat, chop onion, slice onion, cut onion, cook onion, fry potato, boil egg, fry egg, peel carrot, mash potato, chop meat'}, 'finish_details': {'type': 'stop', 'stop': '<|fim_suffix|>'}, 'index': 0}]}\n",
            "{'id': 'chatcmpl-8Py1vgmrckXIAbxAEd9uWfPNfJhIv', 'object': 'chat.completion', 'created': 1701199647, 'model': 'gpt-4-1106-vision-preview', 'usage': {'prompt_tokens': 6173, 'completion_tokens': 661, 'total_tokens': 6834}, 'choices': [{'message': {'role': 'assistant', 'content': 'Image 1: cook onion, stir soup, fry potato, chop onion, peel carrot, grate potato, slice onion, boil potato, mash potato, fry meat, cook onion, stir soup, fry potato, chop onion, peel carrot, grate potato, slice onion, boil potato, mash potato, fry meat\\nImage 2: bind hair, twist hair, trim hair, soak hair, shave hair, tie shoe, cut apple, label box, knot rope, roll paper, bind hair, twist hair, trim hair, soak hair, shave hair, tie shoe, cut apple, label box, knot rope, roll paper\\nImage 3: chop meat, cut meat, fry meat, cook meat, grind meat, sprinkle salt, season meat, sauté meat, brown meat, marinate meat, chop meat, cut meat, fry meat, cook meat, grind meat, sprinkle salt, season meat, sauté meat, brown meat, marinate meat\\nImage 4: fasten door, lock door, shut door, secure door, close door, block door, barricade door, reinforce door, smash door, burst door, fasten door, lock door, shut door, secure door, close door, block door, barricade door, reinforce door, smash door, burst door\\nImage 5: burn book, burn paper, burn wood, ignite paper, ignite wood, set fire, incinerate paper, torch paper, char wood, flame tree, burn book, burn paper, burn wood, ignite paper, ignite wood, set fire, incinerate paper, torch paper, char wood, flame tree\\nImage 6: wrap box, tie ribbon, decorate box, give gift, arrange ribbon, adorn box, present gift, box present, package gift, dress box, wrap box, tie ribbon, decorate box, give gift, arrange ribbon, adorn box, present gift, box present, package gift, dress box\\nImage 7: bend knee, kneel down, squat down, rest knee, pose knee, compress knee, lower body, crouch down, sink down, flex knee, bend knee, kneel down, squat down, rest knee, pose knee, compress knee, lower body, crouch down, sink down, flex knee\\nImage 8: grate potato, peel potato, slice potato, julienne potato, shred potato, prep potato, prepare potato, cut potato, chop potato, process potato, grate potato, peel potato, slice potato, julienne potato, shred potato, prep potato, prepare potato, cut potato, chop potato, process potato\\nImage 9: slice onion, chop onion, mince onion, cut onion, dice onion, shred onion, prepare onion, section onion, segment onion, split onion, slice onion, chop onion, mince onion, cut onion, dice onion, shred onion, prepare onion, section onion, segment onion, split onion\\nImage 10: open cabinet, arrange shelves, clean cabinet, sort cabinet, order cabinet, organize cabinet, tidy cabinet, empty cabinet, fill cabinet, stock cabinet, open cabinet, arrange shelves, clean cabinet, sort cabinet, order cabinet, organize cabinet, tidy cabinet, empty cabinet, fill cabinet, stock cabinet'}, 'finish_details': {'type': 'stop', 'stop': '<|fim_suffix|>'}, 'index': 0}]}\n",
            "{'error': {'message': 'Your input image may contain content that is not allowed by our safety system.', 'type': 'invalid_request_error', 'param': None, 'code': 'content_policy_violation'}}\n",
            "KeyError encountered. Check the response structure.\n"
          ]
        }
      ],
      "source": [
        "result_zeroshot_list9 = run_model_zero_shot(splitted_lists['list_9'])"
      ]
    },
    {
      "cell_type": "code",
      "execution_count": null,
      "id": "zZfAMoARNf0C",
      "metadata": {
        "id": "zZfAMoARNf0C"
      },
      "outputs": [],
      "source": [
        "with open('result_zeroshot_list9.json', 'w') as file:\n",
        "    json.dump(result_zeroshot_list9, file)"
      ]
    },
    {
      "cell_type": "code",
      "execution_count": null,
      "id": "NLk62LDTNi_m",
      "metadata": {
        "colab": {
          "base_uri": "https://localhost:8080/"
        },
        "id": "NLk62LDTNi_m",
        "outputId": "b703f0ae-a61f-4a41-c3f3-e48a9c271fb7"
      },
      "outputs": [
        {
          "name": "stdout",
          "output_type": "stream",
          "text": [
            "{'id': 'chatcmpl-8PxF0auVQ4wtqLxznmnEJU7BWqZRl', 'object': 'chat.completion', 'created': 1701196614, 'model': 'gpt-4-1106-vision-preview', 'usage': {'prompt_tokens': 5323, 'completion_tokens': 651, 'total_tokens': 5974}, 'choices': [{'message': {'role': 'assistant', 'content': 'Image 1: close door, open door, lock door, lock cabinet, fasten door, shut door, open cabinet, close cabinet, open drawer, close drawer, close door, open door, lock door, lock cabinet, fasten door, shut door, open cabinet, close cabinet, open drawer, close drawer\\nImage 2: arrange flowers, hold flowers, carry bag, carry umbrella, wrap box, label box, open box, close drawer, tie shoe, bend knee, arrange flowers, hold flowers, carry bag, carry umbrella, wrap box, label box, open box, close drawer, tie shoe, bend knee\\nImage 3: pile books, arrange chairs, label box, stack boxes, carry book, open book, close book, tear book, wrap book, tie shoe, pile books, arrange chairs, label box, stack boxes, carry book, open book, close book, tear book, wrap book, tie shoe\\nImage 4: pile boxes, label box, stack boxes, open box, close drawer, arrange chairs, wrap box, tie shoe, carry bag, open door, pile boxes, label box, stack boxes, open box, close drawer, arrange chairs, wrap box, tie shoe, carry bag, open door\\nImage 5: open door, close door, lock door, lock cabinet, fasten door, shut door, open cabinet, close cabinet, open drawer, close drawer, open door, close door, lock door, lock cabinet, fasten door, shut door, open cabinet, close cabinet, open drawer, close drawer\\nImage 6: cook meat, fry meat, chop meat, cut meat, slice meat, stir soup, peel onion, chop onion, slice onion, cut onion, cook meat, fry meat, chop meat, cut meat, slice meat, stir soup, peel onion, chop onion, slice onion, cut onion\\nImage 7: beat eggs, mix eggs, cook egg, fry egg, stir soup, peel potato, mash potato, slice potato, cut potato, grate potato, beat eggs, mix eggs, cook egg, fry egg, stir soup, peel potato, mash potato, slice potato, cut potato, grate potato\\nImage 8: bake potato, fry potato, stir soup, chop meat, peel potato, cook potato, slice potato, chop potato, cut potato, grate potato, bake potato, fry potato, stir soup, chop meat, peel potato, cook potato, slice potato, chop potato, cut potato, grate potato\\nImage 9: stain shirt, stain paper, tear paper, burn paper, soak shirt, rip paper, fold paper, throw frisbee, wrap box, label box, stain shirt, stain paper, tear paper, burn paper, soak shirt, rip paper, fold paper, throw frisbee, wrap box, label box\\nImage 10: stain paper, stain shirt, tear paper, burn paper, soak shirt, rip paper, fold paper, throw frisbee, wrap box, label box, stain paper, stain shirt, tear paper, burn paper, soak shirt, rip paper, fold paper, throw frisbee, wrap box, label box'}, 'finish_details': {'type': 'stop', 'stop': '<|fim_suffix|>'}, 'index': 0}]}\n",
            "{'id': 'chatcmpl-8PxFJHuQA7t7p5HeiunK1edFRowkM', 'object': 'chat.completion', 'created': 1701196633, 'model': 'gpt-4-1106-vision-preview', 'usage': {'prompt_tokens': 5493, 'completion_tokens': 649, 'total_tokens': 6142}, 'choices': [{'message': {'role': 'assistant', 'content': 'Image 1: coil rope, twist rope, knot rope, arrange chairs, bind hair, open box, carry bag, label bottle, tie shoe, fasten window, coil rope, twist rope, knot rope, arrange chairs, bind hair, open box, carry bag, label bottle, tie shoe, fasten window  \\nImage 2: slice apple, cut apple, peel apple, chop carrot, chop wood, arrange flowers, close door, fold paper, bind hair, fry potato, slice apple, cut apple, peel apple, chop carrot, chop wood, arrange flowers, close door, fold paper, bind hair, fry potato  \\nImage 3: close door, shut door, fasten door, shut window, break door, open door, open window, lock door, block door, break glass, close door, shut door, fasten door, shut window, break door, open door, open window, lock door, block door, break glass  \\nImage 4: fry egg, beat eggs, cook egg, boil egg, crack egg, open bottle, stir coffee, peel banana, bake potato, close drawer, fry egg, beat eggs, cook egg, boil egg, crack egg, open bottle, stir coffee, peel banana, bake potato, close drawer  \\nImage 5: hang bag, close door, fasten window, fasten door, hang shirt, throw baseball, arrange chairs, knit rope, mash potato, pile wood, hang bag, close door, fasten window, fasten door, hang shirt, throw baseball, arrange chairs, knit rope, mash potato, pile wood  \\nImage 6: soak hair, soak shirt, twist hair, trim hair, bind hair, open door, close door, fold paper, cut meat, fry potato, soak hair, soak shirt, twist hair, trim hair, bind hair, open door, close door, fold paper, cut meat, fry potato  \\nImage 7: fry potato, bake potato, peel potato, cut potato, chop potato, serve food, mash potato, grate potato, cook potato, arrange chairs, fry potato, bake potato, peel potato, cut potato, chop potato, serve food, mash potato, grate potato, cook potato, arrange chairs  \\nImage 8: open window, close window, block window, fasten window, shut window, clean window, break window, arrange chairs, tie shoe, lock window, open window, close window, block window, fasten window, shut window, clean window, break window, arrange chairs, tie shoe, lock window  \\nImage 9: boil potato, fry potato, peel potato, mash potato, grate potato, chop potato, cut potato, bake potato, arrange chairs, carry bag, boil potato, fry potato, peel potato, mash potato, grate potato, chop potato, cut potato, bake potato, arrange chairs, carry bag  \\nImage 10: pile books, close book, open book, wrap book, tear book, arrange flowers, carry bag, bend tree, slice meat, mash potato, pile books, close book, open book, wrap book, tear book, arrange flowers, carry bag, bend tree, slice meat, mash potato'}, 'finish_details': {'type': 'stop', 'stop': '<|fim_suffix|>'}, 'index': 0}]}\n",
            "{'id': 'chatcmpl-8PxFb03mkpn7fZieoxcf7jNWrFDwh', 'object': 'chat.completion', 'created': 1701196651, 'model': 'gpt-4-1106-vision-preview', 'usage': {'prompt_tokens': 4133, 'completion_tokens': 641, 'total_tokens': 4774}, 'choices': [{'message': {'role': 'assistant', 'content': 'Image 1: arrange chairs, arrange flowers, bake potato, beat eggs, bend knee, bend tree, bind hair, bite apple, block door, block window, carry bag, carry book, carry umbrella, chop carrot, chop meat, chop onion, chop tree, chop wood, close book, close cabinet\\n\\nImage 2: burn book, burn paper, burn wood, burn tree, burst balloon, burst door, carry bag, carry book, carry umbrella, chop carrot, chop meat, chop onion, chop tree, chop wood, close book, close cabinet, close door, close drawer, close window, coil rope\\n\\nImage 3: cut apple, cut meat, cut onion, cut potato, cut tree, cut wood, fasten door, fasten window, fold paper, fry egg, fry meat, fry potato, grate carrot, grate potato, grind meat, hang bag, hang shirt, ignite paper, ignite wood, insert key\\n\\nImage 4: kick door, kick football, knot rope, label bottle, label box, lock cabinet, lock door, lock drawer, lock window, mash potato, mix eggs, open bottle, open box, open cabinet, open door, open drawer, open umbrella, open window, park car, peel apple\\n\\nImage 5: peel banana, peel carrot, peel orange, peel potato, pile books, pile boxes, pile wood, pitch baseball, ride bicycle, rip paper, roll paper, roll umbrella, saw tree, saw wood, scratch car, scratch knee, shave hair, shut door, shut window, skin knee\\n\\nImage 6: slice apple, slice meat, slice onion, slice potato, smash door, smash window, soak shirt, soak hair, spill coffee, split tree, split wood, squeeze orange, squeeze bottle, stain paper, stain shirt, stir coffee, stir soup, strip tree, tear book, tear shirt\\n\\nImage 7: coil rope, tear paper, bind hair, twist rope, arrange chairs, arrange flowers, bake potato, beat eggs, bend knee, bend tree, bite apple, block door, block window, boil egg, boil potato, break bowl, break cup, break door, break egg, break glass\\n\\nImage 8: open bottle, open box, carry bag, label bottle, mash potato, rip paper, tear book, fold paper, soak shirt, shut door, roll paper, park car, pitch baseball, saw wood, twist rope, tie shoe, squeeze bottle, stir soup, stain shirt, split wood\\n\\nImage 9: peel apple, cut apple, roll paper, stain shirt, stain paper, tear paper, spill coffee, smash window, smash door, slice potato, slice onion, slice meat, slice apple, shut window, shut door, shave hair, scratch knee, scratch car, saw wood, saw tree\\n\\nImage 10: stir coffee, spill coffee, squeeze bottle, twist rope, tear paper, tear shirt, stain shirt, stain paper, soak shirt, soak hair, smash window, smash door, slice potato, slice onion, slice meat, slice apple, shut window, shut door, shave hair, scratch knee'}, 'finish_details': {'type': 'stop', 'stop': '<|fim_suffix|>'}, 'index': 0}]}\n",
            "{'id': 'chatcmpl-8PxFvV8pPUaVB1BjGXAu6LV5v6z1y', 'object': 'chat.completion', 'created': 1701196671, 'model': 'gpt-4-1106-vision-preview', 'usage': {'prompt_tokens': 4133, 'completion_tokens': 655, 'total_tokens': 4788}, 'choices': [{'message': {'role': 'assistant', 'content': 'Image 1: fry onion, cook onion, stir soup, mix eggs, cook potato, boil potato, sauté onion, cook meat, peel onion, chop onion, fry onion, cook onion, stir soup, mix eggs, cook potato, boil potato, sauté onion, cook meat, peel onion, chop onion\\n\\nImage 2: arrange flowers, trim tree, arrange chairs, pile books, open window, close door, carry bag, tie shoe, label bottle, open door, arrange flowers, trim tree, arrange chairs, pile books, open window, close door, carry bag, tie shoe, label bottle, open door\\n\\nImage 3: tear paper, roll paper, label box, wrap box, paste paper, fold paper, tape paper, cut paper, pin paper, rip paper, tear paper, roll paper, label box, wrap box, paste paper, fold paper, tape paper, cut paper, pin paper, rip paper\\n\\nImage 4: open drawer, close drawer, lock drawer, open cabinet, close cabinet, lock cabinet, arrange chairs, label box, tie shoe, open door, open drawer, close drawer, lock drawer, open cabinet, close cabinet, lock cabinet, arrange chairs, label box, tie shoe, open door\\n\\nImage 5: beat eggs, mix eggs, stir soup, fry egg, fry meat, cook meat, whip cream, bake potato, fry potato, cook egg, beat eggs, mix eggs, stir soup, fry egg, fry meat, cook meat, whip cream, bake potato, fry potato, cook egg\\n\\nImage 6: close door, open door, lock door, fasten door, shut door, arrange chairs, block door, kick door, tie shoe, carry bag, close door, open door, lock door, fasten door, shut door, arrange chairs, block door, kick door, tie shoe, carry bag\\n\\nImage 7: close drawer, open drawer, arrange chairs, pile books, open door, close cabinet, open cabinet, arrange flowers, open window, label box, close drawer, open drawer, arrange chairs, pile books, open door, close cabinet, open cabinet, arrange flowers, open window, label box\\n\\nImage 8: scratch knee, skin knee, bandage knee, treat wound, clean wound, apply ointment, soothe burn, dress wound, inspect injury, comfort patient, scratch knee, skin knee, bandage knee, treat wound, clean wound, apply ointment, soothe burn, dress wound, inspect injury, comfort patient\\n\\nImage 9: chop wood, saw wood, split wood, pile wood, carry wood, saw tree, chop tree, split tree, arrange chairs, tie shoe, chop wood, saw wood, split wood, pile wood, carry wood, saw tree, chop tree, split tree, arrange chairs, tie shoe\\n\\nImage 10: trim tree, arrange flowers, mow grass, rake leaves, prune bush, plant flowers, water plants, arrange chairs, open umbrella, harvest fruit, trim tree, arrange flowers, mow grass, rake leaves, prune bush, plant flowers, water plants, arrange chairs, open umbrella, harvest fruit'}, 'finish_details': {'type': 'stop', 'stop': '<|fim_suffix|>'}, 'index': 0}]}\n",
            "{'id': 'chatcmpl-8PxGIT2WWZtNWXf3SknmYHVUgejb6', 'object': 'chat.completion', 'created': 1701196694, 'model': 'gpt-4-1106-vision-preview', 'usage': {'prompt_tokens': 6513, 'completion_tokens': 670, 'total_tokens': 7183}, 'choices': [{'message': {'role': 'assistant', 'content': 'Image 1: chop egg, slice egg, cut egg, peel egg, grate egg, mash egg, cook egg, boil egg, fry egg, bake egg, chop potato, slice potato, cut potato, peel potato, grate potato, mash potato, cook potato, boil potato, fry potato, bake potato\\nImage 2: crack egg, break egg, spill egg, burst egg, open egg, fry egg, boil egg, peel egg, bake egg, cook egg, crack bottle, break bottle, spill coffee, burst balloon, open bottle, fry potato, boil potato, peel potato, bake potato, cook potato\\nImage 3: throw frisbee, catch frisbee, fly frisbee, twist rope, jump rope, roll umbrella, tie shoe, bend knee, kick football, pitch baseball, throw baseball, catch baseball, fly baseball, twist frisbee, jump frisbee, roll frisbee, tie frisbee, bend frisbee, kick frisbee, pitch frisbee\\nImage 4: close door, fasten door, open door, lock door, shut door, block door, smash door, paint door, clean door, design door, close window, fasten window, open window, lock window, shut window, block window, smash window, paint window, clean window, design window\\nImage 5: chop tree, saw tree, bend tree, split tree, burn tree, break tree, strip tree, cut tree, peel tree, design tree, chop wood, saw wood, bend wood, split wood, burn wood, break wood, strip wood, cut wood, peel wood, design wood\\nImage 6: peel carrot, chop carrot, slice carrot, grate carrot, cut carrot, cook carrot, fry carrot, mash carrot, bake carrot, boil carrot, peel potato, chop potato, slice potato, grate potato, cut potato, cook potato, fry potato, mash potato, bake potato, boil potato\\nImage 7: break glass, crack glass, smash window, break window, crack window, throw baseball, pitch baseball, clean glass, design glass, open window, break bottle, crack bottle, smash door, break door, crack door, throw frisbee, pitch frisbee, clean bottle, design bottle, open door\\nImage 8: grind meat, chop meat, slice meat, cook meat, fry meat, bake meat, mash meat, season meat, cut meat, blend meat, grind potato, chop potato, slice potato, cook potato, fry potato, bake potato, mash potato, season potato, cut potato, blend potato\\nImage 9: arrange chairs, arrange flowers, throw frisbee, park car, set table, decorate table, clean chairs, design chairs, open umbrella, tie shoe, arrange books, arrange boxes, throw baseball, park bicycle, set napkins, decorate flowers, clean table, design table, open box, tie rope\\nImage 10: insert key, lock door, open door, start car, unlock car, turn key, remove key, close door, fasten door, shut door, insert pen, lock cabinet, open cabinet, start engine, unlock cabinet, turn lock, remove lock, close cabinet, fasten cabinet, shut cabinet'}, 'finish_details': {'type': 'stop', 'stop': '<|fim_suffix|>'}, 'index': 0}]}\n"
          ]
        }
      ],
      "source": [
        "result_zeroshot_list10 = run_model_zero_shot(splitted_lists['list_10'])"
      ]
    },
    {
      "cell_type": "code",
      "execution_count": null,
      "id": "L0Y_xp0UNk6E",
      "metadata": {
        "id": "L0Y_xp0UNk6E"
      },
      "outputs": [],
      "source": [
        "with open('result_zeroshot_list10.json', 'w') as file:\n",
        "    json.dump(result_zeroshot_list10, file)"
      ]
    },
    {
      "cell_type": "code",
      "execution_count": null,
      "id": "-pzwtuFBEZsU",
      "metadata": {
        "colab": {
          "base_uri": "https://localhost:8080/"
        },
        "id": "-pzwtuFBEZsU",
        "outputId": "9d4a53ff-29bb-4b6b-df1e-94dad2866f89"
      },
      "outputs": [
        {
          "name": "stdout",
          "output_type": "stream",
          "text": [
            "Image 1: bite apple, peel apple, slice apple, throw apple, cut apple, mash potato, boil potato, fry potato, chop carrot, grate carrot, peel banana, peel orange, squeeze orange, open bottle, close bottle, label bottle, burst balloon, crack bottle, roll paper, tie shoe\n",
            "\n",
            "Image 2: bind hair, twist hair, trim hair, shave hair, soak hair, arrange flowers, peel banana, squeeze orange, label bottle, burst balloon, close door, close drawer, carry bag, tie shoe, shut door, shut window, fasten door, twist rope, scratch knee, skin knee\n",
            "\n",
            "Image 3: bake potato, mash potato, fry potato, chop potato, cut potato, grind meat, boil potato, peel potato, peel carrot, grate potato, stir soup, cook potato, arrange flowers, carry bag, roll paper, open box, label box, close cabinet, twist rope, cut wood\n",
            "\n",
            "Image 4: open bottle, close bottle, label bottle, carry bag, crack bottle, roll paper, peel banana, peel orange, squeeze orange, fill glass, pour water, burst balloon, open window, close window, lock cabinet, twist rope, tie shoe, carry umbrella, arrange chairs, pile boxes\n",
            "\n",
            "Image 5: open drawer, close drawer, lock drawer, open cabinet, close cabinet, label box, arrange flowers, pile books, wrap book, carry bag, roll paper, tie shoe, shut window, peel banana, squeeze bottle, carry umbrella, mash potato, stir soup, chop meat, cut wood\n",
            "\n",
            "Image 6: cut tree, saw tree, chop tree, split tree, trim tree, split wood, chop wood, arrange flowers, carry bag, burn wood, roll paper, peel banana, bite apple, fasten door, lock door, burst balloon, tie shoe, arrange chairs, pile wood, open door\n",
            "\n",
            "Image 7: tear paper, fold paper, rip paper, arrange chairs, roll paper, label bottle, stain paper, peel banana, cut apple, open bottle, shut door, skin knee, bite apple, throw football, pile books, fasten window, twist rope, peel orange, lock door, burst balloon\n",
            "\n",
            "Image 8: peel orange, squeeze orange, roll paper, open box, close bottle, label bottle, carry bag, arrange flowers, bite apple, chop meat, slice potato, stir coffee, trim tree, saw wood, fold paper, tear paper, tie shoe, burst balloon, shut door, pile boxes\n",
            "\n",
            "Image 9: pile boxes, label box, carry bag, arrange chairs, open door, close door, push door, park car, tie shoe, peel banana, boil egg, cook meat, stir soup, roll paper, shut window, lock window, fasten door, open drawer, crack window, bend knee\n",
            "\n",
            "Image 10: arrange flowers, open window, close window, water plants, fasten window, lock window, open door, burst balloon, tie shoe, label bottle, shut door, arrange chairs, pile boxes, clean window, carry bag, roll paper, twist rope, peel orange, stir coffee, close drawer\n"
          ]
        }
      ],
      "source": [
        "print(result_zeroshot_list5[0])"
      ]
    },
    {
      "cell_type": "code",
      "execution_count": 184,
      "id": "FitbVR8VEKHn",
      "metadata": {
        "colab": {
          "base_uri": "https://localhost:8080/"
        },
        "id": "FitbVR8VEKHn",
        "outputId": "fb7d4305-8d5d-434a-b8a1-2d7768e55f0c"
      },
      "outputs": [
        {
          "name": "stdout",
          "output_type": "stream",
          "text": [
            "10\n",
            "10\n",
            "10\n",
            "10\n",
            "10\n"
          ]
        },
        {
          "data": {
            "text/plain": [
              "50"
            ]
          },
          "execution_count": 184,
          "metadata": {},
          "output_type": "execute_result"
        }
      ],
      "source": [
        "# Data Processing of the result\n",
        "final_result = []\n",
        "for item in result_zeroshot_list9:\n",
        "   if \"Image 1:\" in item and \"Image 11:\" in item:\n",
        "    item = re.sub(r\"Image 1:.*?Image 2:\", \"Image 2:\", item, flags=re.DOTALL)\n",
        "    if re.search(r\"Image 11: (?:\\w+ \\w+, )*(?:\\w+ \\w+)\\n\", item):\n",
        "      matches = re.findall(r\"Image \\d+: ([\\w\\s,]+?)(?=\\n)\", item)\n",
        "    else:\n",
        "      matches1 = re.findall(r\"Image \\d+: ([\\w\\s,]+?)(?=\\n)\", item)\n",
        "      matches2 = re.findall(r\"Image 11: ([\\w\\s,]+)\", item)\n",
        "      matches = matches1 + matches2\n",
        "    print(len(matches))\n",
        "   else:\n",
        "    if re.search(r\"Image 10: (?:\\w+ \\w+, )*(?:\\w+ \\w+)\\n\\n\", item):\n",
        "      matches = re.findall(r\"Image \\d+: ([\\w\\s,]+?)(?=\\n)\", item)\n",
        "    else:\n",
        "      matches1 = re.findall(r\"Image \\d+: ([\\w\\s,]+?)(?=\\n)\", item)\n",
        "      if \"Image 10:\" in item:\n",
        "        matches2 = re.findall(r\"Image 10: ([\\w\\s,]+)\", item)\n",
        "      elif \"Image 11:\" in item:\n",
        "        matches2 = re.findall(r\"Image 11: ([\\w\\s,]+)\", item)\n",
        "      else:\n",
        "        matches2 = []\n",
        "      matches = matches1 + matches2\n",
        "    print(len(matches))\n",
        "   matches_flatten = []\n",
        "   for pairs in matches:\n",
        "    temp = pairs.split(', ')\n",
        "    matches_flatten.append(temp)\n",
        "   for data in matches_flatten:\n",
        "    final_result.append(data)\n",
        "len(final_result)"
      ]
    },
    {
      "cell_type": "code",
      "execution_count": 146,
      "id": "LWfmLo3MEMK9",
      "metadata": {
        "colab": {
          "base_uri": "https://localhost:8080/"
        },
        "id": "LWfmLo3MEMK9",
        "outputId": "1655b9ed-fca4-42af-d87d-71d75a45bd45"
      },
      "outputs": [
        {
          "data": {
            "text/plain": [
              "1540"
            ]
          },
          "execution_count": 146,
          "metadata": {},
          "output_type": "execute_result"
        }
      ],
      "source": [
        "all_positive_images = []\n",
        "for i in range(len(positive_images)):\n",
        "    label = verb_noun[i]\n",
        "    for image in positive_images[i]:\n",
        "        all_positive_images.append((label, image))\n",
        "sample_positive_images = []\n",
        "for image, label in zip(images_500, images_500_label):\n",
        "  sample_positive_images.append((label, image))\n",
        "\n",
        "remaining_images = []\n",
        "for item in all_positive_images:\n",
        "  if item not in sample_positive_images:\n",
        "    remaining_images.append(item)\n",
        "len(remaining_images)\n"
      ]
    },
    {
      "cell_type": "code",
      "execution_count": 151,
      "id": "7G3nD4nFbMGv",
      "metadata": {
        "id": "7G3nD4nFbMGv"
      },
      "outputs": [],
      "source": [
        "sampled_images_50 = random.sample(remaining_images, 50)\n",
        "newimages_50_forlist9 = [item[1] for item in sampled_images_50]\n",
        "newanswers_50_forlist9 = [item[0] for item in sampled_images_50]\n",
        "splitted_lists['list_9'] = newimages_50_forlist9"
      ]
    },
    {
      "cell_type": "code",
      "execution_count": 155,
      "id": "gwYAmTJSaIkI",
      "metadata": {
        "id": "gwYAmTJSaIkI"
      },
      "outputs": [],
      "source": [
        "images_500_label_new = images_500_label[0:400] + newanswers_50_forlist9 + images_500_label[-50:]"
      ]
    },
    {
      "cell_type": "code",
      "execution_count": 183,
      "id": "IRbVDzAXWG-1",
      "metadata": {
        "colab": {
          "base_uri": "https://localhost:8080/"
        },
        "id": "IRbVDzAXWG-1",
        "outputId": "38b42e40-cd56-4b78-d966-b3cebbccb6f4"
      },
      "outputs": [
        {
          "name": "stdout",
          "output_type": "stream",
          "text": [
            "{'id': 'chatcmpl-8PycMYerF23pb0IEguVotKQnBygt4', 'object': 'chat.completion', 'created': 1701201906, 'model': 'gpt-4-1106-vision-preview', 'usage': {'prompt_tokens': 5843, 'completion_tokens': 643, 'total_tokens': 6486}, 'choices': [{'message': {'role': 'assistant', 'content': 'Image 1: carry umbrella, open umbrella, carry bag, open door, open window, bend knee, bite apple, peel orange, arrange flowers, arrange chairs, close umbrella, lock door, park car, ride bicycle, tear paper, twist hair, bind hair, wear coat, fasten door, shut window\\nImage 2: squeeze orange, peel orange, tear paper, peel banana, peel apple, peel carrot, slice potato, mash potato, cut potato, grate potato, boil potato, bite apple, carry bag, bend knee, chop wood, chop meat, chop carrot, fry potato, cook onion, open bottle\\nImage 3: break glass, crack glass, smash door, cut wood, cut onion, cut potato, cut apple, break bowl, break cup, break window, crack bottle, crack egg, chop wood, chop onion, chop meat, chop carrot, throw apple, roll paper, throw baseball, arrange flowers\\nImage 4: break glass, smash window, break window, smash door, cut tree, cut wood, rip paper, crack glass, break bowl, break cup, crack window, carry bag, peel orange, peel banana, park car, tear shirt, soak hair, roll paper, stain shirt, trim hair\\nImage 5: spill coffee, stir coffee, throw frisbee, throw apple, pour coffee, peel banana, crack egg, fry egg, boil egg, stir soup, mix eggs, open bottle, break egg, chop wood, chop carrot, cut meat, slice potato, roll umbrella, fry potato, bend knee\\nImage 6: hang shirt, soak shirt, wear shirt, stain shirt, tear shirt, fold paper, break window, carry bag, park car, burst balloon, pile boxes, pile books, pile wood, twist hair, bind hair, arrange flowers, arrange chairs, open drawer, saw wood, close drawer\\nImage 7: lock door, close door, fasten door, shut door, twist rope, bind hair, chop tree, break glass, label bottle, open drawer, park car, tie shoe, wear coat, shut window, bend knee, carry umbrella, hang bag, twist hair, break door, insert key\\nImage 8: slice potato, chop onion, chop meat, grate carrot, boil potato, chop carrot, fry potato, mash potato, peel potato, boil egg, cook meat, break egg, break cup, wear shirt, carry bag, arrange chairs, tie shoe, ride bicycle, park car, break bowl\\nImage 9: open book, close book, label bottle, bind hair, wrap box, carry book, arrange flowers, arrange chairs, fold paper, roll paper, shut window, shut door, park car, tear paper, ride bicycle, break glass, break bowl, carry umbrella, throw baseball, peel orange\\nImage 10: open cabinet, close cabinet, open door, close door, wear shirt, arrange flowers, arrange chairs, break glass, crack bottle, break cup, shut window, park car, clean cabinet, wash floor, mop floor, roll paper, fold paper, carry bag, tear paper, lock cabinet'}, 'finish_details': {'type': 'stop', 'stop': '<|fim_suffix|>'}, 'index': 0}]}\n",
            "{'id': 'chatcmpl-8PycjdqZuiKg98eC5HEh7JzXsIX0H', 'object': 'chat.completion', 'created': 1701201929, 'model': 'gpt-4-1106-vision-preview', 'usage': {'prompt_tokens': 6013, 'completion_tokens': 647, 'total_tokens': 6660}, 'choices': [{'message': {'role': 'assistant', 'content': 'Image 1: bend tree, bend knee, twist rope, break window, burst door, crack glass, chop wood, saw tree, split wood, strip tree, bend tree, bend knee, twist rope, break window, burst door, crack glass, chop wood, saw tree, split wood, strip tree\\n\\nImage 2: peel orange, peel banana, peel carrot, peel potato, peel apple, open box, open bottle, open door, squeeze orange, squeeze bottle, peel orange, peel banana, peel carrot, peel potato, peel apple, open box, open bottle, open door, squeeze orange, squeeze bottle\\n\\nImage 3: grate carrot, chop carrot, cut carrot, slice carrot, arrange flowers, pile wood, throw frisbee, bind hair, ride bicycle, burn wood, grate carrot, chop carrot, cut carrot, slice carrot, arrange flowers, pile wood, throw frisbee, bind hair, ride bicycle, burn wood\\n\\nImage 4: chop onion, cut onion, dice onion, slice onion, cook onion, chop meat, chop wood, chop tree, chop carrot, open drawer, chop onion, cut onion, dice onion, slice onion, cook onion, chop meat, chop wood, chop tree, chop carrot, open drawer\\n\\nImage 5: crack egg, break egg, fry egg, boil egg, cook egg, peel egg, mix eggs, beat eggs, break bowl, break cup, crack egg, break egg, fry egg, boil egg, cook egg, peel egg, mix eggs, beat eggs, break bowl, break cup\\n\\nImage 6: cut apple, slice apple, chop apple, peel apple, arrange flowers, open box, bake potato, roll paper, coil rope, saw wood, cut apple, slice apple, chop apple, peel apple, arrange flowers, open box, bake potato, roll paper, coil rope, saw wood\\n\\nImage 7: lock door, close door, fasten door, lock drawer, lock window, lock cabinet, shut door, close cabinet, carry bag, carry book, lock door, close door, fasten door, lock drawer, lock window, lock cabinet, shut door, close cabinet, carry bag, carry book\\n\\nImage 8: close drawer, open drawer, arrange chairs, pile books, carry bag, label box, wrap box, coil rope, lock drawer, shut window, close drawer, open drawer, arrange chairs, pile books, carry bag, label box, wrap box, coil rope, lock drawer, shut window\\n\\nImage 9: coil rope, twist rope, knot rope, arrange flowers, open box, open bottle, carry bag, chop wood, tie shoe, bind hair, coil rope, twist rope, knot rope, arrange flowers, open box, open bottle, carry bag, chop wood, tie shoe, bind hair\\n\\nImage 10: open window, close window, look outside, fasten window, shut window, clean window, crack window, break window, wrap box, arrange flowers, open window, close window, look outside, fasten window, shut window, clean window, crack window, break window, wrap box, arrange flowers'}, 'finish_details': {'type': 'stop', 'stop': '<|fim_suffix|>'}, 'index': 0}]}\n",
            "{'id': 'chatcmpl-8Pyd5RsqyLHvWU55dZCRhpqEbJt9S', 'object': 'chat.completion', 'created': 1701201951, 'model': 'gpt-4-1106-vision-preview', 'usage': {'prompt_tokens': 4993, 'completion_tokens': 643, 'total_tokens': 5636}, 'choices': [{'message': {'role': 'assistant', 'content': 'Image 1: crack bottle, spill coffee, open bottle, twist rope, pour water, break bowl, break glass, twist hair, roll paper, squeeze bottle, open bottle, crack bottle, peel banana, fasten door, carry bag, shut door, arrange flowers, bend tree, chop wood, fry potato\\nImage 2: cook potato, chop potato, peel potato, sprinkle herbs, mash potato, stir soup, fry potato, boil potato, grate potato, slice potato, arrange chairs, bind hair, squeeze orange, fold paper, open box, break cup, park car, slice meat, bake potato, cut potato\\nImage 3: knot rope, twist rope, fasten door, tie shoe, bind hair, coil rope, open umbrella, arrange flowers, wrap box, label bottle, roll umbrella, peel apple, chop carrot, bend knee, break window, shut window, pitch baseball, twist hair, close drawer, mash potato\\nImage 4: tear paper, rip paper, stain shirt, stain paper, twist rope, roll paper, label box, open drawer, squeeze bottle, wrap book, fold paper, break door, chop meat, arrange chairs, shut door, knot rope, spill coffee, fry egg, close book, twist hair\\nImage 5: bend tree, break tree, twist rope, chop wood, burn wood, split wood, break window, bind hair, saw wood, spill coffee, tear paper, squeeze bottle, fry potato, peel apple, fry meat, crack egg, break glass, open drawer, boil egg, trim tree\\nImage 6: fry potato, bake potato, cook meat, sprinkle herbs, chop onion, peel apple, stir soup, cook onion, fry egg, chop meat, saw wood, shut door, twist rope, park car, bind hair, grate carrot, slice meat, chop potato, break glass, cut potato\\nImage 7: peel apple, cut apple, slice apple, throw apple, chop wood, chop onion, peel banana, boil potato, cook egg, fry potato, label box, mash potato, bend knee, fry meat, splice potato, close window, crack window, rip paper, twist hair, fry meat\\nImage 8: peel banana, slice banana, chop wood, boil egg, fry meat, bend tree, shut window, tie shoe, wrap box, roll paper, cut potato, arrange chairs, throw frisbee, stain shirt, peel apple, break glass, carry umbrella, close drawer, mash potato, cook meat\\nImage 9: chop wood, saw wood, burn wood, split wood, pile wood, saw tree, arrange chairs, break door, pile boxes, bind hair, arrange flowers, squeeze bottle, twist hair, open bottle, label bottle, throw baseball, peel banana, kick door, cook meat, twist rope \\nImage 10: crash car, split tree, chop tree, bend tree, break glass, block door, carry bag, spill coffee, scratch car, saw tree, twist rope, shut window, peel orange, pile wood, wrap book, coil rope, bind hair, break door, slice meat, open window'}, 'finish_details': {'type': 'stop', 'stop': '<|fim_suffix|>'}, 'index': 0}]}\n",
            "{'id': 'chatcmpl-8PydPVwPcDUBJdSg76wD3VnNKSLCF', 'object': 'chat.completion', 'created': 1701201971, 'model': 'gpt-4-1106-vision-preview', 'usage': {'prompt_tokens': 7713, 'completion_tokens': 650, 'total_tokens': 8363}, 'choices': [{'message': {'role': 'assistant', 'content': 'Image 1: burn wood, ignite wood, crack glass, open bottle, label bottle, arrange chairs, arrange flowers, block door, chop tree, chop wood, close door, fasten window, ignite paper, knot rope, pile wood, saw tree, saw wood, throw frisbee, twist rope, wrap box\\nImage 2: chop carrot, grate carrot, peel carrot, arrange chairs, arrange flowers, break egg, cook potato, crack egg, fry potato, grate potato, label box, mash potato, open box, slice carrot, stir soup, tie shoe, pile boxes, cook meat, cut potato, open drawer\\nImage 3: arrange chairs, pile boxes, break glass, block door, close door, hang shirt, label bottle, open bottle, park car, shut door, tie shoe, chop wood, fasten door, lock cabinet, lock door, lock window, open window, throw baseball, twist rope, wrap box\\nImage 4: break glass, smash window, block window, open door, fasten window, close door, close window, crack glass, crack window, open window, throw baseball, close cabinet, lock door, scratch car, shut door, shut window, wrap box, saw wood, tie shoe, label bottle\\nImage 5: label bottle, open bottle, crack bottle, close cabinet, close door, close window, open cabinet, open drawer, twist rope, wrap box, cut wood, fasten door, grate carrot, hang shirt, lock cabinet, pile boxes, roll paper, soak shirt, throw football, trim tree\\nImage 6: arrange chairs, chop wood, pile wood, saw wood, close door, close drawer, cut wood, fasten door, fasten window, label box, open cabinet, open door, open window, pile boxes, shut window, throw baseball, twist rope, wrap book, break bowl, cook meat\\nImage 7: open cabinet, close cabinet, lock cabinet, open drawer, close drawer, lock drawer, arrange chairs, arrange flowers, label box, open door, pile boxes, pile wood, roll paper, tie shoe, wrap box, label bottle, break glass, chop wood, open window, shut door\\nImage 8: knot rope, tie shoe, twist rope, block door, close door, close window, fasten window, open window, pile wood, shut window, throw baseball, block window, wrap box, burst balloon, chop wood, hang shirt, pile boxes, roll paper, saw tree, trim hair\\nImage 9: pile wood, arrange chairs, chop wood, saw wood, close door, close window, label box, lock door, open cabinet, pile boxes, shut door, shut window, throw baseball, twist rope, wrap book, bind hair, burst door, hang bag, open window, ride bicycle\\nImage 10: slice onion, chop onion, peel onion, arrange chairs, close drawer, open drawer, lock drawer, break egg, cook meat, cut potato, fold paper, fry potato, label bottle, open bottle, saw wood, throw frisbee, wrap box, burst balloon, pile books, slice potato'}, 'finish_details': {'type': 'stop', 'stop': '<|fim_suffix|>'}, 'index': 0}]}\n",
            "{'id': 'chatcmpl-8Pydozwfw8oSO7Gw3VT3DLPMi1Zqh', 'object': 'chat.completion', 'created': 1701201996, 'model': 'gpt-4-1106-vision-preview', 'usage': {'prompt_tokens': 6013, 'completion_tokens': 708, 'total_tokens': 6721}, 'choices': [{'message': {'role': 'assistant', 'content': 'Image 1: bind hair, twist hair, arrange flowers, carry bag, break glass, coil rope, cut wood, pile wood, saw wood, chop wood, bind hair, twist hair, arrange flowers, carry bag, break glass, coil rope, cut wood, pile wood, saw wood, chop wood\\n\\nImage 2: knot rope, twist rope, coil rope, tie shoe, bind hair, twist hair, open bottle, open box, pitch baseball, throw frisbee, knot rope, twist rope, coil rope, tie shoe, bind hair, twist hair, open bottle, open box, pitch baseball, throw frisbee\\n\\nImage 3: saw tree, chop wood, chop tree, cut tree, split wood, split tree, pile wood, pile books, carry bag, carry book, saw tree, chop wood, chop tree, cut tree, split wood, split tree, pile wood, pile books, carry bag, carry book\\n\\nImage 4: pile books, open book, close book, wrap book, label box, carry book, throw frisbee, throw apple, throw football, throw baseball, pile books, open book, close book, wrap book, label box, carry book, throw frisbee, throw apple, throw football, throw baseball\\n\\nImage 5: pitch baseball, throw baseball, toss frisbee, carry umbrella, open umbrella, roll umbrella, throw football, throw apple, bind hair, ride bicycle, pitch baseball, throw baseball, toss frisbee, carry umbrella, open umbrella, roll umbrella, throw football, throw apple, bind hair, ride bicycle\\n\\nImage 6: break glass, crack glass, crack window, break window, throw baseball, throw frisbee, lock drawer, lock door, lock cabinet, break cup, break glass, crack glass, crack window, break window, throw baseball, throw frisbee, lock drawer, lock door, lock cabinet, break cup\\n\\nImage 7: fry potato, boil potato, fry meat, cook meat, fry egg, boil egg, chop meat, chop onion, chop carrot, grate carrot, fry potato, boil potato, fry meat, cook meat, fry egg, boil egg, chop meat, chop onion, chop carrot, grate carrot\\n\\nImage 8: boil egg, cook egg, crack egg, break egg, mash potato, peel egg, slice egg, cut egg, label bottle, open bottle, boil egg, cook egg, crack egg, break egg, mash potato, peel egg, slice egg, cut egg, label bottle, open bottle\\n\\nImage 9: spill coffee, stain shirt, stain paper, open box, open bottle, carry bag, carry umbrella, throw baseball, throw football, wrap box, spill coffee, stain shirt, stain paper, open box, open bottle, carry bag, carry umbrella, throw baseball, throw football, wrap box\\n\\nImage 10: wrap box, wrap book, open box, arrange flowers, tie shoe, pitch baseball, label box, peel banana, peel orange, pile boxes, wrap box, wrap book, open box, arrange flowers, tie shoe, pitch baseball, label box, peel banana, peel orange, pile boxes\\n\\n(Note: The verb-noun pairs were selected based on image descriptions and not on actual actions depicted since they are static images and do not show physical actions. The pairs have been chosen based on the provided list and are repeated to fulfill the 20 pairs condition.)'}, 'finish_details': {'type': 'stop', 'stop': '<|fim_suffix|>'}, 'index': 0}]}\n"
          ]
        }
      ],
      "source": [
        "result_zeroshot_list9 = run_model_zero_shot(splitted_lists['list_9'])"
      ]
    },
    {
      "cell_type": "code",
      "execution_count": 185,
      "id": "DsbEYD7AgA0c",
      "metadata": {
        "id": "DsbEYD7AgA0c"
      },
      "outputs": [],
      "source": [
        "with open('result_zeroshot_list9.json', 'w') as file:\n",
        "    json.dump(result_zeroshot_list9, file)"
      ]
    },
    {
      "cell_type": "code",
      "execution_count": 188,
      "id": "Tk-FSFPZgwLX",
      "metadata": {
        "colab": {
          "base_uri": "https://localhost:8080/"
        },
        "id": "Tk-FSFPZgwLX",
        "outputId": "e06ce2cd-0c7c-4704-974f-7edb7635be49"
      },
      "outputs": [
        {
          "data": {
            "text/plain": [
              "500"
            ]
          },
          "execution_count": 188,
          "metadata": {},
          "output_type": "execute_result"
        }
      ],
      "source": [
        "### Get the result from zero shot\n",
        "result_zeroshot_list = result_zeroshot_list1 + result_zeroshot_list2 + result_zeroshot_list3 + result_zeroshot_list4 + result_zeroshot_list5 + \\\n",
        "             result_zeroshot_list6 + result_zeroshot_list7 + result_zeroshot_list8 + result_zeroshot_list9 + result_zeroshot_list10\n",
        "# Data Processing of the result\n",
        "final_result_zeroshot = []\n",
        "for item in result_zeroshot_list:\n",
        "   if \"Image 1:\" in item and \"Image 11:\" in item:\n",
        "    item = re.sub(r\"Image 1:.*?Image 2:\", \"Image 2:\", item, flags=re.DOTALL)\n",
        "    if re.search(r\"Image 11: (?:\\w+ \\w+, )*(?:\\w+ \\w+)\\n\", item):\n",
        "      matches = re.findall(r\"Image \\d+: ([\\w\\s,]+?)(?=\\n)\", item)\n",
        "    else:\n",
        "      matches1 = re.findall(r\"Image \\d+: ([\\w\\s,]+?)(?=\\n)\", item)\n",
        "      matches2 = re.findall(r\"Image 11: ([\\w\\s,]+)\", item)\n",
        "      matches = matches1 + matches2\n",
        "   else:\n",
        "    if re.search(r\"Image 10: (?:\\w+ \\w+, )*(?:\\w+ \\w+)\\n\\n\", item):\n",
        "      matches = re.findall(r\"Image \\d+: ([\\w\\s,]+?)(?=\\n)\", item)\n",
        "    else:\n",
        "      matches1 = re.findall(r\"Image \\d+: ([\\w\\s,]+?)(?=\\n)\", item)\n",
        "      if \"Image 10:\" in item:\n",
        "        matches2 = re.findall(r\"Image 10: ([\\w\\s,]+)\", item)\n",
        "      elif \"Image 11:\" in item:\n",
        "        matches2 = re.findall(r\"Image 11: ([\\w\\s,]+)\", item)\n",
        "      else:\n",
        "        matches2 = []\n",
        "      matches = matches1 + matches2\n",
        "   matches_flatten = []\n",
        "   for pairs in matches:\n",
        "    temp = pairs.split(', ')\n",
        "    matches_flatten.append(temp)\n",
        "   for data in matches_flatten:\n",
        "    final_result_zeroshot.append(data)\n",
        "len(final_result_zeroshot)"
      ]
    },
    {
      "cell_type": "code",
      "execution_count": 230,
      "id": "tLOzPilGjBpi",
      "metadata": {
        "colab": {
          "base_uri": "https://localhost:8080/"
        },
        "id": "tLOzPilGjBpi",
        "outputId": "2a6c8e9e-5ec6-4808-8128-a7e96fee7f37"
      },
      "outputs": [
        {
          "name": "stdout",
          "output_type": "stream",
          "text": [
            "Accuracy: 87.000%\n"
          ]
        }
      ],
      "source": [
        "# Accuracy Top 20\n",
        "correct_count = 0\n",
        "for index, answer in enumerate(images_500_label_new):\n",
        "    if answer in final_result_zeroshot[index]:\n",
        "        correct_count += 1\n",
        "accuracy = correct_count / len(images_500_label_new)\n",
        "print(f'Accuracy: {accuracy * 100:.3f}%')"
      ]
    },
    {
      "cell_type": "code",
      "execution_count": 231,
      "id": "Dgy63qi8jJn6",
      "metadata": {
        "colab": {
          "base_uri": "https://localhost:8080/"
        },
        "id": "Dgy63qi8jJn6",
        "outputId": "32c5f4f5-5636-47c2-d45a-ca38d6f5360f"
      },
      "outputs": [
        {
          "name": "stdout",
          "output_type": "stream",
          "text": [
            "Accuracy: 79.600%\n"
          ]
        }
      ],
      "source": [
        "# Accuracy Top 5\n",
        "final_result_top5_zeroshot = [sublist[:5] for sublist in final_result_zeroshot]\n",
        "correct_count = 0\n",
        "for index, answer in enumerate(images_500_label_new):\n",
        "    if answer in final_result_top5_zeroshot[index]:\n",
        "        correct_count += 1\n",
        "accuracy = correct_count / len(images_500_label_new)\n",
        "print(f'Accuracy: {accuracy * 100:.3f}%')"
      ]
    },
    {
      "cell_type": "code",
      "execution_count": 232,
      "id": "gqwPZeYcjN5z",
      "metadata": {
        "colab": {
          "base_uri": "https://localhost:8080/"
        },
        "id": "gqwPZeYcjN5z",
        "outputId": "9a24c7a7-fcec-442d-dbda-2dc29f705c35"
      },
      "outputs": [
        {
          "name": "stdout",
          "output_type": "stream",
          "text": [
            "Accuracy: 53.800%\n"
          ]
        }
      ],
      "source": [
        "# Accuracy Top 1\n",
        "final_result_top1_zeroshot = [sublist[:1] for sublist in final_result_zeroshot]\n",
        "correct_count = 0\n",
        "for index, answer in enumerate(images_500_label_new):\n",
        "    if answer in final_result_top1_zeroshot[index]:\n",
        "        correct_count += 1\n",
        "accuracy = correct_count / len(images_500_label_new)\n",
        "print(f'Accuracy: {accuracy * 100:.3f}%')"
      ]
    },
    {
      "cell_type": "code",
      "execution_count": 195,
      "id": "zXhiFPDhjmWh",
      "metadata": {
        "id": "zXhiFPDhjmWh"
      },
      "outputs": [],
      "source": [
        "import json\n",
        "filepath = '/content/result_list1.json'\n",
        "with open(filepath, 'r') as file:\n",
        "    result_list1 = json.load(file)\n",
        "filepath = '/content/result_list2.json'\n",
        "with open(filepath, 'r') as file:\n",
        "    result_list2 = json.load(file)\n",
        "filepath = '/content/result_list3.json'\n",
        "with open(filepath, 'r') as file:\n",
        "    result_list3 = json.load(file)\n",
        "filepath = '/content/result_list4.json'\n",
        "with open(filepath, 'r') as file:\n",
        "    result_list4 = json.load(file)\n",
        "\n",
        "filepath = '/content/result_list5.json'\n",
        "with open(filepath, 'r') as file:\n",
        "    result_list5 = json.load(file)\n",
        "filepath = '/content/result_list6.json'\n",
        "with open(filepath, 'r') as file:\n",
        "    result_list6 = json.load(file)\n",
        "filepath = '/content/result_list7.json'\n",
        "with open(filepath, 'r') as file:\n",
        "    result_list7 = json.load(file)\n",
        "filepath = '/content/result_list8.json'\n",
        "with open(filepath, 'r') as file:\n",
        "    result_list8 = json.load(file)\n",
        "\n",
        "filepath = '/content/result_list9.json'\n",
        "with open(filepath, 'r') as file:\n",
        "    result_list9 = json.load(file)\n",
        "filepath = '/content/result_list10.json'\n",
        "with open(filepath, 'r') as file:\n",
        "    result_list10 = json.load(file)"
      ]
    },
    {
      "cell_type": "code",
      "execution_count": 202,
      "id": "eW7cZSqTq10Z",
      "metadata": {
        "colab": {
          "base_uri": "https://localhost:8080/"
        },
        "id": "eW7cZSqTq10Z",
        "outputId": "c1d1522f-de74-4d67-c1e7-1a88ab3093d9"
      },
      "outputs": [
        {
          "name": "stdout",
          "output_type": "stream",
          "text": [
            "10\n",
            "10\n",
            "10\n",
            "10\n",
            "10\n"
          ]
        },
        {
          "data": {
            "text/plain": [
              "50"
            ]
          },
          "execution_count": 202,
          "metadata": {},
          "output_type": "execute_result"
        }
      ],
      "source": [
        "import re\n",
        "\n",
        "\n",
        "final_result = []\n",
        "\n",
        "for item in result_list5:\n",
        "    matches = []\n",
        "    # Check for Image 1 to Image 10\n",
        "    if \"Image 1:\" in item:\n",
        "        matches += re.findall(r\"Image [1-9]: ([\\w\\s,]+?)(?=\\n|$)\", item)\n",
        "        if \"Image 10:\" in item:\n",
        "            matches += re.findall(r\"Image 10: ([\\w\\s,]+?)(?=\\n|$)\", item)\n",
        "    # If Image 1 is not present, check for Image 2 to Image 11\n",
        "    else:\n",
        "        matches += re.findall(r\"Image [2-9]: ([\\w\\s,]+?)(?=\\n|$)\", item)\n",
        "        if \"Image 10:\" in item:\n",
        "            matches += re.findall(r\"Image 10: ([\\w\\s,]+?)(?=\\n|$)\", item)\n",
        "        if \"Image 11:\" in item:\n",
        "            matches += re.findall(r\"Image 11: ([\\w\\s,]+)(?=\\n|$)\", item)\n",
        "\n",
        "    # Print the number of matches found\n",
        "    print(len(matches))\n",
        "    #print(matches)\n",
        "    # Flatten the list of matches\n",
        "    matches_flatten = [pairs.split(', ') for pairs in matches]\n",
        "\n",
        "    # Extend the final result with the flattened matches\n",
        "    final_result.extend(matches)\n",
        "\n",
        "group_size = 10\n",
        "\n",
        "# Initialize an empty list to store the groups\n",
        "groups = []\n",
        "\n",
        "# Create 5 groups each containing 10 lists\n",
        "for i in range(0, len(final_result), group_size):\n",
        "    group = final_result[i:i + group_size]\n",
        "    groups.append(group)\n",
        "\n",
        "# Apply the condition to each group\n",
        "for group in groups:\n",
        "    first_list = group[0]\n",
        "    first_prediction = first_list.split(', ')[0]  # Split the string and get the first prediction\n",
        "    if first_prediction in [\"pitch baseball\", \"throw baseball\"]:\n",
        "        # Remove the first list and replicate the last list in the group\n",
        "        group.pop(0)\n",
        "        group.append(group[-1])\n",
        "\n",
        "# Check the groups after modification\n",
        "modified_result = [item for group in groups for item in group]\n",
        "len(modified_result)"
      ]
    },
    {
      "cell_type": "code",
      "execution_count": null,
      "id": "dEiqtsOwq8TZ",
      "metadata": {
        "id": "dEiqtsOwq8TZ"
      },
      "outputs": [],
      "source": []
    }
  ],
  "metadata": {
    "colab": {
      "provenance": []
    },
    "kernelspec": {
      "display_name": "Python 3 (ipykernel)",
      "language": "python",
      "name": "python3"
    },
    "language_info": {
      "codemirror_mode": {
        "name": "ipython",
        "version": 3
      },
      "file_extension": ".py",
      "mimetype": "text/x-python",
      "name": "python",
      "nbconvert_exporter": "python",
      "pygments_lexer": "ipython3",
      "version": "3.11.5"
    },
    "widgets": {
      "application/vnd.jupyter.widget-state+json": {
        "0428e43e07d74a268600ea4e4df8f0f2": {
          "model_module": "@jupyter-widgets/controls",
          "model_module_version": "1.5.0",
          "model_name": "HTMLModel",
          "state": {
            "_dom_classes": [],
            "_model_module": "@jupyter-widgets/controls",
            "_model_module_version": "1.5.0",
            "_model_name": "HTMLModel",
            "_view_count": null,
            "_view_module": "@jupyter-widgets/controls",
            "_view_module_version": "1.5.0",
            "_view_name": "HTMLView",
            "description": "",
            "description_tooltip": null,
            "layout": "IPY_MODEL_6841782b128248329d80d94cc8bee015",
            "placeholder": "​",
            "style": "IPY_MODEL_9b8c8e8c65fb44489bf170648c4a8e06",
            "value": "Downloading data: 100%"
          }
        },
        "15860851ce7847d98adf640e65b820dc": {
          "model_module": "@jupyter-widgets/controls",
          "model_module_version": "1.5.0",
          "model_name": "HTMLModel",
          "state": {
            "_dom_classes": [],
            "_model_module": "@jupyter-widgets/controls",
            "_model_module_version": "1.5.0",
            "_model_name": "HTMLModel",
            "_view_count": null,
            "_view_module": "@jupyter-widgets/controls",
            "_view_module_version": "1.5.0",
            "_view_name": "HTMLView",
            "description": "",
            "description_tooltip": null,
            "layout": "IPY_MODEL_e1f66f7c0c9144a4bb9ff038525a23e7",
            "placeholder": "​",
            "style": "IPY_MODEL_51537ea7dc4148459b48e50666fc21b2",
            "value": "Generating ActionEffect split: "
          }
        },
        "177ed3a0ff5948bf830acf5e17e9666e": {
          "model_module": "@jupyter-widgets/controls",
          "model_module_version": "1.5.0",
          "model_name": "FloatProgressModel",
          "state": {
            "_dom_classes": [],
            "_model_module": "@jupyter-widgets/controls",
            "_model_module_version": "1.5.0",
            "_model_name": "FloatProgressModel",
            "_view_count": null,
            "_view_module": "@jupyter-widgets/controls",
            "_view_module_version": "1.5.0",
            "_view_name": "ProgressView",
            "bar_style": "success",
            "description": "",
            "description_tooltip": null,
            "layout": "IPY_MODEL_ce11fa0785bb4781a0945e668bdb1537",
            "max": 407655986,
            "min": 0,
            "orientation": "horizontal",
            "style": "IPY_MODEL_3bfcf9cb39d44f55bcd44b1ff8bbe070",
            "value": 407655986
          }
        },
        "19a225b7d2ad4898afd7376df44d4849": {
          "model_module": "@jupyter-widgets/base",
          "model_module_version": "1.2.0",
          "model_name": "LayoutModel",
          "state": {
            "_model_module": "@jupyter-widgets/base",
            "_model_module_version": "1.2.0",
            "_model_name": "LayoutModel",
            "_view_count": null,
            "_view_module": "@jupyter-widgets/base",
            "_view_module_version": "1.2.0",
            "_view_name": "LayoutView",
            "align_content": null,
            "align_items": null,
            "align_self": null,
            "border": null,
            "bottom": null,
            "display": null,
            "flex": null,
            "flex_flow": null,
            "grid_area": null,
            "grid_auto_columns": null,
            "grid_auto_flow": null,
            "grid_auto_rows": null,
            "grid_column": null,
            "grid_gap": null,
            "grid_row": null,
            "grid_template_areas": null,
            "grid_template_columns": null,
            "grid_template_rows": null,
            "height": null,
            "justify_content": null,
            "justify_items": null,
            "left": null,
            "margin": null,
            "max_height": null,
            "max_width": null,
            "min_height": null,
            "min_width": null,
            "object_fit": null,
            "object_position": null,
            "order": null,
            "overflow": null,
            "overflow_x": null,
            "overflow_y": null,
            "padding": null,
            "right": null,
            "top": null,
            "visibility": null,
            "width": null
          }
        },
        "19a501d0a3d34b9e97b5dde0c9a02bb1": {
          "model_module": "@jupyter-widgets/base",
          "model_module_version": "1.2.0",
          "model_name": "LayoutModel",
          "state": {
            "_model_module": "@jupyter-widgets/base",
            "_model_module_version": "1.2.0",
            "_model_name": "LayoutModel",
            "_view_count": null,
            "_view_module": "@jupyter-widgets/base",
            "_view_module_version": "1.2.0",
            "_view_name": "LayoutView",
            "align_content": null,
            "align_items": null,
            "align_self": null,
            "border": null,
            "bottom": null,
            "display": null,
            "flex": null,
            "flex_flow": null,
            "grid_area": null,
            "grid_auto_columns": null,
            "grid_auto_flow": null,
            "grid_auto_rows": null,
            "grid_column": null,
            "grid_gap": null,
            "grid_row": null,
            "grid_template_areas": null,
            "grid_template_columns": null,
            "grid_template_rows": null,
            "height": null,
            "justify_content": null,
            "justify_items": null,
            "left": null,
            "margin": null,
            "max_height": null,
            "max_width": null,
            "min_height": null,
            "min_width": null,
            "object_fit": null,
            "object_position": null,
            "order": null,
            "overflow": null,
            "overflow_x": null,
            "overflow_y": null,
            "padding": null,
            "right": null,
            "top": null,
            "visibility": null,
            "width": null
          }
        },
        "1d174a44678542b89a38d9ed7d97618e": {
          "model_module": "@jupyter-widgets/controls",
          "model_module_version": "1.5.0",
          "model_name": "DescriptionStyleModel",
          "state": {
            "_model_module": "@jupyter-widgets/controls",
            "_model_module_version": "1.5.0",
            "_model_name": "DescriptionStyleModel",
            "_view_count": null,
            "_view_module": "@jupyter-widgets/base",
            "_view_module_version": "1.2.0",
            "_view_name": "StyleView",
            "description_width": ""
          }
        },
        "1d24a63a187149a5a01d23b188595acd": {
          "model_module": "@jupyter-widgets/controls",
          "model_module_version": "1.5.0",
          "model_name": "HTMLModel",
          "state": {
            "_dom_classes": [],
            "_model_module": "@jupyter-widgets/controls",
            "_model_module_version": "1.5.0",
            "_model_name": "HTMLModel",
            "_view_count": null,
            "_view_module": "@jupyter-widgets/controls",
            "_view_module_version": "1.5.0",
            "_view_name": "HTMLView",
            "description": "",
            "description_tooltip": null,
            "layout": "IPY_MODEL_66d73cf247f942739c63e9390eef9d92",
            "placeholder": "​",
            "style": "IPY_MODEL_7806b322401c4e7daeb04b98e1dfb3f4",
            "value": "Extracting data files: 100%"
          }
        },
        "21ef62f5f31c4af883d7b4a871feef37": {
          "model_module": "@jupyter-widgets/controls",
          "model_module_version": "1.5.0",
          "model_name": "DescriptionStyleModel",
          "state": {
            "_model_module": "@jupyter-widgets/controls",
            "_model_module_version": "1.5.0",
            "_model_name": "DescriptionStyleModel",
            "_view_count": null,
            "_view_module": "@jupyter-widgets/base",
            "_view_module_version": "1.2.0",
            "_view_name": "StyleView",
            "description_width": ""
          }
        },
        "22372841611744b6bf7b51e1ad4dbd15": {
          "model_module": "@jupyter-widgets/controls",
          "model_module_version": "1.5.0",
          "model_name": "HBoxModel",
          "state": {
            "_dom_classes": [],
            "_model_module": "@jupyter-widgets/controls",
            "_model_module_version": "1.5.0",
            "_model_name": "HBoxModel",
            "_view_count": null,
            "_view_module": "@jupyter-widgets/controls",
            "_view_module_version": "1.5.0",
            "_view_name": "HBoxView",
            "box_style": "",
            "children": [
              "IPY_MODEL_15860851ce7847d98adf640e65b820dc",
              "IPY_MODEL_89fe71de107f4e4f96eabbfbf949592a",
              "IPY_MODEL_7c46f21ced9343229052087b822ef5ea"
            ],
            "layout": "IPY_MODEL_62ab00a815d64430bf6b979bd812006a"
          }
        },
        "2491bab3bb3649d28ba7589033399aa4": {
          "model_module": "@jupyter-widgets/controls",
          "model_module_version": "1.5.0",
          "model_name": "HTMLModel",
          "state": {
            "_dom_classes": [],
            "_model_module": "@jupyter-widgets/controls",
            "_model_module_version": "1.5.0",
            "_model_name": "HTMLModel",
            "_view_count": null,
            "_view_module": "@jupyter-widgets/controls",
            "_view_module_version": "1.5.0",
            "_view_name": "HTMLView",
            "description": "",
            "description_tooltip": null,
            "layout": "IPY_MODEL_948804d880f54e3bbb8b8eacbf1088a2",
            "placeholder": "​",
            "style": "IPY_MODEL_a8d94e433ab24c6588bbbe58caa7c942",
            "value": " 5.78k/5.78k [00:00&lt;00:00, 180kB/s]"
          }
        },
        "25294fb9ae08468582cc416a404f5b1f": {
          "model_module": "@jupyter-widgets/base",
          "model_module_version": "1.2.0",
          "model_name": "LayoutModel",
          "state": {
            "_model_module": "@jupyter-widgets/base",
            "_model_module_version": "1.2.0",
            "_model_name": "LayoutModel",
            "_view_count": null,
            "_view_module": "@jupyter-widgets/base",
            "_view_module_version": "1.2.0",
            "_view_name": "LayoutView",
            "align_content": null,
            "align_items": null,
            "align_self": null,
            "border": null,
            "bottom": null,
            "display": null,
            "flex": null,
            "flex_flow": null,
            "grid_area": null,
            "grid_auto_columns": null,
            "grid_auto_flow": null,
            "grid_auto_rows": null,
            "grid_column": null,
            "grid_gap": null,
            "grid_row": null,
            "grid_template_areas": null,
            "grid_template_columns": null,
            "grid_template_rows": null,
            "height": null,
            "justify_content": null,
            "justify_items": null,
            "left": null,
            "margin": null,
            "max_height": null,
            "max_width": null,
            "min_height": null,
            "min_width": null,
            "object_fit": null,
            "object_position": null,
            "order": null,
            "overflow": null,
            "overflow_x": null,
            "overflow_y": null,
            "padding": null,
            "right": null,
            "top": null,
            "visibility": null,
            "width": null
          }
        },
        "29bf5075bcfb4b809b6cda7a5c360289": {
          "model_module": "@jupyter-widgets/controls",
          "model_module_version": "1.5.0",
          "model_name": "ProgressStyleModel",
          "state": {
            "_model_module": "@jupyter-widgets/controls",
            "_model_module_version": "1.5.0",
            "_model_name": "ProgressStyleModel",
            "_view_count": null,
            "_view_module": "@jupyter-widgets/base",
            "_view_module_version": "1.2.0",
            "_view_name": "StyleView",
            "bar_color": null,
            "description_width": ""
          }
        },
        "29c0c0217f134e18942f3b77314dd835": {
          "model_module": "@jupyter-widgets/controls",
          "model_module_version": "1.5.0",
          "model_name": "FloatProgressModel",
          "state": {
            "_dom_classes": [],
            "_model_module": "@jupyter-widgets/controls",
            "_model_module_version": "1.5.0",
            "_model_name": "FloatProgressModel",
            "_view_count": null,
            "_view_module": "@jupyter-widgets/controls",
            "_view_module_version": "1.5.0",
            "_view_name": "ProgressView",
            "bar_style": "success",
            "description": "",
            "description_tooltip": null,
            "layout": "IPY_MODEL_464b113fdbc4443d839b883c3157a781",
            "max": 5783,
            "min": 0,
            "orientation": "horizontal",
            "style": "IPY_MODEL_783949ab623e4b498e899a66e8d13665",
            "value": 5783
          }
        },
        "2ff9f3ebfb924c43ac188ec7ccbd3707": {
          "model_module": "@jupyter-widgets/base",
          "model_module_version": "1.2.0",
          "model_name": "LayoutModel",
          "state": {
            "_model_module": "@jupyter-widgets/base",
            "_model_module_version": "1.2.0",
            "_model_name": "LayoutModel",
            "_view_count": null,
            "_view_module": "@jupyter-widgets/base",
            "_view_module_version": "1.2.0",
            "_view_name": "LayoutView",
            "align_content": null,
            "align_items": null,
            "align_self": null,
            "border": null,
            "bottom": null,
            "display": null,
            "flex": null,
            "flex_flow": null,
            "grid_area": null,
            "grid_auto_columns": null,
            "grid_auto_flow": null,
            "grid_auto_rows": null,
            "grid_column": null,
            "grid_gap": null,
            "grid_row": null,
            "grid_template_areas": null,
            "grid_template_columns": null,
            "grid_template_rows": null,
            "height": null,
            "justify_content": null,
            "justify_items": null,
            "left": null,
            "margin": null,
            "max_height": null,
            "max_width": null,
            "min_height": null,
            "min_width": null,
            "object_fit": null,
            "object_position": null,
            "order": null,
            "overflow": null,
            "overflow_x": null,
            "overflow_y": null,
            "padding": null,
            "right": null,
            "top": null,
            "visibility": null,
            "width": null
          }
        },
        "314acc9431c041e8bf413b046f0423f0": {
          "model_module": "@jupyter-widgets/controls",
          "model_module_version": "1.5.0",
          "model_name": "HBoxModel",
          "state": {
            "_dom_classes": [],
            "_model_module": "@jupyter-widgets/controls",
            "_model_module_version": "1.5.0",
            "_model_name": "HBoxModel",
            "_view_count": null,
            "_view_module": "@jupyter-widgets/controls",
            "_view_module_version": "1.5.0",
            "_view_name": "HBoxView",
            "box_style": "",
            "children": [
              "IPY_MODEL_c80f615b0c694d798283cb569730b3c4",
              "IPY_MODEL_b6cd3f58b2304a279625b14f964298af",
              "IPY_MODEL_ffee1d9bd2ea4363a911bf78176446f5"
            ],
            "layout": "IPY_MODEL_19a225b7d2ad4898afd7376df44d4849"
          }
        },
        "379e6b6a8b594341a3085d54f5ca0764": {
          "model_module": "@jupyter-widgets/controls",
          "model_module_version": "1.5.0",
          "model_name": "HTMLModel",
          "state": {
            "_dom_classes": [],
            "_model_module": "@jupyter-widgets/controls",
            "_model_module_version": "1.5.0",
            "_model_name": "HTMLModel",
            "_view_count": null,
            "_view_module": "@jupyter-widgets/controls",
            "_view_module_version": "1.5.0",
            "_view_name": "HTMLView",
            "description": "",
            "description_tooltip": null,
            "layout": "IPY_MODEL_92c9d714adfd4f78abacc7c31287e88b",
            "placeholder": "​",
            "style": "IPY_MODEL_bad5d1d9cd6945e7bd89615ca956b79e",
            "value": "Downloading data: 100%"
          }
        },
        "3bfcf9cb39d44f55bcd44b1ff8bbe070": {
          "model_module": "@jupyter-widgets/controls",
          "model_module_version": "1.5.0",
          "model_name": "ProgressStyleModel",
          "state": {
            "_model_module": "@jupyter-widgets/controls",
            "_model_module_version": "1.5.0",
            "_model_name": "ProgressStyleModel",
            "_view_count": null,
            "_view_module": "@jupyter-widgets/base",
            "_view_module_version": "1.2.0",
            "_view_name": "StyleView",
            "bar_color": null,
            "description_width": ""
          }
        },
        "3da0cc54ca8848b68c198fbaa360049e": {
          "model_module": "@jupyter-widgets/controls",
          "model_module_version": "1.5.0",
          "model_name": "HBoxModel",
          "state": {
            "_dom_classes": [],
            "_model_module": "@jupyter-widgets/controls",
            "_model_module_version": "1.5.0",
            "_model_name": "HBoxModel",
            "_view_count": null,
            "_view_module": "@jupyter-widgets/controls",
            "_view_module_version": "1.5.0",
            "_view_name": "HBoxView",
            "box_style": "",
            "children": [
              "IPY_MODEL_0428e43e07d74a268600ea4e4df8f0f2",
              "IPY_MODEL_f0579c6b030b40c98b9180b2e7f389ea",
              "IPY_MODEL_56b0da9b177e4aef86a25a4f4179b92e"
            ],
            "layout": "IPY_MODEL_2ff9f3ebfb924c43ac188ec7ccbd3707"
          }
        },
        "41931b1f345345479607ddfe5da4797e": {
          "model_module": "@jupyter-widgets/base",
          "model_module_version": "1.2.0",
          "model_name": "LayoutModel",
          "state": {
            "_model_module": "@jupyter-widgets/base",
            "_model_module_version": "1.2.0",
            "_model_name": "LayoutModel",
            "_view_count": null,
            "_view_module": "@jupyter-widgets/base",
            "_view_module_version": "1.2.0",
            "_view_name": "LayoutView",
            "align_content": null,
            "align_items": null,
            "align_self": null,
            "border": null,
            "bottom": null,
            "display": null,
            "flex": null,
            "flex_flow": null,
            "grid_area": null,
            "grid_auto_columns": null,
            "grid_auto_flow": null,
            "grid_auto_rows": null,
            "grid_column": null,
            "grid_gap": null,
            "grid_row": null,
            "grid_template_areas": null,
            "grid_template_columns": null,
            "grid_template_rows": null,
            "height": null,
            "justify_content": null,
            "justify_items": null,
            "left": null,
            "margin": null,
            "max_height": null,
            "max_width": null,
            "min_height": null,
            "min_width": null,
            "object_fit": null,
            "object_position": null,
            "order": null,
            "overflow": null,
            "overflow_x": null,
            "overflow_y": null,
            "padding": null,
            "right": null,
            "top": null,
            "visibility": null,
            "width": null
          }
        },
        "43bfd616c2ae4d15a05a39931725f406": {
          "model_module": "@jupyter-widgets/controls",
          "model_module_version": "1.5.0",
          "model_name": "DescriptionStyleModel",
          "state": {
            "_model_module": "@jupyter-widgets/controls",
            "_model_module_version": "1.5.0",
            "_model_name": "DescriptionStyleModel",
            "_view_count": null,
            "_view_module": "@jupyter-widgets/base",
            "_view_module_version": "1.2.0",
            "_view_name": "StyleView",
            "description_width": ""
          }
        },
        "464b113fdbc4443d839b883c3157a781": {
          "model_module": "@jupyter-widgets/base",
          "model_module_version": "1.2.0",
          "model_name": "LayoutModel",
          "state": {
            "_model_module": "@jupyter-widgets/base",
            "_model_module_version": "1.2.0",
            "_model_name": "LayoutModel",
            "_view_count": null,
            "_view_module": "@jupyter-widgets/base",
            "_view_module_version": "1.2.0",
            "_view_name": "LayoutView",
            "align_content": null,
            "align_items": null,
            "align_self": null,
            "border": null,
            "bottom": null,
            "display": null,
            "flex": null,
            "flex_flow": null,
            "grid_area": null,
            "grid_auto_columns": null,
            "grid_auto_flow": null,
            "grid_auto_rows": null,
            "grid_column": null,
            "grid_gap": null,
            "grid_row": null,
            "grid_template_areas": null,
            "grid_template_columns": null,
            "grid_template_rows": null,
            "height": null,
            "justify_content": null,
            "justify_items": null,
            "left": null,
            "margin": null,
            "max_height": null,
            "max_width": null,
            "min_height": null,
            "min_width": null,
            "object_fit": null,
            "object_position": null,
            "order": null,
            "overflow": null,
            "overflow_x": null,
            "overflow_y": null,
            "padding": null,
            "right": null,
            "top": null,
            "visibility": null,
            "width": null
          }
        },
        "46ed15ee79e142f78777e26a37201ca4": {
          "model_module": "@jupyter-widgets/controls",
          "model_module_version": "1.5.0",
          "model_name": "FloatProgressModel",
          "state": {
            "_dom_classes": [],
            "_model_module": "@jupyter-widgets/controls",
            "_model_module_version": "1.5.0",
            "_model_name": "FloatProgressModel",
            "_view_count": null,
            "_view_module": "@jupyter-widgets/controls",
            "_view_module_version": "1.5.0",
            "_view_name": "ProgressView",
            "bar_style": "success",
            "description": "",
            "description_tooltip": null,
            "layout": "IPY_MODEL_41931b1f345345479607ddfe5da4797e",
            "max": 5070,
            "min": 0,
            "orientation": "horizontal",
            "style": "IPY_MODEL_29bf5075bcfb4b809b6cda7a5c360289",
            "value": 5070
          }
        },
        "48b6f4abf2964e74a3b96129a5477bd7": {
          "model_module": "@jupyter-widgets/controls",
          "model_module_version": "1.5.0",
          "model_name": "HTMLModel",
          "state": {
            "_dom_classes": [],
            "_model_module": "@jupyter-widgets/controls",
            "_model_module_version": "1.5.0",
            "_model_name": "HTMLModel",
            "_view_count": null,
            "_view_module": "@jupyter-widgets/controls",
            "_view_module_version": "1.5.0",
            "_view_name": "HTMLView",
            "description": "",
            "description_tooltip": null,
            "layout": "IPY_MODEL_cd9f1285efe5499ab5c0c68354434fda",
            "placeholder": "​",
            "style": "IPY_MODEL_21ef62f5f31c4af883d7b4a871feef37",
            "value": " 5.07k/5.07k [00:00&lt;00:00, 167kB/s]"
          }
        },
        "4acdf0f8900b4071b7ed0bd41a885e82": {
          "model_module": "@jupyter-widgets/base",
          "model_module_version": "1.2.0",
          "model_name": "LayoutModel",
          "state": {
            "_model_module": "@jupyter-widgets/base",
            "_model_module_version": "1.2.0",
            "_model_name": "LayoutModel",
            "_view_count": null,
            "_view_module": "@jupyter-widgets/base",
            "_view_module_version": "1.2.0",
            "_view_name": "LayoutView",
            "align_content": null,
            "align_items": null,
            "align_self": null,
            "border": null,
            "bottom": null,
            "display": null,
            "flex": null,
            "flex_flow": null,
            "grid_area": null,
            "grid_auto_columns": null,
            "grid_auto_flow": null,
            "grid_auto_rows": null,
            "grid_column": null,
            "grid_gap": null,
            "grid_row": null,
            "grid_template_areas": null,
            "grid_template_columns": null,
            "grid_template_rows": null,
            "height": null,
            "justify_content": null,
            "justify_items": null,
            "left": null,
            "margin": null,
            "max_height": null,
            "max_width": null,
            "min_height": null,
            "min_width": null,
            "object_fit": null,
            "object_position": null,
            "order": null,
            "overflow": null,
            "overflow_x": null,
            "overflow_y": null,
            "padding": null,
            "right": null,
            "top": null,
            "visibility": null,
            "width": null
          }
        },
        "4e2155022f404e27812b2355e6fd3c10": {
          "model_module": "@jupyter-widgets/controls",
          "model_module_version": "1.5.0",
          "model_name": "HTMLModel",
          "state": {
            "_dom_classes": [],
            "_model_module": "@jupyter-widgets/controls",
            "_model_module_version": "1.5.0",
            "_model_name": "HTMLModel",
            "_view_count": null,
            "_view_module": "@jupyter-widgets/controls",
            "_view_module_version": "1.5.0",
            "_view_name": "HTMLView",
            "description": "",
            "description_tooltip": null,
            "layout": "IPY_MODEL_4acdf0f8900b4071b7ed0bd41a885e82",
            "placeholder": "​",
            "style": "IPY_MODEL_c920d8a5f99c4e7ca3ef6012779d0405",
            "value": "Downloading builder script: 100%"
          }
        },
        "51537ea7dc4148459b48e50666fc21b2": {
          "model_module": "@jupyter-widgets/controls",
          "model_module_version": "1.5.0",
          "model_name": "DescriptionStyleModel",
          "state": {
            "_model_module": "@jupyter-widgets/controls",
            "_model_module_version": "1.5.0",
            "_model_name": "DescriptionStyleModel",
            "_view_count": null,
            "_view_module": "@jupyter-widgets/base",
            "_view_module_version": "1.2.0",
            "_view_name": "StyleView",
            "description_width": ""
          }
        },
        "53dadb82e41542c6bc87b0a5b51e4f79": {
          "model_module": "@jupyter-widgets/controls",
          "model_module_version": "1.5.0",
          "model_name": "HTMLModel",
          "state": {
            "_dom_classes": [],
            "_model_module": "@jupyter-widgets/controls",
            "_model_module_version": "1.5.0",
            "_model_name": "HTMLModel",
            "_view_count": null,
            "_view_module": "@jupyter-widgets/controls",
            "_view_module_version": "1.5.0",
            "_view_name": "HTMLView",
            "description": "",
            "description_tooltip": null,
            "layout": "IPY_MODEL_70aff55740b241789a3cdf594a9dc6aa",
            "placeholder": "​",
            "style": "IPY_MODEL_93b32ea7b0c44a4ba9c7bac89401c55d",
            "value": " 408M/408M [00:08&lt;00:00, 76.4MB/s]"
          }
        },
        "55585a314a4c410a8ceb221469972714": {
          "model_module": "@jupyter-widgets/base",
          "model_module_version": "1.2.0",
          "model_name": "LayoutModel",
          "state": {
            "_model_module": "@jupyter-widgets/base",
            "_model_module_version": "1.2.0",
            "_model_name": "LayoutModel",
            "_view_count": null,
            "_view_module": "@jupyter-widgets/base",
            "_view_module_version": "1.2.0",
            "_view_name": "LayoutView",
            "align_content": null,
            "align_items": null,
            "align_self": null,
            "border": null,
            "bottom": null,
            "display": null,
            "flex": null,
            "flex_flow": null,
            "grid_area": null,
            "grid_auto_columns": null,
            "grid_auto_flow": null,
            "grid_auto_rows": null,
            "grid_column": null,
            "grid_gap": null,
            "grid_row": null,
            "grid_template_areas": null,
            "grid_template_columns": null,
            "grid_template_rows": null,
            "height": null,
            "justify_content": null,
            "justify_items": null,
            "left": null,
            "margin": null,
            "max_height": null,
            "max_width": null,
            "min_height": null,
            "min_width": null,
            "object_fit": null,
            "object_position": null,
            "order": null,
            "overflow": null,
            "overflow_x": null,
            "overflow_y": null,
            "padding": null,
            "right": null,
            "top": null,
            "visibility": null,
            "width": null
          }
        },
        "56b0da9b177e4aef86a25a4f4179b92e": {
          "model_module": "@jupyter-widgets/controls",
          "model_module_version": "1.5.0",
          "model_name": "HTMLModel",
          "state": {
            "_dom_classes": [],
            "_model_module": "@jupyter-widgets/controls",
            "_model_module_version": "1.5.0",
            "_model_name": "HTMLModel",
            "_view_count": null,
            "_view_module": "@jupyter-widgets/controls",
            "_view_module_version": "1.5.0",
            "_view_name": "HTMLView",
            "description": "",
            "description_tooltip": null,
            "layout": "IPY_MODEL_e840c87a0a524ef29be25caa380fa631",
            "placeholder": "​",
            "style": "IPY_MODEL_ada8295e5c8642ed929a66f6b67ea2d0",
            "value": " 195k/195k [00:00&lt;00:00, 1.54MB/s]"
          }
        },
        "57ada157cc6f4106a4255246f59695e0": {
          "model_module": "@jupyter-widgets/controls",
          "model_module_version": "1.5.0",
          "model_name": "ProgressStyleModel",
          "state": {
            "_model_module": "@jupyter-widgets/controls",
            "_model_module_version": "1.5.0",
            "_model_name": "ProgressStyleModel",
            "_view_count": null,
            "_view_module": "@jupyter-widgets/base",
            "_view_module_version": "1.2.0",
            "_view_name": "StyleView",
            "bar_color": null,
            "description_width": ""
          }
        },
        "59e679ba412b4bdcb4172f4e326d1fcf": {
          "model_module": "@jupyter-widgets/controls",
          "model_module_version": "1.5.0",
          "model_name": "DescriptionStyleModel",
          "state": {
            "_model_module": "@jupyter-widgets/controls",
            "_model_module_version": "1.5.0",
            "_model_name": "DescriptionStyleModel",
            "_view_count": null,
            "_view_module": "@jupyter-widgets/base",
            "_view_module_version": "1.2.0",
            "_view_name": "StyleView",
            "description_width": ""
          }
        },
        "62ab00a815d64430bf6b979bd812006a": {
          "model_module": "@jupyter-widgets/base",
          "model_module_version": "1.2.0",
          "model_name": "LayoutModel",
          "state": {
            "_model_module": "@jupyter-widgets/base",
            "_model_module_version": "1.2.0",
            "_model_name": "LayoutModel",
            "_view_count": null,
            "_view_module": "@jupyter-widgets/base",
            "_view_module_version": "1.2.0",
            "_view_name": "LayoutView",
            "align_content": null,
            "align_items": null,
            "align_self": null,
            "border": null,
            "bottom": null,
            "display": null,
            "flex": null,
            "flex_flow": null,
            "grid_area": null,
            "grid_auto_columns": null,
            "grid_auto_flow": null,
            "grid_auto_rows": null,
            "grid_column": null,
            "grid_gap": null,
            "grid_row": null,
            "grid_template_areas": null,
            "grid_template_columns": null,
            "grid_template_rows": null,
            "height": null,
            "justify_content": null,
            "justify_items": null,
            "left": null,
            "margin": null,
            "max_height": null,
            "max_width": null,
            "min_height": null,
            "min_width": null,
            "object_fit": null,
            "object_position": null,
            "order": null,
            "overflow": null,
            "overflow_x": null,
            "overflow_y": null,
            "padding": null,
            "right": null,
            "top": null,
            "visibility": null,
            "width": null
          }
        },
        "647c08d26cf0463299294119c9ff77b9": {
          "model_module": "@jupyter-widgets/base",
          "model_module_version": "1.2.0",
          "model_name": "LayoutModel",
          "state": {
            "_model_module": "@jupyter-widgets/base",
            "_model_module_version": "1.2.0",
            "_model_name": "LayoutModel",
            "_view_count": null,
            "_view_module": "@jupyter-widgets/base",
            "_view_module_version": "1.2.0",
            "_view_name": "LayoutView",
            "align_content": null,
            "align_items": null,
            "align_self": null,
            "border": null,
            "bottom": null,
            "display": null,
            "flex": null,
            "flex_flow": null,
            "grid_area": null,
            "grid_auto_columns": null,
            "grid_auto_flow": null,
            "grid_auto_rows": null,
            "grid_column": null,
            "grid_gap": null,
            "grid_row": null,
            "grid_template_areas": null,
            "grid_template_columns": null,
            "grid_template_rows": null,
            "height": null,
            "justify_content": null,
            "justify_items": null,
            "left": null,
            "margin": null,
            "max_height": null,
            "max_width": null,
            "min_height": null,
            "min_width": null,
            "object_fit": null,
            "object_position": null,
            "order": null,
            "overflow": null,
            "overflow_x": null,
            "overflow_y": null,
            "padding": null,
            "right": null,
            "top": null,
            "visibility": null,
            "width": null
          }
        },
        "66d73cf247f942739c63e9390eef9d92": {
          "model_module": "@jupyter-widgets/base",
          "model_module_version": "1.2.0",
          "model_name": "LayoutModel",
          "state": {
            "_model_module": "@jupyter-widgets/base",
            "_model_module_version": "1.2.0",
            "_model_name": "LayoutModel",
            "_view_count": null,
            "_view_module": "@jupyter-widgets/base",
            "_view_module_version": "1.2.0",
            "_view_name": "LayoutView",
            "align_content": null,
            "align_items": null,
            "align_self": null,
            "border": null,
            "bottom": null,
            "display": null,
            "flex": null,
            "flex_flow": null,
            "grid_area": null,
            "grid_auto_columns": null,
            "grid_auto_flow": null,
            "grid_auto_rows": null,
            "grid_column": null,
            "grid_gap": null,
            "grid_row": null,
            "grid_template_areas": null,
            "grid_template_columns": null,
            "grid_template_rows": null,
            "height": null,
            "justify_content": null,
            "justify_items": null,
            "left": null,
            "margin": null,
            "max_height": null,
            "max_width": null,
            "min_height": null,
            "min_width": null,
            "object_fit": null,
            "object_position": null,
            "order": null,
            "overflow": null,
            "overflow_x": null,
            "overflow_y": null,
            "padding": null,
            "right": null,
            "top": null,
            "visibility": null,
            "width": null
          }
        },
        "6841782b128248329d80d94cc8bee015": {
          "model_module": "@jupyter-widgets/base",
          "model_module_version": "1.2.0",
          "model_name": "LayoutModel",
          "state": {
            "_model_module": "@jupyter-widgets/base",
            "_model_module_version": "1.2.0",
            "_model_name": "LayoutModel",
            "_view_count": null,
            "_view_module": "@jupyter-widgets/base",
            "_view_module_version": "1.2.0",
            "_view_name": "LayoutView",
            "align_content": null,
            "align_items": null,
            "align_self": null,
            "border": null,
            "bottom": null,
            "display": null,
            "flex": null,
            "flex_flow": null,
            "grid_area": null,
            "grid_auto_columns": null,
            "grid_auto_flow": null,
            "grid_auto_rows": null,
            "grid_column": null,
            "grid_gap": null,
            "grid_row": null,
            "grid_template_areas": null,
            "grid_template_columns": null,
            "grid_template_rows": null,
            "height": null,
            "justify_content": null,
            "justify_items": null,
            "left": null,
            "margin": null,
            "max_height": null,
            "max_width": null,
            "min_height": null,
            "min_width": null,
            "object_fit": null,
            "object_position": null,
            "order": null,
            "overflow": null,
            "overflow_x": null,
            "overflow_y": null,
            "padding": null,
            "right": null,
            "top": null,
            "visibility": null,
            "width": null
          }
        },
        "70aff55740b241789a3cdf594a9dc6aa": {
          "model_module": "@jupyter-widgets/base",
          "model_module_version": "1.2.0",
          "model_name": "LayoutModel",
          "state": {
            "_model_module": "@jupyter-widgets/base",
            "_model_module_version": "1.2.0",
            "_model_name": "LayoutModel",
            "_view_count": null,
            "_view_module": "@jupyter-widgets/base",
            "_view_module_version": "1.2.0",
            "_view_name": "LayoutView",
            "align_content": null,
            "align_items": null,
            "align_self": null,
            "border": null,
            "bottom": null,
            "display": null,
            "flex": null,
            "flex_flow": null,
            "grid_area": null,
            "grid_auto_columns": null,
            "grid_auto_flow": null,
            "grid_auto_rows": null,
            "grid_column": null,
            "grid_gap": null,
            "grid_row": null,
            "grid_template_areas": null,
            "grid_template_columns": null,
            "grid_template_rows": null,
            "height": null,
            "justify_content": null,
            "justify_items": null,
            "left": null,
            "margin": null,
            "max_height": null,
            "max_width": null,
            "min_height": null,
            "min_width": null,
            "object_fit": null,
            "object_position": null,
            "order": null,
            "overflow": null,
            "overflow_x": null,
            "overflow_y": null,
            "padding": null,
            "right": null,
            "top": null,
            "visibility": null,
            "width": null
          }
        },
        "75e984eb1c9c440eb7c26eb0890a09a0": {
          "model_module": "@jupyter-widgets/controls",
          "model_module_version": "1.5.0",
          "model_name": "HTMLModel",
          "state": {
            "_dom_classes": [],
            "_model_module": "@jupyter-widgets/controls",
            "_model_module_version": "1.5.0",
            "_model_name": "HTMLModel",
            "_view_count": null,
            "_view_module": "@jupyter-widgets/controls",
            "_view_module_version": "1.5.0",
            "_view_name": "HTMLView",
            "description": "",
            "description_tooltip": null,
            "layout": "IPY_MODEL_97a13977325843b19a296b55da444b4d",
            "placeholder": "​",
            "style": "IPY_MODEL_43bfd616c2ae4d15a05a39931725f406",
            "value": " 2/2 [00:04&lt;00:00,  2.21s/it]"
          }
        },
        "7806b322401c4e7daeb04b98e1dfb3f4": {
          "model_module": "@jupyter-widgets/controls",
          "model_module_version": "1.5.0",
          "model_name": "DescriptionStyleModel",
          "state": {
            "_model_module": "@jupyter-widgets/controls",
            "_model_module_version": "1.5.0",
            "_model_name": "DescriptionStyleModel",
            "_view_count": null,
            "_view_module": "@jupyter-widgets/base",
            "_view_module_version": "1.2.0",
            "_view_name": "StyleView",
            "description_width": ""
          }
        },
        "783949ab623e4b498e899a66e8d13665": {
          "model_module": "@jupyter-widgets/controls",
          "model_module_version": "1.5.0",
          "model_name": "ProgressStyleModel",
          "state": {
            "_model_module": "@jupyter-widgets/controls",
            "_model_module_version": "1.5.0",
            "_model_name": "ProgressStyleModel",
            "_view_count": null,
            "_view_module": "@jupyter-widgets/base",
            "_view_module_version": "1.2.0",
            "_view_name": "StyleView",
            "bar_color": null,
            "description_width": ""
          }
        },
        "7c46f21ced9343229052087b822ef5ea": {
          "model_module": "@jupyter-widgets/controls",
          "model_module_version": "1.5.0",
          "model_name": "HTMLModel",
          "state": {
            "_dom_classes": [],
            "_model_module": "@jupyter-widgets/controls",
            "_model_module_version": "1.5.0",
            "_model_name": "HTMLModel",
            "_view_count": null,
            "_view_module": "@jupyter-widgets/controls",
            "_view_module_version": "1.5.0",
            "_view_name": "HTMLView",
            "description": "",
            "description_tooltip": null,
            "layout": "IPY_MODEL_cb0f197975da4fc5a061320cf48a1f49",
            "placeholder": "​",
            "style": "IPY_MODEL_c804d6864c8445e39cb1b1bb30e4edc6",
            "value": " 140/0 [00:00&lt;00:00, 1398.94 examples/s]"
          }
        },
        "7e8f5a02e5e54066965f4d6fb3db6f48": {
          "model_module": "@jupyter-widgets/controls",
          "model_module_version": "1.5.0",
          "model_name": "DescriptionStyleModel",
          "state": {
            "_model_module": "@jupyter-widgets/controls",
            "_model_module_version": "1.5.0",
            "_model_name": "DescriptionStyleModel",
            "_view_count": null,
            "_view_module": "@jupyter-widgets/base",
            "_view_module_version": "1.2.0",
            "_view_name": "StyleView",
            "description_width": ""
          }
        },
        "86437c8770e64168b108f28b9bc55192": {
          "model_module": "@jupyter-widgets/base",
          "model_module_version": "1.2.0",
          "model_name": "LayoutModel",
          "state": {
            "_model_module": "@jupyter-widgets/base",
            "_model_module_version": "1.2.0",
            "_model_name": "LayoutModel",
            "_view_count": null,
            "_view_module": "@jupyter-widgets/base",
            "_view_module_version": "1.2.0",
            "_view_name": "LayoutView",
            "align_content": null,
            "align_items": null,
            "align_self": null,
            "border": null,
            "bottom": null,
            "display": null,
            "flex": null,
            "flex_flow": null,
            "grid_area": null,
            "grid_auto_columns": null,
            "grid_auto_flow": null,
            "grid_auto_rows": null,
            "grid_column": null,
            "grid_gap": null,
            "grid_row": null,
            "grid_template_areas": null,
            "grid_template_columns": null,
            "grid_template_rows": null,
            "height": null,
            "justify_content": null,
            "justify_items": null,
            "left": null,
            "margin": null,
            "max_height": null,
            "max_width": null,
            "min_height": null,
            "min_width": null,
            "object_fit": null,
            "object_position": null,
            "order": null,
            "overflow": null,
            "overflow_x": null,
            "overflow_y": null,
            "padding": null,
            "right": null,
            "top": null,
            "visibility": null,
            "width": null
          }
        },
        "86b87b8d7dfe44db9d3b1d7bd7727305": {
          "model_module": "@jupyter-widgets/controls",
          "model_module_version": "1.5.0",
          "model_name": "HBoxModel",
          "state": {
            "_dom_classes": [],
            "_model_module": "@jupyter-widgets/controls",
            "_model_module_version": "1.5.0",
            "_model_name": "HBoxModel",
            "_view_count": null,
            "_view_module": "@jupyter-widgets/controls",
            "_view_module_version": "1.5.0",
            "_view_name": "HBoxView",
            "box_style": "",
            "children": [
              "IPY_MODEL_379e6b6a8b594341a3085d54f5ca0764",
              "IPY_MODEL_177ed3a0ff5948bf830acf5e17e9666e",
              "IPY_MODEL_53dadb82e41542c6bc87b0a5b51e4f79"
            ],
            "layout": "IPY_MODEL_bce201888d9740949ba622567ea27bdf"
          }
        },
        "89fe71de107f4e4f96eabbfbf949592a": {
          "model_module": "@jupyter-widgets/controls",
          "model_module_version": "1.5.0",
          "model_name": "FloatProgressModel",
          "state": {
            "_dom_classes": [],
            "_model_module": "@jupyter-widgets/controls",
            "_model_module_version": "1.5.0",
            "_model_name": "FloatProgressModel",
            "_view_count": null,
            "_view_module": "@jupyter-widgets/controls",
            "_view_module_version": "1.5.0",
            "_view_name": "ProgressView",
            "bar_style": "success",
            "description": "",
            "description_tooltip": null,
            "layout": "IPY_MODEL_ce35882bcd5647f6a73327c48f350481",
            "max": 1,
            "min": 0,
            "orientation": "horizontal",
            "style": "IPY_MODEL_c1a0622ca1004357b8ab9fa42fc96bf3",
            "value": 1
          }
        },
        "92c9d714adfd4f78abacc7c31287e88b": {
          "model_module": "@jupyter-widgets/base",
          "model_module_version": "1.2.0",
          "model_name": "LayoutModel",
          "state": {
            "_model_module": "@jupyter-widgets/base",
            "_model_module_version": "1.2.0",
            "_model_name": "LayoutModel",
            "_view_count": null,
            "_view_module": "@jupyter-widgets/base",
            "_view_module_version": "1.2.0",
            "_view_name": "LayoutView",
            "align_content": null,
            "align_items": null,
            "align_self": null,
            "border": null,
            "bottom": null,
            "display": null,
            "flex": null,
            "flex_flow": null,
            "grid_area": null,
            "grid_auto_columns": null,
            "grid_auto_flow": null,
            "grid_auto_rows": null,
            "grid_column": null,
            "grid_gap": null,
            "grid_row": null,
            "grid_template_areas": null,
            "grid_template_columns": null,
            "grid_template_rows": null,
            "height": null,
            "justify_content": null,
            "justify_items": null,
            "left": null,
            "margin": null,
            "max_height": null,
            "max_width": null,
            "min_height": null,
            "min_width": null,
            "object_fit": null,
            "object_position": null,
            "order": null,
            "overflow": null,
            "overflow_x": null,
            "overflow_y": null,
            "padding": null,
            "right": null,
            "top": null,
            "visibility": null,
            "width": null
          }
        },
        "93b32ea7b0c44a4ba9c7bac89401c55d": {
          "model_module": "@jupyter-widgets/controls",
          "model_module_version": "1.5.0",
          "model_name": "DescriptionStyleModel",
          "state": {
            "_model_module": "@jupyter-widgets/controls",
            "_model_module_version": "1.5.0",
            "_model_name": "DescriptionStyleModel",
            "_view_count": null,
            "_view_module": "@jupyter-widgets/base",
            "_view_module_version": "1.2.0",
            "_view_name": "StyleView",
            "description_width": ""
          }
        },
        "948804d880f54e3bbb8b8eacbf1088a2": {
          "model_module": "@jupyter-widgets/base",
          "model_module_version": "1.2.0",
          "model_name": "LayoutModel",
          "state": {
            "_model_module": "@jupyter-widgets/base",
            "_model_module_version": "1.2.0",
            "_model_name": "LayoutModel",
            "_view_count": null,
            "_view_module": "@jupyter-widgets/base",
            "_view_module_version": "1.2.0",
            "_view_name": "LayoutView",
            "align_content": null,
            "align_items": null,
            "align_self": null,
            "border": null,
            "bottom": null,
            "display": null,
            "flex": null,
            "flex_flow": null,
            "grid_area": null,
            "grid_auto_columns": null,
            "grid_auto_flow": null,
            "grid_auto_rows": null,
            "grid_column": null,
            "grid_gap": null,
            "grid_row": null,
            "grid_template_areas": null,
            "grid_template_columns": null,
            "grid_template_rows": null,
            "height": null,
            "justify_content": null,
            "justify_items": null,
            "left": null,
            "margin": null,
            "max_height": null,
            "max_width": null,
            "min_height": null,
            "min_width": null,
            "object_fit": null,
            "object_position": null,
            "order": null,
            "overflow": null,
            "overflow_x": null,
            "overflow_y": null,
            "padding": null,
            "right": null,
            "top": null,
            "visibility": null,
            "width": null
          }
        },
        "9611bd52827f4b6787d43750c2f04075": {
          "model_module": "@jupyter-widgets/base",
          "model_module_version": "1.2.0",
          "model_name": "LayoutModel",
          "state": {
            "_model_module": "@jupyter-widgets/base",
            "_model_module_version": "1.2.0",
            "_model_name": "LayoutModel",
            "_view_count": null,
            "_view_module": "@jupyter-widgets/base",
            "_view_module_version": "1.2.0",
            "_view_name": "LayoutView",
            "align_content": null,
            "align_items": null,
            "align_self": null,
            "border": null,
            "bottom": null,
            "display": null,
            "flex": null,
            "flex_flow": null,
            "grid_area": null,
            "grid_auto_columns": null,
            "grid_auto_flow": null,
            "grid_auto_rows": null,
            "grid_column": null,
            "grid_gap": null,
            "grid_row": null,
            "grid_template_areas": null,
            "grid_template_columns": null,
            "grid_template_rows": null,
            "height": null,
            "justify_content": null,
            "justify_items": null,
            "left": null,
            "margin": null,
            "max_height": null,
            "max_width": null,
            "min_height": null,
            "min_width": null,
            "object_fit": null,
            "object_position": null,
            "order": null,
            "overflow": null,
            "overflow_x": null,
            "overflow_y": null,
            "padding": null,
            "right": null,
            "top": null,
            "visibility": null,
            "width": null
          }
        },
        "97a13977325843b19a296b55da444b4d": {
          "model_module": "@jupyter-widgets/base",
          "model_module_version": "1.2.0",
          "model_name": "LayoutModel",
          "state": {
            "_model_module": "@jupyter-widgets/base",
            "_model_module_version": "1.2.0",
            "_model_name": "LayoutModel",
            "_view_count": null,
            "_view_module": "@jupyter-widgets/base",
            "_view_module_version": "1.2.0",
            "_view_name": "LayoutView",
            "align_content": null,
            "align_items": null,
            "align_self": null,
            "border": null,
            "bottom": null,
            "display": null,
            "flex": null,
            "flex_flow": null,
            "grid_area": null,
            "grid_auto_columns": null,
            "grid_auto_flow": null,
            "grid_auto_rows": null,
            "grid_column": null,
            "grid_gap": null,
            "grid_row": null,
            "grid_template_areas": null,
            "grid_template_columns": null,
            "grid_template_rows": null,
            "height": null,
            "justify_content": null,
            "justify_items": null,
            "left": null,
            "margin": null,
            "max_height": null,
            "max_width": null,
            "min_height": null,
            "min_width": null,
            "object_fit": null,
            "object_position": null,
            "order": null,
            "overflow": null,
            "overflow_x": null,
            "overflow_y": null,
            "padding": null,
            "right": null,
            "top": null,
            "visibility": null,
            "width": null
          }
        },
        "9b8c8e8c65fb44489bf170648c4a8e06": {
          "model_module": "@jupyter-widgets/controls",
          "model_module_version": "1.5.0",
          "model_name": "DescriptionStyleModel",
          "state": {
            "_model_module": "@jupyter-widgets/controls",
            "_model_module_version": "1.5.0",
            "_model_name": "DescriptionStyleModel",
            "_view_count": null,
            "_view_module": "@jupyter-widgets/base",
            "_view_module_version": "1.2.0",
            "_view_name": "StyleView",
            "description_width": ""
          }
        },
        "9ea59ae49a324ae0b0df6725766e938b": {
          "model_module": "@jupyter-widgets/controls",
          "model_module_version": "1.5.0",
          "model_name": "HBoxModel",
          "state": {
            "_dom_classes": [],
            "_model_module": "@jupyter-widgets/controls",
            "_model_module_version": "1.5.0",
            "_model_name": "HBoxModel",
            "_view_count": null,
            "_view_module": "@jupyter-widgets/controls",
            "_view_module_version": "1.5.0",
            "_view_name": "HBoxView",
            "box_style": "",
            "children": [
              "IPY_MODEL_c4909a65a5a4406694347eb079af2087",
              "IPY_MODEL_29c0c0217f134e18942f3b77314dd835",
              "IPY_MODEL_2491bab3bb3649d28ba7589033399aa4"
            ],
            "layout": "IPY_MODEL_a11bfda00bc54044b79a173ea2c01a07"
          }
        },
        "a11bfda00bc54044b79a173ea2c01a07": {
          "model_module": "@jupyter-widgets/base",
          "model_module_version": "1.2.0",
          "model_name": "LayoutModel",
          "state": {
            "_model_module": "@jupyter-widgets/base",
            "_model_module_version": "1.2.0",
            "_model_name": "LayoutModel",
            "_view_count": null,
            "_view_module": "@jupyter-widgets/base",
            "_view_module_version": "1.2.0",
            "_view_name": "LayoutView",
            "align_content": null,
            "align_items": null,
            "align_self": null,
            "border": null,
            "bottom": null,
            "display": null,
            "flex": null,
            "flex_flow": null,
            "grid_area": null,
            "grid_auto_columns": null,
            "grid_auto_flow": null,
            "grid_auto_rows": null,
            "grid_column": null,
            "grid_gap": null,
            "grid_row": null,
            "grid_template_areas": null,
            "grid_template_columns": null,
            "grid_template_rows": null,
            "height": null,
            "justify_content": null,
            "justify_items": null,
            "left": null,
            "margin": null,
            "max_height": null,
            "max_width": null,
            "min_height": null,
            "min_width": null,
            "object_fit": null,
            "object_position": null,
            "order": null,
            "overflow": null,
            "overflow_x": null,
            "overflow_y": null,
            "padding": null,
            "right": null,
            "top": null,
            "visibility": null,
            "width": null
          }
        },
        "a8d94e433ab24c6588bbbe58caa7c942": {
          "model_module": "@jupyter-widgets/controls",
          "model_module_version": "1.5.0",
          "model_name": "DescriptionStyleModel",
          "state": {
            "_model_module": "@jupyter-widgets/controls",
            "_model_module_version": "1.5.0",
            "_model_name": "DescriptionStyleModel",
            "_view_count": null,
            "_view_module": "@jupyter-widgets/base",
            "_view_module_version": "1.2.0",
            "_view_name": "StyleView",
            "description_width": ""
          }
        },
        "abf75f87617c44d988d0a5500cef9dd5": {
          "model_module": "@jupyter-widgets/base",
          "model_module_version": "1.2.0",
          "model_name": "LayoutModel",
          "state": {
            "_model_module": "@jupyter-widgets/base",
            "_model_module_version": "1.2.0",
            "_model_name": "LayoutModel",
            "_view_count": null,
            "_view_module": "@jupyter-widgets/base",
            "_view_module_version": "1.2.0",
            "_view_name": "LayoutView",
            "align_content": null,
            "align_items": null,
            "align_self": null,
            "border": null,
            "bottom": null,
            "display": null,
            "flex": null,
            "flex_flow": null,
            "grid_area": null,
            "grid_auto_columns": null,
            "grid_auto_flow": null,
            "grid_auto_rows": null,
            "grid_column": null,
            "grid_gap": null,
            "grid_row": null,
            "grid_template_areas": null,
            "grid_template_columns": null,
            "grid_template_rows": null,
            "height": null,
            "justify_content": null,
            "justify_items": null,
            "left": null,
            "margin": null,
            "max_height": null,
            "max_width": null,
            "min_height": null,
            "min_width": null,
            "object_fit": null,
            "object_position": null,
            "order": null,
            "overflow": null,
            "overflow_x": null,
            "overflow_y": null,
            "padding": null,
            "right": null,
            "top": null,
            "visibility": null,
            "width": null
          }
        },
        "ac52dd7ed97e4c4181c6e3f83d6f2536": {
          "model_module": "@jupyter-widgets/controls",
          "model_module_version": "1.5.0",
          "model_name": "HBoxModel",
          "state": {
            "_dom_classes": [],
            "_model_module": "@jupyter-widgets/controls",
            "_model_module_version": "1.5.0",
            "_model_name": "HBoxModel",
            "_view_count": null,
            "_view_module": "@jupyter-widgets/controls",
            "_view_module_version": "1.5.0",
            "_view_name": "HBoxView",
            "box_style": "",
            "children": [
              "IPY_MODEL_4e2155022f404e27812b2355e6fd3c10",
              "IPY_MODEL_46ed15ee79e142f78777e26a37201ca4",
              "IPY_MODEL_48b6f4abf2964e74a3b96129a5477bd7"
            ],
            "layout": "IPY_MODEL_647c08d26cf0463299294119c9ff77b9"
          }
        },
        "ada8295e5c8642ed929a66f6b67ea2d0": {
          "model_module": "@jupyter-widgets/controls",
          "model_module_version": "1.5.0",
          "model_name": "DescriptionStyleModel",
          "state": {
            "_model_module": "@jupyter-widgets/controls",
            "_model_module_version": "1.5.0",
            "_model_name": "DescriptionStyleModel",
            "_view_count": null,
            "_view_module": "@jupyter-widgets/base",
            "_view_module_version": "1.2.0",
            "_view_name": "StyleView",
            "description_width": ""
          }
        },
        "b6cd3f58b2304a279625b14f964298af": {
          "model_module": "@jupyter-widgets/controls",
          "model_module_version": "1.5.0",
          "model_name": "FloatProgressModel",
          "state": {
            "_dom_classes": [],
            "_model_module": "@jupyter-widgets/controls",
            "_model_module_version": "1.5.0",
            "_model_name": "FloatProgressModel",
            "_view_count": null,
            "_view_module": "@jupyter-widgets/controls",
            "_view_module_version": "1.5.0",
            "_view_name": "ProgressView",
            "bar_style": "success",
            "description": "",
            "description_tooltip": null,
            "layout": "IPY_MODEL_25294fb9ae08468582cc416a404f5b1f",
            "max": 2,
            "min": 0,
            "orientation": "horizontal",
            "style": "IPY_MODEL_bb37773a8f1c4d69a89842d55018b5bf",
            "value": 2
          }
        },
        "bad5d1d9cd6945e7bd89615ca956b79e": {
          "model_module": "@jupyter-widgets/controls",
          "model_module_version": "1.5.0",
          "model_name": "DescriptionStyleModel",
          "state": {
            "_model_module": "@jupyter-widgets/controls",
            "_model_module_version": "1.5.0",
            "_model_name": "DescriptionStyleModel",
            "_view_count": null,
            "_view_module": "@jupyter-widgets/base",
            "_view_module_version": "1.2.0",
            "_view_name": "StyleView",
            "description_width": ""
          }
        },
        "bb37773a8f1c4d69a89842d55018b5bf": {
          "model_module": "@jupyter-widgets/controls",
          "model_module_version": "1.5.0",
          "model_name": "ProgressStyleModel",
          "state": {
            "_model_module": "@jupyter-widgets/controls",
            "_model_module_version": "1.5.0",
            "_model_name": "ProgressStyleModel",
            "_view_count": null,
            "_view_module": "@jupyter-widgets/base",
            "_view_module_version": "1.2.0",
            "_view_name": "StyleView",
            "bar_color": null,
            "description_width": ""
          }
        },
        "bce201888d9740949ba622567ea27bdf": {
          "model_module": "@jupyter-widgets/base",
          "model_module_version": "1.2.0",
          "model_name": "LayoutModel",
          "state": {
            "_model_module": "@jupyter-widgets/base",
            "_model_module_version": "1.2.0",
            "_model_name": "LayoutModel",
            "_view_count": null,
            "_view_module": "@jupyter-widgets/base",
            "_view_module_version": "1.2.0",
            "_view_name": "LayoutView",
            "align_content": null,
            "align_items": null,
            "align_self": null,
            "border": null,
            "bottom": null,
            "display": null,
            "flex": null,
            "flex_flow": null,
            "grid_area": null,
            "grid_auto_columns": null,
            "grid_auto_flow": null,
            "grid_auto_rows": null,
            "grid_column": null,
            "grid_gap": null,
            "grid_row": null,
            "grid_template_areas": null,
            "grid_template_columns": null,
            "grid_template_rows": null,
            "height": null,
            "justify_content": null,
            "justify_items": null,
            "left": null,
            "margin": null,
            "max_height": null,
            "max_width": null,
            "min_height": null,
            "min_width": null,
            "object_fit": null,
            "object_position": null,
            "order": null,
            "overflow": null,
            "overflow_x": null,
            "overflow_y": null,
            "padding": null,
            "right": null,
            "top": null,
            "visibility": null,
            "width": null
          }
        },
        "c1a0622ca1004357b8ab9fa42fc96bf3": {
          "model_module": "@jupyter-widgets/controls",
          "model_module_version": "1.5.0",
          "model_name": "ProgressStyleModel",
          "state": {
            "_model_module": "@jupyter-widgets/controls",
            "_model_module_version": "1.5.0",
            "_model_name": "ProgressStyleModel",
            "_view_count": null,
            "_view_module": "@jupyter-widgets/base",
            "_view_module_version": "1.2.0",
            "_view_name": "StyleView",
            "bar_color": null,
            "description_width": ""
          }
        },
        "c4909a65a5a4406694347eb079af2087": {
          "model_module": "@jupyter-widgets/controls",
          "model_module_version": "1.5.0",
          "model_name": "HTMLModel",
          "state": {
            "_dom_classes": [],
            "_model_module": "@jupyter-widgets/controls",
            "_model_module_version": "1.5.0",
            "_model_name": "HTMLModel",
            "_view_count": null,
            "_view_module": "@jupyter-widgets/controls",
            "_view_module_version": "1.5.0",
            "_view_name": "HTMLView",
            "description": "",
            "description_tooltip": null,
            "layout": "IPY_MODEL_86437c8770e64168b108f28b9bc55192",
            "placeholder": "​",
            "style": "IPY_MODEL_59e679ba412b4bdcb4172f4e326d1fcf",
            "value": "Downloading readme: 100%"
          }
        },
        "c804d6864c8445e39cb1b1bb30e4edc6": {
          "model_module": "@jupyter-widgets/controls",
          "model_module_version": "1.5.0",
          "model_name": "DescriptionStyleModel",
          "state": {
            "_model_module": "@jupyter-widgets/controls",
            "_model_module_version": "1.5.0",
            "_model_name": "DescriptionStyleModel",
            "_view_count": null,
            "_view_module": "@jupyter-widgets/base",
            "_view_module_version": "1.2.0",
            "_view_name": "StyleView",
            "description_width": ""
          }
        },
        "c80f615b0c694d798283cb569730b3c4": {
          "model_module": "@jupyter-widgets/controls",
          "model_module_version": "1.5.0",
          "model_name": "HTMLModel",
          "state": {
            "_dom_classes": [],
            "_model_module": "@jupyter-widgets/controls",
            "_model_module_version": "1.5.0",
            "_model_name": "HTMLModel",
            "_view_count": null,
            "_view_module": "@jupyter-widgets/controls",
            "_view_module_version": "1.5.0",
            "_view_name": "HTMLView",
            "description": "",
            "description_tooltip": null,
            "layout": "IPY_MODEL_f96fbb24b27b42609e05837629a6ddf4",
            "placeholder": "​",
            "style": "IPY_MODEL_1d174a44678542b89a38d9ed7d97618e",
            "value": "Downloading data files: 100%"
          }
        },
        "c9087216dab845a297dd36d69b7ad2d7": {
          "model_module": "@jupyter-widgets/controls",
          "model_module_version": "1.5.0",
          "model_name": "ProgressStyleModel",
          "state": {
            "_model_module": "@jupyter-widgets/controls",
            "_model_module_version": "1.5.0",
            "_model_name": "ProgressStyleModel",
            "_view_count": null,
            "_view_module": "@jupyter-widgets/base",
            "_view_module_version": "1.2.0",
            "_view_name": "StyleView",
            "bar_color": null,
            "description_width": ""
          }
        },
        "c920d8a5f99c4e7ca3ef6012779d0405": {
          "model_module": "@jupyter-widgets/controls",
          "model_module_version": "1.5.0",
          "model_name": "DescriptionStyleModel",
          "state": {
            "_model_module": "@jupyter-widgets/controls",
            "_model_module_version": "1.5.0",
            "_model_name": "DescriptionStyleModel",
            "_view_count": null,
            "_view_module": "@jupyter-widgets/base",
            "_view_module_version": "1.2.0",
            "_view_name": "StyleView",
            "description_width": ""
          }
        },
        "cb0f197975da4fc5a061320cf48a1f49": {
          "model_module": "@jupyter-widgets/base",
          "model_module_version": "1.2.0",
          "model_name": "LayoutModel",
          "state": {
            "_model_module": "@jupyter-widgets/base",
            "_model_module_version": "1.2.0",
            "_model_name": "LayoutModel",
            "_view_count": null,
            "_view_module": "@jupyter-widgets/base",
            "_view_module_version": "1.2.0",
            "_view_name": "LayoutView",
            "align_content": null,
            "align_items": null,
            "align_self": null,
            "border": null,
            "bottom": null,
            "display": null,
            "flex": null,
            "flex_flow": null,
            "grid_area": null,
            "grid_auto_columns": null,
            "grid_auto_flow": null,
            "grid_auto_rows": null,
            "grid_column": null,
            "grid_gap": null,
            "grid_row": null,
            "grid_template_areas": null,
            "grid_template_columns": null,
            "grid_template_rows": null,
            "height": null,
            "justify_content": null,
            "justify_items": null,
            "left": null,
            "margin": null,
            "max_height": null,
            "max_width": null,
            "min_height": null,
            "min_width": null,
            "object_fit": null,
            "object_position": null,
            "order": null,
            "overflow": null,
            "overflow_x": null,
            "overflow_y": null,
            "padding": null,
            "right": null,
            "top": null,
            "visibility": null,
            "width": null
          }
        },
        "cd9f1285efe5499ab5c0c68354434fda": {
          "model_module": "@jupyter-widgets/base",
          "model_module_version": "1.2.0",
          "model_name": "LayoutModel",
          "state": {
            "_model_module": "@jupyter-widgets/base",
            "_model_module_version": "1.2.0",
            "_model_name": "LayoutModel",
            "_view_count": null,
            "_view_module": "@jupyter-widgets/base",
            "_view_module_version": "1.2.0",
            "_view_name": "LayoutView",
            "align_content": null,
            "align_items": null,
            "align_self": null,
            "border": null,
            "bottom": null,
            "display": null,
            "flex": null,
            "flex_flow": null,
            "grid_area": null,
            "grid_auto_columns": null,
            "grid_auto_flow": null,
            "grid_auto_rows": null,
            "grid_column": null,
            "grid_gap": null,
            "grid_row": null,
            "grid_template_areas": null,
            "grid_template_columns": null,
            "grid_template_rows": null,
            "height": null,
            "justify_content": null,
            "justify_items": null,
            "left": null,
            "margin": null,
            "max_height": null,
            "max_width": null,
            "min_height": null,
            "min_width": null,
            "object_fit": null,
            "object_position": null,
            "order": null,
            "overflow": null,
            "overflow_x": null,
            "overflow_y": null,
            "padding": null,
            "right": null,
            "top": null,
            "visibility": null,
            "width": null
          }
        },
        "ce11fa0785bb4781a0945e668bdb1537": {
          "model_module": "@jupyter-widgets/base",
          "model_module_version": "1.2.0",
          "model_name": "LayoutModel",
          "state": {
            "_model_module": "@jupyter-widgets/base",
            "_model_module_version": "1.2.0",
            "_model_name": "LayoutModel",
            "_view_count": null,
            "_view_module": "@jupyter-widgets/base",
            "_view_module_version": "1.2.0",
            "_view_name": "LayoutView",
            "align_content": null,
            "align_items": null,
            "align_self": null,
            "border": null,
            "bottom": null,
            "display": null,
            "flex": null,
            "flex_flow": null,
            "grid_area": null,
            "grid_auto_columns": null,
            "grid_auto_flow": null,
            "grid_auto_rows": null,
            "grid_column": null,
            "grid_gap": null,
            "grid_row": null,
            "grid_template_areas": null,
            "grid_template_columns": null,
            "grid_template_rows": null,
            "height": null,
            "justify_content": null,
            "justify_items": null,
            "left": null,
            "margin": null,
            "max_height": null,
            "max_width": null,
            "min_height": null,
            "min_width": null,
            "object_fit": null,
            "object_position": null,
            "order": null,
            "overflow": null,
            "overflow_x": null,
            "overflow_y": null,
            "padding": null,
            "right": null,
            "top": null,
            "visibility": null,
            "width": null
          }
        },
        "ce35882bcd5647f6a73327c48f350481": {
          "model_module": "@jupyter-widgets/base",
          "model_module_version": "1.2.0",
          "model_name": "LayoutModel",
          "state": {
            "_model_module": "@jupyter-widgets/base",
            "_model_module_version": "1.2.0",
            "_model_name": "LayoutModel",
            "_view_count": null,
            "_view_module": "@jupyter-widgets/base",
            "_view_module_version": "1.2.0",
            "_view_name": "LayoutView",
            "align_content": null,
            "align_items": null,
            "align_self": null,
            "border": null,
            "bottom": null,
            "display": null,
            "flex": null,
            "flex_flow": null,
            "grid_area": null,
            "grid_auto_columns": null,
            "grid_auto_flow": null,
            "grid_auto_rows": null,
            "grid_column": null,
            "grid_gap": null,
            "grid_row": null,
            "grid_template_areas": null,
            "grid_template_columns": null,
            "grid_template_rows": null,
            "height": null,
            "justify_content": null,
            "justify_items": null,
            "left": null,
            "margin": null,
            "max_height": null,
            "max_width": null,
            "min_height": null,
            "min_width": null,
            "object_fit": null,
            "object_position": null,
            "order": null,
            "overflow": null,
            "overflow_x": null,
            "overflow_y": null,
            "padding": null,
            "right": null,
            "top": null,
            "visibility": null,
            "width": "20px"
          }
        },
        "e1f66f7c0c9144a4bb9ff038525a23e7": {
          "model_module": "@jupyter-widgets/base",
          "model_module_version": "1.2.0",
          "model_name": "LayoutModel",
          "state": {
            "_model_module": "@jupyter-widgets/base",
            "_model_module_version": "1.2.0",
            "_model_name": "LayoutModel",
            "_view_count": null,
            "_view_module": "@jupyter-widgets/base",
            "_view_module_version": "1.2.0",
            "_view_name": "LayoutView",
            "align_content": null,
            "align_items": null,
            "align_self": null,
            "border": null,
            "bottom": null,
            "display": null,
            "flex": null,
            "flex_flow": null,
            "grid_area": null,
            "grid_auto_columns": null,
            "grid_auto_flow": null,
            "grid_auto_rows": null,
            "grid_column": null,
            "grid_gap": null,
            "grid_row": null,
            "grid_template_areas": null,
            "grid_template_columns": null,
            "grid_template_rows": null,
            "height": null,
            "justify_content": null,
            "justify_items": null,
            "left": null,
            "margin": null,
            "max_height": null,
            "max_width": null,
            "min_height": null,
            "min_width": null,
            "object_fit": null,
            "object_position": null,
            "order": null,
            "overflow": null,
            "overflow_x": null,
            "overflow_y": null,
            "padding": null,
            "right": null,
            "top": null,
            "visibility": null,
            "width": null
          }
        },
        "e840c87a0a524ef29be25caa380fa631": {
          "model_module": "@jupyter-widgets/base",
          "model_module_version": "1.2.0",
          "model_name": "LayoutModel",
          "state": {
            "_model_module": "@jupyter-widgets/base",
            "_model_module_version": "1.2.0",
            "_model_name": "LayoutModel",
            "_view_count": null,
            "_view_module": "@jupyter-widgets/base",
            "_view_module_version": "1.2.0",
            "_view_name": "LayoutView",
            "align_content": null,
            "align_items": null,
            "align_self": null,
            "border": null,
            "bottom": null,
            "display": null,
            "flex": null,
            "flex_flow": null,
            "grid_area": null,
            "grid_auto_columns": null,
            "grid_auto_flow": null,
            "grid_auto_rows": null,
            "grid_column": null,
            "grid_gap": null,
            "grid_row": null,
            "grid_template_areas": null,
            "grid_template_columns": null,
            "grid_template_rows": null,
            "height": null,
            "justify_content": null,
            "justify_items": null,
            "left": null,
            "margin": null,
            "max_height": null,
            "max_width": null,
            "min_height": null,
            "min_width": null,
            "object_fit": null,
            "object_position": null,
            "order": null,
            "overflow": null,
            "overflow_x": null,
            "overflow_y": null,
            "padding": null,
            "right": null,
            "top": null,
            "visibility": null,
            "width": null
          }
        },
        "edcd5f405a5441bd8ede1b206e47eeb5": {
          "model_module": "@jupyter-widgets/controls",
          "model_module_version": "1.5.0",
          "model_name": "FloatProgressModel",
          "state": {
            "_dom_classes": [],
            "_model_module": "@jupyter-widgets/controls",
            "_model_module_version": "1.5.0",
            "_model_name": "FloatProgressModel",
            "_view_count": null,
            "_view_module": "@jupyter-widgets/controls",
            "_view_module_version": "1.5.0",
            "_view_name": "ProgressView",
            "bar_style": "success",
            "description": "",
            "description_tooltip": null,
            "layout": "IPY_MODEL_19a501d0a3d34b9e97b5dde0c9a02bb1",
            "max": 2,
            "min": 0,
            "orientation": "horizontal",
            "style": "IPY_MODEL_57ada157cc6f4106a4255246f59695e0",
            "value": 2
          }
        },
        "f02b7e99b59b4699834fc0f1b4f37784": {
          "model_module": "@jupyter-widgets/controls",
          "model_module_version": "1.5.0",
          "model_name": "HBoxModel",
          "state": {
            "_dom_classes": [],
            "_model_module": "@jupyter-widgets/controls",
            "_model_module_version": "1.5.0",
            "_model_name": "HBoxModel",
            "_view_count": null,
            "_view_module": "@jupyter-widgets/controls",
            "_view_module_version": "1.5.0",
            "_view_name": "HBoxView",
            "box_style": "",
            "children": [
              "IPY_MODEL_1d24a63a187149a5a01d23b188595acd",
              "IPY_MODEL_edcd5f405a5441bd8ede1b206e47eeb5",
              "IPY_MODEL_75e984eb1c9c440eb7c26eb0890a09a0"
            ],
            "layout": "IPY_MODEL_55585a314a4c410a8ceb221469972714"
          }
        },
        "f0579c6b030b40c98b9180b2e7f389ea": {
          "model_module": "@jupyter-widgets/controls",
          "model_module_version": "1.5.0",
          "model_name": "FloatProgressModel",
          "state": {
            "_dom_classes": [],
            "_model_module": "@jupyter-widgets/controls",
            "_model_module_version": "1.5.0",
            "_model_name": "FloatProgressModel",
            "_view_count": null,
            "_view_module": "@jupyter-widgets/controls",
            "_view_module_version": "1.5.0",
            "_view_name": "ProgressView",
            "bar_style": "success",
            "description": "",
            "description_tooltip": null,
            "layout": "IPY_MODEL_abf75f87617c44d988d0a5500cef9dd5",
            "max": 195436,
            "min": 0,
            "orientation": "horizontal",
            "style": "IPY_MODEL_c9087216dab845a297dd36d69b7ad2d7",
            "value": 195436
          }
        },
        "f96fbb24b27b42609e05837629a6ddf4": {
          "model_module": "@jupyter-widgets/base",
          "model_module_version": "1.2.0",
          "model_name": "LayoutModel",
          "state": {
            "_model_module": "@jupyter-widgets/base",
            "_model_module_version": "1.2.0",
            "_model_name": "LayoutModel",
            "_view_count": null,
            "_view_module": "@jupyter-widgets/base",
            "_view_module_version": "1.2.0",
            "_view_name": "LayoutView",
            "align_content": null,
            "align_items": null,
            "align_self": null,
            "border": null,
            "bottom": null,
            "display": null,
            "flex": null,
            "flex_flow": null,
            "grid_area": null,
            "grid_auto_columns": null,
            "grid_auto_flow": null,
            "grid_auto_rows": null,
            "grid_column": null,
            "grid_gap": null,
            "grid_row": null,
            "grid_template_areas": null,
            "grid_template_columns": null,
            "grid_template_rows": null,
            "height": null,
            "justify_content": null,
            "justify_items": null,
            "left": null,
            "margin": null,
            "max_height": null,
            "max_width": null,
            "min_height": null,
            "min_width": null,
            "object_fit": null,
            "object_position": null,
            "order": null,
            "overflow": null,
            "overflow_x": null,
            "overflow_y": null,
            "padding": null,
            "right": null,
            "top": null,
            "visibility": null,
            "width": null
          }
        },
        "ffee1d9bd2ea4363a911bf78176446f5": {
          "model_module": "@jupyter-widgets/controls",
          "model_module_version": "1.5.0",
          "model_name": "HTMLModel",
          "state": {
            "_dom_classes": [],
            "_model_module": "@jupyter-widgets/controls",
            "_model_module_version": "1.5.0",
            "_model_name": "HTMLModel",
            "_view_count": null,
            "_view_module": "@jupyter-widgets/controls",
            "_view_module_version": "1.5.0",
            "_view_name": "HTMLView",
            "description": "",
            "description_tooltip": null,
            "layout": "IPY_MODEL_9611bd52827f4b6787d43750c2f04075",
            "placeholder": "​",
            "style": "IPY_MODEL_7e8f5a02e5e54066965f4d6fb3db6f48",
            "value": " 2/2 [00:10&lt;00:00,  6.11s/it]"
          }
        }
      }
    }
  },
  "nbformat": 4,
  "nbformat_minor": 5
}
